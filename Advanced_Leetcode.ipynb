{
 "cells": [
  {
   "cell_type": "markdown",
   "metadata": {},
   "source": [
    "# Breadth-First Search\n"
   ]
  },
  {
   "cell_type": "markdown",
   "metadata": {},
   "source": [
    "## 279. Perfect Squares\n",
    "\n",
    "Given an integer n, return the least number of perfect square numbers that sum to n.\n",
    "\n",
    "A perfect square is an integer that is the square of an integer; in other words, it is the product of some integer with itself. For example, 1, 4, 9, and 16 are perfect squares while 3 and 11 are not.\n",
    "\n",
    "Example:\n",
    "```\n",
    "Input: n = 12\n",
    "Output: 3\n",
    "Explanation: 12 = 4 + 4 + 4.\n",
    "```\n",
    "\n"
   ]
  },
  {
   "cell_type": "markdown",
   "metadata": {},
   "source": [
    "### 自己想的\n",
    "\n",
    "沒有成功，只能拆解出其中一種，算是用遞迴吧"
   ]
  },
  {
   "cell_type": "code",
   "execution_count": 15,
   "metadata": {},
   "outputs": [
    {
     "name": "stdout",
     "output_type": "stream",
     "text": [
      "end\n"
     ]
    },
    {
     "data": {
      "text/plain": [
       "[3025, 36, 9]"
      ]
     },
     "execution_count": 15,
     "metadata": {},
     "output_type": "execute_result"
    }
   ],
   "source": [
    "import math\n",
    "num = 0\n",
    "\n",
    "# 這個方法只能拆解出其中一種，沒辦法算出最少可能性的～～～\n",
    "def decompose(n):\n",
    "    ss = []\n",
    "    i = math.floor(n**0.5)\n",
    "    k = n - i**2\n",
    "    if math.floor(k**0.5) == k**0.5:\n",
    "        ss.append(i**2)\n",
    "        ss.append(k)\n",
    "        print(f'end')\n",
    "    else:\n",
    "        ss.append(i**2)\n",
    "        ss.extend(decompose(k))\n",
    "        \n",
    "    return ss\n",
    "\n",
    "decompose(3070)\n",
    "    \n",
    "\n",
    "\n"
   ]
  },
  {
   "cell_type": "markdown",
   "metadata": {},
   "source": [
    "### 解法：Dynamic programming\n",
    "\n"
   ]
  },
  {
   "cell_type": "code",
   "execution_count": 21,
   "metadata": {},
   "outputs": [
    {
     "name": "stdout",
     "output_type": "stream",
     "text": [
      "[0, 1, 2, 3, 1, 2, 3, 4, 2, 1, 2, 3, 3, 2, 3, 4, 1, 2, 2, 3, 2, 3, 3, 4, 3, 1, 2, 3, 4, 2, 3]\n"
     ]
    },
    {
     "data": {
      "text/plain": [
       "3"
      ]
     },
     "execution_count": 21,
     "metadata": {},
     "output_type": "execute_result"
    }
   ],
   "source": [
    "from math import isqrt  # math.isqrt(n) >> get the floor value of exact square root of n \n",
    "    \n",
    "def numSquares(n: int, dp = [0]) -> int:\n",
    "\n",
    "    for k in range(len(dp), n+1):\n",
    "        if k == len(dp) : dp.append(k)\n",
    "        for i in range(1, isqrt(k)+1):\n",
    "            dp[k] = min(dp[k], 1 + dp[k - (i*i)])\n",
    "\n",
    "    print(dp)\n",
    "            \n",
    "    return dp[n]\n",
    "\n",
    "numSquares(30)"
   ]
  },
  {
   "cell_type": "markdown",
   "metadata": {},
   "source": [
    "### 解法：BFS\n",
    "\n"
   ]
  },
  {
   "cell_type": "code",
   "execution_count": 28,
   "metadata": {},
   "outputs": [
    {
     "name": "stdout",
     "output_type": "stream",
     "text": [
      "deque([(10, 2), (17, 2), (26, 2), (8, 2), (13, 2), (20, 2), (29, 2), (18, 2), (3, 3), (6, 3), (11, 3), (27, 3), (14, 3), (21, 3)])\n"
     ]
    },
    {
     "data": {
      "text/plain": [
       "3"
      ]
     },
     "execution_count": 28,
     "metadata": {},
     "output_type": "execute_result"
    }
   ],
   "source": [
    "from collections import deque\n",
    "\n",
    "def numSquares(n: int) -> int:\n",
    "        q=deque()\n",
    "        visited=set()\n",
    "        q.append((0,0))\n",
    "        while q:\n",
    "            s,count=q.popleft()\n",
    "            count+=1\n",
    "            for i in range(1,n+1):\n",
    "                temp=s+i*i\n",
    "                if temp>n:\n",
    "                    break\n",
    "                if temp==n:\n",
    "                    print(q)\n",
    "                    return count\n",
    "                if temp not in visited:\n",
    "                    visited.add(temp)\n",
    "                    q.append((temp,count))\n",
    "        \n",
    "        \n",
    "\n",
    "numSquares(30)"
   ]
  },
  {
   "cell_type": "markdown",
   "metadata": {},
   "source": [
    "## 1926. Nearest Exit from Entrance in Maze\n",
    "\n",
    "You are given an m x n matrix maze (0-indexed) with empty cells (represented as '.') and walls (represented as '+'). \n",
    "\n",
    "You are also given the entrance of the maze, where entrance = [entrance(row), entrance(col)] denotes the row and column of the cell you are initially standing at.\n",
    "\n",
    "In one step, you can move one cell up, down, left, or right. You cannot step into a cell with a wall, and you cannot step outside the maze. \n",
    "\n",
    "Your goal is to find the nearest exit from the entrance. An exit is defined as an empty cell that is at the border of the maze. The entrance does not count as an exit.\n",
    "\n",
    "Return the number of steps in the shortest path from the entrance to the nearest exit, or -1 if no such path exists.\n",
    "\n",
    "Example:\n",
    "\n",
    "> Input: maze = [[\"+\",\"+\",\".\",\"+\"],[\".\",\".\",\".\",\"+\"],[\"+\",\"+\",\"+\",\".\"]], entrance = [1,2]\n",
    ">\n",
    "> Output: 1\n",
    ">\n",
    "> Explanation: There are 3 exits in this maze at [1,0], [0,2], and [2,3].\n",
    "> Initially, you are at the entrance cell [1,2].\n",
    "> - You can reach [1,0] by moving 2 steps left.\n",
    "> - You can reach [0,2] by moving 1 step up.\n",
    "> - It is impossible to reach [2,3] from the entrance.\n",
    "> Thus, the nearest exit is [0,2], which is 1 step away.\n",
    ">  \n",
    ">"
   ]
  },
  {
   "cell_type": "markdown",
   "metadata": {},
   "source": [
    "### 解法：BFS\n"
   ]
  },
  {
   "cell_type": "code",
   "execution_count": 32,
   "metadata": {},
   "outputs": [
    {
     "data": {
      "text/plain": [
       "1"
      ]
     },
     "execution_count": 32,
     "metadata": {},
     "output_type": "execute_result"
    }
   ],
   "source": [
    "from collections import deque\n",
    "\n",
    "def nearestExit(maze: list, e: list) -> int:\n",
    "    \n",
    "    m, n = len(maze), len(maze[0])\n",
    "    x, y = e\n",
    "    \n",
    "    # this lambda checks the exit condition \n",
    "    is_exit = lambda i, j : i*j==0 or i==m-1 or j==n-1\n",
    "    \n",
    "    # this generator yields (!) allowed directions\n",
    "    def adj(i,j, dirs=[1, 0, -1, 0, 1]):\n",
    "        for d in range(4):\n",
    "            ii, jj = i + dirs[d], j + dirs[d+1]\n",
    "            if 0 <= ii < m and 0 <= jj < n and maze[ii][jj] != \"+\":\n",
    "                yield ii,jj\n",
    "        \n",
    "    dq = deque([(x,y,0)])                      # [1] start from the entrance...\n",
    "    maze[x][y] = '+'                           #     ...and mark it as visited\n",
    "    while dq:                                  # [2] while there are still places to go...\n",
    "        i, j, s = dq.popleft()                 #     ...try going there (don't try, do it!)\n",
    "        for ii,jj in adj(i,j):                 # [3] look around, make a step...\n",
    "            maze[ii][jj] = \"+\"                 #     ...and mark it as visited\n",
    "            if is_exit(ii,jj) : return s+1     # [4] great, it's the exit!\n",
    "            dq.append((ii,jj,s+1))             # [5] or maybe not, continue searching\n",
    "            \n",
    "    return -1                                  # [6] BFS failed, there is no escape\n",
    "\n",
    "\n",
    "maze = [[\"+\",\"+\",\".\",\"+\"],[\".\",\".\",\".\",\"+\"],[\"+\",\"+\",\"+\",\".\"]]\n",
    "e = [1,2]\n",
    "nearestExit(maze, e)"
   ]
  },
  {
   "cell_type": "markdown",
   "metadata": {},
   "source": [
    "## 785. Is Graph Bipartite?\n",
    "\n",
    "There is an undirected graph with n nodes, where each node is numbered between 0 and n - 1. You are given a 2D array graph, where graph[u] is an array of nodes that <br>node u is adjacent to. More formally, for each v in graph[u], there is an undirected edge between node u and node v. The graph has the following properties:\n",
    "\n",
    "- There are no self-edges (graph[u] does not contain u).\n",
    "- There are no parallel edges (graph[u] does not contain duplicate values).\n",
    "- If v is in graph[u], then u is in graph[v] (the graph is undirected).\n",
    "- The graph may not be connected, meaning there may be two nodes u and v such that there is no path between them.\n",
    "A graph is bipartite if the nodes can be partitioned into two independent sets A and B such that every edge in the graph connects a node in set A and a node in set B.\n",
    "\n",
    "Return true if and only if it is bipartite."
   ]
  },
  {
   "cell_type": "markdown",
   "metadata": {},
   "source": [
    "### 解法一 BFS\n",
    "\n",
    "利用BFS，相鄰的是不同group，如果有矛盾就return false"
   ]
  },
  {
   "cell_type": "code",
   "execution_count": null,
   "metadata": {},
   "outputs": [],
   "source": [
    "from collections import deque\n",
    "\n",
    "class Solution:\n",
    "    def isBipartite(self, graph: List[List[int]]) -> bool:\n",
    "\n",
    "        n = len(graph)\n",
    "        visited = [-1]*n  # 沒訪問過時是負一，訪問過後裡面就放group的號碼（0或1)\n",
    "\n",
    "        for i in range(n):\n",
    "            if visited[i] != -1:     # 如果節點已經訪問過了，就可跳過～沒訪問過的話，代表在另一個連通圖中\n",
    "                continue         \n",
    "\n",
    "            q = deque([[i,0]])  # [node,group] group分為0跟1兩組，不是在0就是在1\n",
    "\n",
    "            while q:\n",
    "                node = q[0][0]      # 取出節點\n",
    "                group = q[0][1]\n",
    "                q.popleft()\n",
    "                \n",
    "                for nex in graph[node]:  # 遍歷節點連通的對象\n",
    "                    if visited[nex] != -1:  # 已經訪問過了，有確定的group了\n",
    "                        if visited[nex] == group:  # 確定的group跟連通的node group相同，矛盾\n",
    "                            return False\n",
    "                    else:\n",
    "                        visited[nex] = 1-group\n",
    "                        q.append([nex, 1-group])\n",
    "        \n",
    "        return True"
   ]
  },
  {
   "cell_type": "markdown",
   "metadata": {},
   "source": [
    "## 886. Possible Bipartition\n",
    "\n",
    "We want to split a group of n people (labeled from 1 to n) into two groups of any size. Each person may dislike some other people, and they should not go into the same group.\n",
    "\n",
    "Given the integer n and the array dislikes where dislikes[i] = [ai, bi] indicates that the person labeled ai does not like the person labeled bi, return true if it is possible to split everyone into two groups in this way.\n",
    "\n",
    "Example:\n",
    "```\n",
    "Input: n = 4, dislikes = [[1,2],[1,3],[2,4]]\n",
    "Output: true\n",
    "Explanation: group1 [1,4] and group2 [2,3].\n",
    "```"
   ]
  },
  {
   "cell_type": "markdown",
   "metadata": {},
   "source": [
    "### 解法：BFS\n",
    "\n",
    "基本上和上面那題是類似題～～～但稍稍複雜一點，需要特別注意的是，因為dislikes pair中，兩個節點互相是沒方向性的，所以pair[0]，pair[1]都要各自做為key，這樣所有節點才會補全key\n",
    "\n",
    "然後要自己做一個dictionary，功能和上一題的graph一樣～～～"
   ]
  },
  {
   "cell_type": "code",
   "execution_count": null,
   "metadata": {},
   "outputs": [],
   "source": [
    "class Solution:\n",
    "    def possibleBipartition(self, n: int, dislikes: List[List[int]]) -> bool:\n",
    "       \n",
    "        if len(dislikes) == 0:\n",
    "            return True\n",
    "\n",
    "        visited = [-1]*(n+1)\n",
    "\n",
    "        dislike_dict = defaultdict(list)\n",
    "\n",
    "        for pair in dislikes:\n",
    "            dislike_dict[pair[0]].append(pair[1]) \n",
    "            dislike_dict[pair[1]].append(pair[0]) # 這裡很重要！因為這裡兩個互斥是沒有方向的～兩邊都要加，要不然可能會有節點沒有在key中\n",
    "\n",
    "        print(dislike_dict)\n",
    "\n",
    "        for i in range(1,n+1):   # 遍歷每個人\n",
    "            if visited[i] != -1:    # 訪問過的就跳過\n",
    "                continue\n",
    "            \n",
    "            q = deque([(i,0)])   # 將目前的人與group的tuple放到佇列\n",
    "\n",
    "            while q:\n",
    "                person = q[0][0]\n",
    "                group = q[0][1]\n",
    "                q.popleft()\n",
    "\n",
    "                for hate in dislike_dict[person]:\n",
    "                    if visited[hate] != -1:\n",
    "                        if visited[hate] == group:\n",
    "                            print(hate,person)\n",
    "                            return False\n",
    "                    else:\n",
    "                        visited[hate] = 1-group\n",
    "                        q.append((hate,1-group))\n",
    "        \n",
    "        return True"
   ]
  },
  {
   "cell_type": "markdown",
   "metadata": {},
   "source": [
    "# Depth-First Search"
   ]
  },
  {
   "cell_type": "markdown",
   "metadata": {},
   "source": [
    "## 841. Keys and Rooms\n",
    "\n",
    "There are n rooms labeled from 0 to n - 1 and all the rooms are locked except for room 0. Your goal is to visit all the rooms. However, you cannot enter a locked room without having its key.\n",
    "\n",
    "When you visit a room, you may find a set of distinct keys in it. Each key has a number on it, denoting which room it unlocks, and you can take all of them with you to unlock the other rooms.\n",
    "\n",
    "Given an array rooms where rooms[i] is the set of keys that you can obtain if you visited room i, return true if you can visit all the rooms, or false otherwise."
   ]
  },
  {
   "cell_type": "markdown",
   "metadata": {},
   "source": [
    "### 想法一 DFS\n",
    "\n",
    "從第一個房間深度走訪每個房間，然後把走到的位置記錄下來，最後比較走到的位置和整體房間的數量有沒有一樣，一樣的話代表全部都有走到。\n",
    "\n"
   ]
  },
  {
   "cell_type": "code",
   "execution_count": null,
   "metadata": {},
   "outputs": [],
   "source": [
    "class Solution:\n",
    "    def canVisitAllRooms(self, rooms: List[List[int]]) -> bool:\n",
    "        visited = {0}\n",
    "        room_dict = {i:v for i,v in enumerate(rooms)}\n",
    "        \n",
    "\n",
    "        def visit(room_nums):\n",
    "            for rn in room_nums:\n",
    "                if rn not in visited:\n",
    "                    visited.add(rn)\n",
    "                    visit(rooms[rn])\n",
    "\n",
    "        visit(rooms[0])\n",
    "\n",
    "        if len(visited) == len(rooms):\n",
    "            return True\n",
    "        else:\n",
    "            return False\n"
   ]
  },
  {
   "cell_type": "markdown",
   "metadata": {},
   "source": [
    "## 797. All Paths From Source to Target\n",
    "\n",
    "https://leetcode.com/problems/all-paths-from-source-to-target/description/\n",
    "\n",
    "Given a directed acyclic graph (DAG) of n nodes labeled from 0 to n - 1, find all possible paths from node 0 to node n - 1 and return them in any order.\n",
    "\n",
    "The graph is given as follows: graph[i] is a list of all nodes you can visit from node i (i.e., there is a directed edge from node i to node graph[i][j]).\n",
    "\n",
    "從起點到終點的所有可能路徑"
   ]
  },
  {
   "cell_type": "markdown",
   "metadata": {},
   "source": [
    "### 想法：DFS\n",
    "\n",
    "但不用記錄走過的點～～～這題不難，該複習了！！"
   ]
  },
  {
   "cell_type": "code",
   "execution_count": null,
   "metadata": {},
   "outputs": [],
   "source": [
    "class Solution:\n",
    "    def allPathsSourceTarget(self, graph: List[List[int]]) -> List[List[int]]:\n",
    "    \n",
    "        def dfs(cur,path):\n",
    "            if cur == len(graph)-1:\n",
    "                res.append(path)\n",
    "                return path\n",
    "            for i in graph[cur]:\n",
    "                dfs(i,path + [i])\n",
    "                    \n",
    "        \n",
    "        res = []\n",
    "        dfs(0,[0])\n",
    "        \n",
    "        return res"
   ]
  },
  {
   "cell_type": "markdown",
   "metadata": {},
   "source": [
    "## 90. Subsets II  （未完成）\n",
    "\n",
    "Given an integer array nums that may contain duplicates, return all possible subsets(the power set).\n",
    "\n",
    "The solution set must not contain duplicate subsets. Return the solution in any order."
   ]
  },
  {
   "cell_type": "markdown",
   "metadata": {},
   "source": [
    "### 想法\n",
    "這題原本想成是subarray，後來發現是subset，要用到recursion的概念，算是DFS題，但要解決重複計算問題<br>\n",
    "可以參考官神：https://github.com/wisdompeak/LeetCode/blob/master/DFS/090.Subsets-II/090.Subsets-II.cpp\n",
    "但我不知道為何照寫還寫不出來～～～要再看一下～～～"
   ]
  },
  {
   "cell_type": "code",
   "execution_count": null,
   "metadata": {},
   "outputs": [],
   "source": [
    "# Wrong Answer\n",
    "# https://leetcode.com/problems/subsets-ii/\n",
    "\n",
    "class Solution:\n",
    "    def subsetsWithDup(self, nums: List[int]) -> List[List[int]]:\n",
    "        \n",
    "\n",
    "        def dfs(nums, cur, temp, res):\n",
    "            if cur == len(nums):\n",
    "                return\n",
    "            for i in range(cur,len(nums)):\n",
    "                if i >= 1 and nums[i] == nums[i-1] and visit[i-1]==0:\n",
    "                    continue\n",
    "                visit[i] = 1\n",
    "                temp.append(nums[i])\n",
    "       \n",
    "                dfs(nums,i+1,temp, res+[temp])\n",
    "                temp.pop()\n",
    "                visit[i] = 0\n",
    "\n",
    "        visit = [0 for _ in range(len(nums))]\n",
    "        temp = []\n",
    "        res = []\n",
    "        res.append([])\n",
    "        nums.sort()\n",
    "        dfs(nums, 0, temp)\n",
    "\n",
    "        return res"
   ]
  },
  {
   "cell_type": "markdown",
   "metadata": {},
   "source": [
    "# Union Find"
   ]
  },
  {
   "cell_type": "markdown",
   "metadata": {},
   "source": [
    "## 947. Most Stones Removed with Same Row or Column\n",
    "\n",
    "On a 2D plane, we place n stones at some integer coordinate points. Each coordinate point may have at most one stone.\n",
    "\n",
    "A stone can be removed if it shares either the same row or the same column as another stone that has not been removed.\n",
    "\n",
    "Given an array stones of length n where stones[i] = [xi, yi] represents the location of the ith stone, return the largest possible number of stones that can be removed.\n",
    "\n",
    "Leetcode Link : https://leetcode.com/problems/most-stones-removed-with-same-row-or-column/"
   ]
  },
  {
   "cell_type": "markdown",
   "metadata": {},
   "source": [
    "### 自己想的\n",
    "\n",
    "但因為判斷要從哪個先刪除僅以每行每列所含的石頭數量判斷，如果刪錯順序就找不到最大刪除石頭數，所以一些比較複雜的case容易失敗QQ\n",
    "我想了一整天...哭哭"
   ]
  },
  {
   "cell_type": "code",
   "execution_count": null,
   "metadata": {},
   "outputs": [],
   "source": [
    "from collections import Counter\n",
    "stones = [[0,0],[0,2],[1,1],[2,0],[2,2]]\n",
    "row_count = Counter(list(map(lambda x: x[0], stones)))\n",
    "col_count = Counter(list(map(lambda x: x[1], stones)))\n",
    "del_num = 0\n",
    "ss = sorted(stones, key=lambda x: min(row_count[x[0]], col_count[x[1]]))\n",
    "sss = list(map(lambda x:(row_count[x[0]], col_count[x[1]]), ss))\n",
    "print(ss)\n",
    "print(sss)\n",
    "i=0\n",
    "while any(list(map(lambda x: x >1 ,row_count.values()))) and any(list(map(lambda x: x >1 ,col_count.values()))) :\n",
    "\n",
    "    print(i)\n",
    "    \n",
    "    if row_count[ss[i][0]] == 1 and col_count[ss[i][1]] == 1:\n",
    "        i += 1\n",
    "        print('keep')\n",
    "\n",
    "    elif row_count[ss[i][0]] == 1 or col_count[ss[i][1]] == 1:\n",
    "        row_count[ss[i][0]] -= 1\n",
    "        col_count[ss[i][1]] -= 1\n",
    "        del_num += 1\n",
    "        stones.remove(ss[i])\n",
    "        i += 1\n",
    "        \n",
    "    else:\n",
    "        ss = sorted(stones, key=lambda x: min(row_count[x[0]], col_count[x[1]]))\n",
    "        print(ss)\n",
    "        print(list(map(lambda x:(row_count[x[0]], col_count[x[1]]), ss)))\n",
    "        \n",
    "        if row_count[ss[i][0]] == 1 and col_count[ss[i][1]] == 1:\n",
    "            i += 1\n",
    "        else:\n",
    "            row_count[ss[i][0]] -= 1\n",
    "            col_count[ss[i][1]] -= 1\n",
    "            del_num += 1\n",
    "            stones.remove(ss[i])\n",
    "            i += 1\n",
    "\n",
    "\n",
    "del_num"
   ]
  },
  {
   "cell_type": "markdown",
   "metadata": {},
   "source": [
    "## 1971. Find if Path Exists in Graph\n",
    "\n",
    "There is a bi-directional graph with n vertices, where each vertex is labeled from 0 to n - 1 (inclusive). The edges in the graph are represented as a 2D integer array edges, where each edges[i] = [ui, vi] denotes a bi-directional edge between vertex ui and vertex vi. Every vertex pair is connected by at most one edge, and no vertex has an edge to itself.\n",
    "\n",
    "You want to determine if there is a valid path that exists from vertex source to vertex destination.\n",
    "\n",
    "Given edges and the integers n, source, and destination, return true if there is a valid path from source to destination, or false otherwise."
   ]
  },
  {
   "cell_type": "markdown",
   "metadata": {},
   "source": [
    "### 解法一：Union Find\n",
    "\n",
    "這其他人寫的，我還沒研究QQ 然後這題是easy QQ"
   ]
  },
  {
   "cell_type": "code",
   "execution_count": null,
   "metadata": {},
   "outputs": [],
   "source": [
    "def validPath(self, n: int, edges: List[List[int]], start: int, end: int) -> bool:\n",
    "        '''\n",
    "        We cannot simply check if\n",
    "        root of start == root of end\n",
    "        because when we connect 2 different\n",
    "        graphs (for example, each has 4 nodes),\n",
    "        then we change the root of the connecting\n",
    "        node, but others are left untouched.\n",
    "        \n",
    "        '''\n",
    "        graph = UnionFind(n)\n",
    "\n",
    "        for e1, e2 in edges:\n",
    "            graph.union(e1, e2)\n",
    "    \n",
    "        root1 = graph.find(start)\n",
    "        root2 = graph.find(end)\n",
    "\n",
    "        return root1 == root2\n",
    "\n",
    "\n",
    "class UnionFind:\n",
    "    def __init__(self, size):\n",
    "        self.root = [i for i in range(size)]\n",
    "        self.rank = [1 for _ in range(size)]\n",
    "\n",
    "    def find(self, vert):\n",
    "        if self.root[vert] == vert:\n",
    "            return vert\n",
    "        self.root[vert] = self.find(self.root[vert])\n",
    "        return self.root[vert]\n",
    "\n",
    "    def union(self, v1, v2):\n",
    "        r1 = self.find(v1)\n",
    "        r2 = self.find(v2)\n",
    "        if r1 != r2:\n",
    "            if self.rank[r1] > self.rank[r2]:\n",
    "                self.root[r2] = r1\n",
    "            elif self.rank[r1] < self.rank[r2]:\n",
    "                self.root[r1] = r2\n",
    "            else:\n",
    "                self.root[r2] = r1\n",
    "                self.rank[r1] += 1"
   ]
  },
  {
   "cell_type": "markdown",
   "metadata": {},
   "source": [
    "### 解法二：BFS"
   ]
  },
  {
   "cell_type": "code",
   "execution_count": null,
   "metadata": {},
   "outputs": [],
   "source": [
    "class Solution:\n",
    "    def validPath(self, n: int, edges: List[List[int]], start: int, end: int) -> bool:\n",
    "        queue = [start]\n",
    "        graph = {}\n",
    "        for vertex in range(n):\n",
    "            graph[vertex] = []\n",
    "        \n",
    "        for v1, v2 in edges:\n",
    "            graph[v1].append(v2)\n",
    "            graph[v2].append(v1)\n",
    "        \n",
    "        visited = {start}\n",
    "        \n",
    "        while len(queue) != 0:\n",
    "            node = queue.pop(0)\n",
    "            if node == end:\n",
    "                return True\n",
    "            \n",
    "            for vertex in graph[node]:\n",
    "                if vertex not in visited:\n",
    "                    visited.add(vertex)\n",
    "                    queue.append(vertex)\n",
    "        \n",
    "        return False"
   ]
  },
  {
   "cell_type": "markdown",
   "metadata": {},
   "source": [
    "### 解法三：DFS"
   ]
  },
  {
   "cell_type": "code",
   "execution_count": null,
   "metadata": {},
   "outputs": [],
   "source": [
    "class Solution:\n",
    "    def validPath(self, n: int, edges: List[List[int]], start: int, end: int) -> bool:\n",
    "        if start == end:\n",
    "            return True\n",
    "        \n",
    "        graph = {}\n",
    "        for vertex in range(n):\n",
    "            graph[vertex] = []\n",
    "        \n",
    "        for e1, e2 in edges:\n",
    "            graph[e1].append(e2)\n",
    "            graph[e2].append(e1)\n",
    "        \n",
    "        visited = {start}\n",
    "        \n",
    "        for edge in graph[start]:\n",
    "            if edge not in visited:\n",
    "                result = self.dfs(edge, visited, graph, end)\n",
    "                if result:\n",
    "                    return True\n",
    "        \n",
    "        return False\n",
    "    \n",
    "    def dfs(self, node, visited, graph, end):\n",
    "        if node == end:\n",
    "            return True\n",
    "        \n",
    "        if node not in visited:\n",
    "            visited.add(node)\n",
    "            for edge in graph[node]:\n",
    "                result = self.dfs(edge, visited, graph, end)\n",
    "                if result:\n",
    "                    return True"
   ]
  },
  {
   "cell_type": "markdown",
   "metadata": {},
   "source": [
    "# Bisection Search"
   ]
  },
  {
   "cell_type": "markdown",
   "metadata": {},
   "source": [
    "## 374. Guess Number Higher or Lower\n",
    "\n",
    "We are playing the Guess Game. The game is as follows:\n",
    "\n",
    "I pick a number from 1 to n. You have to guess which number I picked.\n",
    "\n",
    "Every time you guess wrong, I will tell you whether the number I picked is higher or lower than your guess.\n",
    "\n",
    "You call a pre-defined API int guess(int num), which returns three possible results:\n",
    "```\n",
    "-1: Your guess is higher than the number I picked (i.e. num > pick).\n",
    "1: Your guess is lower than the number I picked (i.e. num < pick).\n",
    "0: your guess is equal to the number I picked (i.e. num == pick).\n",
    "```\n",
    "Return the number that I picked."
   ]
  },
  {
   "cell_type": "markdown",
   "metadata": {},
   "source": [
    "### 想法\n",
    "\n",
    "二元樹搜尋的題目，需要注意的是，當mid不等於pick並且要把左右指標移來時，應該要shift一位，免得無限迴圈發生（pick剛好在右邊界上，mid會無限對應不到）"
   ]
  },
  {
   "cell_type": "code",
   "execution_count": null,
   "metadata": {},
   "outputs": [],
   "source": [
    "def guess(num, pick=6):\n",
    "\n",
    "    if num > pick:\n",
    "        return -1\n",
    "    elif num < pick:\n",
    "        return 1\n",
    "    else:\n",
    "        return 0\n",
    "\n",
    "def guessNumber(n: int) -> int:\n",
    "    left = 1\n",
    "    right = n\n",
    "    mid = (n + 1) // 2\n",
    "    print(mid)\n",
    "    while guess(mid) != 0:\n",
    "        if guess(mid) == -1:\n",
    "            right = mid - 1\n",
    "            mid = (left + right) // 2\n",
    "        else:\n",
    "            left = mid + 1\n",
    "            mid = (left + right) // 2\n",
    "        print(mid)\n",
    "\n",
    "    return mid\n",
    "\n",
    "\n",
    "# 正式的二元樹解法(左閉合+右閉合，即Pick可能在left上或right上)\n",
    "def guessNumber_2(n: int) -> int:\n",
    "    left = 1\n",
    "    right = n\n",
    "    while left <= right:\n",
    "        mid = left + (right - left) // 2 #防止 left+right/2 溢位 \n",
    "        if guess(mid) == -1:  \n",
    "            right = mid - 1\n",
    "        elif guess(mid) == 1:\n",
    "            left = mid + 1\n",
    "        else:\n",
    "            return mid"
   ]
  },
  {
   "cell_type": "markdown",
   "metadata": {},
   "source": [
    "## 33. Search in Rotated Sorted Array\n",
    "\n",
    "There is an integer array nums sorted in ascending order (with distinct values).\n",
    "\n",
    "Prior to being passed to your function, nums is possibly rotated at an unknown pivot index k (1 <= k < nums.length) such that the resulting array is [nums[k], nums[k+1], ..., nums[n-1], nums[0], nums[1], ..., nums[k-1]] (0-indexed). For example, [0,1,2,4,5,6,7] might be rotated at pivot index 3 and become [4,5,6,7,0,1,2].\n",
    "\n",
    "Given the array nums after the possible rotation and an integer target, return the index of target if it is in nums, or -1 if it is not in nums.\n",
    "\n",
    "You must write an algorithm with O(log n) runtime complexity.\n",
    "\n",
    "```\n",
    "Input: nums = [4,5,6,7,0,1,2], target = 0\n",
    "Output: 4\n",
    "\n",
    "```"
   ]
  },
  {
   "cell_type": "markdown",
   "metadata": {},
   "source": [
    "### 想法一\n",
    "\n",
    "這題不難，分在medium，就是題目很難懂(????) 一樣是用二分法找，時間複雜度就是log n，但這是要在list已排序的前提，所以要多一個找k值的動作<br>\n",
    "我是先找出最小值，然後for loop找最小值在哪個index，那個index就是k，有找到就break...但這感覺時間複雜度在最差情況會超過...<br>\n",
    "順道一題，在leetcode以外的世界裡，用nums.index(target)就好～～～～"
   ]
  },
  {
   "cell_type": "code",
   "execution_count": null,
   "metadata": {},
   "outputs": [],
   "source": [
    "class Solution:\n",
    "    def search(self, nums: List[int], target: int) -> int:\n",
    "\n",
    "        # 先排序，再來用binary search找出target值，再把index加k\n",
    "        # 怎麼找k，看什麼時候碰到最小值...但就可能會到O(n)??\n",
    "        # 二分法時常忘記，再自己注意！\n",
    "\n",
    "        minn = min(nums)\n",
    "        for i in range(len(nums)):\n",
    "            if nums[i] == minn:\n",
    "                k = i\n",
    "                break\n",
    "\n",
    "        nums.sort()\n",
    "        li = 0\n",
    "        ri = len(nums)-1\n",
    "        while li <= ri:\n",
    "            mi = li + (ri-li)//2\n",
    "            if nums[mi] > target:\n",
    "                ri = mi-1\n",
    "               \n",
    "            elif nums[mi] < target:\n",
    "                li = mi+1\n",
    "            else:\n",
    "                return (mi+k) % len(nums)\n",
    "\n",
    "        return -1\n",
    "        "
   ]
  },
  {
   "cell_type": "markdown",
   "metadata": {},
   "source": [
    "# Backtracking"
   ]
  },
  {
   "cell_type": "markdown",
   "metadata": {},
   "source": [
    "## 79. Word Search\n",
    "\n",
    "Given an m x n grid of characters board and a string word, return true if word exists in the grid.\n",
    "\n",
    "The word can be constructed from letters of sequentially adjacent cells, where adjacent cells are horizontally or vertically neighboring. \n",
    "\n",
    "The same letter cell may not be used more than once.\n",
    "\n",
    "Example：\n",
    "```\n",
    "Input: board = [[\"A\",\"B\",\"C\",\"E\"],[\"S\",\"F\",\"C\",\"S\"],[\"A\",\"D\",\"E\",\"E\"]], word = \"ABCCED\"\n",
    "Output: true\n",
    "\n",
    "```"
   ]
  },
  {
   "cell_type": "markdown",
   "metadata": {},
   "source": [
    "### 解法：Backtracking"
   ]
  },
  {
   "cell_type": "code",
   "execution_count": 35,
   "metadata": {},
   "outputs": [],
   "source": [
    "\n",
    "def exist(board: list, word: str) -> bool:\n",
    "    \n",
    "    directions = [[0,1],[1,0],[0,-1],[-1,0]]   # 上下左右的方向\n",
    "    m,n = len(board),len(board[0])             # 列數跟行數\n",
    "    \n",
    "    def backtrack(i,j,k,visited):  # 判斷有沒有下一步\n",
    "        \n",
    "        if board[i][j] == word[k]:   # 目前位置有比對成功，代表能找到下一步           \n",
    "            if k==len(word)-1:       # 當k已經是word最後一個index時，代表全部比對完成，回傳正確\n",
    "                return True\n",
    "            \n",
    "            for xn,yn in directions:\n",
    "                x,y = i+xn,j+yn      # 走完下一步時的位置\n",
    "                if 0<=x<m and 0<=y<n and (x,y) not in visited:             # 當下一步的位置在合理範圍內\n",
    "                    if backtrack(x,y,k+1,visited.union({(x,y)}))==True:    # 比對下一步：用union合併集合，放查找過的位置，x, y不可超出範圍，是下一步的位置，k+1是比對下一個字母\n",
    "                        return True                                        # 當下一步開始能走到最後，return True\n",
    "        \n",
    "        return False  # 當符合下一步條件的位置都無法走到最後，才return False\n",
    "    \n",
    "    # 查找board上每一個位置，看每個位置出發後能不能走到最後\n",
    "    for i in range(m):\n",
    "        for j in range(n):\n",
    "            if backtrack(i,j,0,{(i,j)}):  # 當確定找到後，就return True\n",
    "                return True\n",
    "    return False                          # 每一個都找完確定都沒有，才return False"
   ]
  },
  {
   "cell_type": "code",
   "execution_count": 36,
   "metadata": {},
   "outputs": [
    {
     "data": {
      "text/plain": [
       "True"
      ]
     },
     "execution_count": 36,
     "metadata": {},
     "output_type": "execute_result"
    }
   ],
   "source": [
    "board = [[\"A\",\"B\",\"C\",\"E\"],[\"S\",\"F\",\"C\",\"S\"],[\"A\",\"D\",\"E\",\"E\"]]\n",
    "word = \"ABCCED\"\n",
    "exist(board, word)"
   ]
  },
  {
   "cell_type": "markdown",
   "metadata": {},
   "source": [
    "## 22. Generate Parentheses\n",
    "\n",
    "Given n pairs of parentheses, write a function to generate all combinations of well-formed parentheses.\n",
    "\n",
    "Example 1:\n",
    "```\n",
    "Input: n = 3\n",
    "Output: [\"((()))\",\"(()())\",\"(())()\",\"()(())\",\"()()()\"]\n",
    "\n",
    "```"
   ]
  },
  {
   "cell_type": "markdown",
   "metadata": {},
   "source": [
    "### 解法：Backtracking\n",
    "\n",
    "1. ')'只在valid'('之後才有\n",
    "2. 我們使用left, right分別代表有幾個左括號與右括號要放\n",
    "3. 如果左括號 < n，代表還有左括號要放進去\n",
    "4. 如果right < left，代表還有右括號要放進去\n",
    "```\n",
    "\t\t\t\t\t\t\t\t   \t(0, 0, '')\n",
    "\t\t\t\t\t\t\t\t \t    |\t\n",
    "\t\t\t\t\t\t\t\t\t(1, 0, '(')  \n",
    "\t\t\t\t\t\t\t\t   /           \\\n",
    "\t\t\t\t\t\t\t(2, 0, '((')      (1, 1, '()')\n",
    "\t\t\t\t\t\t\t   /                 \\\n",
    "\t\t\t\t\t\t(2, 1, '(()')           (2, 1, '()(')\n",
    "\t\t\t\t\t\t   /                       \\\n",
    "\t\t\t\t\t(2, 2, '(())')                (2, 2, '()()')\n",
    "\t\t\t\t\t\t      |\t                             |\n",
    "\t\t\t\t\tres.append('(())')             res.append('()()')\n",
    "\n",
    "```\n",
    "\n"
   ]
  },
  {
   "cell_type": "code",
   "execution_count": 2,
   "metadata": {},
   "outputs": [],
   "source": [
    "\n",
    "def generateParenthesis(n: int) -> list:\n",
    "    \n",
    "    def dfs(left, right, s):\n",
    "        if len(s) == n * 2:   # 當長度加到預定長度，就可以把s回傳了\n",
    "            res.append(s)\n",
    "            return \n",
    "\n",
    "        if left < n:         # 左括號不夠，加一個左括號\n",
    "            dfs(left + 1, right, s + '(')\n",
    "\n",
    "        if right < left:     # 右括號不夠，加一個右括號\n",
    "            dfs(left, right + 1, s + ')')\n",
    "\n",
    "\n",
    "    res = []\n",
    "    dfs(0, 0, '')\n",
    "\n",
    "\t\n",
    "    return res\n",
    "    \n",
    "  "
   ]
  },
  {
   "cell_type": "markdown",
   "metadata": {},
   "source": [
    "## 46. Permutations\n",
    "\n",
    "Given an array nums of distinct integers, return all the possible permutations. You can return the answer in any order."
   ]
  },
  {
   "cell_type": "markdown",
   "metadata": {},
   "source": [
    "### 想法：\n",
    "\n",
    "自己雖然一開始就有大概想法，但path那個參數一直放成value（arr[i])!!所以一直鬼打牆很久QQ\n",
    "\n",
    "後來還是有參考別人的QQ 關鍵是那個path直接變成一個遞推的參數，就可以把每層for loop到的value記錄下來！！\n",
    "\n",
    "最後走到尾巴時，只要append這個參數進來即可！因為這個path已經有記錄到路上的內容了～～～"
   ]
  },
  {
   "cell_type": "code",
   "execution_count": null,
   "metadata": {},
   "outputs": [],
   "source": [
    "class Solution:\n",
    "    def permute(self, nums: List[int]) -> List[List[int]]:\n",
    "\n",
    "        def helper(arr,path):\n",
    "\n",
    "            if len(arr) == 0:\n",
    "                res.append(path)\n",
    "                return \n",
    "            \n",
    "            for i in range(len(arr)):\n",
    "                helper(arr[:i] + arr[i+1:],[arr[i]] + path)\n",
    "                \n",
    "        res = []\n",
    "        helper(nums,[])\n",
    "\n",
    "        return res"
   ]
  },
  {
   "cell_type": "markdown",
   "metadata": {},
   "source": [
    "## 39. Combination Sum\n",
    "\n",
    "Given an array of distinct integers candidates and a target integer target, return a list of all unique combinations of candidates where the chosen numbers sum to target. You may return the combinations in any order.\n",
    "\n",
    "The same number may be chosen from candidates an unlimited number of times. Two combinations are unique if the frequency of at least one of the chosen numbers is different.\n",
    "\n",
    "The test cases are generated such that the number of unique combinations that sum up to target is less than 150 combinations for the given input.\n",
    "\n"
   ]
  },
  {
   "cell_type": "markdown",
   "metadata": {},
   "source": [
    "### 想法\n",
    "\n",
    "一直對target減去candidates中出現的數字，直到target被減到等於0，然後就可以把中間減過的數的path回傳～～\n",
    "但這個寫法，可能因為要轉換tuple，時間很慢，應該還能優化（？）"
   ]
  },
  {
   "cell_type": "code",
   "execution_count": null,
   "metadata": {},
   "outputs": [],
   "source": [
    "\n",
    "class Solution:\n",
    "    def combinationSum(self, candidates: List[int], target: int) -> List[List[int]]:\n",
    "        \n",
    "        \n",
    "        def minus(target, path):\n",
    "            if target == 0:\n",
    "                path.sort()\n",
    "                res.add(tuple(path))\n",
    "                return\n",
    "            if target < 0:\n",
    "                return\n",
    "\n",
    "            for i in candidates:\n",
    "                minus(target-i, path + [i])\n",
    "\n",
    "        \n",
    "        res = set()\n",
    "        minus(target,[])            \n",
    "        return list(map(list,list(res)))\n"
   ]
  },
  {
   "cell_type": "markdown",
   "metadata": {},
   "source": [
    "## 40. Combination Sum II\n",
    "\n",
    "Given a collection of candidate numbers (candidates) and a target number (target), find all unique combinations in candidates where the candidate numbers sum to target.\n",
    "\n",
    "Each number in candidates may only be used once in the combination.\n",
    "\n",
    "Note: The solution set must not contain duplicate combinations.\n",
    "\n",
    "跟上題差在只能使用一次candidates中的數"
   ]
  },
  {
   "cell_type": "markdown",
   "metadata": {},
   "source": [
    "### 想法\n",
    "\n",
    "寫法基本上差不多，差在迴圈之中，每次array會扣掉已經加入過的數"
   ]
  },
  {
   "cell_type": "code",
   "execution_count": null,
   "metadata": {},
   "outputs": [],
   "source": [
    "class Solution:\n",
    "    def combinationSum2(self, candidates: List[int], target: int) -> List[List[int]]:\n",
    "\n",
    "\n",
    "        def minus(candidates, target, path):\n",
    "\n",
    "            if target == 0 :\n",
    "                path.sort()\n",
    "                res.add(tuple(path))\n",
    "                return\n",
    "\n",
    "            if target < 0:\n",
    "                return\n",
    "\n",
    "            candidates.sort()   \n",
    "            for i in range(len(candidates)):\n",
    "                if i >=1 and candidates[i] == candidates[i-1]:\n",
    "                    continue\n",
    "                candidates_remove_i = candidates[:i] + candidates[(i+1):]\n",
    "                minus(candidates_remove_i, target-candidates[i], path + [candidates[i]])\n",
    "        \n",
    "        res = set()\n",
    "        minus(candidates, target, [])\n",
    "\n",
    "        return list(map(list,list(res)))"
   ]
  },
  {
   "cell_type": "markdown",
   "metadata": {},
   "source": [
    "# Recursion"
   ]
  },
  {
   "cell_type": "markdown",
   "metadata": {},
   "source": [
    "## 38. Count and Say\n",
    "\n",
    "The count-and-say sequence is a sequence of digit strings defined by the recursive formula:\n",
    "countAndSay(1) = \"1\"<br>\n",
    "countAndSay(n) is the way you would \"say\" the digit string from countAndSay(n-1), which is then converted into a different digit string.<br>\n",
    "To determine how you \"say\" a digit string, split it into the minimal number of substrings such that each substring contains exactly one unique digit.<br>\n",
    "Then for each substring, say the number of digits, then say the digit. Finally, concatenate every said digit.<br>\n",
    "\n",
    "For example：\n",
    "```\n",
    "Input: n = 4\n",
    "Output: \"1211\"\n",
    "Explanation:\n",
    "countAndSay(1) = \"1\"\n",
    "countAndSay(2) = say \"1\" = one 1 = \"11\"\n",
    "countAndSay(3) = say \"11\" = two 1's = \"21\"\n",
    "countAndSay(4) = say \"21\" = one 2 + one 1 = \"12\" + \"11\" = \"1211\"\n",
    "```\n",
    "\n",
    "https://leetcode.com/problems/count-and-say/description/\n",
    "\n"
   ]
  },
  {
   "cell_type": "markdown",
   "metadata": {},
   "source": [
    "### 想法一\n",
    "\n",
    "這題題目有點複雜，但是是很單純的遞迴題！由子結果慢慢推至現在結果～\n",
    "\n",
    "但中間處理過程再調用一個函式～"
   ]
  },
  {
   "cell_type": "code",
   "execution_count": null,
   "metadata": {},
   "outputs": [],
   "source": [
    "class Solution:\n",
    "    def countAndSay(self, n: int) -> str:\n",
    "\n",
    "\n",
    "        def say(s):\n",
    "\n",
    "            a = s[0]\n",
    "            count = 1\n",
    "            res = []\n",
    "            for i in s[1:]:\n",
    "                if i == a:\n",
    "                    count += 1\n",
    "                else:\n",
    "                    res.extend([str(count), a])\n",
    "                    a = i\n",
    "                    count = 1\n",
    "            \n",
    "            res.extend([str(count), a]) # 這裡要注意，最後一組連續數字不會被res記錄到，要自己加上去！\n",
    "\n",
    "            return ''.join(res)\n",
    "\n",
    "        \n",
    "        def recursion(n):\n",
    "            if n == 1:\n",
    "                return '1'\n",
    "            return say(recursion(n-1))\n",
    "\n",
    "        \n",
    "        return recursion(n)"
   ]
  },
  {
   "cell_type": "markdown",
   "metadata": {},
   "source": [
    "## 50. Pow(x, n)\n",
    "\n",
    "Implement pow(x, n), which calculates x raised to the power n (i.e., xn)."
   ]
  },
  {
   "cell_type": "markdown",
   "metadata": {},
   "source": [
    "### 想法\n",
    "\n",
    "這題是觀念題，考recursion的stack overflow的問題，所以限制條件的數設非常大：\n",
    "\n",
    "\n",
    "Constraints:\n",
    "- -100.0 < x < 100.0\n",
    "- -2^31 <= n <= 2^31-1\n",
    "- n is an integer.\n",
    "- -104 <= xn <= 104\n",
    "\n",
    "單純使用一般的n-1遞迴法： return pow(x,n-1)*x <br>\n",
    "在n超級大的時候就會爆掉了～～（stack呼叫n次）<br>\n",
    "但當把遞迴參數改為n//2，stack只呼叫log(n)次！log底數為2～～～<br>\n",
    "這個時候呼叫的stack就不會亂溢出了！"
   ]
  },
  {
   "cell_type": "code",
   "execution_count": null,
   "metadata": {},
   "outputs": [],
   "source": [
    "# 不會爆掉的寫法～～～\n",
    "class Solution:\n",
    "    def myPow(self, x: float, n: int) -> float:\n",
    "\n",
    "        if x == 0:\n",
    "            return 0\n",
    "\n",
    "        def pow(x,n):\n",
    "            if n == 0:\n",
    "                return 1\n",
    "            if n % 2 == 0:\n",
    "                return pow(x*x, n//2)\n",
    "            else:\n",
    "                return x * pow(x*x, n//2)\n",
    "            \n",
    "        if n > 0:\n",
    "            return pow(x,n)\n",
    "        elif n < 0:\n",
    "            return 1/pow(x,-n)\n",
    "        else:\n",
    "            return 1\n",
    "\n",
    "\n",
    "# 其實class中的函數加上self的話就能直接呼叫自己～～不用又在裡面再加一個函式～～～我一直忘記能這樣\n",
    "class Solution:\n",
    "    def myPow(self, x: float, n: int) -> float:\n",
    "\n",
    "        if n == 0:\n",
    "            return 1\n",
    "        if n < 0:\n",
    "            return 1/self.myPow(x, -n)\n",
    "    \n",
    "        \n",
    "        return self.myPow(x*x, n//2) if n % 2 == 0 else x * self.myPow(x*x, n//2)\n",
    "\n",
    "\n",
    "# 補一個爆掉的寫法，記得避免！\n",
    "\n",
    "class Solution:\n",
    "    def myPow(self, x: float, n: int) -> float:\n",
    "\n",
    "        if n == 0:\n",
    "            return 1\n",
    "        if n == 1:\n",
    "            return x\n",
    "        if n < 0:\n",
    "            return 1/self.myPow(x, -n)\n",
    "    \n",
    "        return x * self.myPow(x,n-1)\n",
    "\n"
   ]
  },
  {
   "cell_type": "markdown",
   "metadata": {},
   "source": [
    "## 2571. Minimum Operations to Reduce an Integer to 0\n",
    "\n",
    "You are given a positive integer n, you can do the following operation any number of times:\n",
    "\n",
    "Add or subtract a power of 2 from n.\n",
    "Return the minimum number of operations to make n equal to 0.\n",
    "\n",
    "A number x is power of 2 if x == 2i where i >= 0.\n",
    "\n",
    "```\n",
    "Input: n = 39\n",
    "Output: 3\n",
    "Explanation: We can do the following operations:\n",
    "- Add 20 = 1 to n, so now n = 40.\n",
    "- Subtract 23 = 8 from n, so now n = 32.\n",
    "- Subtract 25 = 32 from n, so now n = 0.\n",
    "It can be shown that 3 is the minimum number of operations we need to make n equal to 0.\n",
    "\n",
    "```"
   ]
  },
  {
   "cell_type": "markdown",
   "metadata": {},
   "source": [
    "### 想法一\n",
    "\n",
    "遞歸找出最靠近n的2的n次方，然後當那個差值本身就是2的n次方，就回傳次數\n",
    "\n",
    "分在easy但我想一陣子的題目QQ  最近把recursion忘光光了嗚嗚"
   ]
  },
  {
   "cell_type": "code",
   "execution_count": null,
   "metadata": {},
   "outputs": [],
   "source": [
    "class Solution:\n",
    "    def minOperations(self, n: int) -> int:\n",
    "        \n",
    "            \n",
    "        def op_times(inp,op):\n",
    "            \n",
    "            if inp == 0:\n",
    "                return op\n",
    "        \n",
    "            i = math.log2(inp)\n",
    "        \n",
    "            if isinstance(i,int):\n",
    "                return op\n",
    "            else:    \n",
    "                i = math.floor(i)\n",
    "                nearest = min(abs(inp - 2**i), abs(inp - 2**(i+1)))\n",
    "                op += 1\n",
    "                return op_times(nearest, op) \n",
    "\n",
    "        return op_times(n,0)"
   ]
  },
  {
   "cell_type": "code",
   "execution_count": null,
   "metadata": {},
   "outputs": [],
   "source": [
    "# 相同想法但可以少用一個裡面的function，比較典型的recursion\n",
    "\n",
    "class Solution:\n",
    "    def minOperations(self, n: int) -> int:\n",
    "    \n",
    "        if n == 0:\n",
    "            return 0\n",
    "        i = math.log2(n)\n",
    "        if isinstance(i,int):\n",
    "            return 0\n",
    "        else:    \n",
    "            i = math.floor(i)\n",
    "            nearest = min(abs(n - 2**i), abs(n - 2**(i+1)))\n",
    "            \n",
    "            return self.minOperations(nearest) + 1"
   ]
  },
  {
   "cell_type": "markdown",
   "metadata": {},
   "source": [
    "# Divide and Conquer"
   ]
  },
  {
   "cell_type": "markdown",
   "metadata": {},
   "source": [
    "## 53. Maximum Subarray\n",
    "\n",
    "Given an integer array nums, find the subarray which has the largest sum and return its sum."
   ]
  },
  {
   "cell_type": "markdown",
   "metadata": {},
   "source": [
    "### 想法一：\n",
    "\n",
    "兩個變數，一個是目前找到的最大子陣列和，一個是目前的最大路徑和，當路徑和比目前值還小的時候，當前路徑和直接從目前值開始算，要不然路徑和就是pathSum += v<br>\n",
    "\n",
    "再來就比較路徑和跟目前最大子陣列和，即可求解。<br>\n",
    "\n",
    "可以用這個input當測資：[8,  -19,  5,  -4,  20]<br>\n",
    "才比較能想到要留路徑和這個變數，且這個變數不行從目前最大子陣列和和當前值去相加（因為可能位置不連續）"
   ]
  },
  {
   "cell_type": "code",
   "execution_count": null,
   "metadata": {},
   "outputs": [],
   "source": [
    "class Solution:\n",
    "    def maxSubArray(self, nums: list) -> int:\n",
    "\n",
    "        pathSum = 0\n",
    "        Max = -10001\n",
    "        for v in nums:\n",
    "            pathSum = max(pathSum+v, v)\n",
    "            Max = max(Max, pathSum)\n",
    "\n",
    "\n",
    "        return Max"
   ]
  },
  {
   "cell_type": "markdown",
   "metadata": {},
   "source": [
    "### 解法一：Dynamic Programming\n",
    "\n",
    "想法跟我上面寫的差不多，只是他把每個元素的pathsum依順序存起來了！（dp) <br>\n",
    "最後再從中找出最大值～～～<br>\n",
    "但我原本的寫法不知道為何更快呢！哈哈～"
   ]
  },
  {
   "cell_type": "code",
   "execution_count": null,
   "metadata": {},
   "outputs": [],
   "source": [
    "class Solution:\n",
    "\tdef maxSubArray(self, nums: list) -> int:\n",
    "\t\tdp=[0]*len(nums)\n",
    "\t\tdp[0]=nums[0]\n",
    "\t\tfor i in range(1,len(nums)):\n",
    "\t\t\tif dp[i-1]+nums[i]>nums[i]:\n",
    "\t\t\t\tdp[i]=dp[i-1]+nums[i]\n",
    "\t\t\telse:\n",
    "\t\t\t\tdp[i]=nums[i]\n",
    "\t\treturn max(dp)"
   ]
  },
  {
   "cell_type": "markdown",
   "metadata": {},
   "source": [
    "### 解法二： Divide and Conquer\n",
    "\n",
    "把所有分成兩半去處理，可以減少call stack（跟直接用遞歸的方式去比較的話）<br>\n",
    "但詳細解法還沒看～～～"
   ]
  },
  {
   "cell_type": "code",
   "execution_count": null,
   "metadata": {},
   "outputs": [],
   "source": [
    "class Solution:\n",
    "    def maxCSubArray(self, nums, mid):\n",
    "        s=0\n",
    "        ls=rs=float('-inf')\n",
    "        for i in range(mid-1,-1,-1):\n",
    "            s+=nums[i]\n",
    "            ls=max(ls,s)\n",
    "        s=0\n",
    "        for i in range(mid,len(nums)):\n",
    "            s+=nums[i]\n",
    "            rs=max(rs,s)\n",
    "        return ls+rs\n",
    "    \n",
    "    def maxSubArray(self, nums: List[int]) -> int:\n",
    "        \n",
    "        if len(nums)==1:\n",
    "            return nums[0]\n",
    "        if not nums:\n",
    "            return 0\n",
    "        mid=len(nums)//2\n",
    "        ls=self.maxSubArray(nums[:mid])\n",
    "        rs=self.maxSubArray(nums[mid:])\n",
    "        cs=self.maxCSubArray(nums,mid)\n",
    "        return max(ls,rs,cs)"
   ]
  },
  {
   "cell_type": "markdown",
   "metadata": {},
   "source": [
    "# Dynamic Programming"
   ]
  },
  {
   "cell_type": "markdown",
   "metadata": {},
   "source": [
    "## 198. House Robber\n",
    "\n",
    "You are a professional robber planning to rob houses along a street.<br> Each house has a certain amount of money stashed, the only constraint stopping you from robbing each of them is that adjacent houses have security systems connected and it will automatically contact the police if two adjacent houses were broken into on the same night.\n",
    "\n",
    "Given an integer array nums representing the amount of money of each house, return the maximum amount of money you can rob tonight without alerting the police."
   ]
  },
  {
   "cell_type": "markdown",
   "metadata": {},
   "source": [
    "### 解法：雙狀態DP\n",
    "\n",
    "想半天想不出來，後來看官神解析～～～\n",
    "\n",
    "要不要搶現在這間是依據1.搶這間的最大收益 2.沒搶這間的最大收益 來判斷<br>\n",
    "\n",
    "搶這間的話：rob = norob_pre + nums[i] <br>\n",
    "代表不可能搶前一間，只搶這間，所以目前結果為不搶前一間的最大收益+這間的收益\n",
    "\n",
    "不搶這間的話：norob = max(rob_pre, norob_pre)<br>\n",
    "代表前一間可能搶了或可能還沒搶，就選收益大的那個，就是目前結果"
   ]
  },
  {
   "cell_type": "code",
   "execution_count": null,
   "metadata": {},
   "outputs": [],
   "source": [
    "class Solution:\n",
    "    def rob(self, nums: List[int]) -> int:\n",
    "        # 找不相連子序列之最大和\n",
    "        # \n",
    "        if len(nums) == 1:\n",
    "            return nums[0]\n",
    "        \n",
    "        # 搶劫目前房子只需考量，不搶前一棟房子而搶目前房子的最大收益跟不搶目前房子誰的收益比較大\n",
    "        # 把每棟房子「不搶它的最大收益」與「搶它的最大收益」記錄下來，到最後一棟時，判斷最後要搶還是不搶\n",
    "        # 這個強盜必須很聰明才行\n",
    "\n",
    "        n = len(nums)\n",
    "        rob = nums[0]\n",
    "        norob = 0\n",
    "        for i in range(1,len(nums)):\n",
    "            rob_pre = rob\n",
    "            norob_pre = norob\n",
    "            rob = norob_pre + nums[i]\n",
    "            norob = max(rob_pre,norob_pre) \n",
    "\n",
    "        return max(rob, norob)"
   ]
  },
  {
   "cell_type": "markdown",
   "metadata": {},
   "source": [
    "## 309. Best Time to Buy and Sell Stock with Cooldown\n",
    "\n",
    "You are given an array prices where prices[i] is the price of a given stock on the ith day.\n",
    "\n",
    "Find the maximum profit you can achieve. You may complete as many transactions as you like (i.e., buy one and sell one share of the stock multiple times) with the following restrictions:\n",
    "\n",
    "After you sell your stock, you cannot buy stock on the next day (i.e., cooldown one day).\n",
    "Note: You may not engage in multiple transactions simultaneously (i.e., you must sell the stock before you buy again).\n",
    "\n",
    "Example 1:\n",
    "```\n",
    "Input: prices = [1,2,3,0,2]\n",
    "Output: 3\n",
    "Explanation: transactions = [buy, sell, cooldown, buy, sell]\n",
    "```\n"
   ]
  },
  {
   "cell_type": "markdown",
   "metadata": {},
   "source": [
    "### 想法：三狀態DP\n",
    "\n",
    "一個是hold,當有股票的時候的最大收益<br>\n",
    "一個是sold,當賣出股票的時候的最大收益<br>\n",
    "還需要sold_cd, 表示手頭的股票已經出手一天以上<br>\n",
    "\n",
    "我覺得好難，我好像想不到，有點接近了但還是繞了有點遠！！！\n",
    "這題一樣參考官神"
   ]
  },
  {
   "cell_type": "code",
   "execution_count": null,
   "metadata": {},
   "outputs": [],
   "source": [
    "class Solution:\n",
    "    def maxProfit(self, prices) -> int:\n",
    "\n",
    "        \"\"\"\n",
    "        :type prices: List[int]\n",
    "        :rtype: int\n",
    "\n",
    "        \"\"\"\n",
    "\n",
    "        hold = -math.inf    \n",
    "        sold = 0\n",
    "        sold_cd = 0\n",
    "\n",
    "        for i in range(len(prices)):\n",
    "            hold_0, sold_0, sold_cd_0 = hold, sold, sold_cd # 前一個的結果們，用\"變數_0\"緩存起來\n",
    "            hold = max(hold_0, sold_cd_0 - prices[i])  # 原本的持股沒賣的收益、cooldown完可以買了～原來cooldown前賣完的收益-買現有價格=目前收益\n",
    "            sold = max(sold_0, hold_0 + prices[i])     # 原本的股票賣完的收益不再買、把新買進的持股賣掉的收益～之前持股的最大收益+賣現有價格=目前收益\n",
    "            sold_cd = sold_0 # sold是昨天才賣完的最大收益，sold_0才是賣完一天已經cooldown完的最大收益\n",
    "\n",
    "        return max(sold,0)  "
   ]
  },
  {
   "cell_type": "markdown",
   "metadata": {},
   "source": [
    "## 62. Unique Paths\n",
    "\n",
    "There is a robot on an m x n grid. The robot is initially located at the top-left corner (i.e., grid[0][0]). The robot tries to move to the bottom-right corner (i.e., grid[m - 1][n - 1]). The robot can only move either down or right at any point in time.\n",
    "\n",
    "Given the two integers m and n, return the number of possible unique paths that the robot can take to reach the bottom-right corner.\n",
    "\n",
    "The test cases are generated so that the answer will be less than or equal to 2 * 10^9.\n",
    "\n",
    "Example:\n",
    "```\n",
    "Input: m = 3, n = 2\n",
    "Output: 3\n",
    "Explanation: From the top-left corner, there are a total of 3 ways to reach the bottom-right corner:\n",
    "1. Right -> Down -> Down\n",
    "2. Down -> Down -> Right\n",
    "3. Down -> Right -> Down\n",
    "```"
   ]
  },
  {
   "cell_type": "markdown",
   "metadata": {},
   "source": [
    "### 想法一：\n",
    "\n",
    "基本上就是有幾個「right」和「down」的組合，這裡是自己寫的～～～比較類似遞迴的概念～"
   ]
  },
  {
   "cell_type": "code",
   "execution_count": null,
   "metadata": {},
   "outputs": [],
   "source": [
    "class Solution:\n",
    "    def uniquePaths(self, m: int, n: int) -> int:\n",
    "        right = m - 1\n",
    "        down = n - 1\n",
    "        step = m + n - 2\n",
    "        deno = min(right,down)\n",
    "        dp = [0 for _ in range(min(right,down))]\n",
    "        \n",
    "\n",
    "        if deno == 0:\n",
    "            return 1\n",
    "\n",
    "        dp[0] = (step,deno)\n",
    "\n",
    "        for i in range(1,min(right,down)):\n",
    "            step -= 1\n",
    "            deno -= 1\n",
    "            dp[i] = (step * dp[i-1][0], deno * dp[i-1][1]) \n",
    "           \n",
    "        \n",
    "        return dp[min(right,down)-1][0] // dp[min(right,down)-1][1]"
   ]
  },
  {
   "cell_type": "markdown",
   "metadata": {},
   "source": [
    "### 想法二××\n",
    "\n",
    "別人寫的，比較典型的dp~~但我！看不太懂～～～哭哭<br>\n",
    "看懂了，把前一步加起來，前一步分別是往上一步與往左一步～～～"
   ]
  },
  {
   "cell_type": "code",
   "execution_count": null,
   "metadata": {},
   "outputs": [],
   "source": [
    "class Solution:\n",
    "    def uniquePaths(self,m,n):\n",
    "        memo = [[1]*n for _ in range(m)]\n",
    "        for i in range(1,m):\n",
    "            for j in range(1,n):\n",
    "                memo[i][j] = memo[i-1][j]+memo[i][j-1]\n",
    "        return memo[-1][-1]"
   ]
  },
  {
   "cell_type": "markdown",
   "metadata": {},
   "source": [
    "## 64. Minimum Path Sum\n",
    "\n",
    "Given a m x n grid filled with non-negative numbers, find a path from top left to bottom right, which minimizes the sum of all numbers along its path.\n",
    "\n",
    "Note: You can only move either down or right at any point in time.\n",
    "\n",
    "https://leetcode.com/problems/minimum-path-sum/description/\n"
   ]
  },
  {
   "cell_type": "markdown",
   "metadata": {},
   "source": [
    "### 想法一\n",
    "\n",
    "跟上面那題概念一樣～～～～～然後我看懂上面那個了！就是前一步的步數總和可能加起來，就是目前這步的～<br>\n",
    "所以這題也是～～～～經典DP題！"
   ]
  },
  {
   "cell_type": "code",
   "execution_count": null,
   "metadata": {},
   "outputs": [],
   "source": [
    "class Solution:\n",
    "    def minPathSum(self, grid: List[List[int]]) -> int:\n",
    "\n",
    "        m = len(grid)\n",
    "        n = len(grid[0])\n",
    "        dp = [[0 for _ in range(n)] for __ in range(m)]\n",
    "\n",
    "        # dp[i][j] 走到那個位置時的最小Path sum:  min(dp[i-1][j], dp[i][j-1]) + grid[i][j]\n",
    "\n",
    "        dp[0][0] = grid[0][0]\n",
    "        for i in range(m):\n",
    "            for j in range(n):\n",
    "                if i < 1 and j < 1:\n",
    "                    dp[i][j] = grid[0][0]\n",
    "                elif i < 1:\n",
    "                    dp[i][j] = dp[i][j-1] + grid[i][j]\n",
    "                elif j < 1:\n",
    "                    dp[i][j] = dp[i-1][j] + grid[i][j]\n",
    "                else:\n",
    "                    dp[i][j] = min(dp[i-1][j], dp[i][j-1]) + grid[i][j]\n",
    "\n",
    "        return dp[m-1][n-1]\n"
   ]
  },
  {
   "cell_type": "markdown",
   "metadata": {},
   "source": [
    "## 926. Flip String to Monotone Increasing\n",
    "\n",
    "A binary string is monotone increasing if it consists of some number of 0's (possibly none), followed by some number of 1's (also possibly none).\n",
    "\n",
    "You are given a binary string s. You can flip s[i] changing it from 0 to 1 or from 1 to 0.\n",
    "\n",
    "Return the minimum number of flips to make s monotone increasing.\n",
    "\n",
    "Example:\n",
    "```\n",
    "Input: s = \"00011000\"\n",
    "Output: 2\n",
    "Explanation: We flip to get 00000000.\n",
    "\n",
    "```\n",
    "https://leetcode.com/problems/flip-string-to-monotone-increasing/description/\n",
    "\n",
    "\n",
    "\n",
    "\n"
   ]
  },
  {
   "cell_type": "markdown",
   "metadata": {},
   "source": [
    "### 想法一\n",
    "\n",
    "算滿典型的DP題～～我想了一陣子，大概花40-50分鐘QQ<br>\n",
    "列兩個list，一個是目前值翻成zero所需的最小次數：to_zero[i]，一個是目前值翻成one所需的最小次數：to_one[i] <br>\n",
    "\n",
    "如果目前值為zero：<br>\n",
    "```\n",
    "# 要翻成zero的話，不用flip，且前一個值也必須為zero\n",
    "to_zero[i] = to_zero[i-1] + 0 \n",
    "\n",
    "# 要翻成one的話，目前值要flip一次，前一個值可以是zero也可以是one，取上一個兩邊的較小值\n",
    "to_one[i] = min(to_zero[i-1], to_one[i-1]) + 1 \n",
    "\n",
    "```\n",
    "同理，如果目前值為one：<br>\n",
    "```\n",
    "to_zero[i] = to_zero[i-1] + 1 \n",
    "to_one[i] = min(to_zero[i-1], to_one[i-1]) + 0 \n",
    "\n",
    "```\n",
    "\n",
    "然後設定一下初始值！就大功告成啦～～～"
   ]
  },
  {
   "cell_type": "code",
   "execution_count": null,
   "metadata": {},
   "outputs": [],
   "source": [
    "class Solution:\n",
    "    def minFlipsMonoIncr(self, s: str) -> int:\n",
    "\n",
    "        to_zero = [0 for _ in range(len(s))]\n",
    "        to_one = [0 for _ in range(len(s))]\n",
    "\n",
    "        s = list(map(lambda x: int(x), list(s)))\n",
    "\n",
    "        if s[0] == 0:\n",
    "            to_zero[0] = 0\n",
    "            to_one[0] = 1\n",
    "        if s[0] == 1:\n",
    "            to_zero[0] = 1\n",
    "            to_one[0] = 0\n",
    "\n",
    "        # print(to_zero, to_one)\n",
    "\n",
    "        for i in range(1, len(s)):\n",
    "            if s[i] == 0:\n",
    "                to_zero[i] = 0 + to_zero[i-1]\n",
    "                to_one[i] = 1 + min(to_zero[i-1], to_one[i-1])\n",
    "            elif s[i] == 1:\n",
    "                to_zero[i] = 1 + to_zero[i-1]\n",
    "                to_one[i] = 0 + min(to_zero[i-1], to_one[i-1])\n",
    "\n",
    "        # print(to_zero, to_one)\n",
    "        \n",
    "        return min(to_zero[-1], to_one[-1])\n",
    "                "
   ]
  },
  {
   "cell_type": "markdown",
   "metadata": {},
   "source": [
    "## 918. Maximum Sum Circular Subarray\n",
    "\n",
    "Given a circular integer array nums of length n, return the maximum possible sum of a non-empty subarray of nums.\n",
    "\n",
    "A circular array means the end of the array connects to the beginning of the array. Formally, the next element of nums[i] is nums[(i + 1) % n] and the previous element of nums[i] is nums[(i - 1 + n) % n].\n",
    "\n",
    "A subarray may only include each element of the fixed buffer nums at most once. Formally, for a subarray nums[i], nums[i + 1], ..., nums[j], there does not exist i <= k1, k2 <= j with k1 % n == k2 % n.\n",
    "\n",
    "Example:\n",
    "```\n",
    "Input: nums = [5,-3,5]\n",
    "Output: 10\n",
    "Explanation: Subarray [5,5] has maximum sum 5 + 5 = 10.\n",
    "\n",
    "```\n",
    "\n",
    "一些比較容易出錯的Testcase：\n",
    "```\n",
    "Input: nums = [-10,-7,9,-7,6,9,-9,-4,-8,-5]\n",
    "Output: 17\n",
    "Input: nums = [5,3,-8,3,-1,2]\n",
    "Output: 12\n",
    "Input: nums = [5,5,0,-5,3,-3,2]\n",
    "Output: 12\n",
    "Input: nums = [0,5,8,-9,9,-7,3,-2]\n",
    "Output: 16\n",
    "\n",
    "```\n",
    "https://leetcode.com/problems/maximum-sum-circular-subarray/description/"
   ]
  },
  {
   "cell_type": "markdown",
   "metadata": {},
   "source": [
    "### 想法：\n",
    "\n",
    "一般case與[53. Maximum Subarray](https://leetcode.com/problems/maximum-subarray/)一樣，輕鬆過～～<br>\n",
    "循環case就想了很久最後受不了call out QQ\n",
    "\n",
    "概念是，找出最小的subarray和，然後序列總和減去最小subarray和，就可以有循環狀況下的最大subarray和！！\n",
    "\n",
    "但要避開序列總和 == 最小subarray和的情況！"
   ]
  },
  {
   "cell_type": "code",
   "execution_count": null,
   "metadata": {},
   "outputs": [],
   "source": [
    "class Solution:\n",
    "    def maxSubarraySumCircular(self, nums: List[int]) -> int:\n",
    "        dp = [[0,0] for _ in range(len(nums))]\n",
    "\n",
    "        # 先處理一般情況，另外就是循環情況下，最大的subarray和 = 整個數列總和 - 最小的subarray和\n",
    "        dp[0] = [nums[0], nums[0]]\n",
    "        max_sum = dp[0][0]\n",
    "        min_sum = dp[0][1]\n",
    "        for i in range(1,len(nums)):\n",
    "            dp[i][0] = max(dp[i-1][0] + nums[i], nums[i])\n",
    "            max_sum = max(max_sum, dp[i][0])\n",
    "            dp[i][1] = min(dp[i-1][1] + nums[i], nums[i])\n",
    "            min_sum = min(min_sum, dp[i][1])\n",
    "\n",
    "        if sum(nums) == min_sum:\n",
    "            return max_sum\n",
    "            \n",
    "        max_sum = max(sum(nums)-min_sum, max_sum)\n",
    "    \n",
    "        return max_sum"
   ]
  },
  {
   "attachments": {},
   "cell_type": "markdown",
   "metadata": {},
   "source": [
    "## 120. Triangle\n",
    "\n",
    "Given a triangle array, return the minimum path sum from top to bottom.\n",
    "\n",
    "For each step, you may move to an adjacent number of the row below. More formally, if you are on index i on the current row, you may move to either index i or index i + 1 on the next row.\n",
    "\n",
    "Example:\n",
    "```\n",
    "Input: triangle = [[2],[3,4],[6,5,7],[4,1,8,3]]\n",
    "Output: 11\n",
    "Explanation: The triangle looks like:\n",
    "   2\n",
    "  3 4\n",
    " 6 5 7\n",
    "4 1 8 3\n",
    "The minimum path sum from top to bottom is 2 + 3 + 5 + 1 = 11 (underlined above).\n",
    "```\n",
    "\n",
    "想法：\n",
    "\n",
    "好久沒寫leetcode，這題寫超久- -，一剛開始很天真由上往下找，往下一層挑兩個數的較小值，再由那個較小值往下找，一路找到最底層，但忽略掉可能會有情況是某一層選較大值，但走到底時反而總和較小的狀況～\n",
    "\n",
    "所以算是動態規畫的經典類型，就是會把上一輪的狀態帶到這一輪進行判斷～先做出一個三角形dp空間，接著for loop題目的三角形，第一、二層的三角形是static的，可以當初始值寫起來，\n",
    "\n",
    "從第三層開始跑，每一層用自己的值 + 取上一層i與i-1的dp狀態值中較小那個，當作現在位置的狀態值，存進dp空間中～最後一層的最小值就是解了～\n",
    "\n",
    "太久沒寫...真的手感都跑掉，直接寫不出來XD 但幸好在掙扎好一陣子後還是不看解答寫出來了～"
   ]
  },
  {
   "cell_type": "code",
   "execution_count": null,
   "metadata": {},
   "outputs": [],
   "source": [
    "class Solution:\n",
    "    def minimumTotal(self, triangle: List[List[int]]) -> int:\n",
    "        n = len(triangle)\n",
    "        dp = [[0 for _ in range(len(triangle[m]))] for m in range(n)]\n",
    "        if n == 1:\n",
    "            return triangle[0][0]\n",
    "        if n == 2:\n",
    "            return triangle[0][0] + min(triangle[1])\n",
    "        dp[0][0] = triangle[0][0]\n",
    "        dp[1][0] = dp[0][0] + triangle[1][0]\n",
    "        dp[1][1] = dp[0][0] + triangle[1][1]\n",
    "        for i in range(n):\n",
    "            for j in range(len(triangle[i])):\n",
    "                if i < 2:\n",
    "                    continue\n",
    "                idx1 = 0 if j < 1 else j - 1\n",
    "                idx2 = len(triangle[i-1]) - 1 if j > len(triangle[i-1]) - 1 else j\n",
    "                dp[i][j] = min(dp[i-1][idx1], dp[i-1][idx2]) + triangle[i][j]\n",
    "                \n",
    "        ret_val = min(dp[-1])\n",
    "        return ret_val"
   ]
  },
  {
   "cell_type": "markdown",
   "metadata": {},
   "source": [
    "# Binary Tree\n"
   ]
  },
  {
   "cell_type": "code",
   "execution_count": null,
   "metadata": {},
   "outputs": [],
   "source": [
    "# Definition for a binary tree node.\n",
    "class TreeNode:\n",
    "    def __init__(self, val=0, left=None, right=None):\n",
    "        self.val = val\n",
    "        self.left = left\n",
    "        self.right = right"
   ]
  },
  {
   "cell_type": "markdown",
   "metadata": {},
   "source": [
    "## 102. Binary Tree Level Order Traversal\n",
    "\n",
    "Given the root of a binary tree, return the level order traversal of its nodes' values. (i.e., from left to right, level by level).\n",
    "\n",
    "Example\n",
    "```\n",
    "Input: root = [3,9,20,null,null,15,7]\n",
    "Output: [[3],[9,20],[15,7]]\n",
    "```"
   ]
  },
  {
   "cell_type": "markdown",
   "metadata": {},
   "source": [
    "### 想法 Recurrence\n",
    "\n",
    "每一階層給一個list，如果目前的node有左子節點或右子節點，就把子節點append到下一階層的list內，接著for loop這個階層的list中的節點，繼續看他有沒有子節點，直到沒找到下一層。"
   ]
  },
  {
   "cell_type": "code",
   "execution_count": null,
   "metadata": {},
   "outputs": [],
   "source": [
    "# binary tree node defined first\n",
    "\n",
    "def levelOrder(root):\n",
    "\n",
    "    if not root:\n",
    "        return []\n",
    "    \n",
    "    curr_level_node = [root]\n",
    "    result = []\n",
    "    while curr_level_node:\n",
    "        curr_level = []\n",
    "        next_level_node = []\n",
    "        for node in curr_level_node:\n",
    "            \n",
    "            curr_level.append(node.val)\n",
    "            if node.left:\n",
    "                next_level_node.append(node.left)\n",
    "            if node.right:\n",
    "                next_level_node.append(node.right)\n",
    "        \n",
    "        result.append(curr_level)\n",
    "        curr_level_node = next_level_node\n",
    "\n",
    "    return result\n"
   ]
  },
  {
   "cell_type": "markdown",
   "metadata": {},
   "source": [
    "## 105. Construct Binary Tree from Preorder and Inorder Traversal\n",
    "\n",
    "Given two integer arrays preorder and inorder where preorder is the preorder traversal of a binary tree and inorder is the inorder traversal of the same tree, construct and return the binary tree."
   ]
  },
  {
   "cell_type": "markdown",
   "metadata": {},
   "source": [
    "### 解法：\n",
    "\n",
    "嗯，看不懂"
   ]
  },
  {
   "cell_type": "code",
   "execution_count": null,
   "metadata": {},
   "outputs": [],
   "source": [
    "class Solution:\n",
    "    def buildTree(self, preorder, inorder):\n",
    "        \"\"\"\n",
    "        :type preorder: List[int]\n",
    "        :type inorder: List[int]\n",
    "        :rtype: TreeNode\n",
    "        \"\"\"\n",
    "        if not preorder:\n",
    "            return None\n",
    "        self.preorder = preorder\n",
    "        self.inorder = inorder\n",
    "        self.inorder_map = dict([(n,i) for (i,n) in enumerate(inorder)])  # 這裡也是把中序的index記錄下來\n",
    "        return self._build(0, len(preorder), 0, len(inorder))\n",
    "\n",
    "    def _build(self, p_start, p_end, i_start, i_end):\n",
    "        if p_start >= p_end or i_start >= i_end:     # 終止條件\n",
    "            return None\n",
    "        curr = TreeNode(self.preorder[p_start])   # 回傳的TreeNode，以前序的第一個節點開始\n",
    "        inorder_i = self.inorder_map[self.preorder[p_start]]    # 前序的這個節點在中序中的位置\n",
    "        diff = inorder_i - i_start    # ？？？？\n",
    "        curr.left = self._build(1+p_start, diff+1+p_start, i_start, inorder_i)  # 建左子樹\n",
    "        curr.right = self._build(diff+1+p_start, p_end, inorder_i+1, i_end)     # 建右子樹\n",
    "        return curr\n",
    "\n",
    "\n"
   ]
  },
  {
   "cell_type": "markdown",
   "metadata": {},
   "source": [
    "## 95. Unique Binary Search Trees II （還沒看到很懂）\n",
    "\n",
    "Given an integer n, return all the structurally unique BST's (binary search trees), which has exactly n nodes of unique values from 1 to n. \n",
    "\n",
    "Return the answer in any order."
   ]
  },
  {
   "cell_type": "markdown",
   "metadata": {},
   "source": [
    "### 解法 Recursion\n",
    "\n",
    "1到n之中，每個值都當一次root，左子樹可能的值為比i小的值；右子樹可能的值為比i大的值，接著迴圈recursion...\n",
    "其實還是有點不懂"
   ]
  },
  {
   "cell_type": "code",
   "execution_count": null,
   "metadata": {},
   "outputs": [],
   "source": [
    "\n",
    "def generateTrees(n):\n",
    "    \"\"\"\n",
    "    :type n: int\n",
    "    :rtype: List[TreeNode]\n",
    "    \"\"\"\n",
    "    def gen_BST(begin, end):\n",
    "        if end-begin == 0:  return [None]  #這裡的[None]並非空list\n",
    "        arr = []\n",
    "        # scan [begin, end), using each one as root\n",
    "        for i in range(begin, end):\n",
    "            lefts, rights = gen_BST(begin, i), gen_BST(i+1, end)\n",
    "            for x in lefts:\n",
    "                for y in rights:    \n",
    "                    r = TreeNode(i)\n",
    "                    r.left, r.right = x, y\n",
    "                    arr.append(r)\n",
    "        return arr\n",
    "    \n",
    "    if n == 0:  return []\n",
    "    return gen_BST(1, n+1)"
   ]
  },
  {
   "cell_type": "markdown",
   "metadata": {},
   "source": [
    "### 解法 Dynamic programming\n",
    "\n",
    "主要做法跟上面那個解法差不多，但速度跟空間都比上面那個解法好很多，感覺可以研究一下。\n"
   ]
  },
  {
   "cell_type": "code",
   "execution_count": null,
   "metadata": {},
   "outputs": [],
   "source": [
    "\n",
    "class Solution(object):\n",
    "    def generateTrees(self, n):\n",
    "        \"\"\"\n",
    "        :type n: int\n",
    "        :rtype: List[TreeNode]\n",
    "        \"\"\"\n",
    "        if n < 1:\n",
    "            return []\n",
    "        self.memory = [[[] for _ in range(n + 1)] for _ in range(n + 1)]  #做一個空間給回傳的list\n",
    "        return self.buildTrees(1, n)\n",
    "    \n",
    "    def buildTrees(self, start, end):  # 這裡因為放在class底下另一個function，所以參數值還有self\n",
    "        if start > end:\n",
    "            return [None]   # 已經到空節點\n",
    "        if start == end:\n",
    "            return [TreeNode(start)]  # 遍歷到的目前節點做為root\n",
    "        if self.memory[start][end]:\n",
    "            return self.memory[start][end]\n",
    "        for val in range(start, end+1):\n",
    "            leftTrees = self.buildTrees(start, val - 1)\n",
    "            rightTrees = self.buildTrees(val+1, end)\n",
    "            for left in leftTrees:\n",
    "                for right in rightTrees: # note: here we may share left and right for various trees\n",
    "                    root = TreeNode(val) # but it doesn't affect the results\n",
    "                    self.memory[start][end].append(root)\n",
    "                    root.left = left\n",
    "                    root.right = right\n",
    "        return self.memory[start][end]"
   ]
  },
  {
   "cell_type": "markdown",
   "metadata": {},
   "source": [
    "## 96. Unique Binary Search Trees\n",
    "\n",
    "Given an integer n, return the number of structurally unique BST's (binary search trees) which has exactly n nodes of unique values from 1 to n.\n",
    "\n",
    " "
   ]
  },
  {
   "cell_type": "markdown",
   "metadata": {},
   "source": [
    "### Solution: DP\n",
    "\n",
    "別人寫的，看得還不是很懂，但應該就是某個規律~~~"
   ]
  },
  {
   "cell_type": "code",
   "execution_count": null,
   "metadata": {},
   "outputs": [],
   "source": [
    "\n",
    "def numTrees(n: int) -> int:\n",
    "    res = [0 for i in range(n+1)]\n",
    "    res[0] = 1\n",
    "    res[1] = 1\n",
    "    for i in range(2, n+1):\n",
    "        for j in range(i):\n",
    "            res[i] += res[j] * res[(i-1)-j]\n",
    "\n",
    "    return res[n]\n",
    "        "
   ]
  },
  {
   "cell_type": "markdown",
   "metadata": {},
   "source": [
    "### Solution: Recursive\n",
    "\n",
    "參考連結：https://leetcode.com/problems/unique-binary-search-trees/solutions/674968/very-intuitive-recursive-solution/?languageTags=python3&topicTags=recursion\n",
    "\n",
    "較為直覺的寫法，注意「numSubtrees += leftSubtrees * rightSubtrees」可以想一下！"
   ]
  },
  {
   "cell_type": "code",
   "execution_count": null,
   "metadata": {},
   "outputs": [],
   "source": [
    "# Basic \n",
    "class Solution:\n",
    "    def numTrees(self, n: int) -> int:\n",
    "        if n == 0:\n",
    "            return 1\n",
    "        numSubtrees = 0\n",
    "        for leftSubtreeNodeCount in range(n):\n",
    "            rightSubtreeNodeCount = n - 1 - leftSubtreeNodeCount\n",
    "            leftSubtrees = self.numTrees(leftSubtreeNodeCount)\n",
    "            rightSubtrees = self.numTrees(rightSubtreeNodeCount)\n",
    "            numSubtrees += leftSubtrees * rightSubtrees  # 這裡！所有子樹的可能排列是（左子樹的所有可能 * 右子樹的所有可能）是兩個loop之間的關係，可以想一下～\n",
    "        return numSubtrees\n",
    "\n",
    "    # With memoization to prevent calculating for same n multiple times. Similar to Fibonacci\n",
    "    def numTrees(self, n: int, cache={}) -> int:\n",
    "        if n == 0:\n",
    "            return 1\n",
    "        if n in cache:\n",
    "            return cache[n]\n",
    "        numSubtrees = 0\n",
    "        for leftSubtreeNodeCount in range(n):\n",
    "            rightSubtreeNodeCount = n - 1 - leftSubtreeNodeCount\n",
    "            leftSubtrees = self.numTrees(leftSubtreeNodeCount, cache)\n",
    "            rightSubtrees = self.numTrees(rightSubtreeNodeCount, cache)\n",
    "            numSubtrees += leftSubtrees * rightSubtrees\n",
    "        cache[n] = numSubtrees\n",
    "\n",
    "        return numSubtrees\n",
    "\n"
   ]
  },
  {
   "cell_type": "markdown",
   "metadata": {},
   "source": [
    "## 1382. Balance a Binary Search Tree\n",
    "\n",
    "Given the root of a binary search tree, return a balanced binary search tree with the same node values. If there is more than one answer, return any of them.\n",
    "\n",
    "A binary search tree is balanced if the depth of the two subtrees of every node never differs by more than 1."
   ]
  },
  {
   "cell_type": "markdown",
   "metadata": {},
   "source": [
    "### 想法一\n",
    "\n",
    "用中序遍歷排序，得到由小至大的陣列，再由此陣列建立平衡二元樹，其中會用到遞迴結構"
   ]
  },
  {
   "cell_type": "code",
   "execution_count": 1,
   "metadata": {},
   "outputs": [],
   "source": [
    "# Definition for a binary tree node.\n",
    "class TreeNode:\n",
    "    def __init__(self, val=0, left=None, right=None):\n",
    "        self.val = val\n",
    "        self.left = left\n",
    "        self.right = right\n",
    "class Solution:\n",
    "    def balanceBST(self, root: TreeNode) -> TreeNode:\n",
    "        # 用中間值做root，好像就可以了？\n",
    "\n",
    "        res=[]\n",
    "        def inorder(root):\n",
    "            if root:\n",
    "                inorder(root.left)\n",
    "                res.append(root.val)\n",
    "                inorder(root.right)\n",
    "        inorder(root)\n",
    "\n",
    "       \n",
    "        def createTree(arr, low, high):\n",
    "            if low > high:\n",
    "                return\n",
    "            mid = low + (high-low)//2\n",
    "            bt = TreeNode(arr[mid])\n",
    "            bt.left = createTree(arr, low, mid-1)\n",
    "            bt.right = createTree(arr, mid+1, high)\n",
    "\n",
    "            return bt\n",
    "\n",
    "        return createTree(res, 0, len(res)-1)"
   ]
  },
  {
   "cell_type": "markdown",
   "metadata": {},
   "source": [
    "## 872. Leaf-Similar Trees\n",
    "\n",
    "Consider all the leaves of a binary tree, from left to right order, the values of those leaves form a leaf value sequence.\n",
    "\n",
    "For example, in the given tree above, the leaf value sequence is (6, 7, 4, 9, 8).\n",
    "\n",
    "Two binary trees are considered leaf-similar if their leaf value sequence is the same.\n",
    "\n",
    "Return true if and only if the two given trees with head nodes root1 and root2 are leaf-similar."
   ]
  },
  {
   "cell_type": "markdown",
   "metadata": {},
   "source": [
    "### 想法一\n",
    "\n",
    "自己直覺想法，用後序遍歷法，遇到的節點如果是leaf node，就append到list，再比較是否相等"
   ]
  },
  {
   "cell_type": "code",
   "execution_count": null,
   "metadata": {},
   "outputs": [],
   "source": [
    "class Solution:\n",
    "    def leafSimilar(self, root1: Optional[TreeNode], root2: Optional[TreeNode]) -> bool:\n",
    "        # 啊就postorder，是leafnode的回傳～\n",
    "\n",
    "        res=[]\n",
    "        def postorder(root):\n",
    "            if not root:\n",
    "                return\n",
    "            postorder(root.left)\n",
    "            postorder(root.right)\n",
    "            if not root.left and not root.right:\n",
    "                res.append(root.val)\n",
    "        \n",
    "        postorder(root1)\n",
    "        r1 = res\n",
    "        res = []\n",
    "        postorder(root2)\n",
    "        r2 = res\n",
    "\n",
    "        return r1 == r2"
   ]
  },
  {
   "cell_type": "markdown",
   "metadata": {},
   "source": [
    "### 想法二\n",
    "\n",
    "用簡單的回溯來寫～～～寫recursion的關鍵在於設定參數，這裡的參數一個是要去遍歷的節點，一個是要去改變內容的list\n"
   ]
  },
  {
   "cell_type": "code",
   "execution_count": null,
   "metadata": {},
   "outputs": [],
   "source": [
    "\n",
    "class Solution:\n",
    "    # DFS solution\n",
    "    def leafSimilar(self, root1, root2):\n",
    "        def dfs(node, arr):\n",
    "            if node:\n",
    "                if not node.left and not node.right: arr += [node.val]  # 這一行就是我自己寫的那兩行，如果是leafnode就加到list中\n",
    "                dfs(node.left, arr)  # 找左子樹\n",
    "                dfs(node.right, arr) # 找右子樹\n",
    "                return arr   # 回傳list\n",
    "        return dfs(root1, []) == dfs(root2, []) # 比較相等\n",
    "\n",
    "\n",
    "    # 精簡版\n",
    "    def leafSimilar(self, root1: TreeNode, root2: TreeNode) -> bool:\n",
    "        \"\"\" O(N1+N2)TS \"\"\"\n",
    "\n",
    "        def fn(node):\n",
    "            return (fn(node.left) + fn(node.right) or [node.val]) if node else []  # 找leafnode! 找左子樹、右子樹、或自己，recursion到最後\n",
    "\n",
    "        return fn(root1) == fn(root2)"
   ]
  },
  {
   "cell_type": "markdown",
   "metadata": {},
   "source": [
    "## 98. Validate Binary Search Tree\n",
    "\n",
    "Given the root of a binary tree, determine if it is a valid binary search tree (BST).\n",
    "\n",
    "A valid BST is defined as follows:\n",
    "\n",
    "- The left subtree of a node contains only nodes with keys less than the node's key.\n",
    "- The right subtree of a node contains only nodes with keys greater than the node's key.\n",
    "- Both the left and right subtrees must also be binary search trees."
   ]
  },
  {
   "cell_type": "markdown",
   "metadata": {},
   "source": [
    "### 想法一\n",
    "\n",
    "中序遍歷完，看看是不是有sort，再來是確認有沒有一樣的node value，完全沒有動到腦的解法..."
   ]
  },
  {
   "cell_type": "code",
   "execution_count": null,
   "metadata": {},
   "outputs": [],
   "source": [
    "class Solution:\n",
    "    def isValidBST(self, root: TreeNode) -> bool:\n",
    "\n",
    "        if not root:\n",
    "            return\n",
    "        \n",
    "        st = []\n",
    "        def inorder(root):\n",
    "            if not root:\n",
    "                return\n",
    "            inorder(root.left)\n",
    "            st.append(root.val)\n",
    "            inorder(root.right)\n",
    "\n",
    "        inorder(root)\n",
    "     \n",
    "        return st == sorted(st) and len(set(st)) == len(st)"
   ]
  },
  {
   "cell_type": "markdown",
   "metadata": {},
   "source": [
    "### 想法二\n",
    "\n",
    "其他人寫的，中序遍歷時直接用遞推加上stack，每個stack存取遍歷完的節點，一樣由最左子樹（最小值）開始比對，看後值有沒有比前值大，比較大的話就往右一格繼續（找到successor), 比較小的話直接return False\n",
    "\n",
    "這裡需要瞭解的有用遞推去遍歷二元樹，以及找successor的方式"
   ]
  },
  {
   "cell_type": "code",
   "execution_count": null,
   "metadata": {},
   "outputs": [],
   "source": [
    "class Solution(object):\n",
    "    def isValidBST(self, root):\n",
    "        stack = [None]\n",
    "        prev = -float(\"inf\")\n",
    "        while stack:\n",
    "            while root:\n",
    "                stack.append(root)\n",
    "                root = root.left\n",
    "            x = stack.pop()\n",
    "            if x:\n",
    "                if x.val <= prev:\n",
    "                    return False\n",
    "                prev = x.val\n",
    "                root = x.right\n",
    "                \n",
    "        return True"
   ]
  },
  {
   "cell_type": "markdown",
   "metadata": {},
   "source": [
    "## 1026. Maximum Difference Between Node and Ancestor\n",
    "\n",
    "Given the root of a binary tree, find the maximum value v for which there exist different nodes a and b where v = |a.val - b.val| and a is an ancestor of b.\n",
    "\n",
    "A node a is an ancestor of b if either: any child of a is equal to b or any child of a is an ancestor of b."
   ]
  },
  {
   "cell_type": "markdown",
   "metadata": {},
   "source": [
    "### 想法一\n",
    "\n",
    "用直觀的recursion...雖然還是試了很多次花很久時間，但終於靠自己寫出來一次了！耶！<br>\n",
    "參數為：目前節點、遍歷到目前的最小值與最大值<br>\n",
    "當遍歷到leaf node時，回傳目前的最大值及最小值到list中<br>\n",
    "再去找這個list裡面差值最大的數～<br>\n"
   ]
  },
  {
   "cell_type": "code",
   "execution_count": null,
   "metadata": {},
   "outputs": [],
   "source": [
    "# Definition for a binary tree node.\n",
    "class TreeNode:\n",
    "    def __init__(self, val=0, left=None, right=None):\n",
    "        self.val = val\n",
    "        self.left = left\n",
    "        self.right = right\n",
    "class Solution:\n",
    "    def maxAncestorDiff(self, root: TreeNode) -> int:\n",
    "        # 遍歷每一條子樹，然後找出每一條路徑遇到的最大值及最小值\n",
    "        if not root:\n",
    "            return\n",
    "\n",
    "        res = []\n",
    "        def find_subtree(root, min, max):\n",
    "            # 有左子樹時，就以左子樹為root一直往下找到底，有右子樹時，就以右子樹為root往下找到底\n",
    "\n",
    "            if not root:\n",
    "                return\n",
    "\n",
    "            if root.val < min:\n",
    "                min = root.val\n",
    "            elif root.val > max:\n",
    "                max = root.val\n",
    "\n",
    "            if root.right: # 這個if其實可以省去\n",
    "                find_subtree(root.right,min,max)\n",
    "            if root.left:\n",
    "                find_subtree(root.left,min,max)\n",
    "\n",
    "            if not root.right and not root.left:\n",
    "                res.append((min,max))\n",
    "            \n",
    "            \n",
    "        find_subtree(root, root.val, root.val)\n",
    "        ans = max(map(lambda x: x[1]-x[0], res))\n",
    "        \n",
    "        return ans\n",
    "       "
   ]
  },
  {
   "cell_type": "markdown",
   "metadata": {},
   "source": [
    "### 想法二\n",
    "\n",
    "別人寫的，大致想法相同，但大家都直接把res當一個參數寫進去了！"
   ]
  },
  {
   "cell_type": "code",
   "execution_count": null,
   "metadata": {},
   "outputs": [],
   "source": [
    "def solve(root, minn, maxx, res):\n",
    "    if not root: \n",
    "        return\n",
    "    \n",
    "    res[0] = max(res[0], abs(minn - root.val), abs(maxx - root.val))\n",
    "\n",
    "    minn = min(root.val, minn)\n",
    "    maxx = max(maxx, root.val)\n",
    "\n",
    "    solve(root.left, minn, maxx, res)\n",
    "    solve(root.right, minn, maxx, res)\n",
    "    \n",
    "class Solution(object):\n",
    "    def maxAncestorDiff(self, root):\n",
    "        if not root:\n",
    "            return 0\n",
    "        res = [0]\n",
    "        solve(root, root.val, root.val, res)\n",
    "        return res[0]"
   ]
  },
  {
   "cell_type": "markdown",
   "metadata": {},
   "source": [
    "## 117. Populating Next Right Pointers in Each Node II\n",
    "\n",
    "Given a binary tree\n",
    "```\n",
    "struct Node {\n",
    "  int val;\n",
    "  Node *left;\n",
    "  Node *right;\n",
    "  Node *next;\n",
    "}\n",
    "```\n",
    "Populate each next pointer to point to its next right node. If there is no next right node, the next pointer should be set to NULL.\n",
    "\n",
    "Initially, all next pointers are set to NULL.\n",
    "\n",
    "題目連結：https://leetcode.com/problems/populating-next-right-pointers-in-each-node-ii/description/\n"
   ]
  },
  {
   "cell_type": "markdown",
   "metadata": {},
   "source": [
    "### 想法一\n",
    "\n",
    "用層序遍歷的概念，將每一層的node加到一個list中，每次append該層的新node時，就讓這個list的最後一個值.next=要append的新值\n",
    "\n",
    "最後每層的最後一個node.next=None，就可以啦！"
   ]
  },
  {
   "cell_type": "code",
   "execution_count": null,
   "metadata": {},
   "outputs": [],
   "source": [
    "class Solution:\n",
    "    def connect(self, root: 'Node') -> 'Node':\n",
    "        # 層序遍歷法，把每一層的node存到一個list中，這個list中的node就是前一節點.next = 後一節點的關係\n",
    "        # 最後一個節點指向None\n",
    "\n",
    "        if not root:\n",
    "            return\n",
    "\n",
    "        root.next = None\n",
    "        curr_level_node = [root]\n",
    "        \n",
    "        while curr_level_node:\n",
    "            next_level_node = []\n",
    "            for node in curr_level_node:\n",
    "                if node.left:\n",
    "                    if next_level_node:\n",
    "                        next_level_node[-1].next = node.left\n",
    "                    next_level_node.append(node.left)\n",
    "                    \n",
    "                if node.right:\n",
    "                    if next_level_node:\n",
    "                        next_level_node[-1].next = node.right\n",
    "                    next_level_node.append(node.right)\n",
    "\n",
    "            # i = 0\n",
    "            # while next_level_node and i+1 < len(next_level_node):\n",
    "            #     next_level_node[i].next = next_level_node[i+1]\n",
    "            #     i += 1\n",
    "            if len(next_level_node) != 0:\n",
    "                next_level_node[-1].next = None\n",
    "\n",
    "            curr_level_node = next_level_node\n",
    "        \n",
    "        return root"
   ]
  },
  {
   "cell_type": "markdown",
   "metadata": {},
   "source": [
    "## 437. Path Sum III\n",
    "\n",
    "Given the root of a binary tree and an integer targetSum, return the number of paths where the sum of the values along the path equals targetSum.\n",
    "\n",
    "The path does not need to start or end at the root or a leaf, but it must go downwards (i.e., traveling only from parent nodes to child nodes).\n",
    "\n",
    "https://leetcode.com/problems/path-sum-iii/description/\n"
   ]
  },
  {
   "cell_type": "markdown",
   "metadata": {},
   "source": [
    "### 想法一\n",
    "\n",
    "解了很久，比較麻煩的是這幾種input: \n",
    "```\n",
    "[0,1,1] targetSum=1\n",
    "[1,2] targetSum=2\n",
    "```\n",
    "\n",
    "因為自己本身的值也是其中一個path，另外就是當node.val==0時，後面的pathSum可能在遍歷子樹時有不只一次等於target，很容易出錯\n",
    "\n",
    "另外要解決的是recursion時，mutation的問題，這部分可以再熟悉一下QQ"
   ]
  },
  {
   "cell_type": "code",
   "execution_count": null,
   "metadata": {},
   "outputs": [],
   "source": [
    "class Solution:\n",
    "    def pathSum(self, root: Optional[TreeNode], targetSum: int) -> int:\n",
    "\n",
    "        if not root:\n",
    "            return 0\n",
    "        \n",
    "        num = [0]\n",
    "        traversal = []\n",
    "\n",
    "        def findPath(root,traversal):\n",
    "\n",
    "            if not root:\n",
    "                return\n",
    "                        \n",
    "            traversal.append(0)\n",
    "            print(traversal, root.val)\n",
    "            for i in map(lambda x: x+root.val, traversal):  # 這裡用for loop是為了避免node.val有0的情況，還有就是這裡是用映射，如果實體化的話，traversal下一步的值會受影響\n",
    "                if i == targetSum:\n",
    "                    num[0] += 1\n",
    "          \n",
    "                 \n",
    "            findPath(root.left, list(map(lambda x: x+root.val, traversal)))\n",
    "            findPath(root.right, list(map(lambda x: x+root.val, traversal)))\n",
    "\n",
    "        findPath(root, [])\n",
    "        \n",
    "        return num[0]\n",
    "    "
   ]
  },
  {
   "cell_type": "markdown",
   "metadata": {},
   "source": [
    "### 解法：Deep-First Search\n",
    "\n",
    "別人解的，還沒研究"
   ]
  },
  {
   "cell_type": "code",
   "execution_count": null,
   "metadata": {},
   "outputs": [],
   "source": [
    "class Solution(object):\n",
    "    def pathSum(self, root, sum):\n",
    "        \n",
    "        def dfs(sumHash, prefixSum, node):\n",
    "\n",
    "            if not node:\n",
    "                return 0\n",
    "            \n",
    "\t\t\t# Sum of current path\n",
    "            prefixSum += node.val\n",
    "            \n",
    "\t\t\t# number of paths that ends at current node\n",
    "            path = sumHash[prefixSum - sum] \n",
    "            \n",
    "\t\t\t# add currentSum to prefixSum Hash\n",
    "            sumHash[prefixSum] += 1\n",
    "            \n",
    "\t\t\t# traverse left and right of tree\n",
    "            path += dfs(sumHash, prefixSum, node.left) + dfs(sumHash, prefixSum, node.right)\n",
    "        \n",
    "\t\t    # remove currentSum from prefixSum Hash\n",
    "            sumHash[prefixSum] -= 1\n",
    "            \n",
    "            return path\n",
    "        \n",
    "        # depth first search, initialize sumHash with prefix sum of 0, occurring once\n",
    "        return dfs(collections.defaultdict(int, {0: 1}), 0, root)"
   ]
  },
  {
   "cell_type": "markdown",
   "metadata": {},
   "source": [
    "## 1339. Maximum Product of Splitted Binary Tree\n",
    "\n",
    "Given the root of a binary tree, split the binary tree into two subtrees by removing one edge such that the product of the sums of the subtrees is maximized.\n",
    "\n",
    "Return the maximum product of the sums of the two subtrees. Since the answer may be too large, return it modulo 10^9 + 7.\n",
    "\n",
    "Note that you need to maximize the answer before taking the mod and not after taking it.\n",
    "\n",
    "https://leetcode.com/problems/maximum-product-of-splitted-binary-tree/description/\n"
   ]
  },
  {
   "cell_type": "markdown",
   "metadata": {},
   "source": [
    "### 想法一\n",
    "\n",
    "這是第一次的submit，在testcase量很大的情況下報了TLE的error~~~~\n"
   ]
  },
  {
   "cell_type": "code",
   "execution_count": null,
   "metadata": {},
   "outputs": [],
   "source": [
    "# Definition for a binary tree node.\n",
    "class TreeNode:\n",
    "    def __init__(self, val=0, left=None, right=None):\n",
    "        self.val = val\n",
    "        self.left = left\n",
    "        self.right = right\n",
    "class Solution:\n",
    "    def maxProduct(self, root: Optional[TreeNode]) -> int:\n",
    "        # 最後的結果要ans = ans % 10^9 + 7\n",
    "        # 這個不是二元搜尋樹\n",
    "        # 遍歷節點的過程中，要得到每個節點以下的所有節點之路徑和（含自己）\n",
    "        # 這樣n個節點會得到一個len(arr) == n的list，根節點的子樹路徑和即為整個tree總和，接著再從這個list中找出相乘最大的數就好了！\n",
    "        # 由下而上\n",
    "\n",
    "        def getSubpathSum(root):\n",
    "            if not root:\n",
    "                return 0\n",
    "            if not root.left and not root.right:\n",
    "                return root.val\n",
    "            return root.val + getSubpathSum(root.left) + getSubpathSum(root.right)\n",
    "\n",
    "        total = getSubpathSum(root)\n",
    "        maxproduct = [0]\n",
    "        def findMaxProduct(root, total):\n",
    "            if not root:\n",
    "                return\n",
    "            if getSubpathSum(root) < total:\n",
    "                maxproduct[0] = max(((total-getSubpathSum(root)) * getSubpathSum(root)), maxproduct[0]) \n",
    "            findMaxProduct(root.left, total)\n",
    "            findMaxProduct(root.right, total)\n",
    "        \n",
    "        findMaxProduct(root, total)\n",
    "        print(maxproduct)\n",
    "        m = 1000000007\n",
    "        maxproduct[0] = maxproduct[0] % m\n",
    "\n",
    "        return maxproduct[0]"
   ]
  },
  {
   "cell_type": "markdown",
   "metadata": {},
   "source": [
    "### 想法二\n",
    "\n",
    "後來參考別人的解之後，修改了上面的case，結果submit成功而且時間beat 95%! <br>\n",
    "想法上差不多，但少了一次遞迴!"
   ]
  },
  {
   "cell_type": "code",
   "execution_count": null,
   "metadata": {},
   "outputs": [],
   "source": [
    "class TreeNode:\n",
    "    def __init__(self, val=0, left=None, right=None):\n",
    "        self.val = val\n",
    "        self.left = left\n",
    "        self.right = right\n",
    "class Solution:\n",
    "    def maxProduct(self, root: TreeNode) -> int:\n",
    "        \n",
    "        def getSubSum(root, sums):\n",
    "            if not root:\n",
    "                return 0\n",
    "            summ = root.val + getSubSum(root.left,sums) + getSubSum(root.right,sums)\n",
    "            sums.append(summ)\n",
    "            return summ\n",
    "            \n",
    "        sums=[]\n",
    "        total = getSubSum(root,sums)\n",
    "        maxproduct = 0\n",
    "        for s in sums:\n",
    "            p = s * (total-s)\n",
    "            maxproduct = max(p, maxproduct)\n",
    "        \n",
    "        \n",
    "        print(maxproduct)\n",
    "        m = 1000000007\n",
    "        maxproduct = maxproduct % m\n",
    "            \n",
    "        return maxproduct\n",
    "\n"
   ]
  },
  {
   "cell_type": "markdown",
   "metadata": {},
   "source": [
    "## 226. Invert Binary Tree\n",
    "\n",
    "Given the root of a binary tree, invert the tree, and return its root.<br>\n",
    "https://leetcode.com/problems/invert-binary-tree/description/\n"
   ]
  },
  {
   "cell_type": "markdown",
   "metadata": {},
   "source": [
    "### 想法\n",
    "\n",
    "這題後來看解答，但這是一題easy...有用到recursion的概念"
   ]
  },
  {
   "cell_type": "code",
   "execution_count": null,
   "metadata": {},
   "outputs": [],
   "source": [
    "# Definition for a binary tree node.\n",
    "# class TreeNode:\n",
    "#     def __init__(self, val=0, left=None, right=None):\n",
    "#         self.val = val\n",
    "#         self.left = left\n",
    "#         self.right = right\n",
    "class Solution:\n",
    "    def invertTree(self, root: Optional[TreeNode]) -> Optional[TreeNode]:\n",
    "        if root is None:\n",
    "            return None\n",
    "\n",
    "        left = self.invertTree(root.left)\n",
    "        right = self.invertTree(root.right)\n",
    "\n",
    "        root.left = right\n",
    "        root.right = left \n",
    "\n",
    "        return root"
   ]
  },
  {
   "cell_type": "markdown",
   "metadata": {},
   "source": [
    "# Sort"
   ]
  },
  {
   "cell_type": "markdown",
   "metadata": {},
   "source": [
    "## 15. 3Sum\n",
    "\n",
    "Given an integer array nums, return all the triplets [nums[i], nums[j], nums[k]] such that i != j, i != k, and j != k, and nums[i] + nums[j] + nums[k] == 0.\n",
    "\n",
    "Notice that the solution set must not contain duplicate triplets."
   ]
  },
  {
   "cell_type": "markdown",
   "metadata": {},
   "source": [
    "### 想法：\n",
    "\n",
    "原來的想法並沒有用到排序概念，會把所有可能的組合都列出來，但題目只想要值的集合是一樣的組合，像這樣：\n",
    "\n",
    "```\n",
    "Input: nums = [-1,0,1,2,-1,-4]\n",
    "Output: [[-1,-1,2],[-1,0,1]]\n",
    "Explanation: \n",
    "nums[0] + nums[1] + nums[2] = (-1) + 0 + 1 = 0.\n",
    "nums[1] + nums[2] + nums[4] = 0 + 1 + (-1) = 0.\n",
    "nums[0] + nums[3] + nums[4] = (-1) + 2 + (-1) = 0.\n",
    "The distinct triplets are [-1,0,1] and [-1,-1,2].\n",
    "Notice that the order of the output and the order of the triplets does not matter.\n",
    "```\n",
    "\n",
    "主要想法是還可以的，遍歷陣列，然後從目前值接下來的陣列中，找到和為「負目前值」的兩個數（這裡就可以用two sum) <br>\n",
    "優化後過TLE的地方有兩個，一個是先進行排序，如果下一個值和前一個值一樣，可以直接跳過，因為他們下一步要找two sum的goal value是一樣的，會找成同個集合<br>\n",
    "跳過的話就可以省掉two sum()中跑迴圈的時間複雜度<br>\n",
    "再來是直接用res = set()去add子集合，就不用拿到一組list後還要用list(map(list,set(map(tuple,res))))去轉...很多餘還很難懂<br>\n",
    "就直接放改過的code了～～～～～<br>\n",
    "\n",
    "有些題目來說，sort()之後會有奇效～～～list.sort()的時間複雜度為nlogn，自己注意~~~\n"
   ]
  },
  {
   "cell_type": "code",
   "execution_count": 2,
   "metadata": {},
   "outputs": [],
   "source": [
    "class Solution:\n",
    "    def threeSum(self, nums: list) -> list:\n",
    "\n",
    "        def twoSum(arr, goal):\n",
    "            hashmap={}\n",
    "            for i in arr:\n",
    "                if i in hashmap:\n",
    "                    res.add((-goal,i,goal-i))\n",
    "                else:\n",
    "                    hashmap[(goal-i)] = True\n",
    "\n",
    "        nums.sort()\n",
    "        res = set()\n",
    "        for i,v in enumerate(nums[:-2]):\n",
    "            if i >= 1 and v == nums[i-1]:\n",
    "                continue\n",
    "            nums_behind_i = nums[(i+1):]\n",
    "            twoSum(nums_behind_i, -nums[i])\n",
    "\n",
    "   \n",
    "        return list(res)\n"
   ]
  },
  {
   "cell_type": "markdown",
   "metadata": {},
   "source": [
    "## 2389. Longest Subsequence With Limited Sum\n",
    "\n",
    "You are given an integer array nums of length n, and an integer array queries of length m.\n",
    "\n",
    "Return an array answer of length m where answer[i] is the maximum size of a subsequence that you can take from nums such that the sum of its elements is less than or equal to queries[i].\n",
    "\n",
    "A subsequence is an array that can be derived from another array by deleting some or no elements without changing the order of the remaining elements.\n",
    "\n",
    "Example:\n",
    "```\n",
    "Input: nums = [4,5,2,1], queries = [3,10,21]\n",
    "Output: [2,3,4]\n",
    "Explanation: We answer the queries as follows:\n",
    "- The subsequence [2,1] has a sum less than or equal to 3. It can be proven that 2 is the maximum size of such a subsequence, so answer[0] = 2.\n",
    "- The subsequence [4,5,1] has a sum less than or equal to 10. It can be proven that 3 is the maximum size of such a subsequence, so answer[1] = 3.\n",
    "- The subsequence [4,5,2,1] has a sum less than or equal to 21. It can be proven that 4 is the maximum size of such a subsequence, so answer[2] = 4.\n",
    "\n",
    "```"
   ]
  },
  {
   "cell_type": "markdown",
   "metadata": {},
   "source": [
    "### 想法：\n",
    "\n",
    "官方分類在easy，但花的時間比較像簡單一點的medium!<br>\n",
    "不過解完時間複雜度算還可以，可喜可賀<br>\n",
    "問的很複雜，但是主要想法是，nums由小排到大，每個數累加的和如果不超過指定值，共累加了幾個數就會是解～<br>\n",
    "這裡的ss就是把每個位置前面的和累加起來的list，再來是排序queries(這時要把它的Index存下來以便放回正確原始位置) <br>\n",
    "這樣就可以由小到大遍歷queries中的數，從最小的指定值開始跟ss序列中的值去比，如果碰上ss中的值比較大，就回傳目前ss的index(剛好就是前面有多少個數)<br>\n",
    "注意因為指定值有排序過，所以遍歷ss時可以持續向前不回溯～<br>\n",
    "雖然是easy，但滿多可以注意的點，最後有想到不錯的解，很不錯～～雖然花有點久時間哈哈～～聖誕快樂～～～2022-12-25！"
   ]
  },
  {
   "cell_type": "code",
   "execution_count": null,
   "metadata": {},
   "outputs": [],
   "source": [
    "class Solution:\n",
    "    def answerQueries(self, nums: List[int], queries: List[int]) -> List[int]:\n",
    "\n",
    "        # 原來這招叫prefix sum\n",
    "        nums.sort()\n",
    "        ss = [0 for _ in range(len(nums))]\n",
    "        ss[0] = nums[0]\n",
    "        for i in range(1,len(nums)):\n",
    "            ss[i] = ss[i-1] + nums[i]\n",
    "\n",
    "\n",
    "        # 這招是學官神的！（hard,海水淹沒那題）因為queries的數字是累加上去，所以照順序排的話，得到的數也可以累加～這時候順序可以用tuple存取index!\n",
    "        # 時間複雜度是O(N+M)!\n",
    "\n",
    "        q = []\n",
    "        for i,v in enumerate(queries):\n",
    "            q.append((v,i))\n",
    "        q.sort(key=lambda x:x[0])\n",
    "\n",
    "\n",
    "        res = [0 for _ in range(len(queries))]\n",
    "        i = 0\n",
    "        for v,idx in q:\n",
    "        \n",
    "            while i < len(nums):\n",
    "                if ss[i] > v:\n",
    "                    res[idx] = i\n",
    "                    break\n",
    "                i += 1\n",
    "        \n",
    "            if i == len(nums) and v >= ss[i-1]:\n",
    "                res[idx] = i\n",
    "\n",
    "        return res\n"
   ]
  },
  {
   "cell_type": "markdown",
   "metadata": {},
   "source": [
    "## 452. Minimum Number of Arrows to Burst Balloons\n",
    "\n",
    "https://leetcode.com/problems/minimum-number-of-arrows-to-burst-balloons/description/\n"
   ]
  },
  {
   "cell_type": "markdown",
   "metadata": {},
   "source": [
    "### 想法：\n",
    "\n",
    "這題不難，只是我一剛開始sort起始位置，但其實sort終止位置就好～～～"
   ]
  },
  {
   "cell_type": "code",
   "execution_count": null,
   "metadata": {},
   "outputs": [],
   "source": [
    "class Solution:\n",
    "    def findMinArrowShots(self, points: List[List[int]]) -> int:\n",
    "        \n",
    "        \n",
    "        points.sort(key=lambda x:x[1])\n",
    "\n",
    "        end = points[0][1]\n",
    "        count = 1\n",
    "        for s,e in points[1:]:\n",
    "            if s > end:\n",
    "                end = e\n",
    "                count += 1 \n",
    "        \n",
    "        return count"
   ]
  },
  {
   "cell_type": "markdown",
   "metadata": {},
   "source": [
    "## 75. Sort Colors （再補）\n",
    "\n",
    "Given an array nums with n objects colored red, white, or blue, sort them in-place so that objects of the same color are adjacent, with the colors in the order red, white, and blue.\n",
    "\n",
    "We will use the integers 0, 1, and 2 to represent the color red, white, and blue, respectively.\n",
    "\n",
    "You must solve this problem without using the library's sort function.\n",
    "\n",
    "Follow up: Could you come up with a one-pass algorithm using only constant extra space?\n",
    "\n",
    "https://leetcode.com/problems/sort-colors/description/"
   ]
  },
  {
   "cell_type": "markdown",
   "metadata": {},
   "source": [
    "### 想法\n",
    "\n",
    "很奇妙的題目！要考量一下list mutable的性質，可以再想一下～"
   ]
  },
  {
   "cell_type": "code",
   "execution_count": null,
   "metadata": {},
   "outputs": [],
   "source": [
    "class Solution:\n",
    "    def sortColors(self, nums: List[int]) -> None:\n",
    "        \"\"\"\n",
    "        Do not return anything, modify nums in-place instead.\n",
    "        \"\"\"\n",
    "\n",
    "        for i in range(1, len(nums)):\n",
    "            right = nums[i]\n",
    "            li = i-1\n",
    "            while li >= 0 and right < nums[li]:\n",
    "                nums[li+1] = nums[li]\n",
    "                li -= 1\n",
    "            nums[li+1] = right\n",
    "        \n",
    "        print(nums)"
   ]
  },
  {
   "cell_type": "markdown",
   "metadata": {},
   "source": [
    "# Two Pointer"
   ]
  },
  {
   "cell_type": "markdown",
   "metadata": {},
   "source": [
    "## 18. 4Sum （要再補解析）\n",
    "\n",
    "Given an array nums of n integers, return an array of all the unique quadruplets [nums[a], nums[b], nums[c], nums[d]] such that:\n",
    "\n",
    "- 0 <= a, b, c, d < n\n",
    "- a, b, c, and d are distinct.\n",
    "- nums[a] + nums[b] + nums[c] + nums[d] == target\n",
    "\n",
    "\n",
    "You may return the answer in any order."
   ]
  },
  {
   "cell_type": "markdown",
   "metadata": {},
   "source": [
    "### 想法\n",
    "\n",
    "參考：https://github.com/wisdompeak/LeetCode/blob/master/Two_Pointers/018.4Sum/18.%204Sum_s1.cpp\n",
    "\n",
    "不斷剪枝～～～～剪剪剪"
   ]
  },
  {
   "cell_type": "code",
   "execution_count": null,
   "metadata": {},
   "outputs": [],
   "source": [
    "class Solution:\n",
    "    def fourSum(self, nums: List[int], target: int) -> List[List[int]]:\n",
    "\n",
    "        if len(nums) < 4:\n",
    "            return []\n",
    "\n",
    "        nums.sort()\n",
    "        result = []\n",
    "        for i in range(len(nums)):\n",
    "           \n",
    "            if nums[i]*4 > target:\n",
    "                break\n",
    "            if nums[i] + 3*nums[-1] < target:\n",
    "                continue\n",
    "\n",
    "            if i > 0 and nums[i] == nums[i-1]:\n",
    "                continue # 重複元素跳過\n",
    "\n",
    "            for j in range(i+1,len(nums)):\n",
    "                if nums[i] + 3*nums[j] > target:\n",
    "                    break\n",
    "                if nums[i] + nums[j] + 2*nums[-1] < target:\n",
    "                    continue\n",
    "                \n",
    "                if j > i+1 and nums[j]==nums[j-1]:\n",
    "                    continue\n",
    "                \n",
    "                summ = target - (nums[i] + nums[j])\n",
    "                left = j+1\n",
    "                right = len(nums) - 1\n",
    "               \n",
    "                \n",
    "                if left < right and nums[i] + nums[j] + 2*nums[left] > target:\n",
    "                    break\n",
    "                \n",
    "\n",
    "                while left < right:\n",
    "                  \n",
    "                    if sum([nums[i], nums[j], nums[left], nums[right]]) == target:\n",
    "                        result.append([nums[i], nums[j], nums[left], nums[right]])\n",
    "                        left += 1\n",
    "                        right -= 1\n",
    "                        \n",
    "                        while nums[left] == nums[left-1] and left < right:\n",
    "                            left += 1\n",
    "                        while nums[right] == nums[right+1] and left < right:\n",
    "                            right -= 1\n",
    "\n",
    "                    elif nums[left] + nums[right] > summ:\n",
    "                        right -= 1\n",
    "\n",
    "                    elif nums[left] + nums[right] < summ:\n",
    "                        left += 1\n",
    "\n",
    "\n",
    "                \n",
    "          \n",
    "\n",
    "        \n",
    "        return result"
   ]
  },
  {
   "cell_type": "markdown",
   "metadata": {},
   "source": [
    "# Greedy"
   ]
  },
  {
   "cell_type": "markdown",
   "metadata": {},
   "source": [
    "## 134. Gas Station\n",
    "\n",
    "There are n gas stations along a circular route, where the amount of gas at the ith station is gas[i].\n",
    "\n",
    "You have a car with an unlimited gas tank and it costs cost[i] of gas to travel from the ith station to its next (i + 1)th station. You begin the journey with an empty tank at one of the gas stations.\n",
    "\n",
    "Given two integer arrays gas and cost, return the starting gas station's index if you can travel around the circuit once in the clockwise direction, otherwise return -1. If there exists a solution, it is guaranteed to be unique\n",
    "\n",
    "Example:\n",
    "```\n",
    "Input: gas = [1,2,3,4,5], cost = [3,4,5,1,2]\n",
    "Output: 3\n",
    "Explanation:\n",
    "Start at station 3 (index 3) and fill up with 4 unit of gas. Your tank = 0 + 4 = 4\n",
    "Travel to station 4. Your tank = 4 - 1 + 5 = 8\n",
    "Travel to station 0. Your tank = 8 - 2 + 1 = 7\n",
    "Travel to station 1. Your tank = 7 - 3 + 2 = 6\n",
    "Travel to station 2. Your tank = 6 - 4 + 3 = 5\n",
    "Travel to station 3. The cost is 5. Your gas is just enough to travel back to station 3.\n",
    "Therefore, return 3 as the starting index.\n",
    "\n",
    "```\n",
    "https://leetcode.com/problems/gas-station/"
   ]
  },
  {
   "cell_type": "markdown",
   "metadata": {},
   "source": [
    "# Sliding Window"
   ]
  },
  {
   "cell_type": "markdown",
   "metadata": {},
   "source": [
    "## 438. Find All Anagrams in a String\n",
    "\n",
    "Given two strings s and p, return an array of all the start indices of p's anagrams in s. You may return the answer in any order.\n",
    "\n",
    "An Anagram is a word or phrase formed by rearranging the letters of a different word or phrase, typically using all the original letters exactly once.\n",
    "\n",
    "```\n",
    "Input: s = \"cbaebabacd\", p = \"abc\"\n",
    "Output: [0,6]\n",
    "Explanation:\n",
    "The substring with start index = 0 is \"cba\", which is an anagram of \"abc\".\n",
    "The substring with start index = 6 is \"bac\", which is an anagram of \"abc\".\n",
    "\n",
    "```"
   ]
  },
  {
   "cell_type": "markdown",
   "metadata": {},
   "source": [
    "### 想法\n",
    "\n",
    "這題是偉大的GPT想的...我太少寫sliding window相關的題目了，最近又太久沒寫，腦袋打結，就call out求救了，但他給了個可愛的解法(?)<br>\n",
    "[!ord()function的解釋在這](https://www.runoob.com/python/python-func-ord.html)會返回對應的ASCII 数值，或者 Unicode 数值的函數<br>\n",
    "把所有字母做一個table，有出現的字母+1，當依序比對超出sliding window時，就把超出去的前面字母消掉(s[i-len(p)])<br>\n",
    "最後當s和p的count_table長一樣時，就能回傳溜！<br>\n",
    "感覺可以把那個ord()改成hash_table改良一下～～～～～～"
   ]
  },
  {
   "cell_type": "code",
   "execution_count": null,
   "metadata": {},
   "outputs": [],
   "source": [
    "class Solution:\n",
    "    def findAnagrams(self, s: str, p: str) -> list:\n",
    "\n",
    "        # sliding window , 太久沒寫就call out了，chatgpt給了個奇妙解法(?)比較少寫sliding window，有點不確定這種正不正規...但感覺只適用於限小寫英文字啊\n",
    "        \n",
    "        # 先設兩個包含字母位置的空list\n",
    "        s_count = [0 for _ in range(26)]\n",
    "        p_count = [0 for _ in range(26)]\n",
    "\n",
    "        # 把要比對的字串加進去p_count中，有出現的字母加1，這裡ord()是個返回對應的 ASCII 数值，或者 Unicode 数值的函數\n",
    "        for letter in p:\n",
    "            p_count[ord(letter) - ord('a')] += 1\n",
    "        \n",
    "        # 再來看主字串，依序比對，前面第一個window(len(p)的範圍內)把出現的字母count+1, 接下來隨著window移動，把超出window的字母count值-1~哇，真是想了個好方法呢gpt\n",
    "        res = []\n",
    "        for i in range(len(s)):\n",
    "            s_count[ord(s[i]) - ord('a')] += 1\n",
    "            if i >= len(p):\n",
    "                s_count[ord(s[i-len(p)]) - ord('a')] -= 1\n",
    "            if s_count == p_count:\n",
    "                res.append(i - len(p) + 1)\n",
    "\n",
    "        return res"
   ]
  },
  {
   "cell_type": "markdown",
   "metadata": {},
   "source": [
    "## 424. Longest Repeating Character Replacement\n",
    "\n",
    "You are given a string s and an integer k. You can choose any character of the string and change it to any other uppercase English character. You can perform this operation at most k times.\n",
    "\n",
    "Return the length of the longest substring containing the same letter you can get after performing the above operations.\n",
    "\n",
    "```\n",
    "Input: s = \"AABABBA\", k = 1\n",
    "Output: 4\n",
    "Explanation: Replace the one 'A' in the middle with 'B' and form \"AABBBBA\".\n",
    "The substring \"BBBB\" has the longest repeating letters, which is 4.\n",
    "\n",
    "```"
   ]
  },
  {
   "cell_type": "markdown",
   "metadata": {},
   "source": [
    "### 想法\n",
    "後來是看[官神影片講解](https://www.youtube.com/watch?v=wXicFFUVdd0&ab_channel=HuifengGuan)的～～～他說#1004 #2024是類題，可以寫寫看，還有[文字講解](https://github.com/wisdompeak/LeetCode/tree/master/Two_Pointers/424.Longest-Repeating-Character-Replacement)<br>\n",
    "計數列與sliding_window調整位置或視窗大小時動態刪減的概念上面那題也有用到就是了\n"
   ]
  },
  {
   "cell_type": "code",
   "execution_count": 2,
   "metadata": {},
   "outputs": [
    {
     "ename": "TypeError",
     "evalue": "unsupported operand type(s) for -: 'str' and 'str'",
     "output_type": "error",
     "traceback": [
      "\u001b[0;31m---------------------------------------------------------------------------\u001b[0m",
      "\u001b[0;31mTypeError\u001b[0m                                 Traceback (most recent call last)",
      "Cell \u001b[0;32mIn [2], line 1\u001b[0m\n\u001b[0;32m----> 1\u001b[0m [\u001b[39m'\u001b[39;49m\u001b[39mb\u001b[39;49m\u001b[39m'\u001b[39;49m\u001b[39m-\u001b[39;49m\u001b[39m'\u001b[39;49m\u001b[39ma\u001b[39;49m\u001b[39m'\u001b[39;49m]\n",
      "\u001b[0;31mTypeError\u001b[0m: unsupported operand type(s) for -: 'str' and 'str'"
     ]
    }
   ],
   "source": [
    "class Solution:\n",
    "    def characterReplacement(self, s: str, k: int) -> int:\n",
    "\n",
    "        # 設一個計數器列表，記錄sliding windows中，各個字母出現的次數\n",
    "        count = [0 for _ in range(26)]\n",
    "\n",
    "        # 左指標(i)先不動，移動右指標(j)加大sliding window，當視窗不合規定時，縮限左指標一格～\n",
    "        i = 0\n",
    "        res = 0\n",
    "        for j in range(len(s)):\n",
    "            count[ord(s[j]) - ord('A')] += 1\n",
    "            while (j-i+1) - max(count) > k:\n",
    "                count[ord(s[i]) - ord('A')] -= 1\n",
    "                i += 1\n",
    "            res = max(res, j-i+1)\n",
    "        \n",
    "        return res"
   ]
  }
 ],
 "metadata": {
  "kernelspec": {
   "display_name": "Python 3.9.13 ('dask_worker')",
   "language": "python",
   "name": "python3"
  },
  "language_info": {
   "codemirror_mode": {
    "name": "ipython",
    "version": 3
   },
   "file_extension": ".py",
   "mimetype": "text/x-python",
   "name": "python",
   "nbconvert_exporter": "python",
   "pygments_lexer": "ipython3",
   "version": "3.9.13"
  },
  "orig_nbformat": 4,
  "vscode": {
   "interpreter": {
    "hash": "06f7aefc5041c770a0b6cea7ade4adb70dd9687b6650a782b2420b49498c49c5"
   }
  }
 },
 "nbformat": 4,
 "nbformat_minor": 2
}
