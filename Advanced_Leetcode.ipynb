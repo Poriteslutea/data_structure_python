{
 "cells": [
  {
   "cell_type": "markdown",
   "metadata": {},
   "source": [
    "# Breadth-First Search\n"
   ]
  },
  {
   "cell_type": "markdown",
   "metadata": {},
   "source": [
    "## 279. Perfect Squares\n",
    "\n",
    "Given an integer n, return the least number of perfect square numbers that sum to n.\n",
    "\n",
    "A perfect square is an integer that is the square of an integer; in other words, it is the product of some integer with itself. For example, 1, 4, 9, and 16 are perfect squares while 3 and 11 are not.\n",
    "\n",
    "Example:\n",
    "```\n",
    "Input: n = 12\n",
    "Output: 3\n",
    "Explanation: 12 = 4 + 4 + 4.\n",
    "```\n",
    "\n"
   ]
  },
  {
   "cell_type": "markdown",
   "metadata": {},
   "source": [
    "### 自己想的\n",
    "\n",
    "沒有成功，只能拆解出其中一種，算是用遞迴吧"
   ]
  },
  {
   "cell_type": "code",
   "execution_count": 15,
   "metadata": {},
   "outputs": [
    {
     "name": "stdout",
     "output_type": "stream",
     "text": [
      "end\n"
     ]
    },
    {
     "data": {
      "text/plain": [
       "[3025, 36, 9]"
      ]
     },
     "execution_count": 15,
     "metadata": {},
     "output_type": "execute_result"
    }
   ],
   "source": [
    "import math\n",
    "num = 0\n",
    "\n",
    "# 這個方法只能拆解出其中一種，沒辦法算出最少可能性的～～～\n",
    "def decompose(n):\n",
    "    ss = []\n",
    "    i = math.floor(n**0.5)\n",
    "    k = n - i**2\n",
    "    if math.floor(k**0.5) == k**0.5:\n",
    "        ss.append(i**2)\n",
    "        ss.append(k)\n",
    "        print(f'end')\n",
    "    else:\n",
    "        ss.append(i**2)\n",
    "        ss.extend(decompose(k))\n",
    "        \n",
    "    return ss\n",
    "\n",
    "decompose(3070)\n",
    "    \n",
    "\n",
    "\n"
   ]
  },
  {
   "cell_type": "markdown",
   "metadata": {},
   "source": [
    "### 解法：Dynamic programming\n",
    "\n"
   ]
  },
  {
   "cell_type": "code",
   "execution_count": 21,
   "metadata": {},
   "outputs": [
    {
     "name": "stdout",
     "output_type": "stream",
     "text": [
      "[0, 1, 2, 3, 1, 2, 3, 4, 2, 1, 2, 3, 3, 2, 3, 4, 1, 2, 2, 3, 2, 3, 3, 4, 3, 1, 2, 3, 4, 2, 3]\n"
     ]
    },
    {
     "data": {
      "text/plain": [
       "3"
      ]
     },
     "execution_count": 21,
     "metadata": {},
     "output_type": "execute_result"
    }
   ],
   "source": [
    "from math import isqrt  # math.isqrt(n) >> get the floor value of exact square root of n \n",
    "    \n",
    "def numSquares(n: int, dp = [0]) -> int:\n",
    "\n",
    "    for k in range(len(dp), n+1):\n",
    "        if k == len(dp) : dp.append(k)\n",
    "        for i in range(1, isqrt(k)+1):\n",
    "            dp[k] = min(dp[k], 1 + dp[k - (i*i)])\n",
    "\n",
    "    print(dp)\n",
    "            \n",
    "    return dp[n]\n",
    "\n",
    "numSquares(30)"
   ]
  },
  {
   "cell_type": "markdown",
   "metadata": {},
   "source": [
    "### 解法：BFS\n",
    "\n"
   ]
  },
  {
   "cell_type": "code",
   "execution_count": 28,
   "metadata": {},
   "outputs": [
    {
     "name": "stdout",
     "output_type": "stream",
     "text": [
      "deque([(10, 2), (17, 2), (26, 2), (8, 2), (13, 2), (20, 2), (29, 2), (18, 2), (3, 3), (6, 3), (11, 3), (27, 3), (14, 3), (21, 3)])\n"
     ]
    },
    {
     "data": {
      "text/plain": [
       "3"
      ]
     },
     "execution_count": 28,
     "metadata": {},
     "output_type": "execute_result"
    }
   ],
   "source": [
    "from collections import deque\n",
    "\n",
    "def numSquares(n: int) -> int:\n",
    "        q=deque()\n",
    "        visited=set()\n",
    "        q.append((0,0))\n",
    "        while q:\n",
    "            s,count=q.popleft()\n",
    "            count+=1\n",
    "            for i in range(1,n+1):\n",
    "                temp=s+i*i\n",
    "                if temp>n:\n",
    "                    break\n",
    "                if temp==n:\n",
    "                    print(q)\n",
    "                    return count\n",
    "                if temp not in visited:\n",
    "                    visited.add(temp)\n",
    "                    q.append((temp,count))\n",
    "        \n",
    "        \n",
    "\n",
    "numSquares(30)"
   ]
  },
  {
   "cell_type": "markdown",
   "metadata": {},
   "source": [
    "## 1926. Nearest Exit from Entrance in Maze\n",
    "\n",
    "You are given an m x n matrix maze (0-indexed) with empty cells (represented as '.') and walls (represented as '+'). \n",
    "\n",
    "You are also given the entrance of the maze, where entrance = [entrance(row), entrance(col)] denotes the row and column of the cell you are initially standing at.\n",
    "\n",
    "In one step, you can move one cell up, down, left, or right. You cannot step into a cell with a wall, and you cannot step outside the maze. \n",
    "\n",
    "Your goal is to find the nearest exit from the entrance. An exit is defined as an empty cell that is at the border of the maze. The entrance does not count as an exit.\n",
    "\n",
    "Return the number of steps in the shortest path from the entrance to the nearest exit, or -1 if no such path exists.\n",
    "\n",
    "Example:\n",
    "\n",
    "> Input: maze = [[\"+\",\"+\",\".\",\"+\"],[\".\",\".\",\".\",\"+\"],[\"+\",\"+\",\"+\",\".\"]], entrance = [1,2]\n",
    ">\n",
    "> Output: 1\n",
    ">\n",
    "> Explanation: There are 3 exits in this maze at [1,0], [0,2], and [2,3].\n",
    "> Initially, you are at the entrance cell [1,2].\n",
    "> - You can reach [1,0] by moving 2 steps left.\n",
    "> - You can reach [0,2] by moving 1 step up.\n",
    "> - It is impossible to reach [2,3] from the entrance.\n",
    "> Thus, the nearest exit is [0,2], which is 1 step away.\n",
    ">  \n",
    ">"
   ]
  },
  {
   "cell_type": "markdown",
   "metadata": {},
   "source": [
    "### 解法：BFS\n"
   ]
  },
  {
   "cell_type": "code",
   "execution_count": 32,
   "metadata": {},
   "outputs": [
    {
     "data": {
      "text/plain": [
       "1"
      ]
     },
     "execution_count": 32,
     "metadata": {},
     "output_type": "execute_result"
    }
   ],
   "source": [
    "from collections import deque\n",
    "\n",
    "def nearestExit(maze: list, e: list) -> int:\n",
    "    \n",
    "    m, n = len(maze), len(maze[0])\n",
    "    x, y = e\n",
    "    \n",
    "    # this lambda checks the exit condition \n",
    "    is_exit = lambda i, j : i*j==0 or i==m-1 or j==n-1\n",
    "    \n",
    "    # this generator yields (!) allowed directions\n",
    "    def adj(i,j, dirs=[1, 0, -1, 0, 1]):\n",
    "        for d in range(4):\n",
    "            ii, jj = i + dirs[d], j + dirs[d+1]\n",
    "            if 0 <= ii < m and 0 <= jj < n and maze[ii][jj] != \"+\":\n",
    "                yield ii,jj\n",
    "        \n",
    "    dq = deque([(x,y,0)])                      # [1] start from the entrance...\n",
    "    maze[x][y] = '+'                           #     ...and mark it as visited\n",
    "    while dq:                                  # [2] while there are still places to go...\n",
    "        i, j, s = dq.popleft()                 #     ...try going there (don't try, do it!)\n",
    "        for ii,jj in adj(i,j):                 # [3] look around, make a step...\n",
    "            maze[ii][jj] = \"+\"                 #     ...and mark it as visited\n",
    "            if is_exit(ii,jj) : return s+1     # [4] great, it's the exit!\n",
    "            dq.append((ii,jj,s+1))             # [5] or maybe not, continue searching\n",
    "            \n",
    "    return -1                                  # [6] BFS failed, there is no escape\n",
    "\n",
    "\n",
    "maze = [[\"+\",\"+\",\".\",\"+\"],[\".\",\".\",\".\",\"+\"],[\"+\",\"+\",\"+\",\".\"]]\n",
    "e = [1,2]\n",
    "nearestExit(maze, e)"
   ]
  },
  {
   "cell_type": "markdown",
   "metadata": {},
   "source": [
    "# Union Find"
   ]
  },
  {
   "cell_type": "markdown",
   "metadata": {},
   "source": [
    "## 947. Most Stones Removed with Same Row or Column\n",
    "\n",
    "On a 2D plane, we place n stones at some integer coordinate points. Each coordinate point may have at most one stone.\n",
    "\n",
    "A stone can be removed if it shares either the same row or the same column as another stone that has not been removed.\n",
    "\n",
    "Given an array stones of length n where stones[i] = [xi, yi] represents the location of the ith stone, return the largest possible number of stones that can be removed.\n",
    "\n",
    "Leetcode Link : https://leetcode.com/problems/most-stones-removed-with-same-row-or-column/"
   ]
  },
  {
   "cell_type": "markdown",
   "metadata": {},
   "source": [
    "### 自己想的\n",
    "\n",
    "但因為判斷要從哪個先刪除僅以每行每列所含的石頭數量判斷，如果刪錯順序就找不到最大刪除石頭數，所以一些比較複雜的case容易失敗QQ\n",
    "我想了一整天...哭哭"
   ]
  },
  {
   "cell_type": "code",
   "execution_count": null,
   "metadata": {},
   "outputs": [],
   "source": [
    "from collections import Counter\n",
    "stones = [[0,0],[0,2],[1,1],[2,0],[2,2]]\n",
    "row_count = Counter(list(map(lambda x: x[0], stones)))\n",
    "col_count = Counter(list(map(lambda x: x[1], stones)))\n",
    "del_num = 0\n",
    "ss = sorted(stones, key=lambda x: min(row_count[x[0]], col_count[x[1]]))\n",
    "sss = list(map(lambda x:(row_count[x[0]], col_count[x[1]]), ss))\n",
    "print(ss)\n",
    "print(sss)\n",
    "i=0\n",
    "while any(list(map(lambda x: x >1 ,row_count.values()))) and any(list(map(lambda x: x >1 ,col_count.values()))) :\n",
    "\n",
    "    print(i)\n",
    "    \n",
    "    if row_count[ss[i][0]] == 1 and col_count[ss[i][1]] == 1:\n",
    "        i += 1\n",
    "        print('keep')\n",
    "\n",
    "    elif row_count[ss[i][0]] == 1 or col_count[ss[i][1]] == 1:\n",
    "        row_count[ss[i][0]] -= 1\n",
    "        col_count[ss[i][1]] -= 1\n",
    "        del_num += 1\n",
    "        stones.remove(ss[i])\n",
    "        i += 1\n",
    "        \n",
    "    else:\n",
    "        ss = sorted(stones, key=lambda x: min(row_count[x[0]], col_count[x[1]]))\n",
    "        print(ss)\n",
    "        print(list(map(lambda x:(row_count[x[0]], col_count[x[1]]), ss)))\n",
    "        \n",
    "        if row_count[ss[i][0]] == 1 and col_count[ss[i][1]] == 1:\n",
    "            i += 1\n",
    "        else:\n",
    "            row_count[ss[i][0]] -= 1\n",
    "            col_count[ss[i][1]] -= 1\n",
    "            del_num += 1\n",
    "            stones.remove(ss[i])\n",
    "            i += 1\n",
    "\n",
    "\n",
    "del_num"
   ]
  },
  {
   "cell_type": "markdown",
   "metadata": {},
   "source": [
    "# Bisection Search"
   ]
  },
  {
   "cell_type": "markdown",
   "metadata": {},
   "source": [
    "## 374. Guess Number Higher or Lower\n",
    "\n",
    "We are playing the Guess Game. The game is as follows:\n",
    "\n",
    "I pick a number from 1 to n. You have to guess which number I picked.\n",
    "\n",
    "Every time you guess wrong, I will tell you whether the number I picked is higher or lower than your guess.\n",
    "\n",
    "You call a pre-defined API int guess(int num), which returns three possible results:\n",
    "```\n",
    "-1: Your guess is higher than the number I picked (i.e. num > pick).\n",
    "1: Your guess is lower than the number I picked (i.e. num < pick).\n",
    "0: your guess is equal to the number I picked (i.e. num == pick).\n",
    "```\n",
    "Return the number that I picked."
   ]
  },
  {
   "cell_type": "markdown",
   "metadata": {},
   "source": [
    "### 想法\n",
    "\n",
    "二元樹搜尋的題目，需要注意的是，當mid不等於pick並且要把左右指標移來時，應該要shift一位，免得無限迴圈發生（pick剛好在右邊界上，mid會無限對應不到）"
   ]
  },
  {
   "cell_type": "code",
   "execution_count": null,
   "metadata": {},
   "outputs": [],
   "source": [
    "def guess(num, pick=6):\n",
    "\n",
    "    if num > pick:\n",
    "        return -1\n",
    "    elif num < pick:\n",
    "        return 1\n",
    "    else:\n",
    "        return 0\n",
    "\n",
    "def guessNumber(n: int) -> int:\n",
    "    left = 1\n",
    "    right = n\n",
    "    mid = (n + 1) // 2\n",
    "    print(mid)\n",
    "    while guess(mid) != 0:\n",
    "        if guess(mid) == -1:\n",
    "            right = mid - 1\n",
    "            mid = (left + right) // 2\n",
    "        else:\n",
    "            left = mid + 1\n",
    "            mid = (left + right) // 2\n",
    "        print(mid)\n",
    "\n",
    "    return mid\n",
    "\n",
    "\n",
    "# 正式的二元樹解法(左閉合+右閉合，即Pick可能在left上或right上)\n",
    "def guessNumber_2(n: int) -> int:\n",
    "    left = 1\n",
    "    right = n\n",
    "    while left <= right:\n",
    "        mid = left + (right - left) // 2 #防止 left+right/2 溢位 \n",
    "        if guess(mid) == -1:  \n",
    "            right = mid - 1\n",
    "        elif guess(mid) == 1:\n",
    "            left = mid + 1\n",
    "        else:\n",
    "            return mid"
   ]
  },
  {
   "cell_type": "markdown",
   "metadata": {},
   "source": [
    "# Backtracking"
   ]
  },
  {
   "cell_type": "markdown",
   "metadata": {},
   "source": [
    "## 79. Word Search\n",
    "\n",
    "Given an m x n grid of characters board and a string word, return true if word exists in the grid.\n",
    "\n",
    "The word can be constructed from letters of sequentially adjacent cells, where adjacent cells are horizontally or vertically neighboring. \n",
    "\n",
    "The same letter cell may not be used more than once.\n",
    "\n",
    "Example：\n",
    "```\n",
    "Input: board = [[\"A\",\"B\",\"C\",\"E\"],[\"S\",\"F\",\"C\",\"S\"],[\"A\",\"D\",\"E\",\"E\"]], word = \"ABCCED\"\n",
    "Output: true\n",
    "\n",
    "```"
   ]
  },
  {
   "cell_type": "markdown",
   "metadata": {},
   "source": [
    "### 解法：Backtracking"
   ]
  },
  {
   "cell_type": "code",
   "execution_count": 35,
   "metadata": {},
   "outputs": [],
   "source": [
    "\n",
    "def exist(board: list, word: str) -> bool:\n",
    "    \n",
    "    directions = [[0,1],[1,0],[0,-1],[-1,0]]   # 上下左右的方向\n",
    "    m,n = len(board),len(board[0])             # 列數跟行數\n",
    "    \n",
    "    def backtrack(i,j,k,visited):  # 判斷有沒有下一步\n",
    "        \n",
    "        if board[i][j] == word[k]:   # 目前位置有比對成功，代表能找到下一步           \n",
    "            if k==len(word)-1:       # 當k已經是word最後一個index時，代表全部比對完成，回傳正確\n",
    "                return True\n",
    "            \n",
    "            for xn,yn in directions:\n",
    "                x,y = i+xn,j+yn      # 走完下一步時的位置\n",
    "                if 0<=x<m and 0<=y<n and (x,y) not in visited:             # 當下一步的位置在合理範圍內\n",
    "                    if backtrack(x,y,k+1,visited.union({(x,y)}))==True:    # 比對下一步：用union合併集合，放查找過的位置，x, y不可超出範圍，是下一步的位置，k+1是比對下一個字母\n",
    "                        return True                                        # 當下一步開始能走到最後，return True\n",
    "        \n",
    "        return False  # 當符合下一步條件的位置都無法走到最後，才return False\n",
    "    \n",
    "    # 查找board上每一個位置，看每個位置出發後能不能走到最後\n",
    "    for i in range(m):\n",
    "        for j in range(n):\n",
    "            if backtrack(i,j,0,{(i,j)}):  # 當確定找到後，就return True\n",
    "                return True\n",
    "    return False                          # 每一個都找完確定都沒有，才return False"
   ]
  },
  {
   "cell_type": "code",
   "execution_count": 36,
   "metadata": {},
   "outputs": [
    {
     "data": {
      "text/plain": [
       "True"
      ]
     },
     "execution_count": 36,
     "metadata": {},
     "output_type": "execute_result"
    }
   ],
   "source": [
    "board = [[\"A\",\"B\",\"C\",\"E\"],[\"S\",\"F\",\"C\",\"S\"],[\"A\",\"D\",\"E\",\"E\"]]\n",
    "word = \"ABCCED\"\n",
    "exist(board, word)"
   ]
  },
  {
   "cell_type": "markdown",
   "metadata": {},
   "source": [
    "## 22. Generate Parentheses\n",
    "\n",
    "Given n pairs of parentheses, write a function to generate all combinations of well-formed parentheses.\n",
    "\n",
    "Example 1:\n",
    "```\n",
    "Input: n = 3\n",
    "Output: [\"((()))\",\"(()())\",\"(())()\",\"()(())\",\"()()()\"]\n",
    "\n",
    "```"
   ]
  },
  {
   "cell_type": "markdown",
   "metadata": {},
   "source": [
    "### 解法：Backtracking\n",
    "\n",
    "1. ')'只在valid'('之後才有\n",
    "2. 我們使用left, right分別代表有幾個左括號與右括號要放\n",
    "3. 如果左括號 < n，代表還有左括號要放進去\n",
    "4. 如果right < left，代表還有右括號要放進去\n",
    "```\n",
    "\t\t\t\t\t\t\t\t   \t(0, 0, '')\n",
    "\t\t\t\t\t\t\t\t \t    |\t\n",
    "\t\t\t\t\t\t\t\t\t(1, 0, '(')  \n",
    "\t\t\t\t\t\t\t\t   /           \\\n",
    "\t\t\t\t\t\t\t(2, 0, '((')      (1, 1, '()')\n",
    "\t\t\t\t\t\t\t   /                 \\\n",
    "\t\t\t\t\t\t(2, 1, '(()')           (2, 1, '()(')\n",
    "\t\t\t\t\t\t   /                       \\\n",
    "\t\t\t\t\t(2, 2, '(())')                (2, 2, '()()')\n",
    "\t\t\t\t\t\t      |\t                             |\n",
    "\t\t\t\t\tres.append('(())')             res.append('()()')\n",
    "\n",
    "```\n",
    "\n"
   ]
  },
  {
   "cell_type": "code",
   "execution_count": 2,
   "metadata": {},
   "outputs": [],
   "source": [
    "\n",
    "def generateParenthesis(n: int) -> list:\n",
    "    \n",
    "    def dfs(left, right, s):\n",
    "        if len(s) == n * 2:   # 當長度加到預定長度，就可以把s回傳了\n",
    "            res.append(s)\n",
    "            return \n",
    "\n",
    "        if left < n:         # 左括號不夠，加一個左括號\n",
    "            dfs(left + 1, right, s + '(')\n",
    "\n",
    "        if right < left:     # 右括號不夠，加一個右括號\n",
    "            dfs(left, right + 1, s + ')')\n",
    "\n",
    "\n",
    "    res = []\n",
    "    dfs(0, 0, '')\n",
    "\n",
    "\t\n",
    "    return res\n",
    "    \n",
    "  "
   ]
  },
  {
   "cell_type": "markdown",
   "metadata": {},
   "source": [
    "## 46. Permutations\n",
    "\n",
    "Given an array nums of distinct integers, return all the possible permutations. You can return the answer in any order."
   ]
  },
  {
   "cell_type": "markdown",
   "metadata": {},
   "source": [
    "### 想法：\n",
    "\n",
    "自己雖然一開始就有大概想法，但path那個參數一直放成value（arr[i])!!所以一直鬼打牆很久QQ\n",
    "\n",
    "後來還是有參考別人的QQ 關鍵是那個path直接變成一個遞推的參數，就可以把每層for loop到的value記錄下來！！\n",
    "\n",
    "最後走到尾巴時，只要append這個參數進來即可！因為這個path已經有記錄到路上的內容了～～～"
   ]
  },
  {
   "cell_type": "code",
   "execution_count": null,
   "metadata": {},
   "outputs": [],
   "source": [
    "class Solution:\n",
    "    def permute(self, nums: List[int]) -> List[List[int]]:\n",
    "\n",
    "        def helper(arr,path):\n",
    "\n",
    "            if len(arr) == 0:\n",
    "                res.append(path)\n",
    "                return \n",
    "            \n",
    "            for i in range(len(arr)):\n",
    "                helper(arr[:i] + arr[i+1:],[arr[i]] + path)\n",
    "                \n",
    "        res = []\n",
    "        helper(nums,[])\n",
    "\n",
    "        return res"
   ]
  },
  {
   "cell_type": "markdown",
   "metadata": {},
   "source": [
    "# Recursion"
   ]
  },
  {
   "cell_type": "markdown",
   "metadata": {},
   "source": [
    "## 38. Count and Say\n",
    "\n",
    "The count-and-say sequence is a sequence of digit strings defined by the recursive formula:\n",
    "countAndSay(1) = \"1\"<br>\n",
    "countAndSay(n) is the way you would \"say\" the digit string from countAndSay(n-1), which is then converted into a different digit string.<br>\n",
    "To determine how you \"say\" a digit string, split it into the minimal number of substrings such that each substring contains exactly one unique digit.<br>\n",
    "Then for each substring, say the number of digits, then say the digit. Finally, concatenate every said digit.<br>\n",
    "\n",
    "For example：\n",
    "```\n",
    "Input: n = 4\n",
    "Output: \"1211\"\n",
    "Explanation:\n",
    "countAndSay(1) = \"1\"\n",
    "countAndSay(2) = say \"1\" = one 1 = \"11\"\n",
    "countAndSay(3) = say \"11\" = two 1's = \"21\"\n",
    "countAndSay(4) = say \"21\" = one 2 + one 1 = \"12\" + \"11\" = \"1211\"\n",
    "```\n",
    "\n",
    "https://leetcode.com/problems/count-and-say/description/\n",
    "\n"
   ]
  },
  {
   "cell_type": "markdown",
   "metadata": {},
   "source": [
    "### 想法一\n",
    "\n",
    "這題題目有點複雜，但是是很單純的遞迴題！由子結果慢慢推至現在結果～\n",
    "\n",
    "但中間處理過程再調用一個函式～"
   ]
  },
  {
   "cell_type": "code",
   "execution_count": null,
   "metadata": {},
   "outputs": [],
   "source": [
    "class Solution:\n",
    "    def countAndSay(self, n: int) -> str:\n",
    "\n",
    "\n",
    "        def say(s):\n",
    "\n",
    "            a = s[0]\n",
    "            count = 1\n",
    "            res = []\n",
    "            for i in s[1:]:\n",
    "                if i == a:\n",
    "                    count += 1\n",
    "                else:\n",
    "                    res.extend([str(count), a])\n",
    "                    a = i\n",
    "                    count = 1\n",
    "            \n",
    "            res.extend([str(count), a]) # 這裡要注意，最後一組連續數字不會被res記錄到，要自己加上去！\n",
    "\n",
    "            return ''.join(res)\n",
    "\n",
    "        \n",
    "        def recursion(n):\n",
    "            if n == 1:\n",
    "                return '1'\n",
    "            return say(recursion(n-1))\n",
    "\n",
    "        \n",
    "        return recursion(n)"
   ]
  },
  {
   "cell_type": "markdown",
   "metadata": {},
   "source": [
    "# Divide and Conquer"
   ]
  },
  {
   "cell_type": "markdown",
   "metadata": {},
   "source": [
    "## 53. Maximum Subarray\n",
    "\n",
    "Given an integer array nums, find the subarray which has the largest sum and return its sum."
   ]
  },
  {
   "cell_type": "markdown",
   "metadata": {},
   "source": [
    "### 想法一：\n",
    "\n",
    "兩個變數，一個是目前找到的最大子陣列和，一個是目前的最大路徑和，當路徑和比目前值還小的時候，當前路徑和直接從目前值開始算，要不然路徑和就是pathSum += v<br>\n",
    "\n",
    "再來就比較路徑和跟目前最大子陣列和，即可求解。<br>\n",
    "\n",
    "可以用這個input當測資：[8,  -19,  5,  -4,  20]<br>\n",
    "才比較能想到要留路徑和這個變數，且這個變數不行從目前最大子陣列和和當前值去相加（因為可能位置不連續）"
   ]
  },
  {
   "cell_type": "code",
   "execution_count": null,
   "metadata": {},
   "outputs": [],
   "source": [
    "class Solution:\n",
    "    def maxSubArray(self, nums: list) -> int:\n",
    "\n",
    "        pathSum = 0\n",
    "        Max = -10001\n",
    "        for v in nums:\n",
    "            pathSum = max(pathSum+v, v)\n",
    "            Max = max(Max, pathSum)\n",
    "\n",
    "\n",
    "        return Max"
   ]
  },
  {
   "cell_type": "markdown",
   "metadata": {},
   "source": [
    "### 解法一：Dynamic Programming\n",
    "\n",
    "想法跟我上面寫的差不多，只是他把每個元素的pathsum依順序存起來了！（dp) <br>\n",
    "最後再從中找出最大值～～～<br>\n",
    "但我原本的寫法不知道為何更快呢！哈哈～"
   ]
  },
  {
   "cell_type": "code",
   "execution_count": null,
   "metadata": {},
   "outputs": [],
   "source": [
    "class Solution:\n",
    "\tdef maxSubArray(self, nums: list) -> int:\n",
    "\t\tdp=[0]*len(nums)\n",
    "\t\tdp[0]=nums[0]\n",
    "\t\tfor i in range(1,len(nums)):\n",
    "\t\t\tif dp[i-1]+nums[i]>nums[i]:\n",
    "\t\t\t\tdp[i]=dp[i-1]+nums[i]\n",
    "\t\t\telse:\n",
    "\t\t\t\tdp[i]=nums[i]\n",
    "\t\treturn max(dp)"
   ]
  },
  {
   "cell_type": "markdown",
   "metadata": {},
   "source": [
    "### 解法二： Divide and Conquer\n",
    "\n",
    "把所有分成兩半去處理，可以減少call stack（跟直接用遞歸的方式去比較的話）<br>\n",
    "但詳細解法還沒看～～～"
   ]
  },
  {
   "cell_type": "code",
   "execution_count": null,
   "metadata": {},
   "outputs": [],
   "source": [
    "class Solution:\n",
    "    def maxCSubArray(self, nums, mid):\n",
    "        s=0\n",
    "        ls=rs=float('-inf')\n",
    "        for i in range(mid-1,-1,-1):\n",
    "            s+=nums[i]\n",
    "            ls=max(ls,s)\n",
    "        s=0\n",
    "        for i in range(mid,len(nums)):\n",
    "            s+=nums[i]\n",
    "            rs=max(rs,s)\n",
    "        return ls+rs\n",
    "    \n",
    "    def maxSubArray(self, nums: List[int]) -> int:\n",
    "        \n",
    "        if len(nums)==1:\n",
    "            return nums[0]\n",
    "        if not nums:\n",
    "            return 0\n",
    "        mid=len(nums)//2\n",
    "        ls=self.maxSubArray(nums[:mid])\n",
    "        rs=self.maxSubArray(nums[mid:])\n",
    "        cs=self.maxCSubArray(nums,mid)\n",
    "        return max(ls,rs,cs)"
   ]
  },
  {
   "cell_type": "markdown",
   "metadata": {},
   "source": [
    "# Binary Tree\n"
   ]
  },
  {
   "cell_type": "code",
   "execution_count": null,
   "metadata": {},
   "outputs": [],
   "source": [
    "# Definition for a binary tree node.\n",
    "class TreeNode:\n",
    "    def __init__(self, val=0, left=None, right=None):\n",
    "        self.val = val\n",
    "        self.left = left\n",
    "        self.right = right"
   ]
  },
  {
   "cell_type": "markdown",
   "metadata": {},
   "source": [
    "## 102. Binary Tree Level Order Traversal\n",
    "\n",
    "Given the root of a binary tree, return the level order traversal of its nodes' values. (i.e., from left to right, level by level).\n",
    "\n",
    "Example\n",
    "```\n",
    "Input: root = [3,9,20,null,null,15,7]\n",
    "Output: [[3],[9,20],[15,7]]\n",
    "```"
   ]
  },
  {
   "cell_type": "markdown",
   "metadata": {},
   "source": [
    "### 想法 Recurrence\n",
    "\n",
    "每一階層給一個list，如果目前的node有左子節點或右子節點，就把子節點append到下一階層的list內，接著for loop這個階層的list中的節點，繼續看他有沒有子節點，直到沒找到下一層。"
   ]
  },
  {
   "cell_type": "code",
   "execution_count": null,
   "metadata": {},
   "outputs": [],
   "source": [
    "# binary tree node defined first\n",
    "\n",
    "def levelOrder(root):\n",
    "\n",
    "    if not root:\n",
    "        return []\n",
    "    \n",
    "    curr_level_node = [root]\n",
    "    result = []\n",
    "    while curr_level_node:\n",
    "        curr_level = []\n",
    "        next_level_node = []\n",
    "        for node in curr_level_node:\n",
    "            \n",
    "            curr_level.append(node.val)\n",
    "            if node.left:\n",
    "                next_level_node.append(node.left)\n",
    "            if node.right:\n",
    "                next_level_node.append(node.right)\n",
    "        \n",
    "        result.append(curr_level)\n",
    "        curr_level_node = next_level_node\n",
    "\n",
    "    return result\n"
   ]
  },
  {
   "cell_type": "markdown",
   "metadata": {},
   "source": [
    "## 105. Construct Binary Tree from Preorder and Inorder Traversal\n",
    "\n",
    "Given two integer arrays preorder and inorder where preorder is the preorder traversal of a binary tree and inorder is the inorder traversal of the same tree, construct and return the binary tree."
   ]
  },
  {
   "cell_type": "markdown",
   "metadata": {},
   "source": [
    "### 解法：\n",
    "\n",
    "嗯，看不懂"
   ]
  },
  {
   "cell_type": "code",
   "execution_count": null,
   "metadata": {},
   "outputs": [],
   "source": [
    "class Solution:\n",
    "    def buildTree(self, preorder, inorder):\n",
    "        \"\"\"\n",
    "        :type preorder: List[int]\n",
    "        :type inorder: List[int]\n",
    "        :rtype: TreeNode\n",
    "        \"\"\"\n",
    "        if not preorder:\n",
    "            return None\n",
    "        self.preorder = preorder\n",
    "        self.inorder = inorder\n",
    "        self.inorder_map = dict([(n,i) for (i,n) in enumerate(inorder)])  # 這裡也是把中序的index記錄下來\n",
    "        return self._build(0, len(preorder), 0, len(inorder))\n",
    "\n",
    "    def _build(self, p_start, p_end, i_start, i_end):\n",
    "        if p_start >= p_end or i_start >= i_end:     # 終止條件\n",
    "            return None\n",
    "        curr = TreeNode(self.preorder[p_start])   # 回傳的TreeNode，以前序的第一個節點開始\n",
    "        inorder_i = self.inorder_map[self.preorder[p_start]]    # 前序的這個節點在中序中的位置\n",
    "        diff = inorder_i - i_start    # ？？？？\n",
    "        curr.left = self._build(1+p_start, diff+1+p_start, i_start, inorder_i)  # 建左子樹\n",
    "        curr.right = self._build(diff+1+p_start, p_end, inorder_i+1, i_end)     # 建右子樹\n",
    "        return curr\n",
    "\n",
    "\n"
   ]
  },
  {
   "cell_type": "markdown",
   "metadata": {},
   "source": [
    "## 95. Unique Binary Search Trees II （還沒看到很懂）\n",
    "\n",
    "Given an integer n, return all the structurally unique BST's (binary search trees), which has exactly n nodes of unique values from 1 to n. \n",
    "\n",
    "Return the answer in any order."
   ]
  },
  {
   "cell_type": "markdown",
   "metadata": {},
   "source": [
    "### 解法 Recursion\n",
    "\n",
    "1到n之中，每個值都當一次root，左子樹可能的值為比i小的值；右子樹可能的值為比i大的值，接著迴圈recursion...\n",
    "其實還是有點不懂"
   ]
  },
  {
   "cell_type": "code",
   "execution_count": null,
   "metadata": {},
   "outputs": [],
   "source": [
    "\n",
    "def generateTrees(n):\n",
    "    \"\"\"\n",
    "    :type n: int\n",
    "    :rtype: List[TreeNode]\n",
    "    \"\"\"\n",
    "    def gen_BST(begin, end):\n",
    "        if end-begin == 0:  return [None]  #這裡的[None]並非空list\n",
    "        arr = []\n",
    "        # scan [begin, end), using each one as root\n",
    "        for i in range(begin, end):\n",
    "            lefts, rights = gen_BST(begin, i), gen_BST(i+1, end)\n",
    "            for x in lefts:\n",
    "                for y in rights:    \n",
    "                    r = TreeNode(i)\n",
    "                    r.left, r.right = x, y\n",
    "                    arr.append(r)\n",
    "        return arr\n",
    "    \n",
    "    if n == 0:  return []\n",
    "    return gen_BST(1, n+1)"
   ]
  },
  {
   "cell_type": "markdown",
   "metadata": {},
   "source": [
    "### 解法 Dynamic programming\n",
    "\n",
    "主要做法跟上面那個解法差不多，但速度跟空間都比上面那個解法好很多，感覺可以研究一下。\n"
   ]
  },
  {
   "cell_type": "code",
   "execution_count": null,
   "metadata": {},
   "outputs": [],
   "source": [
    "\n",
    "class Solution(object):\n",
    "    def generateTrees(self, n):\n",
    "        \"\"\"\n",
    "        :type n: int\n",
    "        :rtype: List[TreeNode]\n",
    "        \"\"\"\n",
    "        if n < 1:\n",
    "            return []\n",
    "        self.memory = [[[] for _ in range(n + 1)] for _ in range(n + 1)]  #做一個空間給回傳的list\n",
    "        return self.buildTrees(1, n)\n",
    "    \n",
    "    def buildTrees(self, start, end):  # 這裡因為放在class底下另一個function，所以參數值還有self\n",
    "        if start > end:\n",
    "            return [None]   # 已經到空節點\n",
    "        if start == end:\n",
    "            return [TreeNode(start)]  # 遍歷到的目前節點做為root\n",
    "        if self.memory[start][end]:\n",
    "            return self.memory[start][end]\n",
    "        for val in range(start, end+1):\n",
    "            leftTrees = self.buildTrees(start, val - 1)\n",
    "            rightTrees = self.buildTrees(val+1, end)\n",
    "            for left in leftTrees:\n",
    "                for right in rightTrees: # note: here we may share left and right for various trees\n",
    "                    root = TreeNode(val) # but it doesn't affect the results\n",
    "                    self.memory[start][end].append(root)\n",
    "                    root.left = left\n",
    "                    root.right = right\n",
    "        return self.memory[start][end]"
   ]
  },
  {
   "cell_type": "markdown",
   "metadata": {},
   "source": [
    "## 96. Unique Binary Search Trees\n",
    "\n",
    "Given an integer n, return the number of structurally unique BST's (binary search trees) which has exactly n nodes of unique values from 1 to n.\n",
    "\n",
    " "
   ]
  },
  {
   "cell_type": "markdown",
   "metadata": {},
   "source": [
    "### Solution: DP\n",
    "\n",
    "別人寫的，看得還不是很懂，但應該就是某個規律~~~"
   ]
  },
  {
   "cell_type": "code",
   "execution_count": null,
   "metadata": {},
   "outputs": [],
   "source": [
    "\n",
    "def numTrees(n: int) -> int:\n",
    "    res = [0 for i in range(n+1)]\n",
    "    res[0] = 1\n",
    "    res[1] = 1\n",
    "    for i in range(2, n+1):\n",
    "        for j in range(i):\n",
    "            res[i] += res[j] * res[(i-1)-j]\n",
    "\n",
    "    return res[n]\n",
    "        "
   ]
  },
  {
   "cell_type": "markdown",
   "metadata": {},
   "source": [
    "### Solution: Recursive\n",
    "\n",
    "參考連結：https://leetcode.com/problems/unique-binary-search-trees/solutions/674968/very-intuitive-recursive-solution/?languageTags=python3&topicTags=recursion\n",
    "\n",
    "較為直覺的寫法，注意「numSubtrees += leftSubtrees * rightSubtrees」可以想一下！"
   ]
  },
  {
   "cell_type": "code",
   "execution_count": null,
   "metadata": {},
   "outputs": [],
   "source": [
    "# Basic \n",
    "class Solution:\n",
    "    def numTrees(self, n: int) -> int:\n",
    "        if n == 0:\n",
    "            return 1\n",
    "        numSubtrees = 0\n",
    "        for leftSubtreeNodeCount in range(n):\n",
    "            rightSubtreeNodeCount = n - 1 - leftSubtreeNodeCount\n",
    "            leftSubtrees = self.numTrees(leftSubtreeNodeCount)\n",
    "            rightSubtrees = self.numTrees(rightSubtreeNodeCount)\n",
    "            numSubtrees += leftSubtrees * rightSubtrees  # 這裡！所有子樹的可能排列是（左子樹的所有可能 * 右子樹的所有可能）是兩個loop之間的關係，可以想一下～\n",
    "        return numSubtrees\n",
    "\n",
    "    # With memoization to prevent calculating for same n multiple times. Similar to Fibonacci\n",
    "    def numTrees(self, n: int, cache={}) -> int:\n",
    "        if n == 0:\n",
    "            return 1\n",
    "        if n in cache:\n",
    "            return cache[n]\n",
    "        numSubtrees = 0\n",
    "        for leftSubtreeNodeCount in range(n):\n",
    "            rightSubtreeNodeCount = n - 1 - leftSubtreeNodeCount\n",
    "            leftSubtrees = self.numTrees(leftSubtreeNodeCount, cache)\n",
    "            rightSubtrees = self.numTrees(rightSubtreeNodeCount, cache)\n",
    "            numSubtrees += leftSubtrees * rightSubtrees\n",
    "        cache[n] = numSubtrees\n",
    "\n",
    "        return numSubtrees\n",
    "\n"
   ]
  },
  {
   "cell_type": "markdown",
   "metadata": {},
   "source": [
    "## 1382. Balance a Binary Search Tree\n",
    "\n",
    "Given the root of a binary search tree, return a balanced binary search tree with the same node values. If there is more than one answer, return any of them.\n",
    "\n",
    "A binary search tree is balanced if the depth of the two subtrees of every node never differs by more than 1."
   ]
  },
  {
   "cell_type": "markdown",
   "metadata": {},
   "source": [
    "### 想法一\n",
    "\n",
    "用中序遍歷排序，得到由小至大的陣列，再由此陣列建立平衡二元樹，其中會用到遞迴結構"
   ]
  },
  {
   "cell_type": "code",
   "execution_count": 1,
   "metadata": {},
   "outputs": [],
   "source": [
    "# Definition for a binary tree node.\n",
    "class TreeNode:\n",
    "    def __init__(self, val=0, left=None, right=None):\n",
    "        self.val = val\n",
    "        self.left = left\n",
    "        self.right = right\n",
    "class Solution:\n",
    "    def balanceBST(self, root: TreeNode) -> TreeNode:\n",
    "        # 用中間值做root，好像就可以了？\n",
    "\n",
    "        res=[]\n",
    "        def inorder(root):\n",
    "            if root:\n",
    "                inorder(root.left)\n",
    "                res.append(root.val)\n",
    "                inorder(root.right)\n",
    "        inorder(root)\n",
    "\n",
    "       \n",
    "        def createTree(arr, low, high):\n",
    "            if low > high:\n",
    "                return\n",
    "            mid = low + (high-low)//2\n",
    "            bt = TreeNode(arr[mid])\n",
    "            bt.left = createTree(arr, low, mid-1)\n",
    "            bt.right = createTree(arr, mid+1, high)\n",
    "\n",
    "            return bt\n",
    "\n",
    "        return createTree(res, 0, len(res)-1)"
   ]
  },
  {
   "cell_type": "markdown",
   "metadata": {},
   "source": [
    "## 872. Leaf-Similar Trees\n",
    "\n",
    "Consider all the leaves of a binary tree, from left to right order, the values of those leaves form a leaf value sequence.\n",
    "\n",
    "For example, in the given tree above, the leaf value sequence is (6, 7, 4, 9, 8).\n",
    "\n",
    "Two binary trees are considered leaf-similar if their leaf value sequence is the same.\n",
    "\n",
    "Return true if and only if the two given trees with head nodes root1 and root2 are leaf-similar."
   ]
  },
  {
   "cell_type": "markdown",
   "metadata": {},
   "source": [
    "### 想法一\n",
    "\n",
    "自己直覺想法，用後序遍歷法，遇到的節點如果是leaf node，就append到list，再比較是否相等"
   ]
  },
  {
   "cell_type": "code",
   "execution_count": null,
   "metadata": {},
   "outputs": [],
   "source": [
    "class Solution:\n",
    "    def leafSimilar(self, root1: Optional[TreeNode], root2: Optional[TreeNode]) -> bool:\n",
    "        # 啊就postorder，是leafnode的回傳～\n",
    "\n",
    "        res=[]\n",
    "        def postorder(root):\n",
    "            if not root:\n",
    "                return\n",
    "            postorder(root.left)\n",
    "            postorder(root.right)\n",
    "            if not root.left and not root.right:\n",
    "                res.append(root.val)\n",
    "        \n",
    "        postorder(root1)\n",
    "        r1 = res\n",
    "        res = []\n",
    "        postorder(root2)\n",
    "        r2 = res\n",
    "\n",
    "        return r1 == r2"
   ]
  },
  {
   "cell_type": "markdown",
   "metadata": {},
   "source": [
    "### 想法二\n",
    "\n",
    "用簡單的回溯來寫～～～寫recursion的關鍵在於設定參數，這裡的參數一個是要去遍歷的節點，一個是要去改變內容的list\n"
   ]
  },
  {
   "cell_type": "code",
   "execution_count": null,
   "metadata": {},
   "outputs": [],
   "source": [
    "\n",
    "class Solution:\n",
    "    # DFS solution\n",
    "    def leafSimilar(self, root1, root2):\n",
    "        def dfs(node, arr):\n",
    "            if node:\n",
    "                if not node.left and not node.right: arr += [node.val]  # 這一行就是我自己寫的那兩行，如果是leafnode就加到list中\n",
    "                dfs(node.left, arr)  # 找左子樹\n",
    "                dfs(node.right, arr) # 找右子樹\n",
    "                return arr   # 回傳list\n",
    "        return dfs(root1, []) == dfs(root2, []) # 比較相等\n",
    "\n",
    "\n",
    "    # 精簡版\n",
    "    def leafSimilar(self, root1: TreeNode, root2: TreeNode) -> bool:\n",
    "        \"\"\" O(N1+N2)TS \"\"\"\n",
    "\n",
    "        def fn(node):\n",
    "            return (fn(node.left) + fn(node.right) or [node.val]) if node else []  # 找leafnode! 找左子樹、右子樹、或自己，recursion到最後\n",
    "\n",
    "        return fn(root1) == fn(root2)"
   ]
  },
  {
   "cell_type": "markdown",
   "metadata": {},
   "source": [
    "## 98. Validate Binary Search Tree\n",
    "\n",
    "Given the root of a binary tree, determine if it is a valid binary search tree (BST).\n",
    "\n",
    "A valid BST is defined as follows:\n",
    "\n",
    "- The left subtree of a node contains only nodes with keys less than the node's key.\n",
    "- The right subtree of a node contains only nodes with keys greater than the node's key.\n",
    "- Both the left and right subtrees must also be binary search trees."
   ]
  },
  {
   "cell_type": "markdown",
   "metadata": {},
   "source": [
    "### 想法一\n",
    "\n",
    "中序遍歷完，看看是不是有sort，再來是確認有沒有一樣的node value，完全沒有動到腦的解法..."
   ]
  },
  {
   "cell_type": "code",
   "execution_count": null,
   "metadata": {},
   "outputs": [],
   "source": [
    "class Solution:\n",
    "    def isValidBST(self, root: TreeNode) -> bool:\n",
    "\n",
    "        if not root:\n",
    "            return\n",
    "        \n",
    "        st = []\n",
    "        def inorder(root):\n",
    "            if not root:\n",
    "                return\n",
    "            inorder(root.left)\n",
    "            st.append(root.val)\n",
    "            inorder(root.right)\n",
    "\n",
    "        inorder(root)\n",
    "     \n",
    "        return st == sorted(st) and len(set(st)) == len(st)"
   ]
  },
  {
   "cell_type": "markdown",
   "metadata": {},
   "source": [
    "### 想法二\n",
    "\n",
    "其他人寫的，中序遍歷時直接用遞推加上stack，每個stack存取遍歷完的節點，一樣由最左子樹（最小值）開始比對，看後值有沒有比前值大，比較大的話就往右一格繼續（找到successor), 比較小的話直接return False\n",
    "\n",
    "這裡需要瞭解的有用遞推去遍歷二元樹，以及找successor的方式"
   ]
  },
  {
   "cell_type": "code",
   "execution_count": null,
   "metadata": {},
   "outputs": [],
   "source": [
    "class Solution(object):\n",
    "    def isValidBST(self, root):\n",
    "        stack = [None]\n",
    "        prev = -float(\"inf\")\n",
    "        while stack:\n",
    "            while root:\n",
    "                stack.append(root)\n",
    "                root = root.left\n",
    "            x = stack.pop()\n",
    "            if x:\n",
    "                if x.val <= prev:\n",
    "                    return False\n",
    "                prev = x.val\n",
    "                root = x.right\n",
    "                \n",
    "        return True"
   ]
  },
  {
   "cell_type": "markdown",
   "metadata": {},
   "source": [
    "## 1026. Maximum Difference Between Node and Ancestor\n",
    "\n",
    "Given the root of a binary tree, find the maximum value v for which there exist different nodes a and b where v = |a.val - b.val| and a is an ancestor of b.\n",
    "\n",
    "A node a is an ancestor of b if either: any child of a is equal to b or any child of a is an ancestor of b."
   ]
  },
  {
   "cell_type": "markdown",
   "metadata": {},
   "source": [
    "### 想法一\n",
    "\n",
    "用直觀的recursion...雖然還是試了很多次花很久時間，但終於靠自己寫出來一次了！耶！<br>\n",
    "參數為：目前節點、遍歷到目前的最小值與最大值<br>\n",
    "當遍歷到leaf node時，回傳目前的最大值及最小值到list中<br>\n",
    "再去找這個list裡面差值最大的數～<br>\n"
   ]
  },
  {
   "cell_type": "code",
   "execution_count": null,
   "metadata": {},
   "outputs": [],
   "source": [
    "# Definition for a binary tree node.\n",
    "class TreeNode:\n",
    "    def __init__(self, val=0, left=None, right=None):\n",
    "        self.val = val\n",
    "        self.left = left\n",
    "        self.right = right\n",
    "class Solution:\n",
    "    def maxAncestorDiff(self, root: TreeNode) -> int:\n",
    "        # 遍歷每一條子樹，然後找出每一條路徑遇到的最大值及最小值\n",
    "        if not root:\n",
    "            return\n",
    "\n",
    "        res = []\n",
    "        def find_subtree(root, min, max):\n",
    "            # 有左子樹時，就以左子樹為root一直往下找到底，有右子樹時，就以右子樹為root往下找到底\n",
    "\n",
    "            if not root:\n",
    "                return\n",
    "\n",
    "            if root.val < min:\n",
    "                min = root.val\n",
    "            elif root.val > max:\n",
    "                max = root.val\n",
    "\n",
    "            if root.right: # 這個if其實可以省去\n",
    "                find_subtree(root.right,min,max)\n",
    "            if root.left:\n",
    "                find_subtree(root.left,min,max)\n",
    "\n",
    "            if not root.right and not root.left:\n",
    "                res.append((min,max))\n",
    "            \n",
    "            \n",
    "        find_subtree(root, root.val, root.val)\n",
    "        ans = max(map(lambda x: x[1]-x[0], res))\n",
    "        \n",
    "        return ans\n",
    "       "
   ]
  },
  {
   "cell_type": "markdown",
   "metadata": {},
   "source": [
    "### 想法二\n",
    "\n",
    "別人寫的，大致想法相同，但大家都直接把res當一個參數寫進去了！"
   ]
  },
  {
   "cell_type": "code",
   "execution_count": null,
   "metadata": {},
   "outputs": [],
   "source": [
    "def solve(root, minn, maxx, res):\n",
    "    if not root: \n",
    "        return\n",
    "    \n",
    "    res[0] = max(res[0], abs(minn - root.val), abs(maxx - root.val))\n",
    "\n",
    "    minn = min(root.val, minn)\n",
    "    maxx = max(maxx, root.val)\n",
    "\n",
    "    solve(root.left, minn, maxx, res)\n",
    "    solve(root.right, minn, maxx, res)\n",
    "    \n",
    "class Solution(object):\n",
    "    def maxAncestorDiff(self, root):\n",
    "        if not root:\n",
    "            return 0\n",
    "        res = [0]\n",
    "        solve(root, root.val, root.val, res)\n",
    "        return res[0]"
   ]
  },
  {
   "cell_type": "markdown",
   "metadata": {},
   "source": [
    "## 117. Populating Next Right Pointers in Each Node II\n",
    "\n",
    "Given a binary tree\n",
    "```\n",
    "struct Node {\n",
    "  int val;\n",
    "  Node *left;\n",
    "  Node *right;\n",
    "  Node *next;\n",
    "}\n",
    "```\n",
    "Populate each next pointer to point to its next right node. If there is no next right node, the next pointer should be set to NULL.\n",
    "\n",
    "Initially, all next pointers are set to NULL.\n",
    "\n",
    "題目連結：https://leetcode.com/problems/populating-next-right-pointers-in-each-node-ii/description/\n"
   ]
  },
  {
   "cell_type": "markdown",
   "metadata": {},
   "source": [
    "### 想法一\n",
    "\n",
    "用層序遍歷的概念，將每一層的node加到一個list中，每次append該層的新node時，就讓這個list的最後一個值.next=要append的新值\n",
    "\n",
    "最後每層的最後一個node.next=None，就可以啦！"
   ]
  },
  {
   "cell_type": "code",
   "execution_count": null,
   "metadata": {},
   "outputs": [],
   "source": [
    "class Solution:\n",
    "    def connect(self, root: 'Node') -> 'Node':\n",
    "        # 層序遍歷法，把每一層的node存到一個list中，這個list中的node就是前一節點.next = 後一節點的關係\n",
    "        # 最後一個節點指向None\n",
    "\n",
    "        if not root:\n",
    "            return\n",
    "\n",
    "        root.next = None\n",
    "        curr_level_node = [root]\n",
    "        \n",
    "        while curr_level_node:\n",
    "            next_level_node = []\n",
    "            for node in curr_level_node:\n",
    "                if node.left:\n",
    "                    if next_level_node:\n",
    "                        next_level_node[-1].next = node.left\n",
    "                    next_level_node.append(node.left)\n",
    "                    \n",
    "                if node.right:\n",
    "                    if next_level_node:\n",
    "                        next_level_node[-1].next = node.right\n",
    "                    next_level_node.append(node.right)\n",
    "\n",
    "            # i = 0\n",
    "            # while next_level_node and i+1 < len(next_level_node):\n",
    "            #     next_level_node[i].next = next_level_node[i+1]\n",
    "            #     i += 1\n",
    "            if len(next_level_node) != 0:\n",
    "                next_level_node[-1].next = None\n",
    "\n",
    "            curr_level_node = next_level_node\n",
    "        \n",
    "        return root"
   ]
  },
  {
   "cell_type": "markdown",
   "metadata": {},
   "source": [
    "## 437. Path Sum III\n",
    "\n",
    "Given the root of a binary tree and an integer targetSum, return the number of paths where the sum of the values along the path equals targetSum.\n",
    "\n",
    "The path does not need to start or end at the root or a leaf, but it must go downwards (i.e., traveling only from parent nodes to child nodes).\n",
    "\n",
    "https://leetcode.com/problems/path-sum-iii/description/\n"
   ]
  },
  {
   "cell_type": "markdown",
   "metadata": {},
   "source": [
    "### 想法一\n",
    "\n",
    "解了很久，比較麻煩的是這幾種input: \n",
    "```\n",
    "[0,1,1] targetSum=1\n",
    "[1,2] targetSum=2\n",
    "```\n",
    "\n",
    "因為自己本身的值也是其中一個path，另外就是當node.val==0時，後面的pathSum可能在遍歷子樹時有不只一次等於target，很容易出錯\n",
    "\n",
    "另外要解決的是recursion時，mutation的問題，這部分可以再熟悉一下QQ"
   ]
  },
  {
   "cell_type": "code",
   "execution_count": null,
   "metadata": {},
   "outputs": [],
   "source": [
    "class Solution:\n",
    "    def pathSum(self, root: Optional[TreeNode], targetSum: int) -> int:\n",
    "\n",
    "        if not root:\n",
    "            return 0\n",
    "        \n",
    "        num = [0]\n",
    "        traversal = []\n",
    "\n",
    "        def findPath(root,traversal):\n",
    "\n",
    "            if not root:\n",
    "                return\n",
    "                        \n",
    "            traversal.append(0)\n",
    "            print(traversal, root.val)\n",
    "            for i in map(lambda x: x+root.val, traversal):  # 這裡用for loop是為了避免node.val有0的情況，還有就是這裡是用映射，如果實體化的話，traversal下一步的值會受影響\n",
    "                if i == targetSum:\n",
    "                    num[0] += 1\n",
    "          \n",
    "                 \n",
    "            findPath(root.left, list(map(lambda x: x+root.val, traversal)))\n",
    "            findPath(root.right, list(map(lambda x: x+root.val, traversal)))\n",
    "\n",
    "        findPath(root, [])\n",
    "        \n",
    "        return num[0]\n",
    "    "
   ]
  },
  {
   "cell_type": "markdown",
   "metadata": {},
   "source": [
    "### 解法：Deep-First Search\n",
    "\n",
    "別人解的，還沒研究"
   ]
  },
  {
   "cell_type": "code",
   "execution_count": null,
   "metadata": {},
   "outputs": [],
   "source": [
    "class Solution(object):\n",
    "    def pathSum(self, root, sum):\n",
    "        \n",
    "        def dfs(sumHash, prefixSum, node):\n",
    "\n",
    "            if not node:\n",
    "                return 0\n",
    "            \n",
    "\t\t\t# Sum of current path\n",
    "            prefixSum += node.val\n",
    "            \n",
    "\t\t\t# number of paths that ends at current node\n",
    "            path = sumHash[prefixSum - sum] \n",
    "            \n",
    "\t\t\t# add currentSum to prefixSum Hash\n",
    "            sumHash[prefixSum] += 1\n",
    "            \n",
    "\t\t\t# traverse left and right of tree\n",
    "            path += dfs(sumHash, prefixSum, node.left) + dfs(sumHash, prefixSum, node.right)\n",
    "        \n",
    "\t\t    # remove currentSum from prefixSum Hash\n",
    "            sumHash[prefixSum] -= 1\n",
    "            \n",
    "            return path\n",
    "        \n",
    "        # depth first search, initialize sumHash with prefix sum of 0, occurring once\n",
    "        return dfs(collections.defaultdict(int, {0: 1}), 0, root)"
   ]
  },
  {
   "cell_type": "markdown",
   "metadata": {},
   "source": [
    "## 1339. Maximum Product of Splitted Binary Tree\n",
    "\n",
    "Given the root of a binary tree, split the binary tree into two subtrees by removing one edge such that the product of the sums of the subtrees is maximized.\n",
    "\n",
    "Return the maximum product of the sums of the two subtrees. Since the answer may be too large, return it modulo 10^9 + 7.\n",
    "\n",
    "Note that you need to maximize the answer before taking the mod and not after taking it.\n",
    "\n",
    "https://leetcode.com/problems/maximum-product-of-splitted-binary-tree/description/\n"
   ]
  },
  {
   "cell_type": "markdown",
   "metadata": {},
   "source": [
    "### 想法一\n",
    "\n",
    "這是第一次的submit，在testcase量很大的情況下報了TLE的error~~~~\n"
   ]
  },
  {
   "cell_type": "code",
   "execution_count": null,
   "metadata": {},
   "outputs": [],
   "source": [
    "# Definition for a binary tree node.\n",
    "class TreeNode:\n",
    "    def __init__(self, val=0, left=None, right=None):\n",
    "        self.val = val\n",
    "        self.left = left\n",
    "        self.right = right\n",
    "class Solution:\n",
    "    def maxProduct(self, root: Optional[TreeNode]) -> int:\n",
    "        # 最後的結果要ans = ans % 10^9 + 7\n",
    "        # 這個不是二元搜尋樹\n",
    "        # 遍歷節點的過程中，要得到每個節點以下的所有節點之路徑和（含自己）\n",
    "        # 這樣n個節點會得到一個len(arr) == n的list，根節點的子樹路徑和即為整個tree總和，接著再從這個list中找出相乘最大的數就好了！\n",
    "        # 由下而上\n",
    "\n",
    "        def getSubpathSum(root):\n",
    "            if not root:\n",
    "                return 0\n",
    "            if not root.left and not root.right:\n",
    "                return root.val\n",
    "            return root.val + getSubpathSum(root.left) + getSubpathSum(root.right)\n",
    "\n",
    "        total = getSubpathSum(root)\n",
    "        maxproduct = [0]\n",
    "        def findMaxProduct(root, total):\n",
    "            if not root:\n",
    "                return\n",
    "            if getSubpathSum(root) < total:\n",
    "                maxproduct[0] = max(((total-getSubpathSum(root)) * getSubpathSum(root)), maxproduct[0]) \n",
    "            findMaxProduct(root.left, total)\n",
    "            findMaxProduct(root.right, total)\n",
    "        \n",
    "        findMaxProduct(root, total)\n",
    "        print(maxproduct)\n",
    "        m = 1000000007\n",
    "        maxproduct[0] = maxproduct[0] % m\n",
    "\n",
    "        return maxproduct[0]"
   ]
  },
  {
   "cell_type": "markdown",
   "metadata": {},
   "source": [
    "### 想法二\n",
    "\n",
    "後來參考別人的解之後，修改了上面的case，結果submit成功而且時間beat 95%! <br>\n",
    "想法上差不多，但少了一次遞迴!"
   ]
  },
  {
   "cell_type": "code",
   "execution_count": null,
   "metadata": {},
   "outputs": [],
   "source": [
    "class TreeNode:\n",
    "    def __init__(self, val=0, left=None, right=None):\n",
    "        self.val = val\n",
    "        self.left = left\n",
    "        self.right = right\n",
    "class Solution:\n",
    "    def maxProduct(self, root: TreeNode) -> int:\n",
    "        \n",
    "        def getSubSum(root, sums):\n",
    "            if not root:\n",
    "                return 0\n",
    "            summ = root.val + getSubSum(root.left,sums) + getSubSum(root.right,sums)\n",
    "            sums.append(summ)\n",
    "            return summ\n",
    "            \n",
    "        sums=[]\n",
    "        total = getSubSum(root,sums)\n",
    "        maxproduct = 0\n",
    "        for s in sums:\n",
    "            p = s * (total-s)\n",
    "            maxproduct = max(p, maxproduct)\n",
    "        \n",
    "        \n",
    "        print(maxproduct)\n",
    "        m = 1000000007\n",
    "        maxproduct = maxproduct % m\n",
    "            \n",
    "        return maxproduct\n",
    "\n"
   ]
  }
 ],
 "metadata": {
  "kernelspec": {
   "display_name": "Python 3.10.8 ('myenv')",
   "language": "python",
   "name": "python3"
  },
  "language_info": {
   "codemirror_mode": {
    "name": "ipython",
    "version": 3
   },
   "file_extension": ".py",
   "mimetype": "text/x-python",
   "name": "python",
   "nbconvert_exporter": "python",
   "pygments_lexer": "ipython3",
   "version": "3.10.8"
  },
  "orig_nbformat": 4,
  "vscode": {
   "interpreter": {
    "hash": "862581032e8c5e2a6eb9610bc45c1004914146ed5ee1d37a9e3bedc47595f9aa"
   }
  }
 },
 "nbformat": 4,
 "nbformat_minor": 2
}
