{
 "cells": [
  {
   "cell_type": "markdown",
   "source": [
    "# 簡單工廠 Simple Factory \n",
    "\n",
    "通過專門定義一個類（工廠）來創建其他類的實例，被創建的實例通常都有共同的父類"
   ],
   "metadata": {}
  },
  {
   "cell_type": "markdown",
   "source": [
    "## Exercise 1  計算機\n",
    "\n",
    "\n",
    "- 練習：做個簡易計算機，輸入兩個數字和運算符號，得到結果。\n",
    "- 想法：為了方便取用且降低耦合性以防止牽一髮動全身，可讓介面取用「運算子」，做一個運算的superclass，而使用多態性，讓介面取用時實例化出合適的運算子，返回結果。"
   ],
   "metadata": {}
  },
  {
   "cell_type": "code",
   "execution_count": 16,
   "source": [
    "# 定義一個抽象父類別\n",
    "class Operation(object):\n",
    "\n",
    "    # 定義屬性，給定default值\n",
    "    def __init__(self, numberA=0, numberB=0):\n",
    "        self.numberA = numberA\n",
    "        self.numberB = numberB\n",
    "\n",
    "    # 定義出一個抽象方法\n",
    "    def getResult(self):\n",
    "        pass\n",
    "\n",
    "\n",
    "# 定義各個可以實例化的生產線子類別（可使用父類屬性）\n",
    "# 加法\n",
    "class OperationAdd(Operation):\n",
    "    def getResult(self):\n",
    "        result = self.numberA + self.numberB\n",
    "        return result\n",
    "\n",
    "# 減法\n",
    "class OperationSub(Operation):\n",
    "    def getResult(self):\n",
    "        result = self.numberA - self.numberB\n",
    "        return result\n",
    "\n",
    "# 乘法\n",
    "class OperationMul(Operation):\n",
    "    def getResult(self):\n",
    "        result = self.numberA * self.numberB\n",
    "        return result\n",
    "\n",
    "# 除法\n",
    "class OperationDiv(Operation):\n",
    "    def getResult(self):\n",
    "        if self.numberB == 0:\n",
    "            print('除數不得為0')\n",
    "        result = self.numberA / self.numberB\n",
    "        return result\n",
    "\n",
    "\n",
    "# 定義一個簡單運算工廠類別 - 做一個工廠，以後可以新增及移除生產線，也可以選擇要用那個生產線製造東西, 也就是去選擇要去實例化哪個object\n",
    "class OperationFactory(object):\n",
    "\n",
    "    def createOperate(self, oper):\n",
    "        if oper == '+':\n",
    "            return OperationAdd()\n",
    "        elif oper == '-':\n",
    "            return OperationSub()\n",
    "        elif oper == '*':\n",
    "            return OperationMul()\n",
    "        elif oper == '/':\n",
    "            return OperationDiv()\n"
   ],
   "outputs": [],
   "metadata": {}
  },
  {
   "cell_type": "code",
   "execution_count": 27,
   "source": [
    "# client side\n",
    "# if__name__ 這個其實可以不用寫在jupyer notebook，這個代表.py被直接執行時，寫在這下面的程式碼將被執行，而當.py檔以模組形式被其他檔案匯入時，這之下的程式碼不會被執行。\n",
    "\n",
    "if __name__ == '__main__':\n",
    "    op = OperationFactory()\n",
    "    plus = op.createOperate('+')\n",
    "    plus.numberA = 3455\n",
    "    plus.numberB = 2222\n",
    "    result = plus.getResult()\n",
    "    print(result)"
   ],
   "outputs": [
    {
     "output_type": "stream",
     "name": "stdout",
     "text": [
      "5677\n"
     ]
    }
   ],
   "metadata": {}
  },
  {
   "cell_type": "markdown",
   "source": [
    "# 策略模式 Strategy Pattern\n",
    "\n",
    " - 定義了算法family，分別封裝起來，使他們之間可以互相替換，此模式使算法變化時，不會影響到使用算法的客戶\n",
    " - 策略模式是一種定義一系列算法的方法，從概念上來看，所有這些算法完成的都是相同的工作，只是實現過程不同，它可以用相同的方式調用所有算法，減少了各種算法類與使用算法類的耦合。\n",
    " - 策略模式的其中一個優點是可以簡化單元測試，因為每個算法都有自己的類，可以通過自己的接口單獨測試。\n"
   ],
   "metadata": {}
  },
  {
   "cell_type": "markdown",
   "source": [
    "## Exercise 2 收銀台\n",
    "- 練習：建一個收銀程式，當輸入價格及數量時，可以返回收銀價格。而這個程式可加裝各種促銷模式及方法(例：打8折、滿千送百之類的)\n"
   ],
   "metadata": {}
  },
  {
   "cell_type": "markdown",
   "source": [
    "### 想法一 - 簡單工廠\n",
    "\n",
    "- 先設置一個現金收費的抽象父類，參數為原價，返回各種打折之類的算完後的價格\n",
    "- 設置各個優惠策略的具體子類，繼承前面的現金收費抽象類\n",
    "- 做一個獨立的現金收費工廠類，參數為優惠策略的字串，由字串去決定要實例化哪個類\n",
    "- 客戶端：給定單價、數量、優惠，然後得出合計值"
   ],
   "metadata": {}
  },
  {
   "cell_type": "code",
   "execution_count": 1,
   "source": [
    "import math\n",
    "# 設置一個優惠策略的父類\n",
    "\n",
    "class CashSuper(object):\n",
    "\n",
    "    def __init__ (self):\n",
    "        pass\n",
    "\n",
    "\n",
    "    # 建立一個抽象方法\n",
    "    def acceptCash(self, money):\n",
    "        return money\n",
    "\n",
    "\n",
    "# 再來設置各個優惠策略的子類\n",
    "# 正常收費\n",
    "class CashNormal(CashSuper):\n",
    "    def acceptCash(self, money):\n",
    "        return super().acceptCash(money)\n",
    "\n",
    "# 打折收費\n",
    "class CashRebate(CashSuper):\n",
    "    # 初始化時給定屬性\n",
    "    def __init__(self, moneyRebate):\n",
    "        self.moneyRebate = moneyRebate\n",
    "\n",
    "    # 改寫方法\n",
    "    def acceptCash(self, money):\n",
    "        return super().acceptCash(money) * self.moneyRebate\n",
    "\n",
    "# 現金回饋收費\n",
    "class CashReturn(CashSuper):\n",
    "    # 初始化\n",
    "    def __init__(self, moneyCondition, moneyReturn):\n",
    "        self.moneyCondition = moneyCondition\n",
    "        self.moneyReturn = moneyReturn \n",
    "    \n",
    "    # 改寫方法\n",
    "    def acceptCash(self, money):\n",
    "        money = super().acceptCash(money)\n",
    "        if money >= self.moneyCondition:\n",
    "            result = money - math.floor(money / self.moneyCondition) * self.moneyReturn\n",
    "        return result\n",
    "\n",
    "\n",
    "# 現金收費工廠\n",
    "\n",
    "class CashFactory(object):\n",
    "    \n",
    "    def createCashAccept(self, cashAccept):\n",
    "        if cashAccept == '正常收費':\n",
    "            return CashNormal()\n",
    "        elif cashAccept == '滿千送百':\n",
    "            return CashReturn(1000, 100)\n",
    "        elif cashAccept == '打8折':\n",
    "            return CashRebate(0.8)"
   ],
   "outputs": [],
   "metadata": {}
  },
  {
   "cell_type": "code",
   "execution_count": 26,
   "source": [
    "# client side\n",
    "\n",
    "if __name__ == '__main__':\n",
    "\n",
    "    # 設定價格、數量、優惠方法\n",
    "    price = 3600\n",
    "    num = 2\n",
    "    accept_method = '滿千送百'\n",
    "\n",
    "    # 製造算法的工廠\n",
    "    cs = CashFactory()\n",
    "    cs_method = cs.createCashAccept(accept_method)\n",
    "\n",
    "    # 取用算法後，執行他的方法\n",
    "    total_price = price * num\n",
    "    total = cs_method.acceptCash(total_price)\n",
    "\n",
    "    print(f'商品價格：{price}\\n商品數量：{num}\\n優惠方式：{accept_method}\\n優惠後價格：{total}')\n"
   ],
   "outputs": [
    {
     "output_type": "stream",
     "name": "stdout",
     "text": [
      "商品價格：3600\n",
      "商品數量：2\n",
      "優惠方式：滿千送百\n",
      "優惠後價格：6500\n"
     ]
    }
   ],
   "metadata": {}
  },
  {
   "cell_type": "markdown",
   "source": [
    "### 想法二 - 策略模式\n",
    "\n",
    "- 原先簡單工廠模式的問題：如果更改打折折數或現金回饋條件的時候, 就要去修改工廠的code，然後程式就要再重新部署，不夠方便\n",
    "- 改寫完還是有點搞不懂比簡單工廠好在哪...我錯了QQ\n",
    "- 這篇的憤怒鳥例子比較好懂：https://medium.com/@a4793706/design-patterns-python-%E4%B8%80-%E7%AD%96%E7%95%A5%E6%A8%A1%E5%BC%8F-2f9b4bcaa20"
   ],
   "metadata": {}
  },
  {
   "cell_type": "code",
   "execution_count": 2,
   "source": [
    "import math\n",
    "# 重構為策略模式\n",
    "\n",
    "# 設置一個優惠策略的父類(抽象算法的父類)\n",
    "class CashSuper(object):\n",
    "\n",
    "    def __init__ (self):\n",
    "        pass\n",
    "\n",
    "    # 建立一個抽象方法\n",
    "    def acceptCash(self, money):\n",
    "        return money\n",
    "\n",
    "\n",
    "# 再來設置各個優惠策略的子類（具體的策略）\n",
    "# 正常收費\n",
    "class CashNormal(CashSuper):\n",
    "    def acceptCash(self, money):\n",
    "        return super().acceptCash(money)\n",
    "\n",
    "# 打折收費\n",
    "class CashRebate(CashSuper):\n",
    "    # 初始化時給定屬性\n",
    "    def __init__(self, moneyRebate):\n",
    "        self.moneyRebate = moneyRebate\n",
    "\n",
    "    # 改寫方法\n",
    "    def acceptCash(self, money):\n",
    "        return super().acceptCash(money) * self.moneyRebate\n",
    "\n",
    "# 現金回饋收費\n",
    "class CashReturn(CashSuper):\n",
    "    # 初始化\n",
    "    def __init__(self, moneyCondition, moneyReturn):\n",
    "        self.moneyCondition = moneyCondition\n",
    "        self.moneyReturn = moneyReturn \n",
    "    \n",
    "    # 改寫方法\n",
    "    def acceptCash(self, money):\n",
    "        money = super().acceptCash(money)\n",
    "        if money >= self.moneyCondition:\n",
    "            result = money - math.floor(money / self.moneyCondition) * self.moneyReturn\n",
    "        return result\n",
    "\n"
   ],
   "outputs": [],
   "metadata": {}
  },
  {
   "cell_type": "code",
   "execution_count": 3,
   "source": [
    "# 定義一個封裝這些算法策略的類\n",
    "class Context(object):\n",
    "\n",
    "    # 傳入具體的策略對象\n",
    "    def __init__(self, strategy):\n",
    "        self.strategy = strategy\n",
    "\n",
    "    # 調用算法的方法\n",
    "    def getResult(self, money):\n",
    "        if self.strategy == '正常收費':\n",
    "            cs = CashNormal()\n",
    "        elif self.strategy == '滿千送百':\n",
    "            cs = CashReturn(1000, 100)\n",
    "        elif self.strategy == '打8折':\n",
    "            cs = CashRebate(0.8)\n",
    "\n",
    "        return cs.acceptCash(money)\n"
   ],
   "outputs": [],
   "metadata": {}
  },
  {
   "cell_type": "code",
   "execution_count": 5,
   "source": [
    "# client side\n",
    "\n",
    "if __name__ == '__main__':\n",
    "\n",
    "    # 設定價格、數量、優惠方法\n",
    "    price = 3600\n",
    "    num = 2\n",
    "    accept_method = '打8折'\n",
    "\n",
    "    # 製造算法的工廠\n",
    "    cs = Context(accept_method)\n",
    "    \n",
    "\n",
    "    # 取用算法後，執行他的方法\n",
    "    total_price = price * num\n",
    "    total = cs.getResult(total_price)\n",
    "\n",
    "    print(f'商品價格：{price}\\n商品數量：{num}\\n優惠方式：{accept_method}\\n優惠後價格：{total}')\n"
   ],
   "outputs": [
    {
     "output_type": "stream",
     "name": "stdout",
     "text": [
      "商品價格：3600\n",
      "商品數量：2\n",
      "優惠方式：打8折\n",
      "優惠後價格：5760.0\n"
     ]
    }
   ],
   "metadata": {}
  }
 ],
 "metadata": {
  "interpreter": {
   "hash": "c7cfd08b3d7ef036d9176485aa84b0e0696e87e7e5b51d206a9367b7750cbfc1"
  },
  "kernelspec": {
   "name": "python3",
   "display_name": "Python 3.9.7 64-bit ('wisenvr': conda)"
  },
  "language_info": {
   "codemirror_mode": {
    "name": "ipython",
    "version": 3
   },
   "file_extension": ".py",
   "mimetype": "text/x-python",
   "name": "python",
   "nbconvert_exporter": "python",
   "pygments_lexer": "ipython3",
   "version": "3.9.7"
  },
  "orig_nbformat": 4
 },
 "nbformat": 4,
 "nbformat_minor": 2
}