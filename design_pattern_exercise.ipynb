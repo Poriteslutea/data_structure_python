{
 "cells": [
  {
   "cell_type": "code",
   "execution_count": null,
   "source": [],
   "outputs": [],
   "metadata": {}
  },
  {
   "cell_type": "markdown",
   "source": [
    "# Design Pattern"
   ],
   "metadata": {}
  },
  {
   "cell_type": "markdown",
   "source": [
    "## Simple Factory\n",
    "通過專門定義一個類（工廠）來創建其他類的實例，被創建的實例通常都有共同的父類\n",
    "\n",
    "- 練習：做個簡易計算機，輸入兩個數字和運算符號，得到結果。\n",
    "- 想法：為了方便取用且降低耦合性以防止牽一髮動全身，可讓介面取用「運算子」，做一個運算的superclass，而使用多態性，讓介面取用時實例化出合適的運算子，返回結果。"
   ],
   "metadata": {}
  },
  {
   "cell_type": "code",
   "execution_count": 7,
   "source": [
    "# 定義一個抽象父類別\n",
    "class Operation:\n",
    "\n",
    "    def __init__(self, numberA, numberB):\n",
    "        self.numberA = numberA\n",
    "        self.numberB = numberB\n",
    "\n",
    "    # 定義出一個抽象方法\n",
    "    def getResult(self):\n",
    "        result = 0\n",
    "        return result\n",
    "\n",
    "\n",
    "# 定義各個可以實例化的生產線子類別\n",
    "# 加法\n",
    "class OperationAdd(Operation):\n",
    "    def getResult(self):\n",
    "        result = super().numberA + super().numberB\n",
    "        return result\n",
    "\n",
    "# 減法\n",
    "class OperationSub(Operation):\n",
    "    def getResult(self):\n",
    "        result = super().numberA - super().numberB\n",
    "        return result\n",
    "\n",
    "# 乘法\n",
    "class OperationMul(Operation):\n",
    "    def getResult(self):\n",
    "        result = super().numberA * super().numberB\n",
    "        return result\n",
    "\n",
    "# 除法\n",
    "class OperationDiv(Operation):\n",
    "    def getResult(self):\n",
    "        if super().numberB == 0:\n",
    "            print('除數不得為0')\n",
    "        result = super().numberA / super().numberB\n",
    "        return result\n",
    "\n",
    "\n",
    "# 定義一個簡單運算工廠類別 - 做一個工廠，以後可以新增及移除生產線，也可以選擇要用那個生產線製造東西\n",
    "class OperationFactory:\n",
    "    def createOperate(self):\n",
    "        if self == '+':\n",
    "            return OperationAdd()\n",
    "        elif self == '-':\n",
    "            return OperationSub()\n",
    "        elif self == '*':\n",
    "            return OperationMul()\n",
    "        elif self == '/':\n",
    "            return OperationDiv()\n"
   ],
   "outputs": [],
   "metadata": {}
  },
  {
   "cell_type": "code",
   "execution_count": 9,
   "source": [
    "oper = Operation(1,2)\n",
    "oper\n",
    "oper = OperationFactory.createOperate('+')\n",
    "result = oper.getResult()"
   ],
   "outputs": [
    {
     "output_type": "error",
     "ename": "TypeError",
     "evalue": "__init__() missing 2 required positional arguments: 'numberA' and 'numberB'",
     "traceback": [
      "\u001b[0;31m---------------------------------------------------------------------------\u001b[0m",
      "\u001b[0;31mTypeError\u001b[0m                                 Traceback (most recent call last)",
      "\u001b[0;32m/tmp/ipykernel_16824/4240754592.py\u001b[0m in \u001b[0;36m<module>\u001b[0;34m\u001b[0m\n\u001b[1;32m      1\u001b[0m \u001b[0moper\u001b[0m \u001b[0;34m=\u001b[0m \u001b[0mOperation\u001b[0m\u001b[0;34m(\u001b[0m\u001b[0;36m1\u001b[0m\u001b[0;34m,\u001b[0m\u001b[0;36m2\u001b[0m\u001b[0;34m)\u001b[0m\u001b[0;34m\u001b[0m\u001b[0;34m\u001b[0m\u001b[0m\n\u001b[1;32m      2\u001b[0m \u001b[0;34m\u001b[0m\u001b[0m\n\u001b[0;32m----> 3\u001b[0;31m \u001b[0moper\u001b[0m \u001b[0;34m=\u001b[0m \u001b[0mOperationFactory\u001b[0m\u001b[0;34m.\u001b[0m\u001b[0mcreateOperate\u001b[0m\u001b[0;34m(\u001b[0m\u001b[0;34m'+'\u001b[0m\u001b[0;34m)\u001b[0m\u001b[0;34m\u001b[0m\u001b[0;34m\u001b[0m\u001b[0m\n\u001b[0m\u001b[1;32m      4\u001b[0m \u001b[0mresult\u001b[0m \u001b[0;34m=\u001b[0m \u001b[0moper\u001b[0m\u001b[0;34m.\u001b[0m\u001b[0mgetResult\u001b[0m\u001b[0;34m(\u001b[0m\u001b[0;34m)\u001b[0m\u001b[0;34m\u001b[0m\u001b[0;34m\u001b[0m\u001b[0m\n",
      "\u001b[0;32m/tmp/ipykernel_16824/2031014079.py\u001b[0m in \u001b[0;36mcreateOperate\u001b[0;34m(self)\u001b[0m\n\u001b[1;32m     44\u001b[0m     \u001b[0;32mdef\u001b[0m \u001b[0mcreateOperate\u001b[0m\u001b[0;34m(\u001b[0m\u001b[0mself\u001b[0m\u001b[0;34m)\u001b[0m\u001b[0;34m:\u001b[0m\u001b[0;34m\u001b[0m\u001b[0;34m\u001b[0m\u001b[0m\n\u001b[1;32m     45\u001b[0m         \u001b[0;32mif\u001b[0m \u001b[0mself\u001b[0m \u001b[0;34m==\u001b[0m \u001b[0;34m'+'\u001b[0m\u001b[0;34m:\u001b[0m\u001b[0;34m\u001b[0m\u001b[0;34m\u001b[0m\u001b[0m\n\u001b[0;32m---> 46\u001b[0;31m             \u001b[0;32mreturn\u001b[0m \u001b[0mOperationAdd\u001b[0m\u001b[0;34m(\u001b[0m\u001b[0;34m)\u001b[0m\u001b[0;34m\u001b[0m\u001b[0;34m\u001b[0m\u001b[0m\n\u001b[0m\u001b[1;32m     47\u001b[0m         \u001b[0;32melif\u001b[0m \u001b[0mself\u001b[0m \u001b[0;34m==\u001b[0m \u001b[0;34m'-'\u001b[0m\u001b[0;34m:\u001b[0m\u001b[0;34m\u001b[0m\u001b[0;34m\u001b[0m\u001b[0m\n\u001b[1;32m     48\u001b[0m             \u001b[0;32mreturn\u001b[0m \u001b[0mOperationSub\u001b[0m\u001b[0;34m(\u001b[0m\u001b[0;34m)\u001b[0m\u001b[0;34m\u001b[0m\u001b[0;34m\u001b[0m\u001b[0m\n",
      "\u001b[0;31mTypeError\u001b[0m: __init__() missing 2 required positional arguments: 'numberA' and 'numberB'"
     ]
    }
   ],
   "metadata": {}
  }
 ],
 "metadata": {
  "orig_nbformat": 4,
  "language_info": {
   "name": "python",
   "version": "3.9.7",
   "mimetype": "text/x-python",
   "codemirror_mode": {
    "name": "ipython",
    "version": 3
   },
   "pygments_lexer": "ipython3",
   "nbconvert_exporter": "python",
   "file_extension": ".py"
  },
  "kernelspec": {
   "name": "python3",
   "display_name": "Python 3.9.7 64-bit ('wisenvr': conda)"
  },
  "interpreter": {
   "hash": "c7cfd08b3d7ef036d9176485aa84b0e0696e87e7e5b51d206a9367b7750cbfc1"
  }
 },
 "nbformat": 4,
 "nbformat_minor": 2
}