{
 "cells": [
  {
   "cell_type": "code",
   "execution_count": null,
   "source": [],
   "outputs": [],
   "metadata": {}
  },
  {
   "cell_type": "markdown",
   "source": [
    "# 簡單工廠 Simple Factory \n",
    "\n",
    "通過專門定義一個類（工廠）來創建其他類的實例，被創建的實例通常都有共同的父類"
   ],
   "metadata": {}
  },
  {
   "cell_type": "markdown",
   "source": [
    "## Simple Factory - exercise 1\n",
    "\n",
    "\n",
    "- 練習：做個簡易計算機，輸入兩個數字和運算符號，得到結果。\n",
    "- 想法：為了方便取用且降低耦合性以防止牽一髮動全身，可讓介面取用「運算子」，做一個運算的superclass，而使用多態性，讓介面取用時實例化出合適的運算子，返回結果。"
   ],
   "metadata": {}
  },
  {
   "cell_type": "code",
   "execution_count": 16,
   "source": [
    "# 定義一個抽象父類別\n",
    "class Operation(object):\n",
    "\n",
    "    # 定義屬性，給定default值\n",
    "    def __init__(self, numberA=0, numberB=0):\n",
    "        self.numberA = numberA\n",
    "        self.numberB = numberB\n",
    "\n",
    "    # 定義出一個抽象方法\n",
    "    def getResult(self):\n",
    "        pass\n",
    "\n",
    "\n",
    "# 定義各個可以實例化的生產線子類別（可使用父類屬性）\n",
    "# 加法\n",
    "class OperationAdd(Operation):\n",
    "    def getResult(self):\n",
    "        result = self.numberA + self.numberB\n",
    "        return result\n",
    "\n",
    "# 減法\n",
    "class OperationSub(Operation):\n",
    "    def getResult(self):\n",
    "        result = self.numberA - self.numberB\n",
    "        return result\n",
    "\n",
    "# 乘法\n",
    "class OperationMul(Operation):\n",
    "    def getResult(self):\n",
    "        result = self.numberA * self.numberB\n",
    "        return result\n",
    "\n",
    "# 除法\n",
    "class OperationDiv(Operation):\n",
    "    def getResult(self):\n",
    "        if self.numberB == 0:\n",
    "            print('除數不得為0')\n",
    "        result = self.numberA / self.numberB\n",
    "        return result\n",
    "\n",
    "\n",
    "# 定義一個簡單運算工廠類別 - 做一個工廠，以後可以新增及移除生產線，也可以選擇要用那個生產線製造東西, 也就是去選擇要去實例化哪個object\n",
    "class OperationFactory(object):\n",
    "\n",
    "    def createOperate(self, oper):\n",
    "        if oper == '+':\n",
    "            return OperationAdd()\n",
    "        elif oper == '-':\n",
    "            return OperationSub()\n",
    "        elif oper == '*':\n",
    "            return OperationMul()\n",
    "        elif oper == '/':\n",
    "            return OperationDiv()\n"
   ],
   "outputs": [],
   "metadata": {}
  },
  {
   "cell_type": "code",
   "execution_count": 27,
   "source": [
    "# client side\n",
    "# if__name__ 這個其實可以不用寫在jupyer notebook，這個代表.py被直接執行時，寫在這下面的程式碼將被執行，而當.py檔以模組形式被其他檔案匯入時，這之下的程式碼不會被執行。\n",
    "\n",
    "if __name__ == '__main__':\n",
    "    op = OperationFactory()\n",
    "    plus = op.createOperate('+')\n",
    "    plus.numberA = 3455\n",
    "    plus.numberB = 2222\n",
    "    result = plus.getResult()\n",
    "    print(result)"
   ],
   "outputs": [
    {
     "output_type": "stream",
     "name": "stdout",
     "text": [
      "5677\n"
     ]
    }
   ],
   "metadata": {}
  },
  {
   "cell_type": "markdown",
   "source": [
    "# 策略模式 Strategy Pattern\n",
    "\n"
   ],
   "metadata": {}
  }
 ],
 "metadata": {
  "orig_nbformat": 4,
  "language_info": {
   "name": "python",
   "version": "3.9.7",
   "mimetype": "text/x-python",
   "codemirror_mode": {
    "name": "ipython",
    "version": 3
   },
   "pygments_lexer": "ipython3",
   "nbconvert_exporter": "python",
   "file_extension": ".py"
  },
  "kernelspec": {
   "name": "python3",
   "display_name": "Python 3.9.7 64-bit ('wisenvr': conda)"
  },
  "interpreter": {
   "hash": "c7cfd08b3d7ef036d9176485aa84b0e0696e87e7e5b51d206a9367b7750cbfc1"
  }
 },
 "nbformat": 4,
 "nbformat_minor": 2
}