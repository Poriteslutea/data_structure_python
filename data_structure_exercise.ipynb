{
 "cells": [
  {
   "cell_type": "code",
   "execution_count": 2,
   "metadata": {},
   "outputs": [],
   "source": [
    "import sys"
   ]
  },
  {
   "cell_type": "markdown",
   "metadata": {},
   "source": [
    "# Single linked list"
   ]
  },
  {
   "cell_type": "code",
   "execution_count": 19,
   "metadata": {},
   "outputs": [],
   "source": [
    "# 建立一個空node\n",
    "class employee:\n",
    "    def __init__(self):\n",
    "        self.num=0\n",
    "        self.salary=0\n",
    "        self.name=''\n",
    "        self.next=None"
   ]
  },
  {
   "cell_type": "markdown",
   "metadata": {},
   "source": [
    "## Delete node"
   ]
  },
  {
   "cell_type": "code",
   "execution_count": 3,
   "metadata": {},
   "outputs": [],
   "source": [
    "# Single linked list\n",
    "# 在一員工資料的串列中刪除節點的程式\n",
    "\n",
    "# 刪除節點的副程式\n",
    "def del_ptr(head,ptr):\n",
    "\n",
    "    top=head\n",
    "    if ptr.num==head.num:  #刪除點在串列首\n",
    "        head=head.next\n",
    "        print(f'已刪除第{ptr.num}號員工，姓名：{ptr.name}, 薪資：{ptr.salary}')\n",
    "    else:\n",
    "        while top.next!=ptr: #找到刪除點的前一位罝\n",
    "            top=top.next\n",
    "        if ptr.next==None: #刪除點在串列尾\n",
    "            top.next=None\n",
    "            print(f'已刪除第{ptr.num}號員工，姓名：{ptr.name}, 薪資：{ptr.salary}')\n",
    "        else:\n",
    "            top.next=ptr.next #刪除串列中的任一節點\n",
    "            print(f'已刪除第{ptr.num}號員工，姓名：{ptr.name}, 薪資：{ptr.salary}')\n",
    "    \n",
    "    return head #回傳串列\n",
    "\n"
   ]
  },
  {
   "cell_type": "code",
   "execution_count": 16,
   "metadata": {},
   "outputs": [],
   "source": [
    "# Single linked list\n",
    "# 在一員工資料的串列中刪除節點的程式\n",
    "\n",
    "def main():\n",
    "\n",
    "    findword=0\n",
    "    namedata=['Allen','Scott','Marry','John',\\\n",
    "        'Mark','Ricky','Lisa','Jessica',\\\n",
    "            'Hanson','Amy','Bob','Jack']\n",
    "    data=[[1001,32367],[1002,23455],[1003,27888],[1007,31299], \n",
    "        [1012,42660],[1013,25675],[1018,44344],[1043,52182],\n",
    "        [1031,32769],[1037,21100],[1041,32179],[1045,29983]]\n",
    "\n",
    "    print('----------------------------------------------------------')\n",
    "    for i in range(3):\n",
    "        for j in range(4):\n",
    "            print('[%4d] [%7s] $%5d ' %(data[j*3+i][0],namedata[j*3+i],data[j*3+i][1]),end=' | ')\n",
    "        print()\n",
    "    print('----------------------------------------------------------')\n",
    "\n",
    "\n",
    "    head=employee() #建立串列首\n",
    "    if not head:\n",
    "        print('Error!! 記憶體配置失敗！')\n",
    "        sys.exit(0)\n",
    "    head.num=data[0][0]\n",
    "    head.name=namedata[0]\n",
    "    head.salary=data[0][1]\n",
    "    head.next=None\n",
    "\n",
    "    ptr=head\n",
    "    for i in range(1,12):\n",
    "        newnode=employee()\n",
    "        newnode.num=data[i][0]\n",
    "        newnode.name=namedata[i]\n",
    "        newnode.salary=data[i][1]\n",
    "        newnode.next=None\n",
    "        ptr.next=newnode\n",
    "        ptr=ptr.next \n",
    "\n",
    "    while(True):\n",
    "        findword=int(input('請輸入要刪除的員工編號，要結束刪除過程，請輸入-1'))\n",
    "        if findword==-1:\n",
    "            break\n",
    "        else:\n",
    "            ptr=head\n",
    "            find=0\n",
    "            while ptr!=None:\n",
    "                if ptr.num==findword:\n",
    "                    ptr=del_ptr(head,ptr)\n",
    "                    find+=1\n",
    "                    head=ptr\n",
    "                ptr=ptr.next\n",
    "            if find==0:\n",
    "                print('#######沒有找到這個員工編號###########')\n",
    "\n",
    "\n",
    "    #都刪完後列出最後的list\n",
    "    ptr=head\n",
    "    print(' No.  Name   Salary')\n",
    "    print('==============================')\n",
    "    while(ptr!=None):\n",
    "        print(' [%4d] [%5s] $%5d ' %(ptr.num,ptr.name,ptr.salary),end='|') \n",
    "        print()\n",
    "        ptr=ptr.next"
   ]
  },
  {
   "cell_type": "code",
   "execution_count": 18,
   "metadata": {},
   "outputs": [
    {
     "name": "stdout",
     "output_type": "stream",
     "text": [
      "No.       Name         Salary | No.       Name         Salary | No.       Name         Salary | No.       Name         Salary | \n",
      "----------------------------------------------------------\n",
      "[1001] [  Allen] $32367  | [1007] [   John] $31299  | [1018] [   Lisa] $44344  | [1037] [    Amy] $21100  | \n",
      "[1002] [  Scott] $23455  | [1012] [   Mark] $42660  | [1043] [Jessica] $52182  | [1041] [    Bob] $32179  | \n",
      "[1003] [  Marry] $27888  | [1013] [  Ricky] $25675  | [1031] [ Hanson] $32769  | [1045] [   Jack] $29983  | \n",
      "----------------------------------------------------------\n",
      "#######沒有找到這個員工編號###########\n",
      "已刪除第1001號員工，姓名：Allen, 薪資：32367\n",
      "已刪除第1002號員工，姓名：Scott, 薪資：23455\n",
      "已刪除第1003號員工，姓名：Marry, 薪資：27888\n",
      " No.  Name   Salary\n",
      "==============================\n",
      " [1007] [ John] $31299 |\n",
      " [1012] [ Mark] $42660 |\n",
      " [1013] [Ricky] $25675 |\n",
      " [1018] [ Lisa] $44344 |\n",
      " [1043] [Jessica] $52182 |\n",
      " [1031] [Hanson] $32769 |\n",
      " [1037] [  Amy] $21100 |\n",
      " [1041] [  Bob] $32179 |\n",
      " [1045] [ Jack] $29983 |\n"
     ]
    }
   ],
   "source": [
    "main()"
   ]
  },
  {
   "cell_type": "markdown",
   "metadata": {},
   "source": [
    "## Reverse linked list\n",
    "\n",
    "leetcode 206, 92, 234"
   ]
  },
  {
   "cell_type": "code",
   "execution_count": 20,
   "metadata": {},
   "outputs": [],
   "source": [
    "def reverse(head): #x為串列起始指標    \n",
    "    p=head #將第一個指標指向串列開頭\n",
    "    q=None #q是指向p的前一個節點的指標，先指向None\n",
    "    while p:\n",
    "        r=q #再放一個指標r指向q的節點\n",
    "        q=p #q的指標指向p的節點\n",
    "        p=p.next #一開始的p指標也往下指下一個節點\n",
    "        q.next=r #q指標指向r的節點\n",
    "    return q\n",
    "\n",
    "\n",
    "#另一種寫法，覺得更清楚一點\n",
    "def reverse_i(head):\n",
    "    current=head #current指標指向串列首，從串列首開始\n",
    "    prev=None\n",
    "    while(current):  \n",
    "        next=current.next \n",
    "        current.next=prev \n",
    "        prev=current \n",
    "        current=next\n",
    "    return prev\n",
    "\n",
    "\n"
   ]
  },
  {
   "cell_type": "markdown",
   "metadata": {},
   "source": [
    "## Design linked list\n",
    "\n",
    "leetcode 707"
   ]
  },
  {
   "cell_type": "code",
   "execution_count": 57,
   "metadata": {},
   "outputs": [],
   "source": [
    "#建立一個鏈結串列及空節點\n",
    "\n",
    "class Node:\n",
    "    \n",
    "    def __init__(self, val):\n",
    "        self.val = val\n",
    "        self.next = None\n",
    "\n",
    "\n",
    "class LinkedList:\n",
    "    \n",
    "    def __init__(self):\n",
    "        self.head = Node(0) #一個虛假的head node\n",
    "        self.count = 0 #節點之個數\n",
    "\n",
    "    \n",
    "    def get(self, index:int):\n",
    "\n",
    "        #設定index合理範圍\n",
    "        if 0 <= index < self.count:\n",
    "            node = self.head\n",
    "            for i in range(index+1):  \n",
    "                node = node.next\n",
    "            return node.val\n",
    "        else:\n",
    "            return -1\n",
    "\n",
    "    \n",
    "    def addAtHead(self, val:int):\n",
    "        \n",
    "        self.addAtIndex(0, val)\n",
    "\n",
    "\n",
    "    def addAtTail(self, val:int):\n",
    "\n",
    "        self.addAtIndex(self.count, val)\n",
    "\n",
    "    def addAtIndex(self, index:int, val:int):\n",
    "\n",
    "        #設定index合理範圍\n",
    "        if index < 0:\n",
    "            index = 0\n",
    "\n",
    "        self.count += 1 #新增節點時，串列數會增加\n",
    "\n",
    "        if 0 <= index < self.count:\n",
    "            add_node = Node(val)  #要新增的節點\n",
    "            current_node = self.head  #目前節點\n",
    "            prev_node = None    #前一個節點\n",
    "            for i in range(index+1):   #去找到現在index的位置\n",
    "                prev_node = current_node\n",
    "                current_node = current_node.next\n",
    "            \n",
    "            prev_node.next = add_node   \n",
    "            add_node.next = current_node\n",
    "        else:\n",
    "            return None\n",
    "\n",
    "    def deleteAtIndex(self, index:int):\n",
    "\n",
    "        #設定index合理範圍\n",
    "        if 0 <= index < self.count:\n",
    "            current_node = self.head\n",
    "            prev_node = None\n",
    "            for i in range(index+1):\n",
    "                prev_node = current_node\n",
    "                current_node = current_node.next\n",
    "                \n",
    "            prev_node.next = current_node.next\n",
    "            \n",
    "            self.count -= 1\n",
    "        else:\n",
    "            return None\n",
    "           \n",
    "           "
   ]
  },
  {
   "cell_type": "code",
   "execution_count": 67,
   "metadata": {},
   "outputs": [
    {
     "name": "stdout",
     "output_type": "stream",
     "text": [
      "1 4 3 6\n",
      "4 3 6\n"
     ]
    }
   ],
   "source": [
    "myLinkedList = LinkedList()\n",
    "\n",
    "myLinkedList.addAtHead(1)\n",
    "myLinkedList.addAtTail(4)\n",
    "myLinkedList.addAtIndex(2,6)\n",
    "myLinkedList.addAtIndex(2,3)\n",
    "\n",
    "print(*[myLinkedList.get(i) for i in range(myLinkedList.count)])\n",
    "\n",
    "myLinkedList.deleteAtIndex(0)\n",
    "print(*[myLinkedList.get(i) for i in range(myLinkedList.count)])\n",
    "\n",
    "\n"
   ]
  }
 ],
 "metadata": {
  "interpreter": {
   "hash": "c7cfd08b3d7ef036d9176485aa84b0e0696e87e7e5b51d206a9367b7750cbfc1"
  },
  "kernelspec": {
   "display_name": "Python 3.9.7 64-bit ('wisenvr': conda)",
   "name": "python3"
  },
  "language_info": {
   "codemirror_mode": {
    "name": "ipython",
    "version": 3
   },
   "file_extension": ".py",
   "mimetype": "text/x-python",
   "name": "python",
   "nbconvert_exporter": "python",
   "pygments_lexer": "ipython3",
   "version": "3.9.12"
  },
  "orig_nbformat": 4
 },
 "nbformat": 4,
 "nbformat_minor": 2
}
