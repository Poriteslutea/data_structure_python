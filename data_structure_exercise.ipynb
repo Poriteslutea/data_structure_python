{
 "cells": [
  {
   "cell_type": "code",
   "execution_count": 2,
   "metadata": {},
   "outputs": [],
   "source": [
    "import sys"
   ]
  },
  {
   "cell_type": "markdown",
   "metadata": {},
   "source": [
    "# Single linked list"
   ]
  },
  {
   "cell_type": "code",
   "execution_count": 19,
   "metadata": {},
   "outputs": [],
   "source": [
    "# 建立一個空node\n",
    "class employee:\n",
    "    def __init__(self):\n",
    "        self.num=0\n",
    "        self.salary=0\n",
    "        self.name=''\n",
    "        self.next=None"
   ]
  },
  {
   "cell_type": "markdown",
   "metadata": {},
   "source": [
    "## Delete node"
   ]
  },
  {
   "cell_type": "code",
   "execution_count": 3,
   "metadata": {},
   "outputs": [],
   "source": [
    "# Single linked list\n",
    "# 在一員工資料的串列中刪除節點的程式\n",
    "\n",
    "# 刪除節點的副程式\n",
    "def del_ptr(head,ptr):\n",
    "\n",
    "    top=head\n",
    "    if ptr.num==head.num:  #刪除點在串列首\n",
    "        head=head.next\n",
    "        print(f'已刪除第{ptr.num}號員工，姓名：{ptr.name}, 薪資：{ptr.salary}')\n",
    "    else:\n",
    "        while top.next!=ptr: #找到刪除點的前一位罝\n",
    "            top=top.next\n",
    "        if ptr.next==None: #刪除點在串列尾\n",
    "            top.next=None\n",
    "            print(f'已刪除第{ptr.num}號員工，姓名：{ptr.name}, 薪資：{ptr.salary}')\n",
    "        else:\n",
    "            top.next=ptr.next #刪除串列中的任一節點\n",
    "            print(f'已刪除第{ptr.num}號員工，姓名：{ptr.name}, 薪資：{ptr.salary}')\n",
    "    \n",
    "    return head #回傳串列\n",
    "\n"
   ]
  },
  {
   "cell_type": "code",
   "execution_count": 16,
   "metadata": {},
   "outputs": [],
   "source": [
    "# Single linked list\n",
    "# 在一員工資料的串列中刪除節點的程式\n",
    "\n",
    "def main():\n",
    "\n",
    "    findword=0\n",
    "    namedata=['Allen','Scott','Marry','John',\\\n",
    "        'Mark','Ricky','Lisa','Jessica',\\\n",
    "            'Hanson','Amy','Bob','Jack']\n",
    "    data=[[1001,32367],[1002,23455],[1003,27888],[1007,31299], \n",
    "        [1012,42660],[1013,25675],[1018,44344],[1043,52182],\n",
    "        [1031,32769],[1037,21100],[1041,32179],[1045,29983]]\n",
    "\n",
    "    print('----------------------------------------------------------')\n",
    "    for i in range(3):\n",
    "        for j in range(4):\n",
    "            print('[%4d] [%7s] $%5d ' %(data[j*3+i][0],namedata[j*3+i],data[j*3+i][1]),end=' | ')\n",
    "        print()\n",
    "    print('----------------------------------------------------------')\n",
    "\n",
    "\n",
    "    head=employee() #建立串列首\n",
    "    if not head:\n",
    "        print('Error!! 記憶體配置失敗！')\n",
    "        sys.exit(0)\n",
    "    head.num=data[0][0]\n",
    "    head.name=namedata[0]\n",
    "    head.salary=data[0][1]\n",
    "    head.next=None\n",
    "\n",
    "    ptr=head\n",
    "    for i in range(1,12):\n",
    "        newnode=employee()\n",
    "        newnode.num=data[i][0]\n",
    "        newnode.name=namedata[i]\n",
    "        newnode.salary=data[i][1]\n",
    "        newnode.next=None\n",
    "        ptr.next=newnode\n",
    "        ptr=ptr.next \n",
    "\n",
    "    while(True):\n",
    "        findword=int(input('請輸入要刪除的員工編號，要結束刪除過程，請輸入-1'))\n",
    "        if findword==-1:\n",
    "            break\n",
    "        else:\n",
    "            ptr=head\n",
    "            find=0\n",
    "            while ptr!=None:\n",
    "                if ptr.num==findword:\n",
    "                    ptr=del_ptr(head,ptr)\n",
    "                    find+=1\n",
    "                    head=ptr\n",
    "                ptr=ptr.next\n",
    "            if find==0:\n",
    "                print('#######沒有找到這個員工編號###########')\n",
    "\n",
    "\n",
    "    #都刪完後列出最後的list\n",
    "    ptr=head\n",
    "    print(' No.  Name   Salary')\n",
    "    print('==============================')\n",
    "    while(ptr!=None):\n",
    "        print(' [%4d] [%5s] $%5d ' %(ptr.num,ptr.name,ptr.salary),end='|') \n",
    "        print()\n",
    "        ptr=ptr.next"
   ]
  },
  {
   "cell_type": "code",
   "execution_count": 18,
   "metadata": {},
   "outputs": [
    {
     "name": "stdout",
     "output_type": "stream",
     "text": [
      "No.       Name         Salary | No.       Name         Salary | No.       Name         Salary | No.       Name         Salary | \n",
      "----------------------------------------------------------\n",
      "[1001] [  Allen] $32367  | [1007] [   John] $31299  | [1018] [   Lisa] $44344  | [1037] [    Amy] $21100  | \n",
      "[1002] [  Scott] $23455  | [1012] [   Mark] $42660  | [1043] [Jessica] $52182  | [1041] [    Bob] $32179  | \n",
      "[1003] [  Marry] $27888  | [1013] [  Ricky] $25675  | [1031] [ Hanson] $32769  | [1045] [   Jack] $29983  | \n",
      "----------------------------------------------------------\n",
      "#######沒有找到這個員工編號###########\n",
      "已刪除第1001號員工，姓名：Allen, 薪資：32367\n",
      "已刪除第1002號員工，姓名：Scott, 薪資：23455\n",
      "已刪除第1003號員工，姓名：Marry, 薪資：27888\n",
      " No.  Name   Salary\n",
      "==============================\n",
      " [1007] [ John] $31299 |\n",
      " [1012] [ Mark] $42660 |\n",
      " [1013] [Ricky] $25675 |\n",
      " [1018] [ Lisa] $44344 |\n",
      " [1043] [Jessica] $52182 |\n",
      " [1031] [Hanson] $32769 |\n",
      " [1037] [  Amy] $21100 |\n",
      " [1041] [  Bob] $32179 |\n",
      " [1045] [ Jack] $29983 |\n"
     ]
    }
   ],
   "source": [
    "main()"
   ]
  },
  {
   "cell_type": "markdown",
   "metadata": {},
   "source": [
    "## Reverse linked list\n",
    "\n",
    "leetcode 206, 92, 234"
   ]
  },
  {
   "cell_type": "code",
   "execution_count": 20,
   "metadata": {},
   "outputs": [],
   "source": [
    "def reverse(head): #x為串列起始指標    \n",
    "    p=head #將第一個指標指向串列開頭\n",
    "    q=None #q是指向p的前一個節點的指標，先指向None\n",
    "    while p:\n",
    "        r=q #再放一個指標r指向q的節點\n",
    "        q=p #q的指標指向p的節點\n",
    "        p=p.next #一開始的p指標也往下指下一個節點\n",
    "        q.next=r #q指標指向r的節點\n",
    "    return q\n",
    "\n",
    "\n",
    "#另一種寫法，覺得更清楚一點\n",
    "def reverse_i(head):\n",
    "    current=head #current指標指向串列首，從串列首開始\n",
    "    prev=None\n",
    "    while(current):  \n",
    "        next=current.next \n",
    "        current.next=prev \n",
    "        prev=current \n",
    "        current=next\n",
    "    return prev\n",
    "\n",
    "\n"
   ]
  },
  {
   "cell_type": "markdown",
   "metadata": {},
   "source": [
    "## Design linked list\n",
    "\n",
    "leetcode 707"
   ]
  },
  {
   "cell_type": "code",
   "execution_count": 57,
   "metadata": {},
   "outputs": [],
   "source": [
    "#建立一個鏈結串列及空節點\n",
    "\n",
    "class Node:\n",
    "    \n",
    "    def __init__(self, val):\n",
    "        self.val = val\n",
    "        self.next = None\n",
    "\n",
    "\n",
    "class LinkedList:\n",
    "    \n",
    "    def __init__(self):\n",
    "        self.head = Node(0) #一個虛假的head node\n",
    "        self.count = 0 #節點之個數\n",
    "\n",
    "    \n",
    "    def get(self, index:int):\n",
    "\n",
    "        #設定index合理範圍\n",
    "        if 0 <= index < self.count:\n",
    "            node = self.head\n",
    "            for i in range(index+1):  \n",
    "                node = node.next\n",
    "            return node.val\n",
    "        else:\n",
    "            return -1\n",
    "\n",
    "    \n",
    "    def addAtHead(self, val:int):\n",
    "        \n",
    "        self.addAtIndex(0, val)\n",
    "\n",
    "\n",
    "    def addAtTail(self, val:int):\n",
    "\n",
    "        self.addAtIndex(self.count, val)\n",
    "\n",
    "    def addAtIndex(self, index:int, val:int):\n",
    "\n",
    "        #設定index合理範圍\n",
    "        if index < 0:\n",
    "            index = 0\n",
    "\n",
    "        self.count += 1 #新增節點時，串列數會增加\n",
    "\n",
    "        if 0 <= index < self.count:\n",
    "            add_node = Node(val)  #要新增的節點\n",
    "            current_node = self.head  #目前節點\n",
    "            prev_node = None    #前一個節點\n",
    "            for i in range(index+1):   #去找到現在index的位置\n",
    "                prev_node = current_node\n",
    "                current_node = current_node.next\n",
    "            \n",
    "            prev_node.next = add_node   \n",
    "            add_node.next = current_node\n",
    "        else:\n",
    "            return None\n",
    "\n",
    "    def deleteAtIndex(self, index:int):\n",
    "\n",
    "        #設定index合理範圍\n",
    "        if 0 <= index < self.count:\n",
    "            current_node = self.head\n",
    "            prev_node = None\n",
    "            for i in range(index+1):\n",
    "                prev_node = current_node\n",
    "                current_node = current_node.next\n",
    "                \n",
    "            prev_node.next = current_node.next\n",
    "            \n",
    "            self.count -= 1\n",
    "        else:\n",
    "            return None\n",
    "           \n",
    "           "
   ]
  },
  {
   "cell_type": "code",
   "execution_count": 67,
   "metadata": {},
   "outputs": [
    {
     "name": "stdout",
     "output_type": "stream",
     "text": [
      "1 4 3 6\n",
      "4 3 6\n"
     ]
    }
   ],
   "source": [
    "myLinkedList = LinkedList()\n",
    "\n",
    "myLinkedList.addAtHead(1)\n",
    "myLinkedList.addAtTail(4)\n",
    "myLinkedList.addAtIndex(2,6)\n",
    "myLinkedList.addAtIndex(2,3)\n",
    "\n",
    "print(*[myLinkedList.get(i) for i in range(myLinkedList.count)])\n",
    "\n",
    "myLinkedList.deleteAtIndex(0)\n",
    "print(*[myLinkedList.get(i) for i in range(myLinkedList.count)])\n",
    "\n",
    "\n"
   ]
  },
  {
   "cell_type": "markdown",
   "metadata": {},
   "source": [
    "# Static Linked List\n",
    "\n",
    "以陣列代替指標，來描述單向鏈結串列\n",
    "\n",
    "還沒有搞很懂....\n",
    "\n",
    "[參考連結](https://www.it145.com/9/169558.html)\n",
    "\n",
    "\n"
   ]
  },
  {
   "cell_type": "code",
   "execution_count": 73,
   "metadata": {},
   "outputs": [],
   "source": [
    "class Node:\n",
    "    def __init__(self, next, val=None):\n",
    "        self.val = val\n",
    "        self.next = next #游標\n",
    "\n",
    "class StaticLinkList:\n",
    "    # 分配線性表長度，定義線性表(一般其實會給到大一點的陣列空間方便插入)\n",
    "    def __init__(self, size=7):\n",
    "        self.size = size\n",
    "        self.link = [Node((i+1) % self.size) for i in range(self.size)] #這裡我不確定為何要用餘數寫法，不行i+1就好了嗎？\n",
    "    \n",
    "    \n",
    "    # 查詢空位置\n",
    "    def findEmpty(self):\n",
    "        ind = self.size\n",
    "        for i in range(1, self.size - 1):\n",
    "            if self.link[i].val is None:\n",
    "                ind = i \n",
    "                break\n",
    "        \n",
    "        return ind\n",
    "    \n",
    "    \n",
    "    \n",
    "    # 指定位置插入元素\n",
    "    def insert(self, ind, val):\n",
    "        sua = -1 #這個看不懂\n",
    "        pre = self.size - 1 #設定前一個元素\n",
    "        insertLoc = self.link[0].next #設定插入元素的位置(第一個空位置)\n",
    "        if ind < 1 or ind >= pre or insertLoc >= self.size:\n",
    "            return 0\n",
    "        # 第一個元素的索引\n",
    "        for i in range(1, self.size - 1):\n",
    "            index = self.link[pre].next\n",
    "            if i == ind:\n",
    "                self.link[pre].next = insertLoc\n",
    "                self.link[insertLoc].val = val\n",
    "                self.link[insertLoc].next = index\n",
    "                #首位元素\n",
    "                self.link[0].next = self.findEmpty()\n",
    "                sua = 1\n",
    "                break\n",
    "            if self.link[index].val is None:\n",
    "                break\n",
    "            pre = index\n",
    "        return sua\n",
    "\n"
   ]
  },
  {
   "cell_type": "markdown",
   "metadata": {},
   "source": [
    "# Generating guesses\n",
    "\n",
    "Using a looping construct to generate guesses, then check and continue\n",
    "\n",
    "- Exhaustive enumeration\n",
    "\n",
    "- Bisection search\n",
    "\n",
    "- Newton-Raphson (for root finding)\n",
    "\n"
   ]
  },
  {
   "cell_type": "markdown",
   "metadata": {},
   "source": [
    "## Square Root Approximation\n",
    "\n",
    "直接暴力找近似解法"
   ]
  },
  {
   "cell_type": "code",
   "execution_count": 16,
   "metadata": {},
   "outputs": [
    {
     "name": "stdout",
     "output_type": "stream",
     "text": [
      "num_guesses =  73478\n",
      "7.347799999996214 is close to the square root of  54\n"
     ]
    }
   ],
   "source": [
    "root = 54\n",
    "epsilon = 0.01\n",
    "guess =  0.0\n",
    "increment = 0.0001\n",
    "num_guesses = 0\n",
    "\n",
    "while abs(guess**2 - root) >= epsilon and guess < root:\n",
    "    guess += increment\n",
    "    num_guesses += 1\n",
    "print('num_guesses = ', num_guesses)\n",
    "\n",
    "if abs(guess**2 - root) >= epsilon:\n",
    "    print('Failed on square root of', root)\n",
    "else:\n",
    "    print(guess, 'is close to the square root of ', root)"
   ]
  },
  {
   "cell_type": "markdown",
   "metadata": {},
   "source": [
    "## Bisection search\n",
    "\n",
    "用二分法找平方根近似解"
   ]
  },
  {
   "cell_type": "code",
   "execution_count": 15,
   "metadata": {},
   "outputs": [
    {
     "name": "stdout",
     "output_type": "stream",
     "text": [
      "low = 0.0 high = 54 ans = 27.0\n",
      "low = 0.0 high = 27.0 ans = 13.5\n",
      "low = 0.0 high = 13.5 ans = 6.75\n",
      "low = 6.75 high = 13.5 ans = 10.125\n",
      "low = 6.75 high = 10.125 ans = 8.4375\n",
      "low = 6.75 high = 8.4375 ans = 7.59375\n",
      "low = 6.75 high = 7.59375 ans = 7.171875\n",
      "low = 7.171875 high = 7.59375 ans = 7.3828125\n",
      "low = 7.171875 high = 7.3828125 ans = 7.27734375\n",
      "low = 7.27734375 high = 7.3828125 ans = 7.330078125\n",
      "low = 7.330078125 high = 7.3828125 ans = 7.3564453125\n",
      "low = 7.330078125 high = 7.3564453125 ans = 7.34326171875\n",
      "low = 7.34326171875 high = 7.3564453125 ans = 7.349853515625\n",
      "low = 7.34326171875 high = 7.349853515625 ans = 7.3465576171875\n",
      "num_guesses =  14\n",
      "7.34820556640625 is close to square root of 54\n"
     ]
    }
   ],
   "source": [
    "x = 54\n",
    "epsilon = 0.01\n",
    "num_guesses = 0\n",
    "low = 0.0\n",
    "high = x\n",
    "ans = (high + low) / 2.0\n",
    "\n",
    "while abs(ans**2 - x) >= epsilon:\n",
    "    print('low = ' + str(low) + ' high = ' + str(high) + ' ans = ' + str(ans))\n",
    "    num_guesses += 1\n",
    "    if ans**2 < x:\n",
    "        low = ans\n",
    "    else:\n",
    "        high = ans\n",
    "    ans = (high + low)/2.0\n",
    "print('num_guesses = ', num_guesses)\n",
    "print(str(ans) + ' is close to square root of ' + str(x))"
   ]
  },
  {
   "cell_type": "markdown",
   "metadata": {},
   "source": [
    "## Newton-Raphson method\n",
    "\n",
    "找平方根的近似法"
   ]
  },
  {
   "cell_type": "code",
   "execution_count": 12,
   "metadata": {},
   "outputs": [
    {
     "name": "stdout",
     "output_type": "stream",
     "text": [
      "numGuesses = 5\n",
      "Square root of 54.0 is about 7.348469483546109\n"
     ]
    }
   ],
   "source": [
    "epsilon = 0.01\n",
    "y = 54.0\n",
    "guess = y/2.0\n",
    "numGuesses = 0\n",
    "\n",
    "while abs(guess*guess - y) >= epsilon:\n",
    "    numGuesses += 1\n",
    "    guess = guess - (((guess**2) -y)/(2*guess))\n",
    "\n",
    "print('numGuesses = ' + str(numGuesses))\n",
    "print('Square root of ' + str(y) + ' is about ' + str(guess))"
   ]
  },
  {
   "cell_type": "markdown",
   "metadata": {},
   "source": [
    "## 浮點數的二進制轉換\n",
    "\n",
    "【這裡面的】 https://www.bilibili.com/video/BV1oa411G7Ga/?p=18&share_source=copy_web&vd_source=72dabff61147d2878b7c296201d38006\n",
    "\n",
    "- If there is no integer p such that x*(2**p) is a whole number , then internal representation is always an approximation\n",
    "- Suggest that testing equality of floats is not exact: Use abs(x-y) < some small number, rather than x == y\n",
    "- Why dose print(0.1) return 0.1 if not exact? Because Python designers set it up this way to automatically round"
   ]
  },
  {
   "cell_type": "code",
   "execution_count": 6,
   "metadata": {},
   "outputs": [
    {
     "name": "stdout",
     "output_type": "stream",
     "text": [
      "Remainder = 0.888\n",
      "Remainder = 0.776\n",
      "Remainder = 0.552\n",
      "Remainder = 0.10400000000000009\n",
      "Remainder = 0.20800000000000018\n",
      "Remainder = 0.41600000000000037\n",
      "Remainder = 0.8320000000000007\n",
      "Remainder = 0.6640000000000015\n",
      "Remainder = 0.32800000000000296\n",
      "Remainder = 0.6560000000000059\n",
      "Remainder = 0.3120000000000118\n",
      "Remainder = 0.6240000000000236\n",
      "Remainder = 0.2480000000000473\n",
      "Remainder = 0.4960000000000946\n",
      "Remainder = 0.9920000000001892\n",
      "Remainder = 0.9840000000003783\n",
      "Remainder = 0.9680000000007567\n",
      "Remainder = 0.9360000000015134\n",
      "Remainder = 0.8720000000030268\n",
      "Remainder = 0.7440000000060536\n",
      "Remainder = 0.4880000000121072\n",
      "Remainder = 0.9760000000242144\n",
      "Remainder = 0.9520000000484288\n",
      "Remainder = 0.9040000000968575\n",
      "Remainder = 0.8080000001937151\n",
      "Remainder = 0.6160000003874302\n",
      "Remainder = 0.23200000077486038\n",
      "Remainder = 0.46400000154972076\n",
      "Remainder = 0.9280000030994415\n",
      "Remainder = 0.8560000061988831\n",
      "Remainder = 0.7120000123977661\n",
      "Remainder = 0.4240000247955322\n",
      "Remainder = 0.8480000495910645\n",
      "Remainder = 0.6960000991821289\n",
      "Remainder = 0.3920001983642578\n",
      "Remainder = 0.7840003967285156\n",
      "Remainder = 0.5680007934570312\n",
      "Remainder = 0.1360015869140625\n",
      "Remainder = 0.272003173828125\n",
      "Remainder = 0.54400634765625\n",
      "Remainder = 0.0880126953125\n",
      "Remainder = 0.176025390625\n",
      "Remainder = 0.35205078125\n",
      "Remainder = 0.7041015625\n",
      "Remainder = 0.408203125\n",
      "Remainder = 0.81640625\n",
      "Remainder = 0.6328125\n",
      "Remainder = 0.265625\n",
      "Remainder = 0.53125\n",
      "Remainder = 0.0625\n",
      "Remainder = 0.125\n",
      "Remainder = 0.25\n",
      "Remainder = 0.5\n",
      "The binary representation of the decimal 0.888 is\n",
      ".10001011010001001101101110011111011111100101011000111\n"
     ]
    }
   ],
   "source": [
    "x = float(input('Enter a decimal number between 0 and 1: '))\n",
    "\n",
    "p = 0\n",
    "while ((2**p)*x)%1 != 0: \n",
    "    print('Remainder = ' + str((2**p)*x - int((2**p)*x)))\n",
    "    p += 1\n",
    "num = int(x*(2**p))\n",
    "\n",
    "result = ''\n",
    "if num == 0:\n",
    "    result = '0'\n",
    "while num > 0:\n",
    "    result += str(num%2)\n",
    "    num = num//2\n",
    "\n",
    "for i in range(p - len(result)):\n",
    "    result = '0' + result\n",
    "\n",
    "result = result[0:-p] + '.' + result[-p:]\n",
    "print('The binary representation of the decimal ' + str(x) + ' is\\n' + result)\n",
    "\n"
   ]
  },
  {
   "cell_type": "markdown",
   "metadata": {},
   "source": [
    "# Binary Tree\n"
   ]
  },
  {
   "cell_type": "code",
   "execution_count": 35,
   "metadata": {},
   "outputs": [],
   "source": [
    "# Definition for a binary tree node.\n",
    "class TreeNode:\n",
    "    def __init__(self, val=0, left=None, right=None):\n",
    "        self.val = val\n",
    "        self.left = left\n",
    "        self.right = right\n",
    "\n",
    "# Create a tree\n",
    "def create_tree(root, val):\n",
    "    new_node = TreeNode()\n",
    "    new_node.val = val\n",
    " \n",
    "    if root == None:\n",
    "        root = new_node\n",
    "        return root\n",
    "    else:\n",
    "        curr = root # 設定當前指標位置\n",
    "        \n",
    "        while curr != None:\n",
    "            keep = curr\n",
    "            \n",
    "            if curr.val > val:\n",
    "                curr = curr.left\n",
    "            else:\n",
    "                curr = curr.right\n",
    "        \n",
    "        \n",
    "        if keep.val > val:\n",
    "            keep.left = new_node\n",
    "        else:\n",
    "            keep.right = new_node\n",
    "\n",
    "    return root\n",
    "\n"
   ]
  },
  {
   "cell_type": "markdown",
   "metadata": {},
   "source": [
    "## 102. Binary Tree Level Order Traversal\n",
    "\n",
    "Given the root of a binary tree, return the level order traversal of its nodes' values. (i.e., from left to right, level by level).\n",
    "\n",
    "Example\n",
    "```\n",
    "Input: root = [3,9,20,null,null,15,7]\n",
    "Output: [[3],[9,20],[15,7]]\n",
    "```"
   ]
  },
  {
   "cell_type": "markdown",
   "metadata": {},
   "source": [
    "### 想法\n",
    "\n",
    "每一階層給一個list，如果目前的node有左子節點或右子節點，就把子節點append到下一階層的list內，接著for loop這個階層的list中的節點，繼續看他有沒有子節點，直到沒找到下一層。"
   ]
  },
  {
   "cell_type": "code",
   "execution_count": 18,
   "metadata": {},
   "outputs": [],
   "source": [
    "# binary tree node defined first\n",
    "\n",
    "def levelOrder(root):\n",
    "\n",
    "    if not root:\n",
    "        return []\n",
    "    \n",
    "    curr_level_node = [root]\n",
    "    result = []\n",
    "    while curr_level_node:\n",
    "        curr_level = []\n",
    "        next_level_node = []\n",
    "        for node in curr_level_node:\n",
    "            \n",
    "            curr_level.append(node.val)\n",
    "            if node.left:\n",
    "                next_level_node.append(node.left)\n",
    "            if node.right:\n",
    "                next_level_node.append(node.right)\n",
    "        \n",
    "        result.append(curr_level)\n",
    "        curr_level_node = next_level_node\n",
    "\n",
    "    return result\n"
   ]
  },
  {
   "cell_type": "code",
   "execution_count": null,
   "metadata": {},
   "outputs": [],
   "source": [
    "data = [3,9,20,None,None,15,7]\n",
    "ptr = None\n",
    "root = None\n",
    "for val in data:\n",
    "    ptr = create_tree(ptr,val)\n",
    "\n",
    "# 中序走訪二元樹\n",
    "def inorder(root):\n",
    "    if root:\n",
    "        inorder(root.left)\n",
    "        print(root.val)\n",
    "        inorder(root.right)\n",
    "\n",
    "inorder(ptr)\n"
   ]
  },
  {
   "cell_type": "markdown",
   "metadata": {},
   "source": [
    "## 96. Unique Binary Search Trees\n",
    "\n",
    "Given an integer n, return the number of structurally unique BST's (binary search trees) which has exactly n nodes of unique values from 1 to n.\n",
    "\n",
    " "
   ]
  },
  {
   "cell_type": "markdown",
   "metadata": {},
   "source": [
    "### Solution: DP\n",
    "\n",
    "別人寫的，看得還不是很懂，但應該就是某個規律~~~"
   ]
  },
  {
   "cell_type": "code",
   "execution_count": 10,
   "metadata": {},
   "outputs": [],
   "source": [
    "\n",
    "\n",
    "def numTrees(n: int) -> int:\n",
    "    res = [0 for i in range(n+1)]\n",
    "    res[0] = 1\n",
    "    res[1] = 1\n",
    "    for i in range(2, n+1):\n",
    "        for j in range(1, i+1):\n",
    "            res[i] += res[j-1] * res[i-j]\n",
    "\n",
    "    return res[n]\n",
    "        "
   ]
  },
  {
   "cell_type": "code",
   "execution_count": 11,
   "metadata": {},
   "outputs": [
    {
     "data": {
      "text/plain": [
       "5"
      ]
     },
     "execution_count": 11,
     "metadata": {},
     "output_type": "execute_result"
    }
   ],
   "source": [
    "numTrees(3)"
   ]
  },
  {
   "cell_type": "markdown",
   "metadata": {},
   "source": [
    "## 95. Unique Binary Search Trees II\n",
    "\n",
    "Given an integer n, return all the structurally unique BST's (binary search trees), which has exactly n nodes of unique values from 1 to n. \n",
    "\n",
    "Return the answer in any order."
   ]
  },
  {
   "cell_type": "markdown",
   "metadata": {},
   "source": [
    "### 解法 Recursion\n",
    "\n",
    "1到n之中，每個值都當一次root，左子樹可能的值為比i小的值；右子樹可能的值為比i大的值，接著迴圈recursion...\n",
    "其實還是有點不懂"
   ]
  },
  {
   "cell_type": "code",
   "execution_count": 1,
   "metadata": {},
   "outputs": [],
   "source": [
    "# Definition for a binary tree node.\n",
    "class TreeNode(object):\n",
    "    def __init__(self, x):\n",
    "        self.val = x\n",
    "        self.left = None\n",
    "        self.right = None\n",
    "\n",
    "\n",
    "def generateTrees(self, n):\n",
    "    \"\"\"\n",
    "    :type n: int\n",
    "    :rtype: List[TreeNode]\n",
    "    \"\"\"\n",
    "    def gen_BST(begin, end):\n",
    "        if end-begin == 0:  return [None]\n",
    "        arr = []\n",
    "        # scan [begin, end), using each one as root\n",
    "        for i in range(begin, end):\n",
    "            lefts, rights = gen_BST(begin, i), gen_BST(i+1, end)\n",
    "            for x in lefts:\n",
    "                for y in rights:    \n",
    "                    r = TreeNode(i)\n",
    "                    r.left, r.right = x, y\n",
    "                    arr.append(r)\n",
    "        return arr\n",
    "    \n",
    "    if n == 0:  return []\n",
    "    return gen_BST(1, n+1)"
   ]
  }
 ],
 "metadata": {
  "kernelspec": {
   "display_name": "Python 3.9.12 ('py39')",
   "language": "python",
   "name": "python3"
  },
  "language_info": {
   "codemirror_mode": {
    "name": "ipython",
    "version": 3
   },
   "file_extension": ".py",
   "mimetype": "text/x-python",
   "name": "python",
   "nbconvert_exporter": "python",
   "pygments_lexer": "ipython3",
   "version": "3.9.12"
  },
  "orig_nbformat": 4,
  "vscode": {
   "interpreter": {
    "hash": "3ea411558193590a36ae13098a0c4cbd8470d1e8b26095cfed8afcd8def61a55"
   }
  }
 },
 "nbformat": 4,
 "nbformat_minor": 2
}
