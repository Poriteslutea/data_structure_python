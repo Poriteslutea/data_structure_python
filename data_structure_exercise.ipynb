{
 "cells": [
  {
   "cell_type": "code",
   "execution_count": 2,
   "source": [
    "import sys"
   ],
   "outputs": [],
   "metadata": {}
  },
  {
   "cell_type": "code",
   "execution_count": 3,
   "source": [
    "# Single linked list\n",
    "# 在一員工資料的串列中刪除節點的程式\n",
    "\n",
    "# 建立一個空node\n",
    "class employee:\n",
    "    def __init__(self):\n",
    "        self.num=0\n",
    "        self.salary=0\n",
    "        self.name=''\n",
    "        self.next=None\n",
    "\n",
    "# 刪除節點的副程式\n",
    "def del_ptr(head,ptr):\n",
    "\n",
    "    top=head\n",
    "    if ptr.num==head.num:  #刪除點在串列首\n",
    "        head=head.next\n",
    "        print(f'已刪除第{ptr.num}號員工，姓名：{ptr.name}, 薪資：{ptr.salary}')\n",
    "    else:\n",
    "        while top.next!=ptr: #找到刪除點的前一位罝\n",
    "            top=top.next\n",
    "        if ptr.next==None: #刪除點在串列尾\n",
    "            top.next=None\n",
    "            print(f'已刪除第{ptr.num}號員工，姓名：{ptr.name}, 薪資：{ptr.salary}')\n",
    "        else:\n",
    "            top.next=ptr.next #刪除串列中的任一節點\n",
    "            print(f'已刪除第{ptr.num}號員工，姓名：{ptr.name}, 薪資：{ptr.salary}')\n",
    "    \n",
    "    return head #回傳串列\n",
    "\n"
   ],
   "outputs": [],
   "metadata": {}
  },
  {
   "cell_type": "code",
   "execution_count": 16,
   "source": [
    "# Single linked list\n",
    "# 在一員工資料的串列中刪除節點的程式\n",
    "\n",
    "def main():\n",
    "\n",
    "    findword=0\n",
    "    namedata=['Allen','Scott','Marry','John',\\\n",
    "        'Mark','Ricky','Lisa','Jessica',\\\n",
    "            'Hanson','Amy','Bob','Jack']\n",
    "    data=[[1001,32367],[1002,23455],[1003,27888],[1007,31299], \n",
    "        [1012,42660],[1013,25675],[1018,44344],[1043,52182],\n",
    "        [1031,32769],[1037,21100],[1041,32179],[1045,29983]]\n",
    "\n",
    "    print('----------------------------------------------------------')\n",
    "    for i in range(3):\n",
    "        for j in range(4):\n",
    "            print('[%4d] [%7s] $%5d ' %(data[j*3+i][0],namedata[j*3+i],data[j*3+i][1]),end=' | ')\n",
    "        print()\n",
    "    print('----------------------------------------------------------')\n",
    "\n",
    "\n",
    "    head=employee() #建立串列首\n",
    "    if not head:\n",
    "        print('Error!! 記憶體配置失敗！')\n",
    "        sys.exit(0)\n",
    "    head.num=data[0][0]\n",
    "    head.name=namedata[0]\n",
    "    head.salary=data[0][1]\n",
    "    head.next=None\n",
    "\n",
    "    ptr=head\n",
    "    for i in range(1,12):\n",
    "        newnode=employee()\n",
    "        newnode.num=data[i][0]\n",
    "        newnode.name=namedata[i]\n",
    "        newnode.salary=data[i][1]\n",
    "        newnode.next=None\n",
    "        ptr.next=newnode\n",
    "        ptr=ptr.next \n",
    "\n",
    "    while(True):\n",
    "        findword=int(input('請輸入要刪除的員工編號，要結束刪除過程，請輸入-1'))\n",
    "        if findword==-1:\n",
    "            break\n",
    "        else:\n",
    "            ptr=head\n",
    "            find=0\n",
    "            while ptr!=None:\n",
    "                if ptr.num==findword:\n",
    "                    ptr=del_ptr(head,ptr)\n",
    "                    find+=1\n",
    "                    head=ptr\n",
    "                ptr=ptr.next\n",
    "            if find==0:\n",
    "                print('#######沒有找到這個員工編號###########')\n",
    "\n",
    "\n",
    "    #都刪完後列出最後的list\n",
    "    ptr=head\n",
    "    print(' No.  Name   Salary')\n",
    "    print('==============================')\n",
    "    while(ptr!=None):\n",
    "        print(' [%4d] [%5s] $%5d ' %(ptr.num,ptr.name,ptr.salary),end='|') \n",
    "        print()\n",
    "        ptr=ptr.next"
   ],
   "outputs": [],
   "metadata": {}
  },
  {
   "cell_type": "code",
   "execution_count": 18,
   "source": [
    "main()"
   ],
   "outputs": [
    {
     "output_type": "stream",
     "name": "stdout",
     "text": [
      "No.       Name         Salary | No.       Name         Salary | No.       Name         Salary | No.       Name         Salary | \n",
      "----------------------------------------------------------\n",
      "[1001] [  Allen] $32367  | [1007] [   John] $31299  | [1018] [   Lisa] $44344  | [1037] [    Amy] $21100  | \n",
      "[1002] [  Scott] $23455  | [1012] [   Mark] $42660  | [1043] [Jessica] $52182  | [1041] [    Bob] $32179  | \n",
      "[1003] [  Marry] $27888  | [1013] [  Ricky] $25675  | [1031] [ Hanson] $32769  | [1045] [   Jack] $29983  | \n",
      "----------------------------------------------------------\n",
      "#######沒有找到這個員工編號###########\n",
      "已刪除第1001號員工，姓名：Allen, 薪資：32367\n",
      "已刪除第1002號員工，姓名：Scott, 薪資：23455\n",
      "已刪除第1003號員工，姓名：Marry, 薪資：27888\n",
      " No.  Name   Salary\n",
      "==============================\n",
      " [1007] [ John] $31299 |\n",
      " [1012] [ Mark] $42660 |\n",
      " [1013] [Ricky] $25675 |\n",
      " [1018] [ Lisa] $44344 |\n",
      " [1043] [Jessica] $52182 |\n",
      " [1031] [Hanson] $32769 |\n",
      " [1037] [  Amy] $21100 |\n",
      " [1041] [  Bob] $32179 |\n",
      " [1045] [ Jack] $29983 |\n"
     ]
    }
   ],
   "metadata": {}
  }
 ],
 "metadata": {
  "orig_nbformat": 4,
  "language_info": {
   "name": "python",
   "version": "3.9.7",
   "mimetype": "text/x-python",
   "codemirror_mode": {
    "name": "ipython",
    "version": 3
   },
   "pygments_lexer": "ipython3",
   "nbconvert_exporter": "python",
   "file_extension": ".py"
  },
  "kernelspec": {
   "name": "python3",
   "display_name": "Python 3.9.7 64-bit ('wisenvr': conda)"
  },
  "interpreter": {
   "hash": "c7cfd08b3d7ef036d9176485aa84b0e0696e87e7e5b51d206a9367b7750cbfc1"
  }
 },
 "nbformat": 4,
 "nbformat_minor": 2
}