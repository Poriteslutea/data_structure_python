{
 "cells": [
  {
   "cell_type": "markdown",
   "metadata": {},
   "source": [
    "# KMP演算法"
   ]
  },
  {
   "cell_type": "code",
   "execution_count": 26,
   "metadata": {},
   "outputs": [],
   "source": [
    "s = 'cdacdbccdcabcabdaaaaabddbd'\n",
    "p = 'ababba'\n",
    "\n",
    "\n",
    "# prefix_table\n",
    "def prefix_table(p):\n",
    "    m = len(p)\n",
    "    failure_function = [0] * m   # 先設一個跟子字串一樣長度的list\n",
    "    j = 0\n",
    "    for i in range(1,m): \n",
    "        j = failure_function[i-1]  \n",
    "\n",
    "        while p[j] != p[i]:       \n",
    "            if j == 0:                      \n",
    "                break\n",
    "            j = failure_function[j-1]   \n",
    "          \n",
    "\n",
    "        if p[j] == p[i]:\n",
    "            failure_function[i] = j+1\n",
    "        else:\n",
    "            failure_function[i] = 0\n",
    "    \n",
    "    return failure_function\n",
    "\n",
    "\n",
    "# prefix_table 第二種寫法\n",
    "def prefix_table_2(p):\n",
    "    k = 0 # length of previous longest prefix suffix\n",
    "    m = len(p)\n",
    "    next = [0] * m\n",
    "    i = 1\n",
    "    while i < m:\n",
    "        if p[i] == p[k]:   # 有跟前綴字元匹配\n",
    "            k += 1         # 長度增加，連續匹配記錄保持在長度k                           \n",
    "            next[i] = k    # 長度i的子字串有最大相同前綴長度k\n",
    "            i += 1         # 繼續\n",
    "        else:\n",
    "            if k != 0:\n",
    "                k = next[k-1]     # 前面有匹配，到後來連續匹配記錄斷掉, 改成比對長度 = 最大前綴長度的字串，如果裡面還有前後綴相同, 就再比對一次（到底為何這步不直接變0???)\n",
    "                print('hi', k)\n",
    "            else:\n",
    "                next[i] = 0       # 第一個字就不匹配了\n",
    "                i += 1\n",
    "    \n",
    "    return next\n",
    "\n",
    "#kmp\n",
    "n = len(s)\n",
    "m = len(p)\n",
    "failure_function = prefix_table(p)\n",
    "i = 0\n",
    "j = 0\n",
    "for i in range(n):\n",
    "   \n",
    "    if s[i] != p[j]:\n",
    "        if j == 0:\n",
    "            i += 1\n",
    "            continue\n",
    "        j = failure_function[j-1] # 找前一個數的最大相同前後綴\n",
    "    else:\n",
    "        i += 1\n",
    "        j += 1\n",
    "\n",
    "    if j == m:\n",
    "        print(f'子字串在主字串的index: {i-m}')\n",
    "        j = 0  # 如果要繼續找下一次匹配的位置，j要回到初始狀態\n",
    "\n"
   ]
  },
  {
   "cell_type": "code",
   "execution_count": 27,
   "metadata": {},
   "outputs": [
    {
     "name": "stdout",
     "output_type": "stream",
     "text": [
      "hi 0\n",
      "[0, 0, 1, 2, 0, 1] [0, 0, 1, 2, 0, 1]\n"
     ]
    }
   ],
   "source": [
    "print(prefix_table(p), prefix_table_2(p))"
   ]
  },
  {
   "cell_type": "markdown",
   "metadata": {},
   "source": [
    "## 暴力解法"
   ]
  },
  {
   "cell_type": "code",
   "execution_count": 37,
   "metadata": {},
   "outputs": [
    {
     "name": "stdout",
     "output_type": "stream",
     "text": [
      "0 0\n",
      "1 1\n",
      "2 2\n",
      "1 0\n",
      "2 0\n",
      "3 0\n",
      "4 1\n",
      "5 2\n",
      "4 0\n",
      "5 0\n",
      "6 0\n",
      "7 1\n",
      "7 0\n",
      "8 1\n",
      "9 2\n",
      "8 0\n",
      "9 0\n",
      "10 1\n",
      "11 2\n",
      "子字串在主字串的index: 9\n",
      "12 0\n",
      "13 0\n"
     ]
    }
   ],
   "source": [
    "n = len(s)\n",
    "m = len(p)\n",
    "i = 0\n",
    "j = 0\n",
    "while i < n and j < m:\n",
    "    print(i, j)\n",
    "    if s[i] != p[j]:\n",
    "        i = i-j+1\n",
    "        j = 0\n",
    "    else:\n",
    "        i += 1\n",
    "        j += 1\n",
    "\n",
    "    if j == m:\n",
    "        print(f'子字串在主字串的index: {i-m}')\n",
    "        j = 0  # 如果要繼續找下一次匹配的位置，j要回到初始狀態"
   ]
  }
 ],
 "metadata": {
  "kernelspec": {
   "display_name": "Python 3.9.13 ('dask_worker')",
   "language": "python",
   "name": "python3"
  },
  "language_info": {
   "codemirror_mode": {
    "name": "ipython",
    "version": 3
   },
   "file_extension": ".py",
   "mimetype": "text/x-python",
   "name": "python",
   "nbconvert_exporter": "python",
   "pygments_lexer": "ipython3",
   "version": "3.9.13"
  },
  "orig_nbformat": 4,
  "vscode": {
   "interpreter": {
    "hash": "06f7aefc5041c770a0b6cea7ade4adb70dd9687b6650a782b2420b49498c49c5"
   }
  }
 },
 "nbformat": 4,
 "nbformat_minor": 2
}
