{
 "cells": [
  {
   "cell_type": "markdown",
   "source": [
    "# Linked List"
   ],
   "metadata": {}
  },
  {
   "cell_type": "markdown",
   "source": [
    "## 21. Merge Two Sorted Lists\n",
    "\n",
    "You are given the heads of two sorted linked lists list1 and list2.\n",
    "\n",
    "Merge the two lists in a one sorted list. The list should be made by splicing together the nodes of the first two lists.\n",
    "\n",
    "Return the head of the merged linked list.\n",
    "\n"
   ],
   "metadata": {}
  },
  {
   "cell_type": "code",
   "execution_count": 3,
   "source": [
    "# Definition for singly-linked list.\n",
    "class ListNode:\n",
    "    def __init__(self, val=0, next=None):\n",
    "        self.val = val\n",
    "        self.next = next\n",
    "class Solution:\n",
    "    def mergeTwoLists(self, l1, l2):\n",
    "        dummy = ListNode(0)\n",
    "        curr = dummy\n",
    "        \n",
    "        while(l1 and l2):\n",
    "            if(l1.val < l2.val):\n",
    "                curr.next = l1\n",
    "                l1 = l1.next\n",
    "            else:\n",
    "                curr.next = l2\n",
    "                l2 = l2.next\n",
    "            curr = curr.next\n",
    "            \n",
    "        if l1:\n",
    "            curr.next = l1\n",
    "        if l2:\n",
    "            curr.next = l2\n",
    "            \n",
    "        return dummy.next\n",
    "        "
   ],
   "outputs": [],
   "metadata": {}
  },
  {
   "cell_type": "markdown",
   "source": [
    "## 141. Linked List Cycle\n",
    "\n",
    "Given head, the head of a linked list, determine if the linked list has a cycle in it.\n",
    "\n",
    "There is a cycle in a linked list if there is some node in the list that can be reached again by continuously following the next pointer. \n",
    "\n",
    "Internally, pos is used to denote the index of the node that tail's next pointer is connected to. \n",
    "\n",
    "Note that pos is not passed as a parameter.\n",
    "\n",
    "Return true if there is a cycle in the linked list. Otherwise, return false."
   ],
   "metadata": {}
  },
  {
   "cell_type": "markdown",
   "source": [
    "### 想法一\n",
    "有跑過的位置標記起來，遇到標記過的就return True"
   ],
   "metadata": {}
  },
  {
   "cell_type": "code",
   "execution_count": 1,
   "source": [
    "# Definition for singly-linked list.\n",
    "class ListNode:\n",
    "    def __init__(self, x):\n",
    "        self.val = x\n",
    "        self.next = None\n",
    "\n",
    "class Solution:\n",
    "    def hasCycle(self, head) -> bool:\n",
    "        \"\"\"\n",
    "        :type head: ListNode\n",
    "        :rtype: bool\n",
    "        \"\"\"\n",
    "        # 先確定傳進來的listnode在合理範圍\n",
    "        if head == None or head.next == None:\n",
    "            return False\n",
    "\n",
    "        # 有跑過的node標記起來\n",
    "        map = {}\n",
    "        while(head):\n",
    "            if id(head) in map:\n",
    "                return True\n",
    "            else:\n",
    "                map[id(head)] = True\n",
    "\n",
    "            head = head.next\n",
    "        \n",
    "        return False\n",
    "\n",
    "        \n"
   ],
   "outputs": [],
   "metadata": {}
  },
  {
   "cell_type": "markdown",
   "source": [
    "### 想法二\n",
    "快慢指針法，用兩個指針，快指針一次移動兩個節點，慢指針一次移動一個節點，如果有閉環，就一定會有相等的時候"
   ],
   "metadata": {}
  },
  {
   "cell_type": "code",
   "execution_count": 3,
   "source": [
    "# Definition for singly-linked list.\n",
    "class ListNode:\n",
    "    def __init__(self, x):\n",
    "        self.val = x\n",
    "        self.next = None\n",
    "\n",
    "class Solution:\n",
    "    def hasCycle(self, head) -> bool:\n",
    "        \"\"\"\n",
    "        :type head: ListNode\n",
    "        :rtype: bool\n",
    "        \"\"\"\n",
    "        # 先確定傳進來的listnode在合理範圍（沒有節點或只有一個節點都不算）\n",
    "        if head == None or head.next == None:\n",
    "            return False\n",
    "\n",
    "        # 設定快慢指針\n",
    "        fast = head\n",
    "        slow = head\n",
    "        while fast and fast.next:\n",
    "            slow = slow.next\n",
    "            fast = fast.next.next\n",
    "            if slow == fast:\n",
    "                return True\n",
    "            \n",
    "        \n",
    "        return False"
   ],
   "outputs": [],
   "metadata": {}
  },
  {
   "cell_type": "markdown",
   "source": [
    "## 83. Remove Duplicates from Sorted List\n",
    "\n",
    "Given the head of a sorted linked list, delete all duplicates such that each element appears only once. Return the linked list sorted as well."
   ],
   "metadata": {}
  },
  {
   "cell_type": "markdown",
   "source": [
    "### 想法一\n",
    "\n",
    "下一個node值一樣的話就跳過\n",
    "\n",
    "要注意的是while(cur.next)而不是while(cur)"
   ],
   "metadata": {}
  },
  {
   "cell_type": "code",
   "execution_count": 3,
   "source": [
    "class ListNode:\n",
    "    def __init__(self, val=0, next=None):\n",
    "        self.val = val\n",
    "        self.next = next\n",
    "class Solution:\n",
    "    def deleteDuplicates(self, head):\n",
    "        \"\"\"\n",
    "        :type head: ListNode\n",
    "        :rtype: ListNode\n",
    "\n",
    "        \"\"\"\n",
    "        # 設定linked list合理範圍\n",
    "        if head==None or head.next==None:\n",
    "            return head\n",
    "\n",
    "        cur = head\n",
    "        while(cur.next):\n",
    "            if cur.val == cur.next.val:\n",
    "                cur.next = cur.next.next\n",
    "            else:\n",
    "                cur = cur.next\n",
    "\n",
    "        return head"
   ],
   "outputs": [],
   "metadata": {}
  },
  {
   "cell_type": "markdown",
   "source": [
    "## 24. Swap Nodes in Pairs\n",
    "\n",
    "Given a linked list, swap every two adjacent nodes and return its head.\n",
    "\n",
    "For example, Given 1->2->3->4, you should return the list as 2->1->4->3.\n",
    "\n",
    "Your algorithm should use only constant space. You may not modify the values in the list, only nodes itself can be changed."
   ],
   "metadata": {}
  },
  {
   "cell_type": "markdown",
   "source": [
    "### 想法一\n",
    "\n",
    "\n",
    "1. 先設一個虛擬首節點(dummy), 把pre指標指在這個節點上，cur指標指在head上\n",
    "2. 迴圈開始後，先保存下一個pair的開頭(cur.next.next)，設個指標為keep\n",
    "3. 首先把cur節點的下下一點指向自己，做一個倒轉，也跟下一個pair分開\n",
    "4. 再來虛設的首節點指向新的開頭(cur.next)，然後cur自己則指向下一個pair的開頭(keep)\n",
    "5. 再來下一個pair用同樣方式處理，要把指標歸位\n",
    "6. pre指標指向cur, cur指標指向下一個\n",
    "7. 繼續迴圈"
   ],
   "metadata": {}
  },
  {
   "cell_type": "code",
   "execution_count": 2,
   "source": [
    "class ListNode:\n",
    "    def __init__(self, val=0, next=None):\n",
    "        self.val = val\n",
    "        self.next = next\n",
    "class Solution:\n",
    "    def swapPairs(self, head):\n",
    "        \"\"\"\n",
    "        :type head: ListNode\n",
    "        :rtype: ListNode\n",
    "\n",
    "        \"\"\"\n",
    "        # 設定linked list合理範圍\n",
    "        if head==None or head.next==None:\n",
    "            return head\n",
    "\n",
    "        # 設虛擬首節點\n",
    "        dummy = ListNode(0)\n",
    "        dummy.next = head\n",
    "\n",
    "        # 設定前後指標\n",
    "        pre = dummy\n",
    "        cur = head\n",
    "        \n",
    "        while cur and cur.next:        \n",
    "            keep = cur.next.next #保留下一個pair的開頭\n",
    "            cur.next.next = cur #倒轉pair\n",
    "            pre.next = cur.next #把串列接往倒轉後的pair開頭\n",
    "            cur.next = keep #把倒轉後的pair接往下一個pair\n",
    "            pre = cur #把pre指標移到要下一個要處理的pair前一節點上\n",
    "            cur = cur.next #把cur指標移到下一個要處理的pair第一節點上\n",
    "\n",
    "        return dummy.next\n",
    "\n",
    "            "
   ],
   "outputs": [],
   "metadata": {}
  },
  {
   "cell_type": "markdown",
   "source": [
    "## 19. Remove Nth Node From End of List\n",
    "\n",
    "Given the head of a linked list, remove the nth node from the end of the list and return its head."
   ],
   "metadata": {}
  },
  {
   "cell_type": "markdown",
   "source": [
    "### 想法一\n",
    "\n",
    "\n",
    "設一個虛擬首指標，他n+1次next後的節點如果不是None，就把指標再推進一個節點，直到n+1次next後的節點是None，然後這個節點的next，就指向下下一個\n",
    "\n",
    "正式解法：快慢指針，想法差不多，差在第一次快指針跑完n+1步之後，就快慢指針一起往前平移就好...不用再每次都重複去跑快指針了...浪費時間"
   ],
   "metadata": {}
  },
  {
   "cell_type": "code",
   "execution_count": 3,
   "source": [
    "# Definition for singly-linked list.\n",
    "class ListNode:\n",
    "    def __init__(self, val=0, next=None):\n",
    "        self.val = val\n",
    "        self.next = next\n",
    "class Solution:\n",
    "    def removeNthFromEnd(self, head: ListNode, n: int) -> ListNode:\n",
    "        \n",
    "        # 合理範圍\n",
    "        if head == None:\n",
    "            return\n",
    "        \n",
    "        # 設一個虛擬首指標\n",
    "        dummy = ListNode(0)\n",
    "        dummy.next = head\n",
    "        cur = dummy\n",
    "        \n",
    "\n",
    "        while cur.next:\n",
    "            \n",
    "            # 找倒數第n個節點的前一個\n",
    "            flag = cur\n",
    "            for i in range(n+1):\n",
    "                flag = flag.next\n",
    "            \n",
    "            # 找到後把第n個節點跳過\n",
    "            if flag == None:\n",
    "                cur.next = cur.next.next\n",
    "                return dummy.next\n",
    "                \n",
    "            # 沒找到的話繼續往下一個移動\n",
    "            else:\n",
    "                cur = cur.next\n",
    "        \n",
    "        return \n",
    "\n",
    "\n",
    "    # 一樣的思路寫成快慢指針的寫法\n",
    "\n",
    "    def removeNthFromEnd_2(self, head: ListNode, n: int) -> ListNode:\n",
    "        \n",
    "        dummy = ListNode()\n",
    "        dummy.next = head\n",
    "\n",
    "        slow, fast = dummy, dummy\n",
    "\n",
    "        # 先移動快針n+1步\n",
    "        while n!=-1:\n",
    "            fast = fast.next\n",
    "            n -= 1\n",
    "\n",
    "        #如果fast不等於None的話，再往下一個移動(我上面原本自己寫的，fast指針每次沒找到又從第一個再往下找一次，這個寫法就不用，兩個指針一起平移前進就好)\n",
    "        while fast:\n",
    "            slow = slow.next\n",
    "            fast = fast.next\n",
    "\n",
    "        #fast走到結尾後，slow的下一個節點就是要刪除的點\n",
    "        slow.next = slow.next.next\n",
    "\n",
    "        return dummy.next\n"
   ],
   "outputs": [],
   "metadata": {}
  }
 ],
 "metadata": {
  "interpreter": {
   "hash": "c7cfd08b3d7ef036d9176485aa84b0e0696e87e7e5b51d206a9367b7750cbfc1"
  },
  "kernelspec": {
   "name": "python3",
   "display_name": "Python 3.9.7 64-bit ('wisenvr': conda)"
  },
  "language_info": {
   "codemirror_mode": {
    "name": "ipython",
    "version": 3
   },
   "file_extension": ".py",
   "mimetype": "text/x-python",
   "name": "python",
   "nbconvert_exporter": "python",
   "pygments_lexer": "ipython3",
   "version": "3.9.7"
  },
  "orig_nbformat": 4
 },
 "nbformat": 4,
 "nbformat_minor": 2
}