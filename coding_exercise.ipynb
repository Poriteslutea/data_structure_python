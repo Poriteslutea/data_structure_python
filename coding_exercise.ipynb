{
 "cells": [
  {
   "cell_type": "markdown",
   "source": [
    "# 21. Merge Two Sorted Lists\n",
    "\n",
    "You are given the heads of two sorted linked lists list1 and list2.\n",
    "\n",
    "Merge the two lists in a one sorted list. The list should be made by splicing together the nodes of the first two lists.\n",
    "\n",
    "Return the head of the merged linked list.\n",
    "\n"
   ],
   "metadata": {}
  },
  {
   "cell_type": "code",
   "execution_count": 3,
   "source": [
    "# Definition for singly-linked list.\n",
    "class ListNode:\n",
    "    def __init__(self, val=0, next=None):\n",
    "        self.val = val\n",
    "        self.next = next\n",
    "class Solution:\n",
    "    def mergeTwoLists(self, l1, l2):\n",
    "        dummy = ListNode(0)\n",
    "        curr = dummy\n",
    "        \n",
    "        while(l1 and l2):\n",
    "            if(l1.val < l2.val):\n",
    "                curr.next = l1\n",
    "                l1 = l1.next\n",
    "            else:\n",
    "                curr.next = l2\n",
    "                l2 = l2.next\n",
    "            curr = curr.next\n",
    "            \n",
    "        if l1:\n",
    "            curr.next = l1\n",
    "        if l2:\n",
    "            curr.next = l2\n",
    "            \n",
    "        return dummy.next\n",
    "        "
   ],
   "outputs": [],
   "metadata": {}
  },
  {
   "cell_type": "markdown",
   "source": [
    "# 141. Linked List Cycle\n",
    "\n",
    "Given head, the head of a linked list, determine if the linked list has a cycle in it.\n",
    "\n",
    "There is a cycle in a linked list if there is some node in the list that can be reached again by continuously following the next pointer. \n",
    "\n",
    "Internally, pos is used to denote the index of the node that tail's next pointer is connected to. \n",
    "\n",
    "Note that pos is not passed as a parameter.\n",
    "\n",
    "Return true if there is a cycle in the linked list. Otherwise, return false."
   ],
   "metadata": {}
  },
  {
   "cell_type": "markdown",
   "source": [
    "## 想法一\n",
    "有跑過的位置標記起來，遇到標記過的就return True"
   ],
   "metadata": {}
  },
  {
   "cell_type": "code",
   "execution_count": 1,
   "source": [
    "# Definition for singly-linked list.\n",
    "class ListNode:\n",
    "    def __init__(self, x):\n",
    "        self.val = x\n",
    "        self.next = None\n",
    "\n",
    "class Solution:\n",
    "    def hasCycle(self, head) -> bool:\n",
    "        \"\"\"\n",
    "        :type head: ListNode\n",
    "        :rtype: bool\n",
    "        \"\"\"\n",
    "        # 先確定傳進來的listnode在合理範圍\n",
    "        if head == None or head.next == None:\n",
    "            return False\n",
    "\n",
    "        # 有跑過的node標記起來\n",
    "        map = {}\n",
    "        while(head):\n",
    "            if id(head) in map:\n",
    "                return True\n",
    "            else:\n",
    "                map[id(head)] = True\n",
    "\n",
    "            head = head.next\n",
    "        \n",
    "        return False\n",
    "\n",
    "        \n"
   ],
   "outputs": [],
   "metadata": {}
  },
  {
   "cell_type": "markdown",
   "source": [
    "## 想法二\n",
    "快慢指針法，用兩個指針，快指針一次移動兩個節點，慢指針一次移動一個節點，如果有閉環，就一定會有相等的時候"
   ],
   "metadata": {}
  },
  {
   "cell_type": "code",
   "execution_count": 3,
   "source": [
    "# Definition for singly-linked list.\n",
    "class ListNode:\n",
    "    def __init__(self, x):\n",
    "        self.val = x\n",
    "        self.next = None\n",
    "\n",
    "class Solution:\n",
    "    def hasCycle(self, head) -> bool:\n",
    "        \"\"\"\n",
    "        :type head: ListNode\n",
    "        :rtype: bool\n",
    "        \"\"\"\n",
    "        # 先確定傳進來的listnode在合理範圍（沒有節點或只有一個節點都不算）\n",
    "        if head == None or head.next == None:\n",
    "            return False\n",
    "\n",
    "        # 設定快慢指針\n",
    "        fast = head\n",
    "        slow = head\n",
    "        while fast and fast.next:\n",
    "            slow = slow.next\n",
    "            fast = fast.next.next\n",
    "            if slow == fast:\n",
    "                return True\n",
    "            \n",
    "        \n",
    "        return False"
   ],
   "outputs": [],
   "metadata": {}
  }
 ],
 "metadata": {
  "interpreter": {
   "hash": "c7cfd08b3d7ef036d9176485aa84b0e0696e87e7e5b51d206a9367b7750cbfc1"
  },
  "kernelspec": {
   "name": "python3",
   "display_name": "Python 3.9.7 64-bit ('wisenvr': conda)"
  },
  "language_info": {
   "codemirror_mode": {
    "name": "ipython",
    "version": 3
   },
   "file_extension": ".py",
   "mimetype": "text/x-python",
   "name": "python",
   "nbconvert_exporter": "python",
   "pygments_lexer": "ipython3",
   "version": "3.9.7"
  },
  "orig_nbformat": 4
 },
 "nbformat": 4,
 "nbformat_minor": 2
}