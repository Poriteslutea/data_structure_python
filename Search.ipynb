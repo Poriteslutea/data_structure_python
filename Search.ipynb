{
 "cells": [
  {
   "cell_type": "markdown",
   "metadata": {},
   "source": [
    "# Breadth-First Search\n"
   ]
  },
  {
   "cell_type": "markdown",
   "metadata": {},
   "source": [
    "## 279. Perfect Squares\n",
    "\n",
    "Given an integer n, return the least number of perfect square numbers that sum to n.\n",
    "\n",
    "A perfect square is an integer that is the square of an integer; in other words, it is the product of some integer with itself. For example, 1, 4, 9, and 16 are perfect squares while 3 and 11 are not.\n",
    "\n",
    "Example:\n",
    "```\n",
    "Input: n = 12\n",
    "Output: 3\n",
    "Explanation: 12 = 4 + 4 + 4.\n",
    "```\n",
    "\n"
   ]
  },
  {
   "cell_type": "code",
   "execution_count": null,
   "metadata": {},
   "outputs": [],
   "source": [
    "n = 27\n",
    "\n"
   ]
  },
  {
   "cell_type": "markdown",
   "metadata": {},
   "source": [
    "## 1926. Nearest Exit from Entrance in Maze\n",
    "\n",
    "You are given an m x n matrix maze (0-indexed) with empty cells (represented as '.') and walls (represented as '+'). \n",
    "\n",
    "You are also given the entrance of the maze, where entrance = [entrance(row), entrance(col)] denotes the row and column of the cell you are initially standing at.\n",
    "\n",
    "In one step, you can move one cell up, down, left, or right. You cannot step into a cell with a wall, and you cannot step outside the maze. \n",
    "\n",
    "Your goal is to find the nearest exit from the entrance. An exit is defined as an empty cell that is at the border of the maze. The entrance does not count as an exit.\n",
    "\n",
    "Return the number of steps in the shortest path from the entrance to the nearest exit, or -1 if no such path exists.\n",
    "\n",
    "Example:\n",
    "\n",
    "> Input: maze = [[\"+\",\"+\",\".\",\"+\"],[\".\",\".\",\".\",\"+\"],[\"+\",\"+\",\"+\",\".\"]], entrance = [1,2]\n",
    ">\n",
    "> Output: 1\n",
    ">\n",
    "> Explanation: There are 3 exits in this maze at [1,0], [0,2], and [2,3].\n",
    "> Initially, you are at the entrance cell [1,2].\n",
    "> - You can reach [1,0] by moving 2 steps left.\n",
    "> - You can reach [0,2] by moving 1 step up.\n",
    "> - It is impossible to reach [2,3] from the entrance.\n",
    "> Thus, the nearest exit is [0,2], which is 1 step away.\n",
    ">  \n",
    ">"
   ]
  }
 ],
 "metadata": {
  "kernelspec": {
   "display_name": "Python 3.9.13 ('dask_worker')",
   "language": "python",
   "name": "python3"
  },
  "language_info": {
   "name": "python",
   "version": "3.9.13"
  },
  "orig_nbformat": 4,
  "vscode": {
   "interpreter": {
    "hash": "06f7aefc5041c770a0b6cea7ade4adb70dd9687b6650a782b2420b49498c49c5"
   }
  }
 },
 "nbformat": 4,
 "nbformat_minor": 2
}
