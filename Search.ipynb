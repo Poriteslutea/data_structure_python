{
 "cells": [
  {
   "cell_type": "markdown",
   "metadata": {},
   "source": [
    "# Breadth-First Search\n"
   ]
  },
  {
   "cell_type": "markdown",
   "metadata": {},
   "source": [
    "## 279. Perfect Squares\n",
    "\n",
    "Given an integer n, return the least number of perfect square numbers that sum to n.\n",
    "\n",
    "A perfect square is an integer that is the square of an integer; in other words, it is the product of some integer with itself. For example, 1, 4, 9, and 16 are perfect squares while 3 and 11 are not.\n",
    "\n",
    "Example:\n",
    "```\n",
    "Input: n = 12\n",
    "Output: 3\n",
    "Explanation: 12 = 4 + 4 + 4.\n",
    "```\n",
    "\n"
   ]
  },
  {
   "cell_type": "markdown",
   "metadata": {},
   "source": [
    "### 自己想的\n",
    "\n",
    "沒有成功，只能拆解出其中一種，算是用遞迴吧"
   ]
  },
  {
   "cell_type": "code",
   "execution_count": 15,
   "metadata": {},
   "outputs": [
    {
     "name": "stdout",
     "output_type": "stream",
     "text": [
      "end\n"
     ]
    },
    {
     "data": {
      "text/plain": [
       "[3025, 36, 9]"
      ]
     },
     "execution_count": 15,
     "metadata": {},
     "output_type": "execute_result"
    }
   ],
   "source": [
    "import math\n",
    "num = 0\n",
    "\n",
    "# 這個方法只能拆解出其中一種，沒辦法算出最少可能性的～～～\n",
    "def decompose(n):\n",
    "    ss = []\n",
    "    i = math.floor(n**0.5)\n",
    "    k = n - i**2\n",
    "    if math.floor(k**0.5) == k**0.5:\n",
    "        ss.append(i**2)\n",
    "        ss.append(k)\n",
    "        print(f'end')\n",
    "    else:\n",
    "        ss.append(i**2)\n",
    "        ss.extend(decompose(k))\n",
    "        \n",
    "    return ss\n",
    "\n",
    "decompose(3070)\n",
    "    \n",
    "\n",
    "\n"
   ]
  },
  {
   "cell_type": "markdown",
   "metadata": {},
   "source": [
    "### 解法：Dynamic programming\n",
    "\n"
   ]
  },
  {
   "cell_type": "code",
   "execution_count": 21,
   "metadata": {},
   "outputs": [
    {
     "name": "stdout",
     "output_type": "stream",
     "text": [
      "[0, 1, 2, 3, 1, 2, 3, 4, 2, 1, 2, 3, 3, 2, 3, 4, 1, 2, 2, 3, 2, 3, 3, 4, 3, 1, 2, 3, 4, 2, 3]\n"
     ]
    },
    {
     "data": {
      "text/plain": [
       "3"
      ]
     },
     "execution_count": 21,
     "metadata": {},
     "output_type": "execute_result"
    }
   ],
   "source": [
    "from math import isqrt  # math.isqrt(n) >> get the floor value of exact square root of n \n",
    "    \n",
    "def numSquares(n: int, dp = [0]) -> int:\n",
    "\n",
    "    for k in range(len(dp), n+1):\n",
    "        if k == len(dp) : dp.append(k)\n",
    "        for i in range(1, isqrt(k)+1):\n",
    "            dp[k] = min(dp[k], 1 + dp[k - (i*i)])\n",
    "\n",
    "    print(dp)\n",
    "            \n",
    "    return dp[n]\n",
    "\n",
    "numSquares(30)"
   ]
  },
  {
   "cell_type": "markdown",
   "metadata": {},
   "source": [
    "### 解法：BFS\n",
    "\n"
   ]
  },
  {
   "cell_type": "code",
   "execution_count": 28,
   "metadata": {},
   "outputs": [
    {
     "name": "stdout",
     "output_type": "stream",
     "text": [
      "deque([(10, 2), (17, 2), (26, 2), (8, 2), (13, 2), (20, 2), (29, 2), (18, 2), (3, 3), (6, 3), (11, 3), (27, 3), (14, 3), (21, 3)])\n"
     ]
    },
    {
     "data": {
      "text/plain": [
       "3"
      ]
     },
     "execution_count": 28,
     "metadata": {},
     "output_type": "execute_result"
    }
   ],
   "source": [
    "from collections import deque\n",
    "\n",
    "def numSquares(n: int) -> int:\n",
    "        q=deque()\n",
    "        visited=set()\n",
    "        q.append((0,0))\n",
    "        while q:\n",
    "            s,count=q.popleft()\n",
    "            count+=1\n",
    "            for i in range(1,n+1):\n",
    "                temp=s+i*i\n",
    "                if temp>n:\n",
    "                    break\n",
    "                if temp==n:\n",
    "                    print(q)\n",
    "                    return count\n",
    "                if temp not in visited:\n",
    "                    visited.add(temp)\n",
    "                    q.append((temp,count))\n",
    "        \n",
    "        \n",
    "\n",
    "numSquares(30)"
   ]
  },
  {
   "cell_type": "markdown",
   "metadata": {},
   "source": [
    "## 1926. Nearest Exit from Entrance in Maze\n",
    "\n",
    "You are given an m x n matrix maze (0-indexed) with empty cells (represented as '.') and walls (represented as '+'). \n",
    "\n",
    "You are also given the entrance of the maze, where entrance = [entrance(row), entrance(col)] denotes the row and column of the cell you are initially standing at.\n",
    "\n",
    "In one step, you can move one cell up, down, left, or right. You cannot step into a cell with a wall, and you cannot step outside the maze. \n",
    "\n",
    "Your goal is to find the nearest exit from the entrance. An exit is defined as an empty cell that is at the border of the maze. The entrance does not count as an exit.\n",
    "\n",
    "Return the number of steps in the shortest path from the entrance to the nearest exit, or -1 if no such path exists.\n",
    "\n",
    "Example:\n",
    "\n",
    "> Input: maze = [[\"+\",\"+\",\".\",\"+\"],[\".\",\".\",\".\",\"+\"],[\"+\",\"+\",\"+\",\".\"]], entrance = [1,2]\n",
    ">\n",
    "> Output: 1\n",
    ">\n",
    "> Explanation: There are 3 exits in this maze at [1,0], [0,2], and [2,3].\n",
    "> Initially, you are at the entrance cell [1,2].\n",
    "> - You can reach [1,0] by moving 2 steps left.\n",
    "> - You can reach [0,2] by moving 1 step up.\n",
    "> - It is impossible to reach [2,3] from the entrance.\n",
    "> Thus, the nearest exit is [0,2], which is 1 step away.\n",
    ">  \n",
    ">"
   ]
  },
  {
   "cell_type": "markdown",
   "metadata": {},
   "source": [
    "### 解法：BFS\n"
   ]
  },
  {
   "cell_type": "code",
   "execution_count": 32,
   "metadata": {},
   "outputs": [
    {
     "data": {
      "text/plain": [
       "1"
      ]
     },
     "execution_count": 32,
     "metadata": {},
     "output_type": "execute_result"
    }
   ],
   "source": [
    "from collections import deque\n",
    "\n",
    "def nearestExit(maze: list, e: list) -> int:\n",
    "    \n",
    "    m, n = len(maze), len(maze[0])\n",
    "    x, y = e\n",
    "    \n",
    "    # this lambda checks the exit condition \n",
    "    is_exit = lambda i, j : i*j==0 or i==m-1 or j==n-1\n",
    "    \n",
    "    # this generator yields (!) allowed directions\n",
    "    def adj(i,j, dirs=[1, 0, -1, 0, 1]):\n",
    "        for d in range(4):\n",
    "            ii, jj = i + dirs[d], j + dirs[d+1]\n",
    "            if 0 <= ii < m and 0 <= jj < n and maze[ii][jj] != \"+\":\n",
    "                yield ii,jj\n",
    "        \n",
    "    dq = deque([(x,y,0)])                      # [1] start from the entrance...\n",
    "    maze[x][y] = '+'                           #     ...and mark it as visited\n",
    "    while dq:                                  # [2] while there are still places to go...\n",
    "        i, j, s = dq.popleft()                 #     ...try going there (don't try, do it!)\n",
    "        for ii,jj in adj(i,j):                 # [3] look around, make a step...\n",
    "            maze[ii][jj] = \"+\"                 #     ...and mark it as visited\n",
    "            if is_exit(ii,jj) : return s+1     # [4] great, it's the exit!\n",
    "            dq.append((ii,jj,s+1))             # [5] or maybe not, continue searching\n",
    "            \n",
    "    return -1                                  # [6] BFS failed, there is no escape\n",
    "\n",
    "\n",
    "maze = [[\"+\",\"+\",\".\",\"+\"],[\".\",\".\",\".\",\"+\"],[\"+\",\"+\",\"+\",\".\"]]\n",
    "e = [1,2]\n",
    "nearestExit(maze, e)"
   ]
  },
  {
   "cell_type": "markdown",
   "metadata": {},
   "source": [
    "# Union Find"
   ]
  },
  {
   "cell_type": "markdown",
   "metadata": {},
   "source": [
    "## 947. Most Stones Removed with Same Row or Column\n",
    "\n",
    "On a 2D plane, we place n stones at some integer coordinate points. Each coordinate point may have at most one stone.\n",
    "\n",
    "A stone can be removed if it shares either the same row or the same column as another stone that has not been removed.\n",
    "\n",
    "Given an array stones of length n where stones[i] = [xi, yi] represents the location of the ith stone, return the largest possible number of stones that can be removed.\n",
    "\n",
    "Leetcode Link : https://leetcode.com/problems/most-stones-removed-with-same-row-or-column/"
   ]
  },
  {
   "cell_type": "markdown",
   "metadata": {},
   "source": [
    "### 自己想的\n",
    "\n",
    "但因為判斷要從哪個先刪除僅以每行每列所含的石頭數量判斷，如果刪錯順序就找不到最大刪除石頭數，所以一些比較複雜的case容易失敗QQ\n",
    "我想了一整天...哭哭"
   ]
  },
  {
   "cell_type": "code",
   "execution_count": null,
   "metadata": {},
   "outputs": [],
   "source": [
    "from collections import Counter\n",
    "stones = [[0,0],[0,2],[1,1],[2,0],[2,2]]\n",
    "row_count = Counter(list(map(lambda x: x[0], stones)))\n",
    "col_count = Counter(list(map(lambda x: x[1], stones)))\n",
    "del_num = 0\n",
    "ss = sorted(stones, key=lambda x: min(row_count[x[0]], col_count[x[1]]))\n",
    "sss = list(map(lambda x:(row_count[x[0]], col_count[x[1]]), ss))\n",
    "print(ss)\n",
    "print(sss)\n",
    "i=0\n",
    "while any(list(map(lambda x: x >1 ,row_count.values()))) and any(list(map(lambda x: x >1 ,col_count.values()))) :\n",
    "\n",
    "    print(i)\n",
    "    \n",
    "    if row_count[ss[i][0]] == 1 and col_count[ss[i][1]] == 1:\n",
    "        i += 1\n",
    "        print('keep')\n",
    "\n",
    "    elif row_count[ss[i][0]] == 1 or col_count[ss[i][1]] == 1:\n",
    "        row_count[ss[i][0]] -= 1\n",
    "        col_count[ss[i][1]] -= 1\n",
    "        del_num += 1\n",
    "        stones.remove(ss[i])\n",
    "        i += 1\n",
    "        \n",
    "    else:\n",
    "        ss = sorted(stones, key=lambda x: min(row_count[x[0]], col_count[x[1]]))\n",
    "        print(ss)\n",
    "        print(list(map(lambda x:(row_count[x[0]], col_count[x[1]]), ss)))\n",
    "        \n",
    "        if row_count[ss[i][0]] == 1 and col_count[ss[i][1]] == 1:\n",
    "            i += 1\n",
    "        else:\n",
    "            row_count[ss[i][0]] -= 1\n",
    "            col_count[ss[i][1]] -= 1\n",
    "            del_num += 1\n",
    "            stones.remove(ss[i])\n",
    "            i += 1\n",
    "\n",
    "\n",
    "del_num"
   ]
  },
  {
   "cell_type": "markdown",
   "metadata": {},
   "source": [
    "# Binary Search"
   ]
  },
  {
   "cell_type": "markdown",
   "metadata": {},
   "source": [
    "## 374. Guess Number Higher or Lower\n",
    "\n",
    "We are playing the Guess Game. The game is as follows:\n",
    "\n",
    "I pick a number from 1 to n. You have to guess which number I picked.\n",
    "\n",
    "Every time you guess wrong, I will tell you whether the number I picked is higher or lower than your guess.\n",
    "\n",
    "You call a pre-defined API int guess(int num), which returns three possible results:\n",
    "```\n",
    "-1: Your guess is higher than the number I picked (i.e. num > pick).\n",
    "1: Your guess is lower than the number I picked (i.e. num < pick).\n",
    "0: your guess is equal to the number I picked (i.e. num == pick).\n",
    "```\n",
    "Return the number that I picked."
   ]
  },
  {
   "cell_type": "markdown",
   "metadata": {},
   "source": [
    "### 想法\n",
    "\n",
    "二元樹搜尋的題目，需要注意的是，當mid不等於pick並且要把左右指標移來時，應該要shift一位，免得無限迴圈發生（pick剛好在右邊界上，mid會無限對應不到）"
   ]
  },
  {
   "cell_type": "code",
   "execution_count": null,
   "metadata": {},
   "outputs": [],
   "source": [
    "def guess(num, pick=6):\n",
    "\n",
    "    if num > pick:\n",
    "        return -1\n",
    "    elif num < pick:\n",
    "        return 1\n",
    "    else:\n",
    "        return 0\n",
    "\n",
    "def guessNumber(n: int) -> int:\n",
    "    left = 1\n",
    "    right = n\n",
    "    mid = (n + 1) // 2\n",
    "    print(mid)\n",
    "    while guess(mid) != 0:\n",
    "        if guess(mid) == -1:\n",
    "            right = mid - 1\n",
    "            mid = (left + right) // 2\n",
    "        else:\n",
    "            left = mid + 1\n",
    "            mid = (left + right) // 2\n",
    "        print(mid)\n",
    "\n",
    "    return mid\n",
    "\n",
    "\n",
    "# 正式的二元樹解法(左閉合+右閉合，即Pick可能在left上或right上)\n",
    "def guessNumber_2(n: int) -> int:\n",
    "    left = 1\n",
    "    right = n\n",
    "    while left <= right:\n",
    "        mid = left + (right - left) // 2 #防止 left+right/2 溢位 \n",
    "        if guess(mid) == -1:  \n",
    "            right = mid - 1\n",
    "        elif guess(mid) == 1:\n",
    "            left = mid + 1\n",
    "        else:\n",
    "            return mid"
   ]
  },
  {
   "cell_type": "markdown",
   "metadata": {},
   "source": [
    "# Backtracking"
   ]
  },
  {
   "cell_type": "markdown",
   "metadata": {},
   "source": [
    "## 79. Word Search\n",
    "\n",
    "Given an m x n grid of characters board and a string word, return true if word exists in the grid.\n",
    "\n",
    "The word can be constructed from letters of sequentially adjacent cells, where adjacent cells are horizontally or vertically neighboring. \n",
    "\n",
    "The same letter cell may not be used more than once.\n",
    "\n",
    "Example：\n",
    "```\n",
    "Input: board = [[\"A\",\"B\",\"C\",\"E\"],[\"S\",\"F\",\"C\",\"S\"],[\"A\",\"D\",\"E\",\"E\"]], word = \"ABCCED\"\n",
    "Output: true\n",
    "\n",
    "```"
   ]
  },
  {
   "cell_type": "markdown",
   "metadata": {},
   "source": [
    "### 解法：Backtracking"
   ]
  },
  {
   "cell_type": "code",
   "execution_count": 35,
   "metadata": {},
   "outputs": [],
   "source": [
    "\n",
    "def exist(board: list, word: str) -> bool:\n",
    "    \n",
    "    directions = [[0,1],[1,0],[0,-1],[-1,0]]   # 上下左右的方向\n",
    "    m,n = len(board),len(board[0])             # 列數跟行數\n",
    "    \n",
    "    def backtrack(i,j,k,visited):  # 判斷有沒有下一步\n",
    "        \n",
    "        if board[i][j] == word[k]:   # 目前位置有比對成功，代表能找到下一步           \n",
    "            if k==len(word)-1:       # 當k已經是word最後一個index時，代表全部比對完成，回傳正確\n",
    "                return True\n",
    "            \n",
    "            for xn,yn in directions:\n",
    "                x,y = i+xn,j+yn      # 走完下一步時的位置\n",
    "                if 0<=x<m and 0<=y<n and (x,y) not in visited:             # 當下一步的位置在合理範圍內\n",
    "                    if backtrack(x,y,k+1,visited.union({(x,y)}))==True:    # 比對下一步：用union合併集合，放查找過的位置，x, y不可超出範圍，是下一步的位置，k+1是比對下一個字母\n",
    "                        return True                                        # 當下一步開始能走到最後，return True\n",
    "        \n",
    "        return False  # 當符合下一步條件的位置都無法走到最後，才return False\n",
    "    \n",
    "    # 查找board上每一個位置，看每個位置出發後能不能走到最後\n",
    "    for i in range(m):\n",
    "        for j in range(n):\n",
    "            if backtrack(i,j,0,{(i,j)}):  # 當確定找到後，就return True\n",
    "                return True\n",
    "    return False                          # 每一個都找完確定都沒有，才return False"
   ]
  },
  {
   "cell_type": "code",
   "execution_count": 36,
   "metadata": {},
   "outputs": [
    {
     "data": {
      "text/plain": [
       "True"
      ]
     },
     "execution_count": 36,
     "metadata": {},
     "output_type": "execute_result"
    }
   ],
   "source": [
    "board = [[\"A\",\"B\",\"C\",\"E\"],[\"S\",\"F\",\"C\",\"S\"],[\"A\",\"D\",\"E\",\"E\"]]\n",
    "word = \"ABCCED\"\n",
    "exist(board, word)"
   ]
  },
  {
   "cell_type": "markdown",
   "metadata": {},
   "source": [
    "## 22. Generate Parentheses\n",
    "\n",
    "Given n pairs of parentheses, write a function to generate all combinations of well-formed parentheses.\n",
    "\n",
    "Example 1:\n",
    "```\n",
    "Input: n = 3\n",
    "Output: [\"((()))\",\"(()())\",\"(())()\",\"()(())\",\"()()()\"]\n",
    "\n",
    "```"
   ]
  },
  {
   "cell_type": "markdown",
   "metadata": {},
   "source": [
    "### 解法：Backtracking\n",
    "\n",
    "1. ')'只在valid'('之後才有\n",
    "2. 我們使用left, right分別代表有幾個左括號與右括號要放\n",
    "3. 如果左括號 < n，代表還有左括號要放進去\n",
    "4. 如果right < left，代表還有右括號要放進去\n",
    "```\n",
    "\t\t\t\t\t\t\t\t   \t(0, 0, '')\n",
    "\t\t\t\t\t\t\t\t \t    |\t\n",
    "\t\t\t\t\t\t\t\t\t(1, 0, '(')  \n",
    "\t\t\t\t\t\t\t\t   /           \\\n",
    "\t\t\t\t\t\t\t(2, 0, '((')      (1, 1, '()')\n",
    "\t\t\t\t\t\t\t   /                 \\\n",
    "\t\t\t\t\t\t(2, 1, '(()')           (2, 1, '()(')\n",
    "\t\t\t\t\t\t   /                       \\\n",
    "\t\t\t\t\t(2, 2, '(())')                (2, 2, '()()')\n",
    "\t\t\t\t\t\t      |\t                             |\n",
    "\t\t\t\t\tres.append('(())')             res.append('()()')\n",
    "\n",
    "```\n",
    "\n"
   ]
  },
  {
   "cell_type": "code",
   "execution_count": 2,
   "metadata": {},
   "outputs": [],
   "source": [
    "\n",
    "def generateParenthesis(n: int) -> list:\n",
    "    \n",
    "    def dfs(left, right, s):\n",
    "        if len(s) == n * 2:   # 當長度加到預定長度，就可以把s回傳了\n",
    "            res.append(s)\n",
    "            return \n",
    "\n",
    "        if left < n:         # 左括號不夠，加一個左括號\n",
    "            dfs(left + 1, right, s + '(')\n",
    "\n",
    "        if right < left:     # 右括號不夠，加一個右括號\n",
    "            dfs(left, right + 1, s + ')')\n",
    "\n",
    "\n",
    "    res = []\n",
    "    dfs(0, 0, '')\n",
    "\n",
    "\t\n",
    "    return res\n",
    "    \n",
    "  "
   ]
  }
 ],
 "metadata": {
  "kernelspec": {
   "display_name": "Python 3.9.13 ('dask_worker')",
   "language": "python",
   "name": "python3"
  },
  "language_info": {
   "codemirror_mode": {
    "name": "ipython",
    "version": 3
   },
   "file_extension": ".py",
   "mimetype": "text/x-python",
   "name": "python",
   "nbconvert_exporter": "python",
   "pygments_lexer": "ipython3",
   "version": "3.9.13"
  },
  "orig_nbformat": 4,
  "vscode": {
   "interpreter": {
    "hash": "06f7aefc5041c770a0b6cea7ade4adb70dd9687b6650a782b2420b49498c49c5"
   }
  }
 },
 "nbformat": 4,
 "nbformat_minor": 2
}
