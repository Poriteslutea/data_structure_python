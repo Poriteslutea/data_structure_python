{
 "cells": [
  {
   "cell_type": "markdown",
   "metadata": {},
   "source": [
    "# Breadth-First Search\n"
   ]
  },
  {
   "cell_type": "markdown",
   "metadata": {},
   "source": [
    "## 279. Perfect Squares\n",
    "\n",
    "Given an integer n, return the least number of perfect square numbers that sum to n.\n",
    "\n",
    "A perfect square is an integer that is the square of an integer; in other words, it is the product of some integer with itself. For example, 1, 4, 9, and 16 are perfect squares while 3 and 11 are not.\n",
    "\n",
    "Example:\n",
    "```\n",
    "Input: n = 12\n",
    "Output: 3\n",
    "Explanation: 12 = 4 + 4 + 4.\n",
    "```\n",
    "\n"
   ]
  },
  {
   "cell_type": "markdown",
   "metadata": {},
   "source": [
    "### 自己想的\n",
    "\n",
    "沒有成功，只能拆解出其中一種，算是用遞迴吧"
   ]
  },
  {
   "cell_type": "code",
   "execution_count": 15,
   "metadata": {},
   "outputs": [
    {
     "name": "stdout",
     "output_type": "stream",
     "text": [
      "end\n"
     ]
    },
    {
     "data": {
      "text/plain": [
       "[3025, 36, 9]"
      ]
     },
     "execution_count": 15,
     "metadata": {},
     "output_type": "execute_result"
    }
   ],
   "source": [
    "import math\n",
    "num = 0\n",
    "\n",
    "# 這個方法只能拆解出其中一種，沒辦法算出最少可能性的～～～\n",
    "def decompose(n):\n",
    "    ss = []\n",
    "    i = math.floor(n**0.5)\n",
    "    k = n - i**2\n",
    "    if math.floor(k**0.5) == k**0.5:\n",
    "        ss.append(i**2)\n",
    "        ss.append(k)\n",
    "        print(f'end')\n",
    "    else:\n",
    "        ss.append(i**2)\n",
    "        ss.extend(decompose(k))\n",
    "        \n",
    "    return ss\n",
    "\n",
    "decompose(3070)\n",
    "    \n",
    "\n",
    "\n"
   ]
  },
  {
   "cell_type": "markdown",
   "metadata": {},
   "source": [
    "### 解法：Dynamic programming\n",
    "\n"
   ]
  },
  {
   "cell_type": "code",
   "execution_count": 21,
   "metadata": {},
   "outputs": [
    {
     "name": "stdout",
     "output_type": "stream",
     "text": [
      "[0, 1, 2, 3, 1, 2, 3, 4, 2, 1, 2, 3, 3, 2, 3, 4, 1, 2, 2, 3, 2, 3, 3, 4, 3, 1, 2, 3, 4, 2, 3]\n"
     ]
    },
    {
     "data": {
      "text/plain": [
       "3"
      ]
     },
     "execution_count": 21,
     "metadata": {},
     "output_type": "execute_result"
    }
   ],
   "source": [
    "from math import isqrt  # math.isqrt(n) >> get the floor value of exact square root of n \n",
    "    \n",
    "def numSquares(n: int, dp = [0]) -> int:\n",
    "\n",
    "    for k in range(len(dp), n+1):\n",
    "        if k == len(dp) : dp.append(k)\n",
    "        for i in range(1, isqrt(k)+1):\n",
    "            dp[k] = min(dp[k], 1 + dp[k - (i*i)])\n",
    "\n",
    "    print(dp)\n",
    "            \n",
    "    return dp[n]\n",
    "\n",
    "numSquares(30)"
   ]
  },
  {
   "cell_type": "markdown",
   "metadata": {},
   "source": [
    "### 解法：BFS"
   ]
  },
  {
   "cell_type": "code",
   "execution_count": 25,
   "metadata": {},
   "outputs": [
    {
     "name": "stdout",
     "output_type": "stream",
     "text": [
      "0 0\n",
      "1 1\n",
      "4 1\n",
      "9 1\n",
      "16 1\n",
      "25 1\n",
      "2 2\n",
      "5 2\n"
     ]
    },
    {
     "data": {
      "text/plain": [
       "3"
      ]
     },
     "execution_count": 25,
     "metadata": {},
     "output_type": "execute_result"
    }
   ],
   "source": [
    "from collections import deque\n",
    "\n",
    "def numSquares(n: int) -> int:\n",
    "        q=deque()\n",
    "        visited=set()\n",
    "        q.append((0,0))\n",
    "        while q:\n",
    "            s,count=q.popleft()\n",
    "            print(s, count)\n",
    "            count+=1\n",
    "            for i in range(1,n+1):\n",
    "                temp=s+i*i\n",
    "                if temp>n:\n",
    "                    break\n",
    "                if temp==n:\n",
    "                    return count\n",
    "                if temp not in visited:\n",
    "                    visited.add(temp)\n",
    "                    q.append((temp,count))\n",
    "        \n",
    "        \n",
    "\n",
    "numSquares(30)"
   ]
  },
  {
   "cell_type": "markdown",
   "metadata": {},
   "source": [
    "## 1926. Nearest Exit from Entrance in Maze\n",
    "\n",
    "You are given an m x n matrix maze (0-indexed) with empty cells (represented as '.') and walls (represented as '+'). \n",
    "\n",
    "You are also given the entrance of the maze, where entrance = [entrance(row), entrance(col)] denotes the row and column of the cell you are initially standing at.\n",
    "\n",
    "In one step, you can move one cell up, down, left, or right. You cannot step into a cell with a wall, and you cannot step outside the maze. \n",
    "\n",
    "Your goal is to find the nearest exit from the entrance. An exit is defined as an empty cell that is at the border of the maze. The entrance does not count as an exit.\n",
    "\n",
    "Return the number of steps in the shortest path from the entrance to the nearest exit, or -1 if no such path exists.\n",
    "\n",
    "Example:\n",
    "\n",
    "> Input: maze = [[\"+\",\"+\",\".\",\"+\"],[\".\",\".\",\".\",\"+\"],[\"+\",\"+\",\"+\",\".\"]], entrance = [1,2]\n",
    ">\n",
    "> Output: 1\n",
    ">\n",
    "> Explanation: There are 3 exits in this maze at [1,0], [0,2], and [2,3].\n",
    "> Initially, you are at the entrance cell [1,2].\n",
    "> - You can reach [1,0] by moving 2 steps left.\n",
    "> - You can reach [0,2] by moving 1 step up.\n",
    "> - It is impossible to reach [2,3] from the entrance.\n",
    "> Thus, the nearest exit is [0,2], which is 1 step away.\n",
    ">  \n",
    ">"
   ]
  }
 ],
 "metadata": {
  "kernelspec": {
   "display_name": "Python 3.9.13 ('dask_worker')",
   "language": "python",
   "name": "python3"
  },
  "language_info": {
   "codemirror_mode": {
    "name": "ipython",
    "version": 3
   },
   "file_extension": ".py",
   "mimetype": "text/x-python",
   "name": "python",
   "nbconvert_exporter": "python",
   "pygments_lexer": "ipython3",
   "version": "3.9.13"
  },
  "orig_nbformat": 4,
  "vscode": {
   "interpreter": {
    "hash": "06f7aefc5041c770a0b6cea7ade4adb70dd9687b6650a782b2420b49498c49c5"
   }
  }
 },
 "nbformat": 4,
 "nbformat_minor": 2
}
