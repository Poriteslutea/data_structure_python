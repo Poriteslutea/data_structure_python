{
 "cells": [
  {
   "cell_type": "markdown",
   "metadata": {},
   "source": [
    "# Binary Search"
   ]
  },
  {
   "cell_type": "markdown",
   "metadata": {},
   "source": [
    "## 374. Guess Number Higher or Lower"
   ]
  },
  {
   "cell_type": "markdown",
   "metadata": {},
   "source": [
    "We are playing the Guess Game. The game is as follows:\n",
    "\n",
    "I pick a number from 1 to n. You have to guess which number I picked.\n",
    "\n",
    "Every time you guess wrong, I will tell you whether the number I picked is higher or lower than your guess.\n",
    "\n",
    "You call a pre-defined API int guess(int num), which returns three possible results:\n",
    "```\n",
    "-1: Your guess is higher than the number I picked (i.e. num > pick).\n",
    "1: Your guess is lower than the number I picked (i.e. num < pick).\n",
    "0: your guess is equal to the number I picked (i.e. num == pick).\n",
    "```\n",
    "Return the number that I picked."
   ]
  },
  {
   "cell_type": "markdown",
   "metadata": {},
   "source": [
    "### 想法\n",
    "\n",
    "二元樹搜尋的題目，需要注意的是，當mid不等於pick並且要把左右指標移來時，應該要shift一位，免得無限迴圈發生（pick剛好在右邊界上，mid會無限對應不到）"
   ]
  },
  {
   "cell_type": "code",
   "execution_count": 10,
   "metadata": {},
   "outputs": [],
   "source": [
    "def guess(num, pick=6):\n",
    "\n",
    "    if num > pick:\n",
    "        return -1\n",
    "    elif num < pick:\n",
    "        return 1\n",
    "    else:\n",
    "        return 0\n",
    "\n",
    "def guessNumber(n: int) -> int:\n",
    "    left = 1\n",
    "    right = n\n",
    "    mid = (n + 1) // 2\n",
    "    print(mid)\n",
    "    while guess(mid) != 0:\n",
    "        if guess(mid) == -1:\n",
    "            right = mid - 1\n",
    "            mid = (left + right) // 2\n",
    "        else:\n",
    "            left = mid + 1\n",
    "            mid = (left + right) // 2\n",
    "        print(mid)\n",
    "\n",
    "    return mid\n",
    "\n",
    "\n",
    "# 正式的二元樹解法(左閉合+右閉合，即Pick可能在left上或right上)\n",
    "def guessNumber_2(n: int) -> int:\n",
    "    left = 1\n",
    "    right = n\n",
    "    while left <= right:\n",
    "        mid = left + (right - left) // 2 #防止 left+right/2 溢位 \n",
    "        if guess(mid) == -1:  \n",
    "            right = mid - 1\n",
    "        elif guess(mid) == 1:\n",
    "            left = mid + 1\n",
    "        else:\n",
    "            return mid\n",
    "            \n"
   ]
  },
  {
   "cell_type": "code",
   "execution_count": 9,
   "metadata": {},
   "outputs": [
    {
     "name": "stdout",
     "output_type": "stream",
     "text": [
      "5\n",
      "7\n",
      "6\n"
     ]
    },
    {
     "data": {
      "text/plain": [
       "6"
      ]
     },
     "execution_count": 9,
     "metadata": {},
     "output_type": "execute_result"
    }
   ],
   "source": [
    "guessNumber(10)"
   ]
  }
 ],
 "metadata": {
  "kernelspec": {
   "display_name": "Python 3.9.13 ('dask_worker')",
   "language": "python",
   "name": "python3"
  },
  "language_info": {
   "codemirror_mode": {
    "name": "ipython",
    "version": 3
   },
   "file_extension": ".py",
   "mimetype": "text/x-python",
   "name": "python",
   "nbconvert_exporter": "python",
   "pygments_lexer": "ipython3",
   "version": "3.9.13"
  },
  "orig_nbformat": 4,
  "vscode": {
   "interpreter": {
    "hash": "06f7aefc5041c770a0b6cea7ade4adb70dd9687b6650a782b2420b49498c49c5"
   }
  }
 },
 "nbformat": 4,
 "nbformat_minor": 2
}
