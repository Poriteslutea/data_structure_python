{
 "cells": [
  {
   "cell_type": "markdown",
   "metadata": {},
   "source": [
    "# General"
   ]
  },
  {
   "cell_type": "markdown",
   "metadata": {},
   "source": [
    "# Intervals"
   ]
  },
  {
   "cell_type": "markdown",
   "metadata": {},
   "source": [
    "## 435. Non-overlapping Intervals\n",
    "\n",
    "Given an array of intervals intervals where intervals[i] = [starti, endi], return the minimum number of intervals you need to remove to make the rest of the intervals non-overlapping.\n",
    "```\n",
    "Input: intervals = [[1,2],[2,3],[3,4],[1,3]]\n",
    "Output: 1\n",
    "Explanation: [1,3] can be removed and the rest of the intervals are non-overlapping.\n",
    "```\n",
    "\n",
    "https://leetcode.com/problems/non-overlapping-intervals/description/"
   ]
  },
  {
   "cell_type": "markdown",
   "metadata": {},
   "source": [
    "### 想法\n",
    "[官神文字解](https://github.com/wisdompeak/LeetCode/tree/master/Greedy/435.Non-overlapping-Intervals)<br>\n",
    "貪心中的interval類型～\n",
    "\n"
   ]
  },
  {
   "cell_type": "code",
   "execution_count": null,
   "metadata": {},
   "outputs": [],
   "source": [
    "def eraseOverlapIntervals(intervals):\n",
    "    '''\n",
    "    :type intervals: List[Interval]\n",
    "    :rtype: int\n",
    "    '''\n",
    "\n",
    "    intervals = sorted(intervals, key=lambda x:x[1])\n",
    "    \n",
    "    count = 0\n",
    "    j = 0\n",
    "    while j<len(intervals):\n",
    "        right = intervals[j][1]\n",
    "        j += 1 \n",
    "        while j<len(intervals) and intervals[j][0] < right:\n",
    "            j += 1\n",
    "            count += 1\n",
    "\n",
    "    return count\n"
   ]
  },
  {
   "attachments": {},
   "cell_type": "markdown",
   "metadata": {},
   "source": [
    "## 670. Maximum Swap\n",
    "\n",
    "You are given an integer num. You can swap two digits at most once to get the maximum valued number.\n",
    "\n",
    "Return the maximum valued number you can get.\n",
    "```\n",
    "Input: num = 2736\n",
    "Output: 7236\n",
    "Explanation: Swap the number 2 and the number 7.\n",
    "\n",
    "Input: num = 9973\n",
    "Output: 9973\n",
    "Explanation: No swap.\n",
    "```\n",
    "\n",
    "https://leetcode.com/problems/maximum-swap/description/"
   ]
  },
  {
   "attachments": {},
   "cell_type": "markdown",
   "metadata": {},
   "source": [
    "### 想法\n",
    "很久沒寫啦～ 這題自己想然後速度有beat 100%，但想法比較複雜，首先是把num中每個位數的值由大到小排序起來\n",
    "1. 一般case，最大數出現在中間 ex.2736  -> 把最大的數移到第一個（把要換掉的數先存起來，再下一次遇到最大位數時替代) \n",
    "2. 最大的數出現在最前面 ex. 9973 -> 最大的數不用換，下一位就換第二大的數(8)，如果也在最前面，再找下一位(7)，以此類推\n",
    "3. 最大的數重複出現 ex. 1993 -> 因為只能swap一次，因此如果已替換過最大數又再遇到一次最大數，要還原前一次換過的位數(因此還要存idx)，然後改替換後遇到的最大數"
   ]
  },
  {
   "cell_type": "code",
   "execution_count": null,
   "metadata": {},
   "outputs": [],
   "source": [
    "class Solution:\n",
    "    def maximumSwap(self, num: int) -> int:\n",
    "        i = 0\n",
    "        j = 0\n",
    "        sort_num = sorted(list(map(lambda x:int(x), str(num))))[::-1]\n",
    "        max_n = sort_num[i]\n",
    "        swap_n = -1\n",
    "        is_swap = 0\n",
    "        ret_list = []\n",
    "        for n in str(num):\n",
    "            n = int(n)\n",
    "            if n != max_n and swap_n == -1:\n",
    "                swap_n = n\n",
    "                n = max_n\n",
    "            elif n == max_n and swap_n != -1:\n",
    "                if is_swap == 0:\n",
    "                    n = swap_n\n",
    "                    is_swap = 1\n",
    "                    swap_idx = j\n",
    "                else:\n",
    "                    ret_list[swap_idx] = str(max_n)\n",
    "                    n = swap_n\n",
    "                    swap_idx = j\n",
    "\n",
    "            elif n == max_n and swap_n == -1:\n",
    "                i += 1\n",
    "                if i < len(str(num)):\n",
    "                    max_n = sort_num[i]\n",
    "            j += 1\n",
    "            ret_list.append(str(n))\n",
    "        \n",
    "        ret = int(''.join(ret_list))\n",
    "\n",
    "\n",
    "        return ret"
   ]
  }
 ],
 "metadata": {
  "kernelspec": {
   "display_name": "Python 3.9.13 ('dask_worker')",
   "language": "python",
   "name": "python3"
  },
  "language_info": {
   "name": "python",
   "version": "3.9.13"
  },
  "orig_nbformat": 4,
  "vscode": {
   "interpreter": {
    "hash": "06f7aefc5041c770a0b6cea7ade4adb70dd9687b6650a782b2420b49498c49c5"
   }
  }
 },
 "nbformat": 4,
 "nbformat_minor": 2
}
