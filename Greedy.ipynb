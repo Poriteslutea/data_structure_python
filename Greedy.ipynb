{
 "cells": [
  {
   "cell_type": "markdown",
   "metadata": {},
   "source": [
    "# General"
   ]
  },
  {
   "cell_type": "markdown",
   "metadata": {},
   "source": [
    "# Intervals"
   ]
  },
  {
   "cell_type": "markdown",
   "metadata": {},
   "source": [
    "## 435. Non-overlapping Intervals\n",
    "\n",
    "Given an array of intervals intervals where intervals[i] = [starti, endi], return the minimum number of intervals you need to remove to make the rest of the intervals non-overlapping.\n",
    "```\n",
    "Input: intervals = [[1,2],[2,3],[3,4],[1,3]]\n",
    "Output: 1\n",
    "Explanation: [1,3] can be removed and the rest of the intervals are non-overlapping.\n",
    "```\n",
    "\n",
    "https://leetcode.com/problems/non-overlapping-intervals/description/"
   ]
  },
  {
   "cell_type": "markdown",
   "metadata": {},
   "source": [
    "### 想法\n",
    "[官神文字解](https://github.com/wisdompeak/LeetCode/tree/master/Greedy/435.Non-overlapping-Intervals)<br>\n",
    "貪心中的interval類型～\n"
   ]
  },
  {
   "cell_type": "code",
   "execution_count": null,
   "metadata": {},
   "outputs": [],
   "source": [
    "def eraseOverlapIntervals(intervals):\n",
    "    '''\n",
    "    :type intervals: List[Interval]\n",
    "    :rtype: int\n",
    "    '''\n",
    "\n",
    "    intervals = sorted(intervals, key=lambda x:x[1])\n",
    "    \n",
    "    count = 0\n",
    "    j = 0\n",
    "    while j<len(intervals):\n",
    "        right = intervals[j][1]\n",
    "        j += 1 \n",
    "        while j<len(intervals) and intervals[j][0] < right:\n",
    "            j += 1\n",
    "            count += 1\n",
    "\n",
    "    return count\n"
   ]
  }
 ],
 "metadata": {
  "kernelspec": {
   "display_name": "Python 3.9.13 ('dask_worker')",
   "language": "python",
   "name": "python3"
  },
  "language_info": {
   "name": "python",
   "version": "3.9.13"
  },
  "orig_nbformat": 4,
  "vscode": {
   "interpreter": {
    "hash": "06f7aefc5041c770a0b6cea7ade4adb70dd9687b6650a782b2420b49498c49c5"
   }
  }
 },
 "nbformat": 4,
 "nbformat_minor": 2
}
