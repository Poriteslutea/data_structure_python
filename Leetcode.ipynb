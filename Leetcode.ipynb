{
 "cells": [
  {
   "cell_type": "markdown",
   "metadata": {},
   "source": [
    "# Linked List********"
   ]
  },
  {
   "cell_type": "markdown",
   "metadata": {},
   "source": [
    "## 21. Merge Two Sorted Lists\n",
    "\n",
    "You are given the heads of two sorted linked lists list1 and list2.\n",
    "\n",
    "Merge the two lists in a one sorted list. The list should be made by splicing together the nodes of the first two lists.\n",
    "\n",
    "Return the head of the merged linked list.\n",
    "\n"
   ]
  },
  {
   "cell_type": "markdown",
   "metadata": {},
   "source": [
    "### 想法一\n",
    "\n",
    "做一個虛擬首節點，然後開始挑，誰的值小就跳到那個串列的節點上，選到的串列指標就跳下一個，沒選就保持原樣<br>\n",
    "如果某個串列的節點選完了，就直接跳到另一個還有的串列上，然後return dummyhead.next\n"
   ]
  },
  {
   "cell_type": "code",
   "execution_count": 10,
   "metadata": {},
   "outputs": [],
   "source": [
    "# Definition for singly-linked list.\n",
    "class ListNode:\n",
    "    def __init__(self, x):\n",
    "        self.val = x\n",
    "        self.next = None\n",
    "\n",
    "\n",
    "class Solution:\n",
    "    def mergeTwoLists(self, l1, l2):\n",
    "        dummy = ListNode(0)\n",
    "        curr = dummy\n",
    "        \n",
    "        while(l1 and l2):\n",
    "            if(l1.val < l2.val):\n",
    "                curr.next = l1\n",
    "                l1 = l1.next\n",
    "            else:\n",
    "                curr.next = l2\n",
    "                l2 = l2.next\n",
    "            curr = curr.next\n",
    "            \n",
    "        if l1:\n",
    "            curr.next = l1\n",
    "        if l2:\n",
    "            curr.next = l2\n",
    "            \n",
    "        return dummy.next\n",
    "        "
   ]
  },
  {
   "cell_type": "markdown",
   "metadata": {},
   "source": [
    "## 141. Linked List Cycle\n",
    "\n",
    "Given head, the head of a linked list, determine if the linked list has a cycle in it.\n",
    "\n",
    "There is a cycle in a linked list if there is some node in the list that can be reached again by continuously following the next pointer. \n",
    "\n",
    "Internally, pos is used to denote the index of the node that tail's next pointer is connected to. \n",
    "\n",
    "Note that pos is not passed as a parameter.\n",
    "\n",
    "Return true if there is a cycle in the linked list. Otherwise, return false."
   ]
  },
  {
   "cell_type": "markdown",
   "metadata": {},
   "source": [
    "### 想法一\n",
    "有跑過的位置標記起來，遇到標記過的就return True"
   ]
  },
  {
   "cell_type": "code",
   "execution_count": 11,
   "metadata": {},
   "outputs": [],
   "source": [
    "# Definition for singly-linked list.\n",
    "class ListNode:\n",
    "    def __init__(self, x):\n",
    "        self.val = x\n",
    "        self.next = None\n",
    "\n",
    "class Solution:\n",
    "    def hasCycle(self, head) -> bool:\n",
    "        \"\"\"\n",
    "        :type head: ListNode\n",
    "        :rtype: bool\n",
    "        \"\"\"\n",
    "        # 先確定傳進來的listnode在合理範圍\n",
    "        if head == None or head.next == None:\n",
    "            return False\n",
    "\n",
    "        # 有跑過的node標記起來\n",
    "        map = {}\n",
    "        while(head):\n",
    "            if id(head) in map:\n",
    "                return True\n",
    "            else:\n",
    "                map[id(head)] = True\n",
    "\n",
    "            head = head.next\n",
    "        \n",
    "        return False\n",
    "\n",
    "        \n"
   ]
  },
  {
   "cell_type": "markdown",
   "metadata": {},
   "source": [
    "### 想法二\n",
    "快慢指針法，用兩個指針，快指針一次移動兩個節點，慢指針一次移動一個節點，如果有閉環，就一定會有相等的時候"
   ]
  },
  {
   "cell_type": "code",
   "execution_count": 12,
   "metadata": {},
   "outputs": [],
   "source": [
    "# Definition for singly-linked list.\n",
    "class ListNode:\n",
    "    def __init__(self, x):\n",
    "        self.val = x\n",
    "        self.next = None\n",
    "\n",
    "class Solution:\n",
    "    def hasCycle(self, head) -> bool:\n",
    "        \"\"\"\n",
    "        :type head: ListNode\n",
    "        :rtype: bool\n",
    "        \"\"\"\n",
    "        # 先確定傳進來的listnode在合理範圍（沒有節點或只有一個節點都不算）\n",
    "        if head == None or head.next == None:\n",
    "            return False\n",
    "\n",
    "        # 設定快慢指針\n",
    "        fast = head\n",
    "        slow = head\n",
    "        while fast and fast.next:\n",
    "            slow = slow.next\n",
    "            fast = fast.next.next\n",
    "            if slow == fast:\n",
    "                return True\n",
    "            \n",
    "        \n",
    "        return False"
   ]
  },
  {
   "cell_type": "markdown",
   "metadata": {},
   "source": [
    "## 83. Remove Duplicates from Sorted List\n",
    "\n",
    "Given the head of a sorted linked list, delete all duplicates such that each element appears only once. Return the linked list sorted as well."
   ]
  },
  {
   "cell_type": "markdown",
   "metadata": {},
   "source": [
    "### 想法一\n",
    "\n",
    "下一個node值一樣的話就跳過\n",
    "\n",
    "要注意的是while(cur.next)而不是while(cur)"
   ]
  },
  {
   "cell_type": "code",
   "execution_count": 13,
   "metadata": {},
   "outputs": [],
   "source": [
    "class ListNode:\n",
    "    def __init__(self, val=0, next=None):\n",
    "        self.val = val\n",
    "        self.next = next\n",
    "class Solution:\n",
    "    def deleteDuplicates(self, head):\n",
    "        \"\"\"\n",
    "        :type head: ListNode\n",
    "        :rtype: ListNode\n",
    "\n",
    "        \"\"\"\n",
    "        # 設定linked list合理範圍\n",
    "        if head==None or head.next==None:\n",
    "            return head\n",
    "\n",
    "        cur = head\n",
    "        while(cur.next):\n",
    "            if cur.val == cur.next.val:\n",
    "                cur.next = cur.next.next\n",
    "            else:\n",
    "                cur = cur.next\n",
    "\n",
    "        return head"
   ]
  },
  {
   "cell_type": "markdown",
   "metadata": {},
   "source": [
    "## 24. Swap Nodes in Pairs\n",
    "\n",
    "Given a linked list, swap every two adjacent nodes and return its head.\n",
    "\n",
    "For example, Given 1->2->3->4, you should return the list as 2->1->4->3.\n",
    "\n",
    "Your algorithm should use only constant space. You may not modify the values in the list, only nodes itself can be changed."
   ]
  },
  {
   "cell_type": "markdown",
   "metadata": {},
   "source": [
    "### 想法一\n",
    "\n",
    "\n",
    "1. 先設一個虛擬首節點(dummy), 把pre指標指在這個節點上，cur指標指在head上\n",
    "2. 迴圈開始後，先保存下一個pair的開頭(cur.next.next)，設個指標為keep\n",
    "3. 首先把cur節點的下下一點指向自己，做一個倒轉，也跟下一個pair分開\n",
    "4. 再來虛設的首節點指向新的開頭(cur.next)，然後cur自己則指向下一個pair的開頭(keep)\n",
    "5. 再來下一個pair用同樣方式處理，要把指標歸位\n",
    "6. pre指標指向cur, cur指標指向下一個\n",
    "7. 繼續迴圈"
   ]
  },
  {
   "cell_type": "code",
   "execution_count": 14,
   "metadata": {},
   "outputs": [],
   "source": [
    "class ListNode:\n",
    "    def __init__(self, val=0, next=None):\n",
    "        self.val = val\n",
    "        self.next = next\n",
    "class Solution:\n",
    "    def swapPairs(self, head):\n",
    "        \"\"\"\n",
    "        :type head: ListNode\n",
    "        :rtype: ListNode\n",
    "\n",
    "        \"\"\"\n",
    "        # 設定linked list合理範圍\n",
    "        if head==None or head.next==None:\n",
    "            return head\n",
    "\n",
    "        # 設虛擬首節點\n",
    "        dummy = ListNode(0)\n",
    "        dummy.next = head\n",
    "\n",
    "        # 設定前後指標\n",
    "        pre = dummy\n",
    "        cur = head\n",
    "        \n",
    "        while cur and cur.next:        \n",
    "            keep = cur.next.next #保留下一個pair的開頭\n",
    "            cur.next.next = cur #倒轉pair\n",
    "            pre.next = cur.next #把串列接往倒轉後的pair開頭\n",
    "            cur.next = keep #把倒轉後的pair接往下一個pair\n",
    "            pre = cur #把pre指標移到要下一個要處理的pair前一節點上\n",
    "            cur = cur.next #把cur指標移到下一個要處理的pair第一節點上\n",
    "\n",
    "        return dummy.next\n",
    "\n",
    "            "
   ]
  },
  {
   "cell_type": "markdown",
   "metadata": {},
   "source": [
    "## 19. Remove Nth Node From End of List\n",
    "\n",
    "Given the head of a linked list, remove the nth node from the end of the list and return its head."
   ]
  },
  {
   "cell_type": "markdown",
   "metadata": {},
   "source": [
    "### 想法一\n",
    "\n",
    "\n",
    "設一個虛擬首指標，他n+1次next後的節點如果不是None，就把指標再推進一個節點，直到n+1次next後的節點是None，然後這個節點的next，就指向下下一個\n",
    "\n",
    "正式解法：快慢指針，想法差不多，差在第一次快指針跑完n+1步之後，就快慢指針一起往前平移就好...不用再每次都重複去跑快指針了...浪費時間"
   ]
  },
  {
   "cell_type": "code",
   "execution_count": 3,
   "metadata": {},
   "outputs": [],
   "source": [
    "# Definition for singly-linked list.\n",
    "class ListNode:\n",
    "    def __init__(self, val=0, next=None):\n",
    "        self.val = val\n",
    "        self.next = next\n",
    "class Solution:\n",
    "    def removeNthFromEnd(self, head: ListNode, n: int) -> ListNode:\n",
    "        \n",
    "        # 合理範圍\n",
    "        if head == None:\n",
    "            return\n",
    "        \n",
    "        # 設一個虛擬首指標\n",
    "        dummy = ListNode(0)\n",
    "        dummy.next = head\n",
    "        cur = dummy\n",
    "        \n",
    "\n",
    "        while cur.next:\n",
    "            \n",
    "            # 找倒數第n個節點的前一個\n",
    "            flag = cur\n",
    "            for i in range(n+1):\n",
    "                flag = flag.next\n",
    "            \n",
    "            # 找到後把第n個節點跳過\n",
    "            if flag == None:\n",
    "                cur.next = cur.next.next\n",
    "                return dummy.next\n",
    "                \n",
    "            # 沒找到的話繼續往下一個移動\n",
    "            else:\n",
    "                cur = cur.next\n",
    "        \n",
    "        return \n",
    "\n",
    "\n",
    "    # 一樣的思路寫成快慢指針的寫法\n",
    "\n",
    "    def removeNthFromEnd_2(self, head: ListNode, n: int) -> ListNode:\n",
    "        \n",
    "        dummy = ListNode()\n",
    "        dummy.next = head\n",
    "\n",
    "        slow, fast = dummy, dummy\n",
    "\n",
    "        # 先移動快針n+1步\n",
    "        while n!=-1:\n",
    "            fast = fast.next\n",
    "            n -= 1\n",
    "\n",
    "        #如果fast不等於None的話，再往下一個移動(我上面原本自己寫的，fast指針每次沒找到又從第一個再往下找一次，這個寫法就不用，兩個指針一起平移前進就好)\n",
    "        while fast:\n",
    "            slow = slow.next\n",
    "            fast = fast.next\n",
    "\n",
    "        #fast走到結尾後，slow的下一個節點就是要刪除的點\n",
    "        slow.next = slow.next.next\n",
    "\n",
    "        return dummy.next\n"
   ]
  },
  {
   "cell_type": "markdown",
   "metadata": {},
   "source": [
    "## 160. Intersection of Two Linked Lists\n",
    "\n",
    "Given the heads of two singly linked-lists headA and headB, return the node at which the two lists intersect. \n",
    "\n",
    "If the two linked lists have no intersection at all, return null."
   ]
  },
  {
   "cell_type": "markdown",
   "metadata": {},
   "source": [
    "### 想法一\n",
    "\n",
    "第一個想法是暴力解QQ，先跑A鏈，把所有節點的id存到list中，再跑B鏈，每個節點去對這個id有沒有出現在A鏈id list之中，有的話就回傳這個節點，B鏈跑完都沒有的話就回傳null，但submit都沒過哭哭，我就廢。\n",
    "\n",
    "今天重寫一次，差別只是原本是把串列a各節點的id append到list之中，然後再用if i in list的方式找b的id有沒有出現過；這裡改成把id丟到dictionary的key中，value為true，一樣用if i in dict的方式找，居然就過了，真奇妙，蒐尋item有沒有在list中跟蒐尋key有沒有在dictionary中難道時間複雜度不一樣嗎～～\n",
    "\n",
    "喔然後，好像不用特別寫id()，直接nodea == nodeb 這樣也可以判斷的樣子..."
   ]
  },
  {
   "cell_type": "markdown",
   "metadata": {},
   "source": [
    "#### Note\n",
    "\n",
    "[參考 - Python時間複雜度](https://wiki.python.org/moin/TimeComplexity)\n",
    "\n",
    "當用i in s的情況，list會全部跑完才告訴你Ture或False，dict的key或set因為每個element有唯一性，所以有遇到就會告訴你是True還是False了～"
   ]
  },
  {
   "cell_type": "code",
   "execution_count": 1,
   "metadata": {},
   "outputs": [],
   "source": [
    "# Definition for singly-linked list.\n",
    "class ListNode:\n",
    "    def __init__(self, x):\n",
    "        self.val = x\n",
    "        self.next = None\n",
    "\n",
    "class Solution:\n",
    "    def getIntersectionNode(self, headA: ListNode, headB: ListNode) -> ListNode:\n",
    "        \n",
    "        a = headA\n",
    "        lista = {}\n",
    "        while a:\n",
    "            lista[id(a)] = True\n",
    "            a = a.next\n",
    "          \n",
    "        b = headB\n",
    "        while b:\n",
    "            if id(b) in lista:\n",
    "                return b\n",
    "            else:\n",
    "                b=b.next\n",
    "            \n",
    "        return None\n",
    "        "
   ]
  },
  {
   "cell_type": "markdown",
   "metadata": {},
   "source": [
    "## 2. Add Two Numbers\n",
    "\n",
    "You are given two non-empty linked lists representing two non-negative integers.\n",
    "\n",
    "The digits are stored in reverse order, and each of their nodes contains a single digit. Add the two numbers and return the sum as a linked list.\n",
    "\n",
    "You may assume the two numbers do not contain any leading zero, except the number 0 itself."
   ]
  },
  {
   "cell_type": "markdown",
   "metadata": {},
   "source": [
    "### 想法一\n",
    "\n",
    "這題自己想了很久但submit沒過嗚嗚，原本想法是：兩個串列指標一起跑，每次都把指到的val相加，然後設到新的listnode中，如果其中一個串列先遇到None，node.val就直接改成0，一樣繼續加，兩邊都None之後確認有沒有要進位，然後停止。\n",
    "\n",
    "#進位怎麼辦？如果要進位的，下一個節點要多加1～\n",
    "\n",
    "#時間過不了哭哭，原本寫法太87放來對比一下嗚嗚"
   ]
  },
  {
   "cell_type": "code",
   "execution_count": null,
   "metadata": {},
   "outputs": [],
   "source": [
    "\n",
    "\n",
    "\n",
    "class Solution:\n",
    "    def addTwoNumbers(self, l1: ListNode, l2: ListNode) -> ListNode:\n",
    "        \n",
    "        \n",
    "        a = l1\n",
    "        b = l2\n",
    "        new_list = ListNode(0)\n",
    "        c = new_list\n",
    "       \n",
    "    \n",
    "        while c:\n",
    "           \n",
    "            if a and b:\n",
    "                sum = a.val + b.val\n",
    "                a = a.next\n",
    "                b = b.next\n",
    "            elif a:\n",
    "                sum = a.val\n",
    "                a = a.next\n",
    "            elif b:\n",
    "                sum = b.val\n",
    "                b = b.next\n",
    "                \n",
    "\n",
    "            if a or b:\n",
    "                c.next = ListNode(0)\n",
    "                c.val = c.val + sum\n",
    "                if c.val >= 10 :\n",
    "                    c.val = c.val % 10 \n",
    "                    c.next.val = 1 \n",
    "            else:\n",
    "                c.val = c.val + sum\n",
    "                if c.val >= 10:\n",
    "                    c.val = c.val % 10\n",
    "                    c.next = ListNode(0)\n",
    "                    c.next.val = 1\n",
    "                    c.next.next = None\n",
    "                else:\n",
    "                    c.next = None\n",
    "\n",
    "                \n",
    "            c = c.next\n",
    "        \n",
    "        \n",
    "        return new_list\n",
    "            "
   ]
  },
  {
   "cell_type": "markdown",
   "metadata": {},
   "source": [
    "### 想法二\n",
    "\n",
    "看別人的解，好看多了，一個重點是，a節點有就加a節點，b節點有就加b節點，加到的值傳到新的listnode之中，如果有進位的話就用n//10讓他變回0或1（真聰明嗚嗚）接著跑下個迴圈\n",
    "\n",
    "另外一個小重點是可以設一個虛假首節點，以免指標向後指之後傳不回原來要的完整ListNode!\n",
    "\n"
   ]
  },
  {
   "cell_type": "code",
   "execution_count": 6,
   "metadata": {},
   "outputs": [],
   "source": [
    "# Definition for singly-linked list.\n",
    "class ListNode:\n",
    "    def __init__(self, val=0, next=None):\n",
    "        self.val = val\n",
    "        self.next = next\n",
    "class Solution:\n",
    "    def addTwoNumbers(self, l1: ListNode, l2: ListNode) -> ListNode:\n",
    "        \n",
    "        root = ListNode(0)\n",
    "        result = root\n",
    "        a = l1\n",
    "        b = l2\n",
    "        n = 0\n",
    "        \n",
    "        while a or b or n:\n",
    "            \n",
    "            if a:\n",
    "                n += a.val \n",
    "                a = a.next\n",
    "                \n",
    "            if b:\n",
    "                n += b.val\n",
    "                b = b.next\n",
    "               \n",
    "            result.next = ListNode(n % 10)\n",
    "            result = result.next\n",
    "            n = n // 10\n",
    "            \n",
    "        return root.next"
   ]
  },
  {
   "cell_type": "markdown",
   "metadata": {},
   "source": [
    "## 206. Reverse Linked List\n",
    "\n",
    "Given the head of a singly linked list, reverse the list, and return the reversed list."
   ]
  },
  {
   "cell_type": "markdown",
   "metadata": {},
   "source": [
    "### 想法一\n",
    "\n",
    "灌水一題～～三個指標，下一個保留節點、當前節點、前一個節點～～"
   ]
  },
  {
   "cell_type": "code",
   "execution_count": 1,
   "metadata": {},
   "outputs": [],
   "source": [
    "# Definition for singly-linked list.\n",
    "class ListNode:\n",
    "    def __init__(self, val=0, next=None):\n",
    "        self.val = val\n",
    "        self.next = next\n",
    "class Solution:\n",
    "    def reverseList(self, head: ListNode) -> ListNode:\n",
    "        \n",
    "        prev = None\n",
    "        cur = head\n",
    "        \n",
    "        while cur:\n",
    "            nextkeep = cur.next\n",
    "            cur.next = prev\n",
    "            prev = cur\n",
    "            cur = nextkeep\n",
    "        \n",
    "        return prev"
   ]
  },
  {
   "cell_type": "markdown",
   "metadata": {},
   "source": [
    "## 725. Split Linked List in Parts\n",
    "\n",
    "Given the head of a singly linked list and an integer k, split the linked list into k consecutive linked list parts.\n",
    "\n",
    "The length of each part should be as equal as possible: no two parts should have a size differing by more than one. This may lead to some parts being null.\n",
    "\n",
    "The parts should be in the order of occurrence in the input list, and parts occurring earlier should always have a size greater than or equal to parts occurring later."
   ]
  },
  {
   "cell_type": "markdown",
   "metadata": {},
   "source": [
    "### 想法：\n",
    "要先知道listnode的長度，然後除以k(分幾個part)，商數為每個part的基本length(n)，有餘數的話，餘數可以分給其他part\n",
    "- len listnode長度\n",
    "- k 分幾個part \n",
    "- n 每個part的length\n",
    "\n",
    "```\n",
    "len // k = n \n",
    "len % k = a \n",
    "處理餘數a \n",
    "a % k  = aa   #前面aa個 n+1 \n",
    "a // k = qaa   #所有加qaa \n",
    "n = n + qaa  #n先加上qaa\n",
    "```\n",
    "\n",
    "例如23要分4份：\n",
    "\n",
    "```\n",
    "23 // 4 = 5 n==5\n",
    "23 % 5 = 3  餘數為3\n",
    "3 % 4 = 3 （前三個part n+1) \n",
    "3 // 4 = 0 (所有n+0) 餘數可以平均分幾輪\n",
    "\n",
    "```\n",
    "\n",
    "\n",
    "跑串列！注意要設虛首節點\n",
    "\n",
    "第i個part<br> \n",
    "跑n個，如果有i < a，多跑一個節點，跑完之後下一個node存下來，然後尾node給到None，可以回傳第一個part，然後把指標傳給剛剛存的下一個node <br>\n",
    "如果沒有要加餘數，就正常跑n個節點，然後步驟跟上面一樣 <br>\n",
    "如果沒有節點了，就不移動指標直接append空串列\n",
    "\n",
    "\n",
    "\n",
    "大guy4醬\n",
    "\n",
    "\n",
    "\n"
   ]
  },
  {
   "cell_type": "code",
   "execution_count": 3,
   "metadata": {},
   "outputs": [],
   "source": [
    "# Definition for singly-linked list.\n",
    "# class ListNode:\n",
    "#     def __init__(self, val=0, next=None):\n",
    "#         self.val = val\n",
    "#         self.next = next\n",
    "class Solution:\n",
    "    def splitListToParts(self, head: ListNode, k: int) -> list:\n",
    "        \n",
    "        # 先算出len(head)\n",
    "        i = 0\n",
    "        cur = head\n",
    "        while cur:\n",
    "            cur = cur.next\n",
    "            i = i+1\n",
    "        length = i\n",
    "        print(length)\n",
    "\n",
    "\n",
    "        # 每個part要的節點數(n)\n",
    "        n = length // k \n",
    "        a = length % k\n",
    "        q = a // k\n",
    "        n = n + q \n",
    "        print(n)\n",
    "        \n",
    "        ptr = head\n",
    "        \n",
    "        result = []\n",
    "        for i in range(k):\n",
    "            #建立串列\n",
    "            dummyhead = ListNode()\n",
    "            dummyhead.next = ptr\n",
    "            \n",
    "            # 把餘數分配給前幾個node\n",
    "            if i < a:\n",
    "                # 存n+1個節點，但ptr停在第n個\n",
    "                for ii in range(n):\n",
    "                    ptr = ptr.next\n",
    "                keep = ptr.next\n",
    "                ptr.next = None\n",
    "                result.append(dummyhead.next)\n",
    "                ptr = keep\n",
    "                \n",
    "            else:\n",
    "                if n >= 1:\n",
    "                    for ii in range(n-1):\n",
    "                        ptr = ptr.next\n",
    "                    keep = ptr.next\n",
    "                    ptr.next = None\n",
    "                    result.append(dummyhead.next)\n",
    "                    ptr = keep\n",
    "                else:\n",
    "                    result.append(dummyhead.next)\n",
    "                   \n",
    "    \n",
    "        \n",
    "        return result"
   ]
  },
  {
   "cell_type": "markdown",
   "metadata": {},
   "source": [
    "## 142. Linked List Cycle II\n",
    "\n",
    "Given the head of a linked list, return the node where the cycle begins. If there is no cycle, return null.\n",
    "\n",
    "There is a cycle in a linked list if there is some node in the list that can be reached again by continuously following the next pointer. <br>\n",
    "Internally, pos is used to denote the index of the node that tail's next pointer is connected to (0-indexed). <br>\n",
    "It is -1 if there is no cycle. \n",
    "\n",
    "Note that pos is not passed as a parameter.\n",
    "\n",
    "Do not modify the linked list."
   ]
  },
  {
   "cell_type": "markdown",
   "metadata": {},
   "source": [
    "### 想法一\n",
    "\n",
    "+ 想法是需判別是不是循環，再來是找出初始循環點\n",
    "+ 可用快慢指針法，在進入環之前，快指針一定跑在慢指針前面，進入環之後，快指針就是每往前一次都會靠近慢指針一步，並且在一圈之內一定會跟慢指針相遇。\n",
    "+ x是首節點走到環開始的點的步數，y是從環開始的點走到相遇點的步數，z是相遇點走回環開始的點的步數, n是相遇前快指針走的圈數\n",
    "+ 2(x+y) = x+n(y+z)+y  相遇時，慢節點步數的兩倍會等於快節點\n",
    "+ 式子簡化後，可以發現 x = n-1(y+z) + z，y+z就是走一圈環的步數，從這個式子可以發現，如果一個指針從z開始走，一個從首節點開始走，最後一定會在環開始的點相遇\n",
    "+ 誰想得到啦= = 這個不是我自己想的，哭哭"
   ]
  },
  {
   "cell_type": "code",
   "execution_count": 3,
   "metadata": {},
   "outputs": [],
   "source": [
    "class ListNode:\n",
    "    def __init__(self, val=0, next=None):\n",
    "        self.val = val\n",
    "        self.next = next\n",
    "\n",
    "class Solution:\n",
    "    def detectCycle(self, head: ListNode) -> ListNode:\n",
    "             \n",
    "        fast = slow = head\n",
    "   \n",
    "        while fast and fast.next:\n",
    "            fast = fast.next.next\n",
    "            slow = slow.next\n",
    "            if fast == slow:              \n",
    "                while slow != head:\n",
    "                    slow = slow.next\n",
    "                    head = head.next\n",
    "            \n",
    "                return head\n",
    "            \n",
    "        \n",
    "        return None"
   ]
  },
  {
   "cell_type": "markdown",
   "metadata": {},
   "source": [
    "# String****"
   ]
  },
  {
   "cell_type": "markdown",
   "metadata": {},
   "source": [
    "## 14. Longest Common Prefix\n",
    "\n",
    "Write a function to find the longest common prefix string amongst an array of strings.\n",
    "\n",
    "If there is no common prefix, return an empty string \"\".\n",
    "```\n",
    "Example:\n",
    "Input: strs = [\"flower\",\"flow\",\"flight\"]\n",
    "Output: \"fl\"\n",
    "```"
   ]
  },
  {
   "cell_type": "markdown",
   "metadata": {},
   "source": [
    "### 想法一\n",
    "\n",
    "- 查找的順序是[0][0] >> [1][0] >> [2][0] ... [n][0]，當一樣的話就找下一個，如果最後查到n==(len(strs))就把這個值加到要return的string中\n",
    "- 如果不一樣然後停下來了，沒到n，就直接return result\n",
    "- 主要是會out of range，所以要注意不要超過最短字串的length，為此多跑一個loop有點87，哭啊"
   ]
  },
  {
   "cell_type": "code",
   "execution_count": 30,
   "metadata": {},
   "outputs": [],
   "source": [
    "\n",
    "def longestCommonPrefix(strs) -> str:\n",
    "    \n",
    "    \n",
    "    result = ''\n",
    "    \n",
    "    # 先找最短字串，小心別超過\n",
    "    if strs:\n",
    "        min_len = len(strs[0])\n",
    "        for i in strs:\n",
    "            if min_len > len(i):\n",
    "                min_len = len(i)\n",
    "    else:\n",
    "        return None\n",
    "                    \n",
    "        \n",
    "    i = 0\n",
    "    j = 0\n",
    "    while j < min_len:\n",
    "        i = 0\n",
    "        prefix = strs[i][j]\n",
    "\n",
    "        for i in range(len(strs)):\n",
    "            if prefix == strs[i][j]:\n",
    "                idx = i\n",
    "            else:\n",
    "                break\n",
    "\n",
    "        if idx+1 == len(strs):\n",
    "            result = result + prefix\n",
    "            j += 1\n",
    "        else: \n",
    "            return result\n",
    "    \n",
    "    return result\n",
    "        "
   ]
  },
  {
   "cell_type": "markdown",
   "metadata": {},
   "source": [
    "### 想法二\n",
    "其他人寫的嗚嗚\n",
    "\n"
   ]
  },
  {
   "cell_type": "code",
   "execution_count": 32,
   "metadata": {},
   "outputs": [],
   "source": [
    "def longestCommonPrefix_2(strs) -> str:\n",
    "    \n",
    "    strs.sort(key = lambda x:len(x))\n",
    "    prefix = strs[0]\n",
    "    for i in range(len(strs[0]),0,-1):\n",
    "        if all([prefix[:i] == strs[j][:i] for j in range(1,len(strs))]):\n",
    "            return(prefix[:i])\n",
    "    return \"\""
   ]
  },
  {
   "cell_type": "code",
   "execution_count": 31,
   "metadata": {},
   "outputs": [
    {
     "data": {
      "text/plain": [
       "'fld'"
      ]
     },
     "execution_count": 31,
     "metadata": {},
     "output_type": "execute_result"
    }
   ],
   "source": [
    "a = longestCommonPrefix([\"fld\",'fldslfd'])\n",
    "a\n"
   ]
  },
  {
   "cell_type": "markdown",
   "metadata": {},
   "source": [
    "## 49. Group Anagrams\n",
    "\n",
    "Given an array of strings strs, group the anagrams together. You can return the answer in any order.\n",
    "\n",
    "An Anagram is a word or phrase formed by rearranging the letters of a different word or phrase, typically using all the original letters exactly once."
   ]
  },
  {
   "cell_type": "markdown",
   "metadata": {},
   "source": [
    "### 想法一\n",
    "\n",
    "把字串sorted然後再join回來，再把這個值放到dict的key中，接著把每個字串append到有對應到的key中，接著回傳這個dict的value\n",
    "\n",
    "啊我做出一條排序的字串列又再做一個空dictionary，很87，別人直接跑一次for loop就好了，還用了defaultdict()，就是當找不到key值時，直接幫你做一個，裡面的空值就依default的type給，讚讚\n",
    "\n",
    "[defaultdict的參考](https://www.jianshu.com/p/bbd258f99fd3)<br>\n",
    "[collections的參考](https://ithelp.ithome.com.tw/articles/10193094)\n"
   ]
  },
  {
   "cell_type": "code",
   "execution_count": 20,
   "metadata": {},
   "outputs": [],
   "source": [
    "strs = [\"eat\",\"tea\",\"tan\",\"ate\",\"nat\",\"bat\"]"
   ]
  },
  {
   "cell_type": "code",
   "execution_count": 91,
   "metadata": {},
   "outputs": [],
   "source": [
    "from collections import defaultdict\n",
    "\n",
    "\n",
    "# 我自己寫的\n",
    "def groupAnagrams(strs):\n",
    "    \n",
    "    sort_map = list(map(lambda x: ''.join(sorted(x)), strs))\n",
    "    a = sort_map[0]\n",
    "\n",
    "    ref = {a:[strs[0]]}\n",
    "    \n",
    "    for i, v in enumerate(sort_map[1:]):\n",
    "        if v in ref:\n",
    "            ref[v].append(strs[i+1])\n",
    "        else:\n",
    "            ref[v] = [strs[i+1]]\n",
    "\n",
    "    return list(ref.values())\n",
    "\n",
    "\n",
    "# 想法差不多，但人家寫的多簡單，嗚嗚\n",
    "def groupAnagrams_2(strs):\n",
    "            \n",
    "        anadict = defaultdict(list)                    # Ex: [\"eat\",\"tea\",\"tan\",\"ate\",\"nat\",\"bat\"]                     \n",
    "        \n",
    "        for s in strs:                  #  s   ana  anadict   \n",
    "            ana = ''.join(sorted(s))    # –––  –––  –––––––  \n",
    "            anadict[ana].append(s)      # eat  aet  {'aet': ['eat']}\n",
    "                                        # tea  aet  {'aet': ['eat', 'tea']}\n",
    "                                        # tan  ant  {'aet': ['eat', 'tea'], 'ant': ['tan']}\n",
    "                                        # ate  aet  {'aet': ['eat', 'tea', 'ate'], 'ant': ['tan']}\n",
    "                                        # nat  ant  {'aet': ['eat', 'tea', 'ate'], 'ant': ['tan', 'nat']}\n",
    "                                        # bat  abt  {'aet': ['eat', 'tea', 'ate'], 'ant': ['tan', 'nat'], 'abt': ['bat']}\n",
    "\n",
    "        return list(anadict.values()) \n",
    "\n"
   ]
  },
  {
   "cell_type": "code",
   "execution_count": 93,
   "metadata": {},
   "outputs": [
    {
     "data": {
      "text/plain": [
       "[['eat', 'tea', 'ate'], ['tan', 'nat'], ['bat']]"
      ]
     },
     "execution_count": 93,
     "metadata": {},
     "output_type": "execute_result"
    }
   ],
   "source": [
    "groupAnagrams(strs)"
   ]
  },
  {
   "cell_type": "markdown",
   "metadata": {},
   "source": [
    "## 796. Rotate String\n",
    "Given two strings s and goal, return true if and only if s can become goal after some number of shifts on s.\n",
    "\n",
    "A shift on s consists of moving the leftmost character of s to the rightmost position.\n",
    "```\n",
    "For example, if s = \"abcde\", then it will be \"bcdea\" after one shift.\n",
    "```"
   ]
  },
  {
   "cell_type": "markdown",
   "metadata": {},
   "source": [
    "### 想法一\n",
    "\n",
    "第1個數開頭、第2個數開頭...第n個數開頭，共n種可能，其中一種會對到goal~~~~~~~~~~~~~~~~"
   ]
  },
  {
   "cell_type": "code",
   "execution_count": 19,
   "metadata": {},
   "outputs": [],
   "source": [
    "def rotateString(s: str, goal: str) -> bool:\n",
    "    \n",
    "    if len(s) == len(goal):\n",
    "        ori = s\n",
    "        s = s[1:] + s[:1]\n",
    "        while s != ori:\n",
    "            s = s[1:] + s[:1]    \n",
    "            if s == goal:\n",
    "                return True\n",
    "\n",
    "    return False\n"
   ]
  },
  {
   "cell_type": "markdown",
   "metadata": {},
   "source": [
    "### 想法二\n",
    "\n",
    "goal一定會是s+s的substring"
   ]
  },
  {
   "cell_type": "code",
   "execution_count": 25,
   "metadata": {},
   "outputs": [],
   "source": [
    "def rotateString_2(s: str, goal: str) -> bool:\n",
    "\n",
    "\n",
    "    return len(s) == len(goal) and goal in s+s"
   ]
  },
  {
   "cell_type": "code",
   "execution_count": 27,
   "metadata": {},
   "outputs": [
    {
     "name": "stdout",
     "output_type": "stream",
     "text": [
      "False\n"
     ]
    }
   ],
   "source": [
    "s = 'string'\n",
    "goal = 'stringddd'\n",
    "rotateString(s,goal)\n",
    "print(rotateString_2(s,goal))"
   ]
  },
  {
   "cell_type": "markdown",
   "metadata": {},
   "source": [
    "## 541. Reverse String II\n",
    "\n",
    "Given a string s and an integer k, reverse the first k characters for every 2k characters counting from the start of the string.\n",
    "\n",
    "If there are fewer than k characters left, reverse all of them. If there are less than 2k but greater than or equal to k characters, then reverse the first k characters and leave the other as original."
   ]
  },
  {
   "cell_type": "markdown",
   "metadata": {},
   "source": [
    "### 想法一\n",
    "\n",
    "n = len(s)\n",
    "把字串split成n//k +1組，每組k個，第1,3,5...組要reverse，如果最後一組未滿k個，就看那組是不是要reverse的，是就reverse，不是就正常尾數傳回來\n",
    "\n",
    "```                \n",
    "#         s[0:k]\n",
    "#         s[1k:2k][::-1] \n",
    "#         s[2k:3k]\n",
    "#         s[3k:4k][::-1]\n",
    "#         s[4k:n]\n",
    "        \n",
    "```"
   ]
  },
  {
   "cell_type": "code",
   "execution_count": 46,
   "metadata": {},
   "outputs": [],
   "source": [
    "def reverseStr(s: str, k: int) -> str:\n",
    "       \n",
    "    n = len(s)\n",
    "    q = n // k\n",
    "    \n",
    "    i = 0\n",
    "    result = ''\n",
    "    \n",
    "    for i in range(q+1):\n",
    "\n",
    "        if i % 2 == 0:\n",
    "            si = s[(i*k):((i+1)*k)][::-1]\n",
    "        else:\n",
    "            si = s[(i*k):((i+1)*k)]\n",
    "        \n",
    "        i += 1\n",
    "        result += si\n",
    "        \n",
    "        \n",
    "        \n",
    "    return result\n",
    "\n",
    "\n",
    "\n",
    "# 其他的嗚嗚，直接用了range(start, stop, step)每隔兩組改一次裡面的值，不用額外再用一個result去加\n",
    "\n",
    "def reverseStr_2(s, k):\n",
    "    a = list(s)\n",
    "    for i in range(0, len(a), 2*k):\n",
    "        a[i:i+k] = a[i:i+k][::-1]\n",
    "    return \"\".join(a)"
   ]
  },
  {
   "cell_type": "code",
   "execution_count": 6,
   "metadata": {},
   "outputs": [
    {
     "name": "stdout",
     "output_type": "stream",
     "text": [
      "ba cd fe ggg\n"
     ]
    }
   ],
   "source": [
    "s = 'abcdefgggg'\n",
    "k=2\n",
    "print(s[0:2][::-1],\n",
    "s[2:4],\n",
    "s[4:6][::-1],\n",
    "s[6:9],)\n",
    "\n",
    "# print(reverseStr_2(s,3))\n"
   ]
  },
  {
   "cell_type": "markdown",
   "metadata": {},
   "source": [
    "## 767. Reorganize String\n",
    "\n",
    "Given a string s, rearrange the characters of s so that any two adjacent characters are not the same.\n",
    "\n",
    "Return any possible rearrangement of s or return \"\" if not possible.\n",
    "\n"
   ]
  },
  {
   "cell_type": "code",
   "execution_count": 65,
   "metadata": {},
   "outputs": [
    {
     "name": "stdout",
     "output_type": "stream",
     "text": [
      "a\n",
      "[('a', 1)]\n",
      "\n",
      "None\n"
     ]
    }
   ],
   "source": [
    "s = 'a'\n",
    "\n",
    "if len(s) == 1:\n",
    "    print(s)\n",
    "\n",
    "# 計算出現的字母與他們重複幾次\n",
    "strdict = {}\n",
    "for v in list(s):\n",
    "    if v in strdict:\n",
    "        strdict[v] += 1\n",
    "    else:\n",
    "        strdict[v] = 1\n",
    "\n",
    "# 從重複次數最少的字母排到重複次數最多的字母\n",
    "ss = [(k,v) for k,v in strdict.items()]\n",
    "ss = sorted(ss, key=lambda x: x[1])\n",
    "insert_str = ''\n",
    "for k,v in ss[:-1]:\n",
    "    insert_str = insert_str + k*v\n",
    "    \n",
    "# 把最多的那個字串間隔放好，然後把之後的字串依間隔插進去，直到剩下的字串都插完\n",
    "output_list = ['']*2*ss[-1][1]\n",
    "for i in range(0, len(output_list), 2):\n",
    "    output_list[i] = ss[-1][0]\n",
    "\n",
    "if len(insert_str) <= ss[-1][1]-2 or len(insert_str) == 0:\n",
    "    print('None')\n",
    "else:\n",
    "\n",
    "    n = len(insert_str) // ss[-1][1]\n",
    "    if n == 0:\n",
    "        k = 1\n",
    "        for i in insert_str:\n",
    "            output_list[k] += insert_str[-1]\n",
    "            insert_str = insert_str[:-1]\n",
    "            k += 2\n",
    "    else:\n",
    "        for k in range(n): \n",
    "            for i in range(1, len(output_list), 2):\n",
    "                output_list[i] += insert_str[-1]\n",
    "                insert_str = insert_str[:-1]\n",
    "\n",
    "    output_list.append(insert_str)\n",
    "    result = ''.join(output_list)\n",
    "    print(result)\n",
    "\n",
    "\n",
    "    \n",
    "        "
   ]
  },
  {
   "cell_type": "code",
   "execution_count": 40,
   "metadata": {},
   "outputs": [
    {
     "name": "stdout",
     "output_type": "stream",
     "text": [
      "lsbaadd\n",
      "['f', '', 'f', '', 'f', '', 'f', '', 'f', '']\n",
      "lsbaadd\n",
      "lsbaad\n",
      "lsbaa\n",
      "lsba\n",
      "lsb\n",
      "['f', 'd', 'f', 'd', 'f', 'a', 'f', 'a', 'f', 'b', 'ls']\n",
      "ls\n",
      "fdfdfafafbls\n"
     ]
    }
   ],
   "source": [
    "# 從出現次數最少的字母排到出現字數最多的字\n",
    "ss = [(k,v) for k,v in strdict.items()]\n",
    "ss = sorted(ss, key=lambda x: x[1])\n",
    "insert_str = ''\n",
    "for k,v in ss[:-1]:\n",
    "    insert_str = insert_str + k*v\n",
    "print(insert_str)\n",
    "    \n",
    "# 把最多的那個字串間隔放好，然後把之後的字串依間隔append進去\n",
    "output_list = ['']*2*ss[-1][1]\n",
    "\n",
    "for i in range(0, len(output_list), 2):\n",
    "    output_list[i] = ss[-1][0]\n",
    "\n",
    "print(output_list)\n",
    "\n",
    "n = len(insert_str) // ss[-1][1]\n",
    "for k in range(n): \n",
    "    for i in range(1, len(output_list), 2):\n",
    "        output_list[i] += insert_str[-1]\n",
    "        print(insert_str)\n",
    "        insert_str = insert_str[:-1]\n",
    "\n",
    "\n",
    "output_list.append(insert_str)\n",
    "result = ''.join(output_list)\n",
    "\n",
    "# for i in range(len(sort_str))[::-1]:\n",
    "#     while ss[i][1] != 0:\n",
    "#         output_list.append(ss[i][0])\n",
    "#         ss[i][1] -= 1\n",
    "#         output_list.append(ss[i+1][0])\n",
    "#         ss[i+1][1] -= 1\n",
    "\n",
    "\n",
    "\n",
    "print(output_list)\n",
    "print(insert_str)\n",
    "print(result)\n"
   ]
  },
  {
   "cell_type": "code",
   "execution_count": null,
   "metadata": {},
   "outputs": [],
   "source": [
    "class Solution:\n",
    "    def reorganizeString(self, s: str) -> str:\n",
    "        \n",
    "        if len(s) == 1:\n",
    "            return s\n",
    "\n",
    "        # 計算出現的字母與他們重複幾次\n",
    "        strdict = {}\n",
    "        for v in list(s):\n",
    "            if v in strdict:\n",
    "                strdict[v] += 1\n",
    "            else:\n",
    "                strdict[v] = 1\n",
    "\n",
    "        # 從重複次數最少的字母排到重複次數最多的字母\n",
    "        ss = [(k,v) for k,v in strdict.items()]\n",
    "        ss = sorted(ss, key=lambda x: x[1])\n",
    "        insert_str = ''\n",
    "        for k,v in ss[:-1]:\n",
    "            insert_str = insert_str + k*v\n",
    "\n",
    "        # 把最多的那個字串間隔放好，然後把之後的字串依間隔插進去，直到剩下的字串都插完\n",
    "        output_list = ['']*2*ss[-1][1]\n",
    "        for i in range(0, len(output_list), 2):\n",
    "            output_list[i] = ss[-1][0]\n",
    "\n",
    "        if len(insert_str) < ss[-1][1]-1 or len(insert_str) == 0:\n",
    "            return ''\n",
    "        else:\n",
    "\n",
    "            n = len(insert_str) // ss[-1][1]\n",
    "            if n == 0:\n",
    "                k = 1\n",
    "                for i in insert_str:\n",
    "                    output_list[k] += insert_str[-1]\n",
    "                    insert_str = insert_str[:-1]\n",
    "                    k += 2\n",
    "            else:\n",
    "                for k in range(n): \n",
    "                    for i in range(1, len(output_list), 2):\n",
    "                        output_list[i] += insert_str[-1]\n",
    "                        insert_str = insert_str[:-1]\n",
    "                    \n",
    "                if insert_str:\n",
    "                    k = 1\n",
    "                    for i in insert_str:\n",
    "                        output_list[k] += insert_str[-1]\n",
    "                        insert_str = insert_str[:-1]\n",
    "                        k += 2\n",
    "                \n",
    "                        \n",
    "            output_list.append(insert_str)\n",
    "            result = ''.join(output_list)\n",
    "            \n",
    "            return result\n",
    "        "
   ]
  },
  {
   "cell_type": "markdown",
   "metadata": {},
   "source": [
    "# Array"
   ]
  },
  {
   "cell_type": "markdown",
   "metadata": {},
   "source": [
    "## 88. Merge Sorted Array\n",
    "\n",
    "You are given two integer arrays nums1 and nums2, sorted in non-decreasing order, and two integers m and n, representing the number of elements in nums1 and nums2 respectively.\n",
    "\n",
    "Merge nums1 and nums2 into a single array sorted in non-decreasing order.\n",
    "\n",
    "The final sorted array should not be returned by the function, but instead be stored inside the array nums1. To accommodate this, nums1 has a length of m + n, where the first m elements denote the elements that should be merged, and the last n elements are set to 0 and should be ignored. nums2 has a length of n."
   ]
  },
  {
   "cell_type": "markdown",
   "metadata": {},
   "source": [
    "### 想法一\n",
    "\n",
    "pop, append, sort都是可以直接影響list本身的～～～～～\n",
    "我就很簡單的先得到目標長度的nums1，然後再把nums2的數字append進來，最後用sort()，大功告成"
   ]
  },
  {
   "cell_type": "code",
   "execution_count": 1,
   "metadata": {},
   "outputs": [],
   "source": [
    "def merge(self, nums1:list, m: int, nums2:list, n: int) -> None:\n",
    "    \"\"\"\n",
    "    Do not return anything, modify nums1 in-place instead.\n",
    "    \"\"\"\n",
    "    \n",
    "    while len(nums1) != m:\n",
    "        nums1.pop()\n",
    "    \n",
    "    i = 0\n",
    "    while len(nums1) != m+n:\n",
    "        nums1.append(nums2[i])\n",
    "        i += 1\n",
    "        \n",
    "    nums1.sort()  "
   ]
  },
  {
   "cell_type": "markdown",
   "metadata": {},
   "source": [
    "## 766. Toeplitz Matrix\n",
    "\n",
    "Given an m x n matrix, return true if the matrix is Toeplitz. Otherwise, return false.\n",
    "\n",
    "A matrix is Toeplitz if every diagonal from top-left to bottom-right has the same elements.\n",
    "\n",
    "```\n",
    "toeplitz matrix example:\n",
    "1234\n",
    "5123\n",
    "9512\n",
    "\n",
    "[[1,2,3,4],[5,1,2,3],[9,5,1,2]]\n",
    "```\n"
   ]
  },
  {
   "cell_type": "code",
   "execution_count": 2,
   "metadata": {},
   "outputs": [
    {
     "data": {
      "text/plain": [
       "3"
      ]
     },
     "execution_count": 2,
     "metadata": {},
     "output_type": "execute_result"
    }
   ],
   "source": [
    "m = [[1,2,3,4],[5,1,2,3],[9,5,1,2]]\n",
    "\n",
    "m[0][:3]\n",
    "len(m)"
   ]
  },
  {
   "cell_type": "markdown",
   "metadata": {},
   "source": [
    "# Stack and queues"
   ]
  },
  {
   "cell_type": "markdown",
   "metadata": {},
   "source": [
    "## 232. Implement Queue using Stacks\n",
    "\n",
    "\n",
    "Implement a first in first out (FIFO) queue using only two stacks. The implemented queue should support all the functions of a normal queue (push, peek, pop, and empty).\n",
    "\n",
    "Implement the MyQueue class:\n",
    "\n",
    "- void push(int x) Pushes element x to the back of the queue.\n",
    "- int pop() Removes the element from the front of the queue and returns it.\n",
    "- int peek() Returns the element at the front of the queue.\n",
    "- boolean empty() Returns true if the queue is empty, false otherwise.\n",
    "\n",
    "Notes:\n",
    "\n",
    "- You must use only standard operations of a stack, which means only push to top, peek/pop from top, size, and is empty operations are valid.\n",
    "- Depending on your language, the stack may not be supported natively. You may simulate a stack using a list or deque (double-ended queue) as long as you use only a stack's standard operations."
   ]
  },
  {
   "cell_type": "markdown",
   "metadata": {},
   "source": [
    "### 想法\n",
    "\n",
    "用兩個stack去做，進來的先放stack in，要出去的丟到stack out，如果stack out有東西，丟最外面的出去，如果stack out沒東西，把stack in所有值丟到stack out中，這樣先進後出的值會變成先進先出，然後再Pop最外面的值，就會變queue中先進先出了，當兩個stack都空的時候，queue也是空的"
   ]
  },
  {
   "cell_type": "code",
   "execution_count": null,
   "metadata": {},
   "outputs": [],
   "source": [
    "class MyQueue:\n",
    "\n",
    "    def __init__(self):\n",
    "        \n",
    "        self.stack_in = []\n",
    "        self.stack_out = []\n",
    "        \n",
    "\n",
    "    def push(self, x: int) -> None:\n",
    "        self.stack_in.append(x)\n",
    "\n",
    "    def pop(self) -> int:\n",
    "        \n",
    "        if self.empty():\n",
    "            return None\n",
    "        \n",
    "        if self.stack_out:\n",
    "            return self.stack_out.pop()\n",
    "        else:\n",
    "            for i in range(len(self.stack_in)):\n",
    "                self.stack_out.append(self.stack_in.pop())\n",
    "            return self.stack_out.pop()\n",
    "        \n",
    "\n",
    "    def peek(self) -> int:\n",
    "        \n",
    "        ans = self.pop()\n",
    "        self.stack_out.append(ans)\n",
    "        \n",
    "        return ans\n",
    "        \n",
    "        \n",
    "\n",
    "    def empty(self) -> bool:\n",
    "        \n",
    "        return not (self.stack_out or self.stack_in)"
   ]
  }
 ],
 "metadata": {
  "interpreter": {
   "hash": "c7cfd08b3d7ef036d9176485aa84b0e0696e87e7e5b51d206a9367b7750cbfc1"
  },
  "kernelspec": {
   "display_name": "Python 3.9.7 64-bit ('wisenvr': conda)",
   "name": "python3"
  },
  "language_info": {
   "codemirror_mode": {
    "name": "ipython",
    "version": 3
   },
   "file_extension": ".py",
   "mimetype": "text/x-python",
   "name": "python",
   "nbconvert_exporter": "python",
   "pygments_lexer": "ipython3",
   "version": "3.9.12"
  },
  "orig_nbformat": 4
 },
 "nbformat": 4,
 "nbformat_minor": 2
}
