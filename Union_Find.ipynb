{
 "cells": [
  {
   "cell_type": "markdown",
   "metadata": {},
   "source": [
    "## 947. Most Stones Removed with Same Row or Column\n",
    "\n",
    "On a 2D plane, we place n stones at some integer coordinate points. Each coordinate point may have at most one stone.\n",
    "\n",
    "A stone can be removed if it shares either the same row or the same column as another stone that has not been removed.\n",
    "\n",
    "Given an array stones of length n where stones[i] = [xi, yi] represents the location of the ith stone, return the largest possible number of stones that can be removed.\n",
    "\n",
    "Leetcode Link : https://leetcode.com/problems/most-stones-removed-with-same-row-or-column/"
   ]
  },
  {
   "cell_type": "markdown",
   "metadata": {},
   "source": [
    "### 我自己亂想的\n",
    "\n",
    "但因為判斷要從哪個先刪除僅以每行每列所含的石頭數量判斷，如果刪錯順序就找不到最大刪除石頭數，所以一些比較複雜的case容易失敗QQ\n",
    "我想了一整天...哭哭"
   ]
  },
  {
   "cell_type": "code",
   "execution_count": 6,
   "metadata": {},
   "outputs": [
    {
     "name": "stdout",
     "output_type": "stream",
     "text": [
      "[[1, 1], [0, 0], [0, 2], [2, 0], [2, 2]]\n",
      "[(1, 1), (2, 2), (2, 2), (2, 2), (2, 2)]\n",
      "0\n",
      "keep\n",
      "1\n",
      "[[1, 1], [0, 0], [0, 2], [2, 0], [2, 2]]\n",
      "[(1, 1), (2, 2), (2, 2), (2, 2), (2, 2)]\n",
      "2\n"
     ]
    },
    {
     "data": {
      "text/plain": [
       "2"
      ]
     },
     "execution_count": 6,
     "metadata": {},
     "output_type": "execute_result"
    }
   ],
   "source": [
    "from collections import Counter\n",
    "stones = [[0,0],[0,2],[1,1],[2,0],[2,2]]\n",
    "row_count = Counter(list(map(lambda x: x[0], stones)))\n",
    "col_count = Counter(list(map(lambda x: x[1], stones)))\n",
    "del_num = 0\n",
    "ss = sorted(stones, key=lambda x: min(row_count[x[0]], col_count[x[1]]))\n",
    "sss = list(map(lambda x:(row_count[x[0]], col_count[x[1]]), ss))\n",
    "print(ss)\n",
    "print(sss)\n",
    "i=0\n",
    "while any(list(map(lambda x: x >1 ,row_count.values()))) and any(list(map(lambda x: x >1 ,col_count.values()))) :\n",
    "\n",
    "    print(i)\n",
    "    \n",
    "    if row_count[ss[i][0]] == 1 and col_count[ss[i][1]] == 1:\n",
    "        i += 1\n",
    "        print('keep')\n",
    "\n",
    "    elif row_count[ss[i][0]] == 1 or col_count[ss[i][1]] == 1:\n",
    "        row_count[ss[i][0]] -= 1\n",
    "        col_count[ss[i][1]] -= 1\n",
    "        del_num += 1\n",
    "        stones.remove(ss[i])\n",
    "        i += 1\n",
    "        \n",
    "    else:\n",
    "        ss = sorted(stones, key=lambda x: min(row_count[x[0]], col_count[x[1]]))\n",
    "        print(ss)\n",
    "        print(list(map(lambda x:(row_count[x[0]], col_count[x[1]]), ss)))\n",
    "        \n",
    "        if row_count[ss[i][0]] == 1 and col_count[ss[i][1]] == 1:\n",
    "            i += 1\n",
    "        else:\n",
    "            row_count[ss[i][0]] -= 1\n",
    "            col_count[ss[i][1]] -= 1\n",
    "            del_num += 1\n",
    "            stones.remove(ss[i])\n",
    "            i += 1\n",
    "\n",
    "\n",
    "del_num"
   ]
  }
 ],
 "metadata": {
  "kernelspec": {
   "display_name": "Python 3.9.13 ('dask_worker')",
   "language": "python",
   "name": "python3"
  },
  "language_info": {
   "codemirror_mode": {
    "name": "ipython",
    "version": 3
   },
   "file_extension": ".py",
   "mimetype": "text/x-python",
   "name": "python",
   "nbconvert_exporter": "python",
   "pygments_lexer": "ipython3",
   "version": "3.9.13"
  },
  "orig_nbformat": 4,
  "vscode": {
   "interpreter": {
    "hash": "06f7aefc5041c770a0b6cea7ade4adb70dd9687b6650a782b2420b49498c49c5"
   }
  }
 },
 "nbformat": 4,
 "nbformat_minor": 2
}
