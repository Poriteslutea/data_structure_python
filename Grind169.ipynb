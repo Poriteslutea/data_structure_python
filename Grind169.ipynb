{
  "nbformat": 4,
  "nbformat_minor": 0,
  "metadata": {
    "colab": {
      "provenance": [],
      "authorship_tag": "ABX9TyPveDF309bJhLS0B+wtPO8x",
      "include_colab_link": true
    },
    "kernelspec": {
      "name": "python3",
      "display_name": "Python 3"
    },
    "language_info": {
      "name": "python"
    }
  },
  "cells": [
    {
      "cell_type": "markdown",
      "metadata": {
        "id": "view-in-github",
        "colab_type": "text"
      },
      "source": [
        "<a href=\"https://colab.research.google.com/github/Poriteslutea/data_structure_python/blob/master/Grind169.ipynb\" target=\"_parent\"><img src=\"https://colab.research.google.com/assets/colab-badge.svg\" alt=\"Open In Colab\"/></a>"
      ]
    },
    {
      "cell_type": "markdown",
      "source": [
        "# Grind169\n",
        "\n",
        "[Notion Link](https://www.notion.so/grind169-88af5fc653f3498b8f3162fe7114c876)\n",
        "\n",
        "[官神題解](https://github.com/wisdompeak/LeetCode)"
      ],
      "metadata": {
        "id": "wE1n5nnEW9e5"
      }
    },
    {
      "cell_type": "markdown",
      "source": [
        "# Array"
      ],
      "metadata": {
        "id": "yCl9D3c8XV3g"
      }
    },
    {
      "cell_type": "markdown",
      "source": [
        "## 121. Best Time to Buy and Sell Stock\n",
        "\n",
        "https://leetcode.com/problems/best-time-to-buy-and-sell-stock/\n",
        "\n",
        "easy, dynamic programming\n",
        "\n",
        "給定一個array有每天的股價，選定一天買並在有持股時的另一天才能賣，到最後一天時，回傳能得到的最大利潤\n",
        "### Example：\n",
        "```\n",
        "Input: prices = [7,1,5,3,6,4]\n",
        "Output: 5\n",
        "Explanation: Buy on day 2 (price = 1) and sell on day 5 (price = 6), profit = 6-1 = 5.\n",
        "Note that buying on day 2 and selling on day 1 is not allowed because you must buy before you sell.\n",
        "\n",
        "```\n",
        "### Idea：\n",
        "在一次的for loop內，找出當前最小值，以及當前最大利潤:max(原本最大利潤,當日利潤)，找到最後一個數後即可返回最大利潤\n",
        "\n",
        "這系列有超多題，可以參考[官神動態規畫小講座](https://www.youtube.com/watch?v=FLbqgyJ-70I&t=1028s&ab_channel=HuifengGuan)"
      ],
      "metadata": {
        "id": "ljiWMNe_Xafm"
      }
    },
    {
      "cell_type": "code",
      "source": [
        "class Solution:\n",
        "    def maxProfit(self, prices: List[int]) -> int:\n",
        "\n",
        "        min_price = float(inf)\n",
        "        max_profit = 0\n",
        "\n",
        "        for v in prices:\n",
        "            min_price = min(min_price, v)\n",
        "            max_profit = max(max_profit, v-min_price)\n",
        "        \n",
        "        return max_profit\n"
      ],
      "metadata": {
        "id": "iaCPemyZXU8m"
      },
      "execution_count": null,
      "outputs": []
    }
  ]
}