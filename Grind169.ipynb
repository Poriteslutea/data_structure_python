{
  "nbformat": 4,
  "nbformat_minor": 0,
  "metadata": {
    "colab": {
      "provenance": [],
      "authorship_tag": "ABX9TyNUsnGseHFuK9k7vc45DL0r",
      "include_colab_link": true
    },
    "kernelspec": {
      "name": "python3",
      "display_name": "Python 3"
    },
    "language_info": {
      "name": "python"
    }
  },
  "cells": [
    {
      "cell_type": "markdown",
      "metadata": {
        "id": "view-in-github",
        "colab_type": "text"
      },
      "source": [
        "<a href=\"https://colab.research.google.com/github/Poriteslutea/data_structure_python/blob/master/Grind169.ipynb\" target=\"_parent\"><img src=\"https://colab.research.google.com/assets/colab-badge.svg\" alt=\"Open In Colab\"/></a>"
      ]
    },
    {
      "cell_type": "markdown",
      "source": [
        "# Grind169\n",
        "\n",
        "[Notion Link](https://www.notion.so/grind169-88af5fc653f3498b8f3162fe7114c876)\n",
        "\n",
        "[官神題解](https://github.com/wisdompeak/LeetCode)"
      ],
      "metadata": {
        "id": "wE1n5nnEW9e5"
      }
    },
    {
      "cell_type": "code",
      "source": [
        "from typing import List"
      ],
      "metadata": {
        "id": "JOBl3WV9mAUD"
      },
      "execution_count": null,
      "outputs": []
    },
    {
      "cell_type": "markdown",
      "source": [
        "# Array"
      ],
      "metadata": {
        "id": "yCl9D3c8XV3g"
      }
    },
    {
      "cell_type": "markdown",
      "source": [
        "## 121. Best Time to Buy and Sell Stock\n",
        "\n",
        "https://leetcode.com/problems/best-time-to-buy-and-sell-stock/\n",
        "\n",
        "easy, dynamic programming\n",
        "\n",
        "給定一個array有每天的股價，選定一天買並在有持股時的另一天才能賣，到最後一天時，回傳能得到的最大利潤\n",
        "### Example：\n",
        "```\n",
        "Input: prices = [7,1,5,3,6,4]\n",
        "Output: 5\n",
        "Explanation: Buy on day 2 (price = 1) and sell on day 5 (price = 6), profit = 6-1 = 5.\n",
        "Note that buying on day 2 and selling on day 1 is not allowed because you must buy before you sell.\n",
        "\n",
        "```\n",
        "### Idea：\n",
        "在一次的for loop內，找出當前最小值，以及當前最大利潤:max(原本最大利潤,當日利潤)，找到最後一個數後即可返回最大利潤。雖然不能當日買當日賣，但如果當日價格是目前最低價的話，當日賣的利潤最多也只是0而已，所以這邊就沒有去寫：\n",
        "```\n",
        "if min_price == v: \n",
        "  continue\n",
        "```\n",
        "\n",
        "\n",
        "這系列有超多題，可以參考[官神動態規畫小講座](https://www.youtube.com/watch?v=FLbqgyJ-70I&t=1028s&ab_channel=HuifengGuan)\n",
        "\n",
        "但這題其實沒用到dp array也都還能解，比較像的類題是：[53.Maximum Subarray](https://leetcode.com/problems/maximum-subarray/) 個人滿喜歡的一題，哈哈"
      ],
      "metadata": {
        "id": "ljiWMNe_Xafm"
      }
    },
    {
      "cell_type": "code",
      "source": [
        "class Solution:\n",
        "    def maxProfit(self, prices: List[int]) -> int:\n",
        "\n",
        "        min_price = float('inf')\n",
        "        max_profit = 0\n",
        "\n",
        "        for v in prices:\n",
        "            min_price = min(min_price, v)\n",
        "            max_profit = max(max_profit, v-min_price)\n",
        "        \n",
        "        return max_profit\n"
      ],
      "metadata": {
        "id": "iaCPemyZXU8m"
      },
      "execution_count": null,
      "outputs": []
    },
    {
      "cell_type": "code",
      "source": [
        "s = Solution()\n",
        "prices = [7,1,5,3,6,4]\n",
        "ret = s.maxProfit(prices)\n",
        "print(ret)"
      ],
      "metadata": {
        "colab": {
          "base_uri": "https://localhost:8080/"
        },
        "id": "pRL6iUExmaOE",
        "outputId": "3bfaf543-e11d-4d14-a9f3-84ad4f0ecd2b"
      },
      "execution_count": null,
      "outputs": [
        {
          "output_type": "stream",
          "name": "stdout",
          "text": [
            "5\n"
          ]
        }
      ]
    },
    {
      "cell_type": "markdown",
      "source": [
        "## 169. Majority Element\n",
        "\n",
        "https://leetcode.com/problems/majority-element/description/\n",
        "\n",
        "easy\n",
        "\n",
        "給一個序列，裡面會有一個主要的數，那個數的數量會是序列長度的一半以上\n",
        "\n",
        "### Example：\n",
        "```\n",
        "Input: nums = [2,2,1,1,1,2,2]\n",
        "Output: 2\n",
        "```\n",
        "### Idea：\n",
        "把整個array排序，正中間偏左那個index一定會是majority element~~因為題目也保證一定會給有majority element的array\n",
        "\n",
        "如果可能不會有majority element，那目前寫的這個方法就可能會失效，可以用`collections.Counter(nums)`來算各個元素出現幾次，再用`sorted(list(c.items()),key=lambda x:x[1])`去排序數量，並取數量最大的majority\n",
        "\n"
      ],
      "metadata": {
        "id": "bb7Vf_rDgERm"
      }
    },
    {
      "cell_type": "code",
      "source": [
        "class Solution:\n",
        "    def majorityElement(self, nums: List[int]) -> int:\n",
        "       mi = len(nums)//2\n",
        "       nums.sort()\n",
        "       return nums[mi]"
      ],
      "metadata": {
        "id": "4lfDIXxLi0RS"
      },
      "execution_count": null,
      "outputs": []
    },
    {
      "cell_type": "markdown",
      "source": [
        "## 283. Move Zeroes\n",
        "\n",
        "https://leetcode.com/problems/move-zeroes/description/\n",
        "\n",
        "easy\n",
        "\n",
        "把序列中的0移到最後面，要in-place的改動序列，不可以再做新序列\n",
        "\n",
        "### Example：\n",
        "```\n",
        "Input: nums = [0,1,0,3,12]\n",
        "Output: [1,3,12,0,0]\n",
        "```\n",
        "\n",
        "### Idea：\n",
        "另外存一組新的Index, 遇到0就continue，只把要放進去的數以新index存放\n",
        "\n",
        "但會剩最後幾個多出來的位置，再把0放進去即可"
      ],
      "metadata": {
        "id": "A0Q5YIZsrGUu"
      }
    },
    {
      "cell_type": "code",
      "source": [
        "class Solution:\n",
        "    def moveZeroes(self, nums: List[int]) -> None:\n",
        "        \"\"\"\n",
        "        Do not return anything, modify nums in-place instead.\n",
        "        \"\"\"\n",
        "\n",
        "        i = 0\n",
        "        for v in nums:\n",
        "            if v == 0:\n",
        "                continue\n",
        "            else:\n",
        "                nums[i] = v\n",
        "                i += 1\n",
        "\n",
        "        for idx in range(i,len(nums)):\n",
        "            nums[idx] = 0\n",
        "\n",
        "            \n",
        "        return nums"
      ],
      "metadata": {
        "id": "3GwRF7J9rx4Z"
      },
      "execution_count": null,
      "outputs": []
    },
    {
      "cell_type": "markdown",
      "source": [
        "## 57. Insert Interval\n",
        "\n",
        "https://leetcode.com/problems/insert-interval/description/\n",
        "\n",
        "medium\n",
        "\n",
        "對原有區間插入一個新區間，然後重新組合各區間\n",
        "\n",
        "### Example:\n",
        "```\n",
        "Input: intervals = [[1,2],[3,5],[6,7],[8,10],[12,16]], newInterval = [4,8]\n",
        "Output: [[1,2],[3,10],[12,16]]\n",
        "Explanation: Because the new interval [4,8] overlaps with [3,5],[6,7],[8,10].\n",
        "```\n",
        "\n",
        "### Idea:\n",
        "又是這題，之前寫過，放在Leetcode.Array，重寫又再度花2小時才accepted...\n",
        "\n",
        "第一部分：\n",
        "1. 設一個空序列及空集合，然後for loop原有的intervals，如果newInterval的值在目前的區間中，將值加入原有的interval並append進空序列中，處理完的值pop掉，然後標記這個index到空集合中\n",
        "  - **注意pop順序，首先要處理第一個數沒pop但要pop第二個數的case，再來才是pop兩個數的case**\n",
        "\n",
        "2. 如果目前interval的index沒在標記的集合中，直接append interval\n",
        "\n",
        "3. newInterval中落單沒被處理到的值(不在原區間內的)，加到新序列中，如果兩個值都沒有，需個別element以list的形式append進來，要不然在下一步會被當成正常的區間\n",
        "\n",
        "第二部分：\n",
        "1. 新序列現在有append newInterval的值的區間，子序列長度會是奇數(1 or 3)，先依各區間起始位置排序新序列\n",
        "\n",
        "2. 再設一個回傳的空序列，接著for loop新序列，首次遇到奇數子序列，flag=1並記錄最小值，再次遇到奇數子序列，flag=0並記錄最大值(終止位置)，flag=1又是偶數序列就跳過，flag=0但是是偶數序列就正常append進來，最後這個新序列就可回傳做為答案\n",
        "\n",
        "麻煩的地方：\n",
        "\n",
        "新區間有分四種情況：第一個數在原區間內但第二個數在外面、第一個數在原區間外但第二個數在內、整個區間包在原區間內、整個區間包住原區間\n",
        "\n",
        "Example Input： \n",
        "```\n",
        "intervals = [[1,5]]\n",
        "newInterval = [2,6]\n",
        "\n",
        "intervals = [[1,5]]\n",
        "newInterval = [0,3]\n",
        "\n",
        "intervals = [[1,5]]\n",
        "newInterval = [2,3]\n",
        "\n",
        "intervals = [[1,5]]\n",
        "newInterval = [0,6]\n",
        "```\n",
        "\n"
      ],
      "metadata": {
        "id": "E97f6WmPeGCH"
      }
    },
    {
      "cell_type": "code",
      "source": [
        "class Solution:\n",
        "    def insert(self, intervals: List[List[int]], newInterval: List[int]) -> List[List[int]]:\n",
        "\n",
        "        res = []\n",
        "        record_idx = set()\n",
        "        for i in range(len(intervals)):\n",
        "\n",
        "            while newInterval:\n",
        "                if len(record_idx) == 0 and intervals[i][0] <= newInterval[1] <= intervals[i][1]: \n",
        "                    res.append(intervals[i]+[newInterval.pop()])\n",
        "                    record_idx.add(i)\n",
        "                if intervals[i][0] <= newInterval[0] <= intervals[i][1]:\n",
        "                    res.append(intervals[i]+[newInterval.pop()])\n",
        "                    record_idx.add(i)\n",
        "                else:\n",
        "                    break\n",
        "                    \n",
        "            if i not in record_idx:\n",
        "                res.append(intervals[i])\n",
        "        \n",
        "\n",
        "        if newInterval:\n",
        "            for x in newInterval:\n",
        "                res.append([x])\n",
        "\n",
        "        print(res)\n",
        "\n",
        "        ss = sorted(list(map(lambda x:sorted(x), res)), key=lambda x: x[0])\n",
        "        ret = []\n",
        "        flag = 0\n",
        "        for i in range(len(ss)):\n",
        "            if len(ss[i]) % 2 == 0 and flag == 0:\n",
        "                ret.append(ss[i])\n",
        "            elif len(ss[i]) % 2 == 0 and flag == 1:\n",
        "                continue\n",
        "            elif len(ss[i]) % 2 == 1 and flag == 0:\n",
        "                flag = 1\n",
        "                si = ss[i][0]\n",
        "            elif len(ss[i]) % 2 == 1 and flag == 1:\n",
        "                ei = ss[i][-1]\n",
        "                ret.append([si,ei])\n",
        "                flag = 0\n",
        "        \n",
        "        return ret\n",
        "\n",
        "\n",
        "\n"
      ],
      "metadata": {
        "id": "YY9qpyUXi6Z4"
      },
      "execution_count": null,
      "outputs": []
    },
    {
      "cell_type": "markdown",
      "source": [
        "## 15. 3Sum\n",
        "\n",
        "https://leetcode.com/problems/3sum/\n",
        "\n",
        "medium\n",
        "\n",
        "找出序列中任意三個數的和為0的組別\n",
        "\n",
        "### Example：\n",
        "```\n",
        "Input: nums = [-1,0,1,2,-1,-4]\n",
        "Output: [[-1,-1,2],[-1,0,1]]\n",
        "Explanation: \n",
        "nums[0] + nums[1] + nums[2] = (-1) + 0 + 1 = 0.\n",
        "nums[1] + nums[2] + nums[4] = 0 + 1 + (-1) = 0.\n",
        "nums[0] + nums[3] + nums[4] = (-1) + 2 + (-1) = 0.\n",
        "The distinct triplets are [-1,0,1] and [-1,-1,2].\n",
        "Notice that the order of the output and the order of the triplets does not matter.\n",
        "```\n",
        "\n",
        "### Idea：\n",
        "之前寫過，就是先for loop nums[:-2]，這裡nums可以先排好序，剩下的數的序列中任意兩數和要是當前數的負值，這樣三數和就等於0，我是先把two_sum()寫好，並且當取到後兩數時，將三數的結果加到要回傳的集合中(add tuple)\n",
        "\n",
        "中間有寫個，遇到重複的數略過，以加快一點速度。"
      ],
      "metadata": {
        "id": "CGgR3UODnBmj"
      }
    },
    {
      "cell_type": "code",
      "source": [
        "class Solution:\n",
        "    def threeSum(self, nums: List[int]) -> List[List[int]]:\n",
        "\n",
        "        def two_sum(arr,goal):\n",
        "            hashmap = dict()\n",
        "            for v in arr:\n",
        "                if v in hashmap:\n",
        "                    res.add((-goal, v, goal-v))\n",
        "                else:\n",
        "                    hashmap[goal-v] = True\n",
        "\n",
        "        nums.sort()\n",
        "        res = set()\n",
        "        for i,v in enumerate(nums[:-2]):\n",
        "            if i >= 1 and v == nums[i-1]:\n",
        "                continue\n",
        "            \n",
        "            arr_behind_v = nums[(i+1):]\n",
        "            two_sum(arr_behind_v, -nums[i])\n",
        "\n",
        "        return list(res)"
      ],
      "metadata": {
        "id": "uuf_dq63qpLJ"
      },
      "execution_count": null,
      "outputs": []
    },
    {
      "cell_type": "markdown",
      "source": [
        "## 238. Product of Array Except Self\n",
        "\n",
        "https://leetcode.com/problems/product-of-array-except-self/description/\n",
        "\n",
        "medium(easy)\n",
        "\n",
        "找出序列中除了自己的其他數的乘積，時間複雜度要O(n)，空間複雜度要O(1)\n",
        "\n",
        "### Example：\n",
        "```\n",
        "Input: nums = [1,2,3,4]\n",
        "Output: [24,12,8,6]\n",
        "\n",
        "# with zero case\n",
        "Input: nums = [-1,1,0,-3,3]\n",
        "Output: [0,0,9,0,0]\n",
        "\n",
        "```\n",
        "\n",
        "### Idea：\n",
        "\n",
        "概念就是先得到整個序列的乘積，之後用總乘積去除當前值即可。\n",
        "\n",
        "比較麻煩的是處理有0的case，如果只有一個零的話，其他的數還是會有個乘積，如果有兩個零以上，就整個序列都會是0，所以這裡在算總積時用了兩個total_product，當第一次遇到0時，total_product會變0，但另一個total_product_exp_one_zero不會去乘這個0，如果再遇到0，那就兩個積都是0了\n",
        "\n",
        "之後是正式for loop nums，分別去給值即可。\n"
      ],
      "metadata": {
        "id": "SCx3sAvOwsNS"
      }
    },
    {
      "cell_type": "code",
      "source": [
        "class Solution:\n",
        "    def productExceptSelf(self, nums: List[int]) -> List[int]:\n",
        "\n",
        "        total_product_exp_one_zero = 1\n",
        "        total_product = 1\n",
        "\n",
        "        for i in nums:\n",
        "            if i == 0 and total_product != 0:\n",
        "                total_product = 0\n",
        "                continue\n",
        "            total_product_exp_one_zero *= i\n",
        "            total_product *= i\n",
        "\n",
        "    \n",
        "        for i,v in enumerate(nums):\n",
        "            if total_product_exp_one_zero == 0:\n",
        "                nums[i] = 0\n",
        "            elif v == 0:\n",
        "                nums[i] = total_product_exp_one_zero\n",
        "            else:\n",
        "                nums[i] = total_product//v\n",
        "\n",
        "        return nums\n"
      ],
      "metadata": {
        "id": "p6T-0smozGwl"
      },
      "execution_count": null,
      "outputs": []
    },
    {
      "cell_type": "markdown",
      "source": [
        "## 128. Longest Consecutive Sequence\n",
        "\n",
        "https://leetcode.com/problems/longest-consecutive-sequence/description/\n",
        "\n",
        "medium\n",
        "\n",
        "找出最長長度的連續值子序列\n",
        "\n",
        "### Example：\n",
        "```\n",
        "Input: nums = [100,4,200,1,3,2]\n",
        "Output: 4\n",
        "Explanation: The longest consecutive elements sequence is [1, 2, 3, 4]. Therefore its length is 4.\n",
        "\n",
        "Input: nums = [1,2,0,1]\n",
        "Output: 3\n",
        "\n",
        "```\n",
        "\n",
        "### Idea:\n",
        "\n",
        "這題就是看下一個數是不是當前數+1，是的話length長度就加一(n)，如果遇到不是，就去看目前的n是不是最大長度，然後n初始化為1，繼續找下一個連續的序列。\n",
        "\n",
        "有幾個狀況要注意：\n",
        "1. 當判斷完整個序列，如果終止在「`if nums[j] == (nums[i]+1)`」那裡的話，就抓不到最後一組n，所以外面要再取一次n，以免尾端被忽略的情形\n",
        "\n",
        "2. 當`len(nums)==0`就直接回傳0, 這裡沒寫的話就會回傳到1\n",
        "\n",
        "3. 因為題目的序列會有重複的情況，以目前的方法(只跟前一數做判斷)會失效，所以先把整個list取set再做sort，把重複數給去掉，目前的方法就能用溜~"
      ],
      "metadata": {
        "id": "tTKSA7bMZCU_"
      }
    },
    {
      "cell_type": "code",
      "source": [
        "class Solution:\n",
        "    def longestConsecutive(self, nums: List[int]) -> int:\n",
        "\n",
        "        nums = sorted(list(set(nums)))\n",
        "\n",
        "        if not nums:\n",
        "            return 0\n",
        "\n",
        "\n",
        "        max_len = 0\n",
        "        n = 1\n",
        "        for i in range(len(nums)-1):\n",
        "            j = i+1\n",
        "            if nums[j] == (nums[i]+1):\n",
        "                n += 1\n",
        "            else:\n",
        "                max_len = max(max_len,n)\n",
        "                n = 1\n",
        "        \n",
        "        max_len = max(max_len,n)\n",
        "        \n",
        "    \n",
        "        return max_len"
      ],
      "metadata": {
        "id": "0FhSb5WgbR9j"
      },
      "execution_count": null,
      "outputs": []
    },
    {
      "cell_type": "markdown",
      "source": [
        "## 189. Rotate Array\n",
        "\n",
        "https://leetcode.com/problems/rotate-array/description/\n",
        "\n",
        "easy~medium\n",
        "\n",
        "把array最右邊的數移到最前面，移動k次，array變怎樣(in-place modify)\n",
        "\n",
        "### Example：\n",
        "```\n",
        "Input: nums = [1,2,3,4,5,6,7], k = 3\n",
        "Output: [5,6,7,1,2,3,4]\n",
        "Explanation:\n",
        "rotate 1 steps to the right: [7,1,2,3,4,5,6]\n",
        "rotate 2 steps to the right: [6,7,1,2,3,4,5]\n",
        "rotate 3 steps to the right: [5,6,7,1,2,3,4]\n",
        "```\n",
        "\n",
        "### Idea：\n",
        "\n",
        "目前的解法還不是O(1)space，但概念簡單～記得k如果超過n次，用他的餘數即可\n",
        "\n",
        "先做一個extend array，把由前面移到後面的數加到array中\n",
        "\n",
        "接著依序把值加到原來的array中"
      ],
      "metadata": {
        "id": "iJzryTUCBzr5"
      }
    },
    {
      "cell_type": "code",
      "source": [
        "class Solution:\n",
        "    def rotate(self, nums: List[int], k: int) -> None:\n",
        "        \"\"\"\n",
        "        Do not return anything, modify nums in-place instead.\n",
        "        \"\"\"\n",
        "        n = len(nums)\n",
        "        k = k % n\n",
        "        ext = nums + nums[:(n-k)]\n",
        "       \n",
        "        ri = n-k\n",
        "        for i in range(n):\n",
        "            nums[i] = ext[ri+i]"
      ],
      "metadata": {
        "id": "icMATkyaCoNo"
      },
      "execution_count": null,
      "outputs": []
    }
  ]
}