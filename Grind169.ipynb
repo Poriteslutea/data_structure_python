{
  "nbformat": 4,
  "nbformat_minor": 0,
  "metadata": {
    "colab": {
      "provenance": [],
      "toc_visible": true,
      "authorship_tag": "ABX9TyNcsZEpST+TsOUo4NUHI66z",
      "include_colab_link": true
    },
    "kernelspec": {
      "name": "python3",
      "display_name": "Python 3"
    },
    "language_info": {
      "name": "python"
    }
  },
  "cells": [
    {
      "cell_type": "markdown",
      "metadata": {
        "id": "view-in-github",
        "colab_type": "text"
      },
      "source": [
        "<a href=\"https://colab.research.google.com/github/Poriteslutea/data_structure_python/blob/master/Grind169.ipynb\" target=\"_parent\"><img src=\"https://colab.research.google.com/assets/colab-badge.svg\" alt=\"Open In Colab\"/></a>"
      ]
    },
    {
      "cell_type": "markdown",
      "source": [
        "# Grind169\n",
        "\n",
        "[Notion Link](https://www.notion.so/grind169-88af5fc653f3498b8f3162fe7114c876)\n",
        "\n",
        "[官神題解](https://github.com/wisdompeak/LeetCode)"
      ],
      "metadata": {
        "id": "wE1n5nnEW9e5"
      }
    },
    {
      "cell_type": "code",
      "source": [
        "from typing import List"
      ],
      "metadata": {
        "id": "JOBl3WV9mAUD"
      },
      "execution_count": null,
      "outputs": []
    },
    {
      "cell_type": "markdown",
      "source": [
        "# Array"
      ],
      "metadata": {
        "id": "yCl9D3c8XV3g"
      }
    },
    {
      "cell_type": "markdown",
      "source": [
        "## 121. Best Time to Buy and Sell Stock\n",
        "\n",
        "https://leetcode.com/problems/best-time-to-buy-and-sell-stock/\n",
        "\n",
        "easy, dynamic programming\n",
        "\n",
        "給定一個array有每天的股價，選定一天買並在有持股時的另一天才能賣，到最後一天時，回傳能得到的最大利潤\n",
        "### Example：\n",
        "```\n",
        "Input: prices = [7,1,5,3,6,4]\n",
        "Output: 5\n",
        "Explanation: Buy on day 2 (price = 1) and sell on day 5 (price = 6), profit = 6-1 = 5.\n",
        "Note that buying on day 2 and selling on day 1 is not allowed because you must buy before you sell.\n",
        "\n",
        "```\n",
        "### Idea：\n",
        "在一次的for loop內，找出當前最小值，以及當前最大利潤:max(原本最大利潤,當日利潤)，找到最後一個數後即可返回最大利潤。雖然不能當日買當日賣，但如果當日價格是目前最低價的話，當日賣的利潤最多也只是0而已，所以這邊就沒有去寫：\n",
        "```\n",
        "if min_price == v:\n",
        "  continue\n",
        "```\n",
        "\n",
        "\n",
        "這系列有超多題，可以參考[官神動態規畫小講座](https://www.youtube.com/watch?v=FLbqgyJ-70I&t=1028s&ab_channel=HuifengGuan)\n",
        "\n",
        "但這題其實沒用到dp array也都還能解，比較像的類題是：[53.Maximum Subarray](https://leetcode.com/problems/maximum-subarray/) 個人滿喜歡的一題，哈哈"
      ],
      "metadata": {
        "id": "ljiWMNe_Xafm"
      }
    },
    {
      "cell_type": "code",
      "source": [
        "class Solution:\n",
        "    def maxProfit(self, prices: List[int]) -> int:\n",
        "\n",
        "        min_price = float('inf')\n",
        "        max_profit = 0\n",
        "\n",
        "        for v in prices:\n",
        "            min_price = min(min_price, v)\n",
        "            max_profit = max(max_profit, v-min_price)\n",
        "\n",
        "        return max_profit\n"
      ],
      "metadata": {
        "id": "iaCPemyZXU8m"
      },
      "execution_count": null,
      "outputs": []
    },
    {
      "cell_type": "code",
      "source": [
        "s = Solution()\n",
        "prices = [7,1,5,3,6,4]\n",
        "ret = s.maxProfit(prices)\n",
        "print(ret)"
      ],
      "metadata": {
        "id": "pRL6iUExmaOE"
      },
      "execution_count": null,
      "outputs": []
    },
    {
      "cell_type": "markdown",
      "source": [
        "## 169. Majority Element\n",
        "\n",
        "https://leetcode.com/problems/majority-element/description/\n",
        "\n",
        "easy\n",
        "\n",
        "給一個序列，裡面會有一個主要的數，那個數的數量會是序列長度的一半以上\n",
        "\n",
        "### Example：\n",
        "```\n",
        "Input: nums = [2,2,1,1,1,2,2]\n",
        "Output: 2\n",
        "```\n",
        "### Idea：\n",
        "把整個array排序，正中間偏左那個index一定會是majority element~~因為題目也保證一定會給有majority element的array\n",
        "\n",
        "如果可能不會有majority element，那目前寫的這個方法就可能會失效，可以用`collections.Counter(nums)`來算各個元素出現幾次，再用`sorted(list(c.items()),key=lambda x:x[1])`去排序數量，並取數量最大的majority\n",
        "\n"
      ],
      "metadata": {
        "id": "bb7Vf_rDgERm"
      }
    },
    {
      "cell_type": "code",
      "source": [
        "class Solution:\n",
        "    def majorityElement(self, nums: List[int]) -> int:\n",
        "       mi = len(nums)//2\n",
        "       nums.sort()\n",
        "       return nums[mi]"
      ],
      "metadata": {
        "id": "4lfDIXxLi0RS"
      },
      "execution_count": null,
      "outputs": []
    },
    {
      "cell_type": "markdown",
      "source": [
        "## 283. Move Zeroes\n",
        "\n",
        "https://leetcode.com/problems/move-zeroes/description/\n",
        "\n",
        "easy\n",
        "\n",
        "把序列中的0移到最後面，要in-place的改動序列，不可以再做新序列\n",
        "\n",
        "### Example：\n",
        "```\n",
        "Input: nums = [0,1,0,3,12]\n",
        "Output: [1,3,12,0,0]\n",
        "```\n",
        "\n",
        "### Idea：\n",
        "另外存一組新的Index, 遇到0就continue，只把要放進去的數以新index存放\n",
        "\n",
        "但會剩最後幾個多出來的位置，再把0放進去即可"
      ],
      "metadata": {
        "id": "A0Q5YIZsrGUu"
      }
    },
    {
      "cell_type": "code",
      "source": [
        "class Solution:\n",
        "    def moveZeroes(self, nums: List[int]) -> None:\n",
        "        \"\"\"\n",
        "        Do not return anything, modify nums in-place instead.\n",
        "        \"\"\"\n",
        "\n",
        "        i = 0\n",
        "        for v in nums:\n",
        "            if v == 0:\n",
        "                continue\n",
        "            else:\n",
        "                nums[i] = v\n",
        "                i += 1\n",
        "\n",
        "        for idx in range(i,len(nums)):\n",
        "            nums[idx] = 0\n",
        "\n",
        "\n",
        "        return nums"
      ],
      "metadata": {
        "id": "3GwRF7J9rx4Z"
      },
      "execution_count": null,
      "outputs": []
    },
    {
      "cell_type": "markdown",
      "source": [
        "## 57. Insert Interval\n",
        "\n",
        "https://leetcode.com/problems/insert-interval/description/\n",
        "\n",
        "medium\n",
        "\n",
        "對原有區間插入一個新區間，然後重新組合各區間\n",
        "\n",
        "### Example:\n",
        "```\n",
        "Input: intervals = [[1,2],[3,5],[6,7],[8,10],[12,16]], newInterval = [4,8]\n",
        "Output: [[1,2],[3,10],[12,16]]\n",
        "Explanation: Because the new interval [4,8] overlaps with [3,5],[6,7],[8,10].\n",
        "```\n",
        "\n",
        "### Idea:\n",
        "又是這題，之前寫過，放在Leetcode.Array，重寫又再度花2小時才accepted...\n",
        "\n",
        "第一部分：\n",
        "1. 設一個空序列及空集合，然後for loop原有的intervals，如果newInterval的值在目前的區間中，將值加入原有的interval並append進空序列中，處理完的值pop掉，然後標記這個index到空集合中\n",
        "  - **注意pop順序，首先要處理第一個數沒pop但要pop第二個數的case，再來才是pop兩個數的case**\n",
        "\n",
        "2. 如果目前interval的index沒在標記的集合中，直接append interval\n",
        "\n",
        "3. newInterval中落單沒被處理到的值(不在原區間內的)，加到新序列中，如果兩個值都沒有，需個別element以list的形式append進來，要不然在下一步會被當成正常的區間\n",
        "\n",
        "第二部分：\n",
        "1. 新序列現在有append newInterval的值的區間，子序列長度會是奇數(1 or 3)，先依各區間起始位置排序新序列\n",
        "\n",
        "2. 再設一個回傳的空序列，接著for loop新序列，首次遇到奇數子序列，flag=1並記錄最小值，再次遇到奇數子序列，flag=0並記錄最大值(終止位置)，flag=1又是偶數序列就跳過，flag=0但是是偶數序列就正常append進來，最後這個新序列就可回傳做為答案\n",
        "\n",
        "麻煩的地方：\n",
        "\n",
        "新區間有分四種情況：第一個數在原區間內但第二個數在外面、第一個數在原區間外但第二個數在內、整個區間包在原區間內、整個區間包住原區間\n",
        "\n",
        "Example Input：\n",
        "```\n",
        "intervals = [[1,5]]\n",
        "newInterval = [2,6]\n",
        "\n",
        "intervals = [[1,5]]\n",
        "newInterval = [0,3]\n",
        "\n",
        "intervals = [[1,5]]\n",
        "newInterval = [2,3]\n",
        "\n",
        "intervals = [[1,5]]\n",
        "newInterval = [0,6]\n",
        "```\n",
        "\n"
      ],
      "metadata": {
        "id": "E97f6WmPeGCH"
      }
    },
    {
      "cell_type": "code",
      "source": [
        "class Solution:\n",
        "    def insert(self, intervals: List[List[int]], newInterval: List[int]) -> List[List[int]]:\n",
        "\n",
        "        res = []\n",
        "        record_idx = set()\n",
        "        for i in range(len(intervals)):\n",
        "\n",
        "            while newInterval:\n",
        "                if len(record_idx) == 0 and intervals[i][0] <= newInterval[1] <= intervals[i][1]:\n",
        "                    res.append(intervals[i]+[newInterval.pop()])\n",
        "                    record_idx.add(i)\n",
        "                if intervals[i][0] <= newInterval[0] <= intervals[i][1]:\n",
        "                    res.append(intervals[i]+[newInterval.pop()])\n",
        "                    record_idx.add(i)\n",
        "                else:\n",
        "                    break\n",
        "\n",
        "            if i not in record_idx:\n",
        "                res.append(intervals[i])\n",
        "\n",
        "\n",
        "        if newInterval:\n",
        "            for x in newInterval:\n",
        "                res.append([x])\n",
        "\n",
        "        print(res)\n",
        "\n",
        "        ss = sorted(list(map(lambda x:sorted(x), res)), key=lambda x: x[0])\n",
        "        ret = []\n",
        "        flag = 0\n",
        "        for i in range(len(ss)):\n",
        "            if len(ss[i]) % 2 == 0 and flag == 0:\n",
        "                ret.append(ss[i])\n",
        "            elif len(ss[i]) % 2 == 0 and flag == 1:\n",
        "                continue\n",
        "            elif len(ss[i]) % 2 == 1 and flag == 0:\n",
        "                flag = 1\n",
        "                si = ss[i][0]\n",
        "            elif len(ss[i]) % 2 == 1 and flag == 1:\n",
        "                ei = ss[i][-1]\n",
        "                ret.append([si,ei])\n",
        "                flag = 0\n",
        "\n",
        "        return ret\n",
        "\n",
        "\n",
        "\n"
      ],
      "metadata": {
        "id": "YY9qpyUXi6Z4"
      },
      "execution_count": null,
      "outputs": []
    },
    {
      "cell_type": "markdown",
      "source": [
        "## 15. 3Sum\n",
        "\n",
        "https://leetcode.com/problems/3sum/\n",
        "\n",
        "medium\n",
        "\n",
        "找出序列中任意三個數的和為0的組別\n",
        "\n",
        "### Example：\n",
        "```\n",
        "Input: nums = [-1,0,1,2,-1,-4]\n",
        "Output: [[-1,-1,2],[-1,0,1]]\n",
        "Explanation:\n",
        "nums[0] + nums[1] + nums[2] = (-1) + 0 + 1 = 0.\n",
        "nums[1] + nums[2] + nums[4] = 0 + 1 + (-1) = 0.\n",
        "nums[0] + nums[3] + nums[4] = (-1) + 2 + (-1) = 0.\n",
        "The distinct triplets are [-1,0,1] and [-1,-1,2].\n",
        "Notice that the order of the output and the order of the triplets does not matter.\n",
        "```\n",
        "\n",
        "### Idea：\n",
        "之前寫過，就是先for loop nums[:-2]，這裡nums可以先排好序，剩下的數的序列中任意兩數和要是當前數的負值，這樣三數和就等於0，我是先把two_sum()寫好，並且當取到後兩數時，將三數的結果加到要回傳的集合中(add tuple)\n",
        "\n",
        "中間有寫個，遇到重複的數略過，以加快一點速度。"
      ],
      "metadata": {
        "id": "CGgR3UODnBmj"
      }
    },
    {
      "cell_type": "code",
      "source": [
        "class Solution:\n",
        "    def threeSum(self, nums: List[int]) -> List[List[int]]:\n",
        "\n",
        "        def two_sum(arr,goal):\n",
        "            hashmap = dict()\n",
        "            for v in arr:\n",
        "                if v in hashmap:\n",
        "                    res.add((-goal, v, goal-v))\n",
        "                else:\n",
        "                    hashmap[goal-v] = True\n",
        "\n",
        "        nums.sort()\n",
        "        res = set()\n",
        "        for i,v in enumerate(nums[:-2]):\n",
        "            if i >= 1 and v == nums[i-1]:\n",
        "                continue\n",
        "\n",
        "            arr_behind_v = nums[(i+1):]\n",
        "            two_sum(arr_behind_v, -nums[i])\n",
        "\n",
        "        return list(res)"
      ],
      "metadata": {
        "id": "uuf_dq63qpLJ"
      },
      "execution_count": null,
      "outputs": []
    },
    {
      "cell_type": "markdown",
      "source": [
        "## 238. Product of Array Except Self\n",
        "\n",
        "https://leetcode.com/problems/product-of-array-except-self/description/\n",
        "\n",
        "medium(easy)\n",
        "\n",
        "找出序列中除了自己的其他數的乘積，時間複雜度要O(n)，空間複雜度要O(1)\n",
        "\n",
        "### Example：\n",
        "```\n",
        "Input: nums = [1,2,3,4]\n",
        "Output: [24,12,8,6]\n",
        "\n",
        "# with zero case\n",
        "Input: nums = [-1,1,0,-3,3]\n",
        "Output: [0,0,9,0,0]\n",
        "\n",
        "```\n",
        "\n",
        "### Idea：\n",
        "\n",
        "概念就是先得到整個序列的乘積，之後用總乘積去除當前值即可。\n",
        "\n",
        "比較麻煩的是處理有0的case，如果只有一個零的話，其他的數還是會有個乘積，如果有兩個零以上，就整個序列都會是0，所以這裡在算總積時用了兩個total_product，當第一次遇到0時，total_product會變0，但另一個total_product_exp_one_zero不會去乘這個0，如果再遇到0，那就兩個積都是0了\n",
        "\n",
        "之後是正式for loop nums，分別去給值即可。\n"
      ],
      "metadata": {
        "id": "SCx3sAvOwsNS"
      }
    },
    {
      "cell_type": "code",
      "source": [
        "class Solution:\n",
        "    def productExceptSelf(self, nums: List[int]) -> List[int]:\n",
        "\n",
        "        total_product_exp_one_zero = 1\n",
        "        total_product = 1\n",
        "\n",
        "        for i in nums:\n",
        "            if i == 0 and total_product != 0:\n",
        "                total_product = 0\n",
        "                continue\n",
        "            total_product_exp_one_zero *= i\n",
        "            total_product *= i\n",
        "\n",
        "\n",
        "        for i,v in enumerate(nums):\n",
        "            if total_product_exp_one_zero == 0:\n",
        "                nums[i] = 0\n",
        "            elif v == 0:\n",
        "                nums[i] = total_product_exp_one_zero\n",
        "            else:\n",
        "                nums[i] = total_product//v\n",
        "\n",
        "        return nums\n"
      ],
      "metadata": {
        "id": "p6T-0smozGwl"
      },
      "execution_count": null,
      "outputs": []
    },
    {
      "cell_type": "markdown",
      "source": [
        "## 128. Longest Consecutive Sequence\n",
        "\n",
        "https://leetcode.com/problems/longest-consecutive-sequence/description/\n",
        "\n",
        "medium\n",
        "\n",
        "找出最長長度的連續值子序列\n",
        "\n",
        "### Example：\n",
        "```\n",
        "Input: nums = [100,4,200,1,3,2]\n",
        "Output: 4\n",
        "Explanation: The longest consecutive elements sequence is [1, 2, 3, 4]. Therefore its length is 4.\n",
        "\n",
        "Input: nums = [1,2,0,1]\n",
        "Output: 3\n",
        "\n",
        "```\n",
        "\n",
        "### Idea:\n",
        "\n",
        "這題就是看下一個數是不是當前數+1，是的話length長度就加一(n)，如果遇到不是，就去看目前的n是不是最大長度，然後n初始化為1，繼續找下一個連續的序列。\n",
        "\n",
        "有幾個狀況要注意：\n",
        "1. 當判斷完整個序列，如果終止在「`if nums[j] == (nums[i]+1)`」那裡的話，就抓不到最後一組n，所以外面要再取一次n，以免尾端被忽略的情形\n",
        "\n",
        "2. 當`len(nums)==0`就直接回傳0, 這裡沒寫的話就會回傳到1\n",
        "\n",
        "3. 因為題目的序列會有重複的情況，以目前的方法(只跟前一數做判斷)會失效，所以先把整個list取set再做sort，把重複數給去掉，目前的方法就能用溜~"
      ],
      "metadata": {
        "id": "tTKSA7bMZCU_"
      }
    },
    {
      "cell_type": "code",
      "source": [
        "class Solution:\n",
        "    def longestConsecutive(self, nums: List[int]) -> int:\n",
        "\n",
        "        nums = sorted(list(set(nums)))\n",
        "\n",
        "        if not nums:\n",
        "            return 0\n",
        "\n",
        "\n",
        "        max_len = 0\n",
        "        n = 1\n",
        "        for i in range(len(nums)-1):\n",
        "            j = i+1\n",
        "            if nums[j] == (nums[i]+1):\n",
        "                n += 1\n",
        "            else:\n",
        "                max_len = max(max_len,n)\n",
        "                n = 1\n",
        "\n",
        "        max_len = max(max_len,n)\n",
        "\n",
        "\n",
        "        return max_len"
      ],
      "metadata": {
        "id": "0FhSb5WgbR9j"
      },
      "execution_count": null,
      "outputs": []
    },
    {
      "cell_type": "markdown",
      "source": [
        "## 189. Rotate Array\n",
        "\n",
        "https://leetcode.com/problems/rotate-array/description/\n",
        "\n",
        "easy~medium\n",
        "\n",
        "把array最右邊的數移到最前面，移動k次，array變怎樣(in-place modify)\n",
        "\n",
        "### Example：\n",
        "```\n",
        "Input: nums = [1,2,3,4,5,6,7], k = 3\n",
        "Output: [5,6,7,1,2,3,4]\n",
        "Explanation:\n",
        "rotate 1 steps to the right: [7,1,2,3,4,5,6]\n",
        "rotate 2 steps to the right: [6,7,1,2,3,4,5]\n",
        "rotate 3 steps to the right: [5,6,7,1,2,3,4]\n",
        "```\n",
        "\n",
        "### Idea：\n",
        "\n",
        "目前的解法還不是O(1)space，但概念簡單～記得k如果超過n次，用他的餘數即可\n",
        "\n",
        "先做一個extend array，把由前面移到後面的數加到array中\n",
        "\n",
        "接著依序把值加到原來的array中"
      ],
      "metadata": {
        "id": "iJzryTUCBzr5"
      }
    },
    {
      "cell_type": "code",
      "source": [
        "class Solution:\n",
        "    def rotate(self, nums: List[int], k: int) -> None:\n",
        "        \"\"\"\n",
        "        Do not return anything, modify nums in-place instead.\n",
        "        \"\"\"\n",
        "        n = len(nums)\n",
        "        k = k % n\n",
        "        ext = nums + nums[:(n-k)]\n",
        "\n",
        "        ri = n-k\n",
        "        for i in range(n):\n",
        "            nums[i] = ext[ri+i]"
      ],
      "metadata": {
        "id": "icMATkyaCoNo"
      },
      "execution_count": null,
      "outputs": []
    },
    {
      "cell_type": "markdown",
      "source": [
        "## 525. Contiguous Array\n",
        "\n",
        "https://leetcode.com/problems/contiguous-array/description/\n",
        "\n",
        "medium\n",
        "\n",
        "找出1和0數量相同的子序列\n",
        "\n",
        "### Example：\n",
        "\n",
        "```\n",
        "Input: nums = [0,1,0]\n",
        "Output: 2\n",
        "Explanation: [0, 1] (or [1, 0]) is a longest contiguous subarray with equal number of 0 and 1.\n",
        "```\n",
        "\n",
        "### Idea：\n",
        "\n",
        "[官神題解](https://github.com/wisdompeak/LeetCode/tree/master/Hash/525.Contiguous-Array)  Hash+prefix sum\n",
        "\n",
        "概念是遇到1時加一，遇到0時減一，如果再遇到一樣的prefix_sum，就代表這個區間內1和0的數量一樣，然後為了防止最大子串長度的開頭就是由第一個數開始的，我們存放prefix_sum的index的hashmap，需給一個{0:1}進來~~~\n"
      ],
      "metadata": {
        "id": "76CgXTepuhhW"
      }
    },
    {
      "cell_type": "code",
      "source": [
        "class Solution:\n",
        "    def findMaxLength(self, nums: List[int]) -> int:\n",
        "\n",
        "        prefix_sum_dict = {0:-1}\n",
        "        summ = 0\n",
        "        result = 0\n",
        "        for i,v in enumerate(nums):\n",
        "            if v == 1:\n",
        "                summ += 1\n",
        "            elif v == 0:\n",
        "                summ -= 1\n",
        "\n",
        "            if summ not in prefix_sum_dict:\n",
        "                prefix_sum_dict[summ] = i\n",
        "            else:\n",
        "                result = max(result, i - prefix_sum_dict[summ])\n",
        "\n",
        "        return result"
      ],
      "metadata": {
        "id": "4cuF8uoMwAbP"
      },
      "execution_count": null,
      "outputs": []
    },
    {
      "cell_type": "markdown",
      "source": [
        "## 560. Subarray Sum Equals K\n",
        "\n",
        "https://leetcode.com/problems/subarray-sum-equals-k/solutions/\n",
        "\n",
        "medium\n",
        "\n",
        "找出序列中加起來為k的子序列有幾個\n",
        "### Example：\n",
        "\n",
        "```\n",
        "Input: nums = [1,2,3], k = 3\n",
        "Output: 2\n",
        "\n",
        "```\n",
        "\n",
        "### Idea:\n",
        "\n",
        "和上面一樣是hashtable + prefixSum\n",
        "\n",
        "目前的序列和 - k，就是總序列和 - 目標子序列和(k)，會是另外一段子序列和(這一段一定是從頭算起的)，如果之前的prefixSum中已經有過這個數(hashmap中)，則把這個子序列和出現的總數加到return值裡。\n",
        "\n",
        "hashmap中，如果當前的序列和沒有出現過，就加到hashmap，有出現過了，就把這個序列和的count數+1(hashmap的value)，有時候序列和因為有正有負，中間數和為0，所以會出現重複的情況。\n",
        "```\n",
        "case 1: 和為k的子序列不是從index 0開始的，但這樣不好追蹤，改追蹤由index 0開始的子序列和(prefixSum - k)，因為這個值可以在for loop遍歷的時候丟到hashmap中記錄下來，重複時還能計次\n",
        "\n",
        "[|-------------|***|]\n",
        "[|prefixSum - k| k |]\n",
        "[|prefixSum -  k|k |] *也會像這樣，子序列長度不同，但和相同，有這樣的狀況就在hashmap中count+1\n",
        "\n",
        "case 2: 和為k的子序列本身就是從index 0開始的某個prefixSum，那prefixSum - k會直接是0，所以hashmap要設個初始值{0:1}以幫助計數這種狀況\n",
        "\n",
        "[||****************|]\n",
        "[||       k        |]\n",
        "\n",
        "\n",
        "```\n"
      ],
      "metadata": {
        "id": "Sf6Q5iKuMran"
      }
    },
    {
      "cell_type": "code",
      "source": [
        "class Solution:\n",
        "    def subarraySum(self, nums: List[int], k: int) -> int:\n",
        "        prefixsum = 0\n",
        "        d = {0:1}\n",
        "        res = 0\n",
        "\n",
        "        for num in nums:\n",
        "\n",
        "            prefixsum += num\n",
        "\n",
        "            if prefixsum - k in d:\n",
        "                res += d[prefixsum - k]\n",
        "\n",
        "            if prefixsum not in d:\n",
        "                d[prefixsum] = 1\n",
        "            else:\n",
        "                d[prefixsum] += 1\n",
        "\n",
        "          print(d)\n",
        "        return res\n"
      ],
      "metadata": {
        "id": "RoAmpBjvOLfH"
      },
      "execution_count": null,
      "outputs": []
    },
    {
      "cell_type": "markdown",
      "source": [
        "## 239. Sliding Window Maximum\n",
        "\n",
        "https://leetcode.com/problems/sliding-window-maximum/\n",
        "\n",
        "Hard-\n",
        "\n",
        "輸出sliding window的最大值\n",
        "\n",
        "### Example：\n",
        "```\n",
        "Input: nums = [1,3,-1,-3,5,3,6,7], k = 3\n",
        "Output: [3,3,5,5,6,7]\n",
        "Explanation:\n",
        "Window position                Max\n",
        "---------------               -----\n",
        "[1  3  -1] -3  5  3  6  7       3\n",
        " 1 [3  -1  -3] 5  3  6  7       3\n",
        " 1  3 [-1  -3  5] 3  6  7       5\n",
        " 1  3  -1 [-3  5  3] 6  7       5\n",
        " 1  3  -1  -3 [5  3  6] 7       6\n",
        " 1  3  -1  -3  5 [3  6  7]      7\n",
        "\n",
        "```\n",
        "\n",
        "### Idea：\n",
        "\n"
      ],
      "metadata": {
        "id": "w7j7MsE0wT0i"
      }
    },
    {
      "cell_type": "markdown",
      "source": [
        "# String"
      ],
      "metadata": {
        "id": "GpmJkOstqMk6"
      }
    },
    {
      "cell_type": "markdown",
      "source": [
        "## 179. Largest Number\n",
        "\n",
        "https://leetcode.com/problems/largest-number/description/\n",
        "\n",
        "medium\n",
        "\n",
        "判定非負數字串怎麼排列可以併成一個最大的正整數\n",
        "\n",
        "### Example：\n",
        "\n",
        "```\n",
        "Input: nums = [3,30,34,5,9]\n",
        "Output: \"9534330\"\n",
        "\n",
        "```\n",
        "\n",
        "### Idea:\n",
        "\n",
        "[官神題解](https://github.com/wisdompeak/LeetCode/tree/master/Greedy/179.Largest-Number)：\n",
        "兩兩比較，相當於進行「bubble sort」，排完序後，放越前面的數會使整個合併的數值最大。\n",
        "\n",
        "[functools.cmp_to_key -- 官方說明](https://docs.python.org/3/library/functools.html#functools.cmp_to_key)：\n",
        "\n",
        "基本上就是設compare(a,b)客製化一個比較a與b的函式，a>b時給正值，a=b時給0，a<b時給負值，接著當`sorted(my_list, key=cmp_to_key(compare))`時，就會以客製化的規則對my_list進行排序，預設是遞增排序，但如果想遞減，就要倒轉一下(或反向調整比較規則)\n",
        "\n",
        "有點難靠自己想到的一題～但可以多認識一下sort key這些。\n"
      ],
      "metadata": {
        "id": "qRDGQ3OoqQqB"
      }
    },
    {
      "cell_type": "code",
      "source": [
        "from functools import cmp_to_key\n",
        "\n",
        "class Solution:\n",
        "    def largestNumber(self, nums: List[int]) -> str:\n",
        "        # 設立一個新的排序方式\n",
        "        # cmp_to_key() 在標準庫functools中的一個函數，可將兩個比較用的值轉成sorted()key中的函數\n",
        "\n",
        "        def new_sort(a,b):\n",
        "          return int(b+a) - int(a+b)\n",
        "\n",
        "        nums = [str(i) for i in nums]\n",
        "        res = sorted(nums, key=cmp_to_key(new_sort))\n",
        "\n",
        "        return ''.join(res) if int(''.join(res)) != 0 else '0'"
      ],
      "metadata": {
        "id": "GrBcPLF2uXfy"
      },
      "execution_count": null,
      "outputs": []
    },
    {
      "cell_type": "markdown",
      "source": [
        "# Stack"
      ],
      "metadata": {
        "id": "E6ckv9UW7mmW"
      }
    },
    {
      "cell_type": "markdown",
      "source": [
        "## 150. Evaluate Reverse Polish Notation\n",
        "\n",
        "https://leetcode.com/problems/evaluate-reverse-polish-notation/description/\n",
        "\n",
        "medium（偏easy)\n",
        "\n",
        "Reverse Polish notation 某種符號在最後的四則運算表達式\n",
        "\n",
        "### Example\n",
        "\n",
        "```\n",
        "Input: tokens = [\"10\",\"6\",\"9\",\"3\",\"+\",\"-11\",\"*\",\"/\",\"*\",\"17\",\"+\",\"5\",\"+\"]\n",
        "Output: 22\n",
        "Explanation: ((10 * (6 / ((9 + 3) * -11))) + 17) + 5\n",
        "= ((10 * (6 / (12 * -11))) + 17) + 5\n",
        "= ((10 * (6 / -132)) + 17) + 5\n",
        "= ((10 * 0) + 17) + 5\n",
        "= (0 + 17) + 5\n",
        "= 17 + 5\n",
        "= 22\n",
        "\n",
        "```\n",
        "\n",
        "\n",
        "\n",
        "### Idea\n",
        "\n",
        "遇到數字時就append到另一個stack，當遇到運算符號時就pop最後兩個數字做運算，\n",
        "\n",
        "運算結果append回stack，for loop跑完整個token，最後stack中應該只會剩一個數字，即運算結果。\n"
      ],
      "metadata": {
        "id": "UDYgsMeK8jL1"
      }
    },
    {
      "cell_type": "code",
      "source": [
        "class Solution:\n",
        "    def evalRPN(self, tokens: List[str]) -> int:\n",
        "        # 如果遇到符號，就把丟進「數字stack」中的最後兩個數字做運算，結果再丟回去數字stack\n",
        "        num_stack = []\n",
        "        for v in tokens:\n",
        "            if v in ['+', '-', '*', '/']:\n",
        "                num1 = num_stack.pop()\n",
        "                num2 = num_stack.pop()\n",
        "                if v == '+':\n",
        "                    num = num1 + num2\n",
        "                elif v == '-':\n",
        "                    num = num2 - num1\n",
        "                elif v == '*':\n",
        "                    num = num2 * num1\n",
        "                elif v == '/':\n",
        "                    num = num2 / num1\n",
        "\n",
        "\n",
        "                num_stack.append(int(num))\n",
        "            else:\n",
        "                num_stack.append(int(v))\n",
        "\n",
        "\n",
        "        return num_stack[0]"
      ],
      "metadata": {
        "id": "dhtk7ysDw7qO"
      },
      "execution_count": null,
      "outputs": []
    },
    {
      "cell_type": "markdown",
      "source": [
        "## 739. Daily Temperatures\n",
        "\n",
        "https://leetcode.com/problems/daily-temperatures/description/\n",
        "\n",
        "medium\n",
        "\n",
        "回傳每個位置幾天後遇到比自己溫度更高的日子\n",
        "\n",
        "### Example：\n",
        "\n",
        "```\n",
        "Input: temperatures = [73,74,75,71,69,72,76,73]\n",
        "Output: [1,1,4,2,1,1,0,0]\n",
        "```\n",
        "\n",
        "### Idea：\n",
        "\n",
        "1. 設定一個operation_stack, 當現在日期的溫度比前一天低時，就append進去（與當前日期的index一起放進來），如果遇到溫度比前一天高的，就pop掉前一天的值，並且index互減以得到天數差，然後依位置放到要回傳的數列中。\n",
        "2. 要回傳的數列先給定一個空間出來，之後依位置放天數差進去～一開始沒想清楚這點，卡了一下"
      ],
      "metadata": {
        "id": "E38Hjj_5jrRO"
      }
    },
    {
      "cell_type": "code",
      "source": [
        "class Solution:\n",
        "    def dailyTemperatures(self, temperatures: List[int]) -> List[int]:\n",
        "        # 給res一個空間，標記各個溫度的index，遇到比較大的溫度時，就用那個位置的Index去減當前數的index(差的天數）並存在對應的res位置中。\n",
        "\n",
        "        op_stack = []\n",
        "        ret = [0 for i in temperatures]\n",
        "\n",
        "        for i,v in enumerate(temperatures):\n",
        "            while op_stack and v > op_stack[-1][0]:\n",
        "                cur_pair = op_stack.pop()\n",
        "                days = i - cur_pair[1]\n",
        "                ret[cur_pair[1]] = days\n",
        "            op_stack.append((v,i))\n",
        "\n",
        "        return ret\n"
      ],
      "metadata": {
        "id": "S9shwiYSlCvq"
      },
      "execution_count": null,
      "outputs": []
    },
    {
      "cell_type": "markdown",
      "source": [],
      "metadata": {
        "id": "ry4Iq5zgTdmr"
      }
    },
    {
      "cell_type": "markdown",
      "source": [
        "## 394. Decode String\n",
        "\n",
        "https://leetcode.com/problems/decode-string/description/\n",
        "\n",
        "medium (不難但有些小細節要注意)\n",
        "\n",
        "解碼字串\n",
        "\n",
        "### Example：\n",
        "\n",
        "```\n",
        "Input: s = \"3[a2[c]]\"\n",
        "Output: \"accaccacc\"\n",
        "```\n",
        "\n",
        "### Idea：\n",
        "原來的想法是給一個放數字的stack, 與一個放字母的stack，\n",
        "遇到左中括號一樣加到放字母的stack（此時要把前面的數字字串合併為一個數字並加到數字stack），然後遇到右中括號時，開始pop放字母的stack（放到queue中）當pop到左中括號時停止，並把這個queue的字母乘上數字stack的最後數字，得出的新字串丟回字母stack（此時要把字母stack的左中括號也移除），照此規則走完最後再合併字母stack成一字串即可回傳。\n",
        "\n",
        "- 這樣要放四個list, 網路上有人合併數字那使用 cur_num = 10*cur_num + v 還不錯，用進位的方式，可以少用一個list\n",
        "\n",
        "- 注意字串與數字的轉換"
      ],
      "metadata": {
        "id": "wsMRjzwITd78"
      }
    },
    {
      "cell_type": "code",
      "source": [
        "class Solution:\n",
        "    def decodeString(self, s: str) -> str:\n",
        "        # 一開始的想法\n",
        "        op_que = deque()\n",
        "        op_num = []\n",
        "        num_stack = []\n",
        "        letter_stack = []\n",
        "        for v in s:\n",
        "            if v.isdigit():\n",
        "                op_num.append(v)\n",
        "            elif v == '[':\n",
        "                letter_stack.append(v)\n",
        "                cur_num = int(''.join(op_num))\n",
        "                num_stack.append(cur_num)\n",
        "                op_num = []\n",
        "            elif v == ']':\n",
        "                while letter_stack[-1] != '[':\n",
        "                    op_que.appendleft(letter_stack.pop())\n",
        "                if num_stack:\n",
        "                    cur_str = num_stack.pop() * op_que\n",
        "                    letter_stack.pop()\n",
        "                    letter_stack.extend(cur_str)\n",
        "                    op_que = deque()\n",
        "            else:\n",
        "                letter_stack.append(v)\n",
        "\n",
        "\n",
        "\n",
        "        return ''.join(letter_stack)"
      ],
      "metadata": {
        "id": "OEVMpXXpVapM"
      },
      "execution_count": null,
      "outputs": []
    },
    {
      "cell_type": "code",
      "source": [
        "class Solution:\n",
        "    def decodeString(self, s: str) -> str:\n",
        "        # 這裡少用一個op_num的list，空間有節省，但速度還是慢QQ 可能是我去跑那個while花時間了，還有改進空間\n",
        "        op_que = deque()\n",
        "        cur_num = 0\n",
        "        letter_stack = []\n",
        "        num_stack = []\n",
        "        for v in s:\n",
        "            if v.isdigit():\n",
        "                cur_num = cur_num * 10 + int(v)\n",
        "            elif v == '[':\n",
        "                letter_stack.append(v)\n",
        "                num_stack.append(cur_num)\n",
        "                cur_num = 0\n",
        "            elif v == ']':\n",
        "                while letter_stack[-1] != '[':\n",
        "                    op_que.appendleft(letter_stack.pop())\n",
        "                cur_str = num_stack.pop() * op_que\n",
        "                letter_stack.pop()\n",
        "                letter_stack.extend(cur_str)\n",
        "                op_que = deque()\n",
        "                cur_num = 0\n",
        "            else:\n",
        "                letter_stack.append(v)"
      ],
      "metadata": {
        "id": "5Nl9PmzkVrse"
      },
      "execution_count": null,
      "outputs": []
    },
    {
      "cell_type": "markdown",
      "source": [
        "## 735. Asteroid Collision\n",
        "\n",
        "https://leetcode.com/problems/asteroid-collision/description/\n",
        "\n",
        "medium\n",
        "\n",
        "行星不同方向會對撞，質量高的會留下來繼續行駛\n",
        "\n",
        "### Example\n",
        "\n",
        "```\n",
        "Input: asteroids = [10,2,-5]\n",
        "Output: [10]\n",
        "Explanation: The 2 and -5 collide resulting in -5. The 10 and -5 collide resulting in 10.\n",
        "```\n",
        "\n",
        "### Idea\n",
        "\n",
        "這題陷井很多！\n",
        "- 同向的都放進來stack\n",
        "\n",
        "- 遇到不同向時，判斷stack最後的數是不是向右，如果向左的話就正常append，代表不會撞到下一顆。\n",
        "\n",
        "- 不同向且向右的話，現在的數+stack[-1]，如果變同向，就不動繼續往前比下一個星星，如果一樣反向，stack.pop()，現在的數繼續與stack[-1]比，直到變同向，要注意一下兩個星星質量一樣一起爆炸的狀況，除了stack的星星要pop掉，新的star也要pop掉，如果變同向不繼續動，但是是一起向左，也要append進來。\n",
        "\n",
        "- 也要注意一下反向離開的情況！只有正遇到負會爆炸，負遇到正不會\n",
        "\n",
        "- 要注意相同質量各自消散的情形，會造成stack為空，或新的star把之前的星星都消完了，此時要做處理\n",
        "\n",
        "1. 有沒有互撞\n",
        "2. 撞完往哪個方向走，和下一顆反方向的話會不會互撞，哪顆消散\n",
        "3. 避免stack為空值卻呼叫stack[-1]的情況"
      ],
      "metadata": {
        "id": "xC8XC-rLm3xB"
      }
    },
    {
      "cell_type": "code",
      "source": [
        "class Solution:\n",
        "    def asteroidCollision(self, asteroids: List[int]) -> List[int]:\n",
        "        # 先設定一個direction, 同向的都放進來stack，遇到不同向時，現在的數+stack[-1]，如果變同向，就不動繼續往前比下一個星星，如果一樣反向，stack.pop()，現在的數繼續與stack[-1]比，直到變同向，要注意一下兩個星星質量一樣一起爆炸的狀況。\n",
        "\n",
        "        # 也要注意一下反向離開的情況！只有正遇到負會爆炸，負遇到正不會\n",
        "\n",
        "        # 要注意相同質量各自消散的情形，會造成stack為空\n",
        "\n",
        "\n",
        "        stack = [asteroids[0]]\n",
        "        for star in asteroids[1:]:\n",
        "            if not stack:\n",
        "                stack.append(star)\n",
        "                continue\n",
        "            if star * stack[-1] < 0:\n",
        "                if stack[-1] > 0:\n",
        "                    collision = star + stack[-1]\n",
        "                    while stack and collision * stack[-1] < 0:\n",
        "                        stack.pop()\n",
        "                        if not stack:\n",
        "                            break\n",
        "                        collision = star + stack[-1]\n",
        "                    if collision == 0:\n",
        "                        stack.pop()\n",
        "                        continue\n",
        "                    elif collision < 0:\n",
        "                        stack.append(star)\n",
        "                else:\n",
        "                    stack.append(star)\n",
        "            else:\n",
        "                stack.append(star)\n",
        "\n",
        "\n",
        "        return stack"
      ],
      "metadata": {
        "id": "fo6GtZvLnTq5"
      },
      "execution_count": null,
      "outputs": []
    },
    {
      "cell_type": "markdown",
      "source": [
        "## 227. Basic Calculator II\n",
        "\n",
        "https://leetcode.com/problems/basic-calculator-ii/description/\n",
        "\n",
        "medium\n",
        "\n",
        "中序式字串四則運算\n",
        "\n",
        "### Example：\n",
        "```\n",
        "Input: s = \"3+2*2\"\n",
        "Output: 7\n",
        "```\n",
        "\n",
        "### Idea：\n",
        "\n",
        "1. 得到中序式的list，空格不要、連續數字字串合併為單一整數\n",
        "\n",
        "2. 中序式轉換為後序式（符號設優先程度）數字的話正常輸出，符號就進行判斷，如果讀取到的符號優先程度小於等於stack[-1]的優先程度，stack[-1]就pop掉，輸出到output list，如果大於的話就正常append到stack中，stack沒東西也正常append，最後Output list就會變後序式排列\n",
        "\n",
        "3. 後序式排列的計算就跟150題一樣，也是設個stack，數字正常輸出，遇符號的話就pop最後兩個數字進行計算，算完結果再丟回output list，最後output list應該只會剩一個數，就是結果\n",
        "\n",
        "* 不過時間不夠快，感覺能再參考其他人寫法優化（可能step1和2可以在一個for loop中進行完？）"
      ],
      "metadata": {
        "id": "EWMfwoWgyyRO"
      }
    },
    {
      "cell_type": "code",
      "source": [
        "class Solution:\n",
        "    def calculate(self, s: str) -> int:\n",
        "\n",
        "        if len(s) == 1:\n",
        "            return int(s)\n",
        "\n",
        "        inorder = []\n",
        "        cur_num = []\n",
        "        for i in s:\n",
        "            if i.isdigit():\n",
        "                cur_num.append(i)\n",
        "            elif i == ' ':\n",
        "                continue\n",
        "            else:\n",
        "                inorder.append(int(''.join(cur_num)))\n",
        "                inorder.append(i)\n",
        "                cur_num = []\n",
        "\n",
        "        if cur_num:\n",
        "            inorder.append(int(''.join(cur_num)))\n",
        "\n",
        "        priority_map = {'/':1, '*':1, '+':0, '-':0}\n",
        "        postorder = []\n",
        "        stack = []\n",
        "        for i in inorder:\n",
        "            if isinstance(i, int):\n",
        "                postorder.append(i)\n",
        "            elif stack:\n",
        "                while priority_map[i] <= priority_map[stack[-1]]:\n",
        "                    postorder.append(stack.pop())\n",
        "                    if not stack:\n",
        "                        break\n",
        "                stack.append(i)\n",
        "            else:\n",
        "                stack.append(i)\n",
        "\n",
        "        while stack:\n",
        "            postorder.append(stack.pop())\n",
        "\n",
        "        res = []\n",
        "        for i in postorder:\n",
        "            if isinstance(i, int):\n",
        "                res.append(i)\n",
        "            else:\n",
        "                num2 = res.pop()\n",
        "                num1 = res.pop()\n",
        "                if i == '+':\n",
        "                    res.append(num1 + num2)\n",
        "                elif i == '-':\n",
        "                    res.append(num1 - num2)\n",
        "                elif i == '*':\n",
        "                    res.append(num1 * num2)\n",
        "                elif i == '/':\n",
        "                    res.append(int(num1 / num2))\n",
        "\n",
        "        return res[0]"
      ],
      "metadata": {
        "id": "hfDkBtf20d2K"
      },
      "execution_count": null,
      "outputs": []
    }
  ]
}