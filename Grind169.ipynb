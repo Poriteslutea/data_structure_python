{
  "nbformat": 4,
  "nbformat_minor": 0,
  "metadata": {
    "colab": {
      "provenance": [],
      "authorship_tag": "ABX9TyNZXPJbahEN/oCMc7VByYLj",
      "include_colab_link": true
    },
    "kernelspec": {
      "name": "python3",
      "display_name": "Python 3"
    },
    "language_info": {
      "name": "python"
    }
  },
  "cells": [
    {
      "cell_type": "markdown",
      "metadata": {
        "id": "view-in-github",
        "colab_type": "text"
      },
      "source": [
        "<a href=\"https://colab.research.google.com/github/Poriteslutea/data_structure_python/blob/master/Grind169.ipynb\" target=\"_parent\"><img src=\"https://colab.research.google.com/assets/colab-badge.svg\" alt=\"Open In Colab\"/></a>"
      ]
    },
    {
      "cell_type": "markdown",
      "source": [
        "# Grind169\n",
        "\n",
        "[Notion Link](https://www.notion.so/grind169-88af5fc653f3498b8f3162fe7114c876)\n",
        "\n",
        "[官神題解](https://github.com/wisdompeak/LeetCode)"
      ],
      "metadata": {
        "id": "wE1n5nnEW9e5"
      }
    },
    {
      "cell_type": "code",
      "source": [
        "from typing import List"
      ],
      "metadata": {
        "id": "JOBl3WV9mAUD"
      },
      "execution_count": null,
      "outputs": []
    },
    {
      "cell_type": "markdown",
      "source": [
        "# Array"
      ],
      "metadata": {
        "id": "yCl9D3c8XV3g"
      }
    },
    {
      "cell_type": "markdown",
      "source": [
        "## 121. Best Time to Buy and Sell Stock\n",
        "\n",
        "https://leetcode.com/problems/best-time-to-buy-and-sell-stock/\n",
        "\n",
        "easy, dynamic programming\n",
        "\n",
        "給定一個array有每天的股價，選定一天買並在有持股時的另一天才能賣，到最後一天時，回傳能得到的最大利潤\n",
        "### Example：\n",
        "```\n",
        "Input: prices = [7,1,5,3,6,4]\n",
        "Output: 5\n",
        "Explanation: Buy on day 2 (price = 1) and sell on day 5 (price = 6), profit = 6-1 = 5.\n",
        "Note that buying on day 2 and selling on day 1 is not allowed because you must buy before you sell.\n",
        "\n",
        "```\n",
        "### Idea：\n",
        "在一次的for loop內，找出當前最小值，以及當前最大利潤:max(原本最大利潤,當日利潤)，找到最後一個數後即可返回最大利潤。雖然不能當日買當日賣，但如果當日價格是目前最低價的話，當日賣的利潤最多也只是0而已，所以這邊就沒有去寫：\n",
        "```\n",
        "if min_price == v: \n",
        "  continue\n",
        "```\n",
        "\n",
        "\n",
        "這系列有超多題，可以參考[官神動態規畫小講座](https://www.youtube.com/watch?v=FLbqgyJ-70I&t=1028s&ab_channel=HuifengGuan)\n",
        "\n",
        "但這題其實沒用到dp array也都還能解，比較像的類題是：[53.Maximum Subarray](https://leetcode.com/problems/maximum-subarray/) 個人滿喜歡的一題，哈哈"
      ],
      "metadata": {
        "id": "ljiWMNe_Xafm"
      }
    },
    {
      "cell_type": "code",
      "source": [
        "class Solution:\n",
        "    def maxProfit(self, prices: List[int]) -> int:\n",
        "\n",
        "        min_price = float('inf')\n",
        "        max_profit = 0\n",
        "\n",
        "        for v in prices:\n",
        "            min_price = min(min_price, v)\n",
        "            max_profit = max(max_profit, v-min_price)\n",
        "        \n",
        "        return max_profit\n"
      ],
      "metadata": {
        "id": "iaCPemyZXU8m"
      },
      "execution_count": null,
      "outputs": []
    },
    {
      "cell_type": "code",
      "source": [
        "s = Solution()\n",
        "prices = [7,1,5,3,6,4]\n",
        "ret = s.maxProfit(prices)\n",
        "print(ret)"
      ],
      "metadata": {
        "colab": {
          "base_uri": "https://localhost:8080/"
        },
        "id": "pRL6iUExmaOE",
        "outputId": "3bfaf543-e11d-4d14-a9f3-84ad4f0ecd2b"
      },
      "execution_count": null,
      "outputs": [
        {
          "output_type": "stream",
          "name": "stdout",
          "text": [
            "5\n"
          ]
        }
      ]
    },
    {
      "cell_type": "markdown",
      "source": [
        "## 169. Majority Element\n",
        "\n",
        "https://leetcode.com/problems/majority-element/description/\n",
        "\n",
        "easy\n",
        "\n",
        "給一個序列，裡面會有一個主要的數，那個數的數量會是序列長度的一半以上\n",
        "\n",
        "### Example：\n",
        "```\n",
        "Input: nums = [2,2,1,1,1,2,2]\n",
        "Output: 2\n",
        "```\n",
        "### Idea：\n",
        "把整個array排序，正中間偏左那個index一定會是majority element~~因為題目也保證一定會給有majority element的array\n",
        "\n",
        "如果可能不會有majority element，那目前寫的這個方法就可能會失效，可以用`collections.Counter(nums)`來算各個元素出現幾次，再用`sorted(list(c.items()),key=lambda x:x[1])`去排序數量，並取數量最大的majority\n",
        "\n"
      ],
      "metadata": {
        "id": "bb7Vf_rDgERm"
      }
    },
    {
      "cell_type": "code",
      "source": [
        "class Solution:\n",
        "    def majorityElement(self, nums: List[int]) -> int:\n",
        "       mi = len(nums)//2\n",
        "       nums.sort()\n",
        "       return nums[mi]"
      ],
      "metadata": {
        "id": "4lfDIXxLi0RS"
      },
      "execution_count": null,
      "outputs": []
    },
    {
      "cell_type": "markdown",
      "source": [
        "## 283. Move Zeroes\n",
        "\n",
        "https://leetcode.com/problems/move-zeroes/description/\n",
        "\n",
        "easy\n",
        "\n",
        "把序列中的0移到最後面，要in-place的改動序列，不可以再做新序列\n",
        "\n",
        "### Example：\n",
        "```\n",
        "Input: nums = [0,1,0,3,12]\n",
        "Output: [1,3,12,0,0]\n",
        "```\n",
        "\n",
        "### Idea：\n",
        "另外存一組新的Index, 遇到0就continue，只把要放進去的數以新index存放\n",
        "\n",
        "但會剩最後幾個多出來的位置，再把0放進去即可"
      ],
      "metadata": {
        "id": "A0Q5YIZsrGUu"
      }
    },
    {
      "cell_type": "code",
      "source": [
        "class Solution:\n",
        "    def moveZeroes(self, nums: List[int]) -> None:\n",
        "        \"\"\"\n",
        "        Do not return anything, modify nums in-place instead.\n",
        "        \"\"\"\n",
        "\n",
        "        i = 0\n",
        "        for v in nums:\n",
        "            if v == 0:\n",
        "                continue\n",
        "            else:\n",
        "                nums[i] = v\n",
        "                i += 1\n",
        "\n",
        "        for idx in range(i,len(nums)):\n",
        "            nums[idx] = 0\n",
        "\n",
        "            \n",
        "        return nums"
      ],
      "metadata": {
        "id": "3GwRF7J9rx4Z"
      },
      "execution_count": null,
      "outputs": []
    },
    {
      "cell_type": "markdown",
      "source": [
        "## 57. Insert Interval\n",
        "\n",
        "https://leetcode.com/problems/insert-interval/description/\n",
        "\n",
        "medium\n",
        "\n",
        "對原有區間插入一個新區間，然後重新組合各區間\n",
        "\n",
        "### Example:\n",
        "```\n",
        "Input: intervals = [[1,2],[3,5],[6,7],[8,10],[12,16]], newInterval = [4,8]\n",
        "Output: [[1,2],[3,10],[12,16]]\n",
        "Explanation: Because the new interval [4,8] overlaps with [3,5],[6,7],[8,10].\n",
        "```\n",
        "\n",
        "### Idea:\n",
        "又是這題，之前寫過，放在Leetcode.Array，重寫又再度花2小時才accepted...\n",
        "\n",
        "第一部分：\n",
        "1. 設一個空序列及空集合，然後for loop原有的intervals，如果newInterval的值在目前的區間中，將值加入原有的interval並append進空序列中，處理完的值pop掉，然後標記這個index到空集合中\n",
        "  - **注意pop順序，首先要處理第一個數沒pop但要pop第二個數的case，再來才是pop兩個數的case**\n",
        "\n",
        "2. 如果目前interval的index沒在標記的集合中，直接append interval\n",
        "\n",
        "3. newInterval中落單沒被處理到的值(不在原區間內的)，加到新序列中，如果兩個值都沒有，需個別element以list的形式append進來，要不然在下一步會被當成正常的區間\n",
        "\n",
        "第二部分：\n",
        "1. 新序列現在有append newInterval的值的區間，子序列長度會是奇數(1 or 3)，先依各區間起始位置排序新序列\n",
        "\n",
        "2. 再設一個回傳的空序列，接著for loop新序列，首次遇到奇數子序列，flag=1並記錄最小值，再次遇到奇數子序列，flag=0並記錄最大值(終止位置)，flag=1又是偶數序列就跳過，flag=0但是是偶數序列就正常append進來，最後這個新序列就可回傳做為答案\n",
        "\n",
        "麻煩的地方：\n",
        "\n",
        "新區間有分四種情況：第一個數在原區間內但第二個數在外面、第一個數在原區間外但第二個數在內、整個區間包在原區間內、整個區間包住原區間\n",
        "\n",
        "Example Input： \n",
        "```\n",
        "intervals = [[1,5]]\n",
        "newInterval = [2,6]\n",
        "\n",
        "intervals = [[1,5]]\n",
        "newInterval = [0,3]\n",
        "\n",
        "intervals = [[1,5]]\n",
        "newInterval = [2,3]\n",
        "\n",
        "intervals = [[1,5]]\n",
        "newInterval = [0,6]\n",
        "```\n",
        "\n"
      ],
      "metadata": {
        "id": "E97f6WmPeGCH"
      }
    },
    {
      "cell_type": "code",
      "source": [
        "class Solution:\n",
        "    def insert(self, intervals: List[List[int]], newInterval: List[int]) -> List[List[int]]:\n",
        "\n",
        "        res = []\n",
        "        record_idx = set()\n",
        "        for i in range(len(intervals)):\n",
        "\n",
        "            while newInterval:\n",
        "                if len(record_idx) == 0 and intervals[i][0] <= newInterval[1] <= intervals[i][1]: \n",
        "                    res.append(intervals[i]+[newInterval.pop()])\n",
        "                    record_idx.add(i)\n",
        "                if intervals[i][0] <= newInterval[0] <= intervals[i][1]:\n",
        "                    res.append(intervals[i]+[newInterval.pop()])\n",
        "                    record_idx.add(i)\n",
        "                else:\n",
        "                    break\n",
        "                    \n",
        "            if i not in record_idx:\n",
        "                res.append(intervals[i])\n",
        "        \n",
        "\n",
        "        if newInterval:\n",
        "            for x in newInterval:\n",
        "                res.append([x])\n",
        "\n",
        "        print(res)\n",
        "\n",
        "        ss = sorted(list(map(lambda x:sorted(x), res)), key=lambda x: x[0])\n",
        "        ret = []\n",
        "        flag = 0\n",
        "        for i in range(len(ss)):\n",
        "            if len(ss[i]) % 2 == 0 and flag == 0:\n",
        "                ret.append(ss[i])\n",
        "            elif len(ss[i]) % 2 == 0 and flag == 1:\n",
        "                continue\n",
        "            elif len(ss[i]) % 2 == 1 and flag == 0:\n",
        "                flag = 1\n",
        "                si = ss[i][0]\n",
        "            elif len(ss[i]) % 2 == 1 and flag == 1:\n",
        "                ei = ss[i][-1]\n",
        "                ret.append([si,ei])\n",
        "                flag = 0\n",
        "        \n",
        "        return ret\n",
        "\n",
        "\n",
        "\n"
      ],
      "metadata": {
        "id": "YY9qpyUXi6Z4"
      },
      "execution_count": null,
      "outputs": []
    }
  ]
}